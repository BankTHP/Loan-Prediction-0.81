{
  "cells": [
    {
      "cell_type": "markdown",
      "metadata": {
        "id": "3Tza_iC_e9sD"
      },
      "source": [
        "##Import ต่างๆ"
      ]
    },
    {
      "cell_type": "code",
      "execution_count": 98,
      "metadata": {
        "id": "b3wmugJES6pU"
      },
      "outputs": [],
      "source": [
        "%matplotlib inline\n",
        "import numpy as np\n",
        "import pandas as pd\n",
        "import matplotlib.pyplot as plt\n",
        "import seaborn as sns\n",
        "from sklearn.preprocessing import StandardScaler, LabelEncoder\n",
        "from sklearn.model_selection import StratifiedKFold, cross_val_score,GridSearchCV\n",
        "from sklearn.metrics import accuracy_score\n",
        "from sklearn.tree import DecisionTreeClassifier\n",
        "from sklearn.neighbors import KNeighborsClassifier \n",
        "from sklearn.naive_bayes import GaussianNB\n",
        "from sklearn.svm import SVC\n",
        "from sklearn.ensemble import RandomForestClassifier\n",
        "from sklearn.linear_model import LogisticRegression\n",
        "from sklearn.model_selection import train_test_split\n",
        "from sklearn import preprocessing\n",
        "from sklearn import metrics"
      ]
    },
    {
      "cell_type": "code",
      "execution_count": 99,
      "metadata": {
        "id": "1ZbHobQDtn0_"
      },
      "outputs": [],
      "source": [
        "import warnings\n",
        "warnings.filterwarnings(\"ignore\")"
      ]
    },
    {
      "cell_type": "markdown",
      "metadata": {
        "id": "iT2NOBWPUI1q"
      },
      "source": [
        "##ทำการ Read ไฟล์ csv ที่ทางเว็บให้มา"
      ]
    },
    {
      "cell_type": "code",
      "execution_count": 100,
      "metadata": {
        "id": "2IC_7WetTTEM"
      },
      "outputs": [],
      "source": [
        "train_data = pd.read_csv(\"Data/train_ctrUa4K.csv\")\n",
        "test_data = pd.read_csv(\"Data/test_lAUu6dG.csv\")"
      ]
    },
    {
      "cell_type": "code",
      "execution_count": 101,
      "metadata": {
        "colab": {
          "base_uri": "https://localhost:8080/",
          "height": 0
        },
        "id": "EIFCkxYaTefL",
        "outputId": "6908a049-b68d-49d2-907e-58d816e9b332"
      },
      "outputs": [
        {
          "data": {
            "text/html": [
              "<div>\n",
              "<style scoped>\n",
              "    .dataframe tbody tr th:only-of-type {\n",
              "        vertical-align: middle;\n",
              "    }\n",
              "\n",
              "    .dataframe tbody tr th {\n",
              "        vertical-align: top;\n",
              "    }\n",
              "\n",
              "    .dataframe thead th {\n",
              "        text-align: right;\n",
              "    }\n",
              "</style>\n",
              "<table border=\"1\" class=\"dataframe\">\n",
              "  <thead>\n",
              "    <tr style=\"text-align: right;\">\n",
              "      <th></th>\n",
              "      <th>Loan_ID</th>\n",
              "      <th>Gender</th>\n",
              "      <th>Married</th>\n",
              "      <th>Dependents</th>\n",
              "      <th>Education</th>\n",
              "      <th>Self_Employed</th>\n",
              "      <th>ApplicantIncome</th>\n",
              "      <th>CoapplicantIncome</th>\n",
              "      <th>LoanAmount</th>\n",
              "      <th>Loan_Amount_Term</th>\n",
              "      <th>Credit_History</th>\n",
              "      <th>Property_Area</th>\n",
              "    </tr>\n",
              "  </thead>\n",
              "  <tbody>\n",
              "    <tr>\n",
              "      <th>0</th>\n",
              "      <td>LP001015</td>\n",
              "      <td>Male</td>\n",
              "      <td>Yes</td>\n",
              "      <td>0</td>\n",
              "      <td>Graduate</td>\n",
              "      <td>No</td>\n",
              "      <td>5720</td>\n",
              "      <td>0</td>\n",
              "      <td>110.0</td>\n",
              "      <td>360.0</td>\n",
              "      <td>1.0</td>\n",
              "      <td>Urban</td>\n",
              "    </tr>\n",
              "    <tr>\n",
              "      <th>1</th>\n",
              "      <td>LP001022</td>\n",
              "      <td>Male</td>\n",
              "      <td>Yes</td>\n",
              "      <td>1</td>\n",
              "      <td>Graduate</td>\n",
              "      <td>No</td>\n",
              "      <td>3076</td>\n",
              "      <td>1500</td>\n",
              "      <td>126.0</td>\n",
              "      <td>360.0</td>\n",
              "      <td>1.0</td>\n",
              "      <td>Urban</td>\n",
              "    </tr>\n",
              "    <tr>\n",
              "      <th>2</th>\n",
              "      <td>LP001031</td>\n",
              "      <td>Male</td>\n",
              "      <td>Yes</td>\n",
              "      <td>2</td>\n",
              "      <td>Graduate</td>\n",
              "      <td>No</td>\n",
              "      <td>5000</td>\n",
              "      <td>1800</td>\n",
              "      <td>208.0</td>\n",
              "      <td>360.0</td>\n",
              "      <td>1.0</td>\n",
              "      <td>Urban</td>\n",
              "    </tr>\n",
              "    <tr>\n",
              "      <th>3</th>\n",
              "      <td>LP001035</td>\n",
              "      <td>Male</td>\n",
              "      <td>Yes</td>\n",
              "      <td>2</td>\n",
              "      <td>Graduate</td>\n",
              "      <td>No</td>\n",
              "      <td>2340</td>\n",
              "      <td>2546</td>\n",
              "      <td>100.0</td>\n",
              "      <td>360.0</td>\n",
              "      <td>NaN</td>\n",
              "      <td>Urban</td>\n",
              "    </tr>\n",
              "    <tr>\n",
              "      <th>4</th>\n",
              "      <td>LP001051</td>\n",
              "      <td>Male</td>\n",
              "      <td>No</td>\n",
              "      <td>0</td>\n",
              "      <td>Not Graduate</td>\n",
              "      <td>No</td>\n",
              "      <td>3276</td>\n",
              "      <td>0</td>\n",
              "      <td>78.0</td>\n",
              "      <td>360.0</td>\n",
              "      <td>1.0</td>\n",
              "      <td>Urban</td>\n",
              "    </tr>\n",
              "  </tbody>\n",
              "</table>\n",
              "</div>"
            ],
            "text/plain": [
              "    Loan_ID Gender Married Dependents     Education Self_Employed  \\\n",
              "0  LP001015   Male     Yes          0      Graduate            No   \n",
              "1  LP001022   Male     Yes          1      Graduate            No   \n",
              "2  LP001031   Male     Yes          2      Graduate            No   \n",
              "3  LP001035   Male     Yes          2      Graduate            No   \n",
              "4  LP001051   Male      No          0  Not Graduate            No   \n",
              "\n",
              "   ApplicantIncome  CoapplicantIncome  LoanAmount  Loan_Amount_Term  \\\n",
              "0             5720                  0       110.0             360.0   \n",
              "1             3076               1500       126.0             360.0   \n",
              "2             5000               1800       208.0             360.0   \n",
              "3             2340               2546       100.0             360.0   \n",
              "4             3276                  0        78.0             360.0   \n",
              "\n",
              "   Credit_History Property_Area  \n",
              "0             1.0         Urban  \n",
              "1             1.0         Urban  \n",
              "2             1.0         Urban  \n",
              "3             NaN         Urban  \n",
              "4             1.0         Urban  "
            ]
          },
          "execution_count": 101,
          "metadata": {},
          "output_type": "execute_result"
        }
      ],
      "source": [
        "test_data.head()"
      ]
    },
    {
      "cell_type": "code",
      "execution_count": 102,
      "metadata": {
        "id": "CTFFzBXAhzDw"
      },
      "outputs": [],
      "source": [
        "test_data_copy = test_data.copy()"
      ]
    },
    {
      "cell_type": "code",
      "execution_count": 103,
      "metadata": {
        "colab": {
          "base_uri": "https://localhost:8080/",
          "height": 0
        },
        "id": "yWQ1yJYCTgd1",
        "outputId": "c0c44b01-0c1e-454b-bdd1-74c5466ee79f"
      },
      "outputs": [
        {
          "data": {
            "text/html": [
              "<div>\n",
              "<style scoped>\n",
              "    .dataframe tbody tr th:only-of-type {\n",
              "        vertical-align: middle;\n",
              "    }\n",
              "\n",
              "    .dataframe tbody tr th {\n",
              "        vertical-align: top;\n",
              "    }\n",
              "\n",
              "    .dataframe thead th {\n",
              "        text-align: right;\n",
              "    }\n",
              "</style>\n",
              "<table border=\"1\" class=\"dataframe\">\n",
              "  <thead>\n",
              "    <tr style=\"text-align: right;\">\n",
              "      <th></th>\n",
              "      <th>Loan_ID</th>\n",
              "      <th>Gender</th>\n",
              "      <th>Married</th>\n",
              "      <th>Dependents</th>\n",
              "      <th>Education</th>\n",
              "      <th>Self_Employed</th>\n",
              "      <th>ApplicantIncome</th>\n",
              "      <th>CoapplicantIncome</th>\n",
              "      <th>LoanAmount</th>\n",
              "      <th>Loan_Amount_Term</th>\n",
              "      <th>Credit_History</th>\n",
              "      <th>Property_Area</th>\n",
              "      <th>Loan_Status</th>\n",
              "    </tr>\n",
              "  </thead>\n",
              "  <tbody>\n",
              "    <tr>\n",
              "      <th>0</th>\n",
              "      <td>LP001002</td>\n",
              "      <td>Male</td>\n",
              "      <td>No</td>\n",
              "      <td>0</td>\n",
              "      <td>Graduate</td>\n",
              "      <td>No</td>\n",
              "      <td>5849</td>\n",
              "      <td>0.0</td>\n",
              "      <td>NaN</td>\n",
              "      <td>360.0</td>\n",
              "      <td>1.0</td>\n",
              "      <td>Urban</td>\n",
              "      <td>Y</td>\n",
              "    </tr>\n",
              "    <tr>\n",
              "      <th>1</th>\n",
              "      <td>LP001003</td>\n",
              "      <td>Male</td>\n",
              "      <td>Yes</td>\n",
              "      <td>1</td>\n",
              "      <td>Graduate</td>\n",
              "      <td>No</td>\n",
              "      <td>4583</td>\n",
              "      <td>1508.0</td>\n",
              "      <td>128.0</td>\n",
              "      <td>360.0</td>\n",
              "      <td>1.0</td>\n",
              "      <td>Rural</td>\n",
              "      <td>N</td>\n",
              "    </tr>\n",
              "    <tr>\n",
              "      <th>2</th>\n",
              "      <td>LP001005</td>\n",
              "      <td>Male</td>\n",
              "      <td>Yes</td>\n",
              "      <td>0</td>\n",
              "      <td>Graduate</td>\n",
              "      <td>Yes</td>\n",
              "      <td>3000</td>\n",
              "      <td>0.0</td>\n",
              "      <td>66.0</td>\n",
              "      <td>360.0</td>\n",
              "      <td>1.0</td>\n",
              "      <td>Urban</td>\n",
              "      <td>Y</td>\n",
              "    </tr>\n",
              "    <tr>\n",
              "      <th>3</th>\n",
              "      <td>LP001006</td>\n",
              "      <td>Male</td>\n",
              "      <td>Yes</td>\n",
              "      <td>0</td>\n",
              "      <td>Not Graduate</td>\n",
              "      <td>No</td>\n",
              "      <td>2583</td>\n",
              "      <td>2358.0</td>\n",
              "      <td>120.0</td>\n",
              "      <td>360.0</td>\n",
              "      <td>1.0</td>\n",
              "      <td>Urban</td>\n",
              "      <td>Y</td>\n",
              "    </tr>\n",
              "    <tr>\n",
              "      <th>4</th>\n",
              "      <td>LP001008</td>\n",
              "      <td>Male</td>\n",
              "      <td>No</td>\n",
              "      <td>0</td>\n",
              "      <td>Graduate</td>\n",
              "      <td>No</td>\n",
              "      <td>6000</td>\n",
              "      <td>0.0</td>\n",
              "      <td>141.0</td>\n",
              "      <td>360.0</td>\n",
              "      <td>1.0</td>\n",
              "      <td>Urban</td>\n",
              "      <td>Y</td>\n",
              "    </tr>\n",
              "  </tbody>\n",
              "</table>\n",
              "</div>"
            ],
            "text/plain": [
              "    Loan_ID Gender Married Dependents     Education Self_Employed  \\\n",
              "0  LP001002   Male      No          0      Graduate            No   \n",
              "1  LP001003   Male     Yes          1      Graduate            No   \n",
              "2  LP001005   Male     Yes          0      Graduate           Yes   \n",
              "3  LP001006   Male     Yes          0  Not Graduate            No   \n",
              "4  LP001008   Male      No          0      Graduate            No   \n",
              "\n",
              "   ApplicantIncome  CoapplicantIncome  LoanAmount  Loan_Amount_Term  \\\n",
              "0             5849                0.0         NaN             360.0   \n",
              "1             4583             1508.0       128.0             360.0   \n",
              "2             3000                0.0        66.0             360.0   \n",
              "3             2583             2358.0       120.0             360.0   \n",
              "4             6000                0.0       141.0             360.0   \n",
              "\n",
              "   Credit_History Property_Area Loan_Status  \n",
              "0             1.0         Urban           Y  \n",
              "1             1.0         Rural           N  \n",
              "2             1.0         Urban           Y  \n",
              "3             1.0         Urban           Y  \n",
              "4             1.0         Urban           Y  "
            ]
          },
          "execution_count": 103,
          "metadata": {},
          "output_type": "execute_result"
        }
      ],
      "source": [
        "train_data.head()"
      ]
    },
    {
      "cell_type": "markdown",
      "metadata": {
        "id": "t7fOh12lUPI9"
      },
      "source": [
        "##ขนาดของ Train และ Test"
      ]
    },
    {
      "cell_type": "code",
      "execution_count": 104,
      "metadata": {
        "colab": {
          "base_uri": "https://localhost:8080/"
        },
        "id": "Y7iiN4SoT39-",
        "outputId": "717ead9e-6e72-42cc-be27-d3eb83a35df6"
      },
      "outputs": [
        {
          "data": {
            "text/plain": [
              "(614, 13)"
            ]
          },
          "execution_count": 104,
          "metadata": {},
          "output_type": "execute_result"
        }
      ],
      "source": [
        "train_data.shape"
      ]
    },
    {
      "cell_type": "code",
      "execution_count": 105,
      "metadata": {
        "colab": {
          "base_uri": "https://localhost:8080/"
        },
        "id": "sLBptwHLT8V9",
        "outputId": "2690a1b1-e69a-4d31-96ee-9e71312cc9d3"
      },
      "outputs": [
        {
          "data": {
            "text/plain": [
              "(367, 12)"
            ]
          },
          "execution_count": 105,
          "metadata": {},
          "output_type": "execute_result"
        }
      ],
      "source": [
        "test_data.shape"
      ]
    },
    {
      "cell_type": "markdown",
      "metadata": {
        "id": "RP9_O4v8UVMY"
      },
      "source": [
        "##ทำการเช็คข้อมูลและทำการ Clean ข้อมูลและทำการเติม Missing \n"
      ]
    },
    {
      "cell_type": "code",
      "execution_count": 106,
      "metadata": {
        "colab": {
          "base_uri": "https://localhost:8080/"
        },
        "id": "MSreiyc_wXIg",
        "outputId": "abd4e897-5533-49b0-d22d-da2e7f639110"
      },
      "outputs": [
        {
          "name": "stdout",
          "output_type": "stream",
          "text": [
            "<class 'pandas.core.frame.DataFrame'>\n",
            "RangeIndex: 614 entries, 0 to 613\n",
            "Data columns (total 13 columns):\n",
            " #   Column             Non-Null Count  Dtype  \n",
            "---  ------             --------------  -----  \n",
            " 0   Loan_ID            614 non-null    object \n",
            " 1   Gender             601 non-null    object \n",
            " 2   Married            611 non-null    object \n",
            " 3   Dependents         599 non-null    object \n",
            " 4   Education          614 non-null    object \n",
            " 5   Self_Employed      582 non-null    object \n",
            " 6   ApplicantIncome    614 non-null    int64  \n",
            " 7   CoapplicantIncome  614 non-null    float64\n",
            " 8   LoanAmount         592 non-null    float64\n",
            " 9   Loan_Amount_Term   600 non-null    float64\n",
            " 10  Credit_History     564 non-null    float64\n",
            " 11  Property_Area      614 non-null    object \n",
            " 12  Loan_Status        614 non-null    object \n",
            "dtypes: float64(4), int64(1), object(8)\n",
            "memory usage: 62.5+ KB\n"
          ]
        }
      ],
      "source": [
        "train_data.info()"
      ]
    },
    {
      "cell_type": "markdown",
      "metadata": {
        "id": "T09elNjO5ktm"
      },
      "source": [
        "แยกประเภทของข้อมูล"
      ]
    },
    {
      "cell_type": "code",
      "execution_count": 107,
      "metadata": {
        "colab": {
          "base_uri": "https://localhost:8080/",
          "height": 419
        },
        "id": "jkx6Sw1V80hw",
        "outputId": "65b2b257-a063-47af-b290-222f6700ffa7"
      },
      "outputs": [
        {
          "data": {
            "text/html": [
              "<div>\n",
              "<style scoped>\n",
              "    .dataframe tbody tr th:only-of-type {\n",
              "        vertical-align: middle;\n",
              "    }\n",
              "\n",
              "    .dataframe tbody tr th {\n",
              "        vertical-align: top;\n",
              "    }\n",
              "\n",
              "    .dataframe thead th {\n",
              "        text-align: right;\n",
              "    }\n",
              "</style>\n",
              "<table border=\"1\" class=\"dataframe\">\n",
              "  <thead>\n",
              "    <tr style=\"text-align: right;\">\n",
              "      <th></th>\n",
              "      <th>Loan_ID</th>\n",
              "      <th>Gender</th>\n",
              "      <th>Married</th>\n",
              "      <th>Dependents</th>\n",
              "      <th>Education</th>\n",
              "      <th>Self_Employed</th>\n",
              "      <th>Property_Area</th>\n",
              "      <th>Loan_Status</th>\n",
              "    </tr>\n",
              "  </thead>\n",
              "  <tbody>\n",
              "    <tr>\n",
              "      <th>0</th>\n",
              "      <td>LP001002</td>\n",
              "      <td>Male</td>\n",
              "      <td>No</td>\n",
              "      <td>0</td>\n",
              "      <td>Graduate</td>\n",
              "      <td>No</td>\n",
              "      <td>Urban</td>\n",
              "      <td>Y</td>\n",
              "    </tr>\n",
              "    <tr>\n",
              "      <th>1</th>\n",
              "      <td>LP001003</td>\n",
              "      <td>Male</td>\n",
              "      <td>Yes</td>\n",
              "      <td>1</td>\n",
              "      <td>Graduate</td>\n",
              "      <td>No</td>\n",
              "      <td>Rural</td>\n",
              "      <td>N</td>\n",
              "    </tr>\n",
              "    <tr>\n",
              "      <th>2</th>\n",
              "      <td>LP001005</td>\n",
              "      <td>Male</td>\n",
              "      <td>Yes</td>\n",
              "      <td>0</td>\n",
              "      <td>Graduate</td>\n",
              "      <td>Yes</td>\n",
              "      <td>Urban</td>\n",
              "      <td>Y</td>\n",
              "    </tr>\n",
              "    <tr>\n",
              "      <th>3</th>\n",
              "      <td>LP001006</td>\n",
              "      <td>Male</td>\n",
              "      <td>Yes</td>\n",
              "      <td>0</td>\n",
              "      <td>Not Graduate</td>\n",
              "      <td>No</td>\n",
              "      <td>Urban</td>\n",
              "      <td>Y</td>\n",
              "    </tr>\n",
              "    <tr>\n",
              "      <th>4</th>\n",
              "      <td>LP001008</td>\n",
              "      <td>Male</td>\n",
              "      <td>No</td>\n",
              "      <td>0</td>\n",
              "      <td>Graduate</td>\n",
              "      <td>No</td>\n",
              "      <td>Urban</td>\n",
              "      <td>Y</td>\n",
              "    </tr>\n",
              "    <tr>\n",
              "      <th>...</th>\n",
              "      <td>...</td>\n",
              "      <td>...</td>\n",
              "      <td>...</td>\n",
              "      <td>...</td>\n",
              "      <td>...</td>\n",
              "      <td>...</td>\n",
              "      <td>...</td>\n",
              "      <td>...</td>\n",
              "    </tr>\n",
              "    <tr>\n",
              "      <th>609</th>\n",
              "      <td>LP002978</td>\n",
              "      <td>Female</td>\n",
              "      <td>No</td>\n",
              "      <td>0</td>\n",
              "      <td>Graduate</td>\n",
              "      <td>No</td>\n",
              "      <td>Rural</td>\n",
              "      <td>Y</td>\n",
              "    </tr>\n",
              "    <tr>\n",
              "      <th>610</th>\n",
              "      <td>LP002979</td>\n",
              "      <td>Male</td>\n",
              "      <td>Yes</td>\n",
              "      <td>3+</td>\n",
              "      <td>Graduate</td>\n",
              "      <td>No</td>\n",
              "      <td>Rural</td>\n",
              "      <td>Y</td>\n",
              "    </tr>\n",
              "    <tr>\n",
              "      <th>611</th>\n",
              "      <td>LP002983</td>\n",
              "      <td>Male</td>\n",
              "      <td>Yes</td>\n",
              "      <td>1</td>\n",
              "      <td>Graduate</td>\n",
              "      <td>No</td>\n",
              "      <td>Urban</td>\n",
              "      <td>Y</td>\n",
              "    </tr>\n",
              "    <tr>\n",
              "      <th>612</th>\n",
              "      <td>LP002984</td>\n",
              "      <td>Male</td>\n",
              "      <td>Yes</td>\n",
              "      <td>2</td>\n",
              "      <td>Graduate</td>\n",
              "      <td>No</td>\n",
              "      <td>Urban</td>\n",
              "      <td>Y</td>\n",
              "    </tr>\n",
              "    <tr>\n",
              "      <th>613</th>\n",
              "      <td>LP002990</td>\n",
              "      <td>Female</td>\n",
              "      <td>No</td>\n",
              "      <td>0</td>\n",
              "      <td>Graduate</td>\n",
              "      <td>Yes</td>\n",
              "      <td>Semiurban</td>\n",
              "      <td>N</td>\n",
              "    </tr>\n",
              "  </tbody>\n",
              "</table>\n",
              "<p>614 rows × 8 columns</p>\n",
              "</div>"
            ],
            "text/plain": [
              "      Loan_ID  Gender Married Dependents     Education Self_Employed  \\\n",
              "0    LP001002    Male      No          0      Graduate            No   \n",
              "1    LP001003    Male     Yes          1      Graduate            No   \n",
              "2    LP001005    Male     Yes          0      Graduate           Yes   \n",
              "3    LP001006    Male     Yes          0  Not Graduate            No   \n",
              "4    LP001008    Male      No          0      Graduate            No   \n",
              "..        ...     ...     ...        ...           ...           ...   \n",
              "609  LP002978  Female      No          0      Graduate            No   \n",
              "610  LP002979    Male     Yes         3+      Graduate            No   \n",
              "611  LP002983    Male     Yes          1      Graduate            No   \n",
              "612  LP002984    Male     Yes          2      Graduate            No   \n",
              "613  LP002990  Female      No          0      Graduate           Yes   \n",
              "\n",
              "    Property_Area Loan_Status  \n",
              "0           Urban           Y  \n",
              "1           Rural           N  \n",
              "2           Urban           Y  \n",
              "3           Urban           Y  \n",
              "4           Urban           Y  \n",
              "..            ...         ...  \n",
              "609         Rural           Y  \n",
              "610         Rural           Y  \n",
              "611         Urban           Y  \n",
              "612         Urban           Y  \n",
              "613     Semiurban           N  \n",
              "\n",
              "[614 rows x 8 columns]"
            ]
          },
          "execution_count": 107,
          "metadata": {},
          "output_type": "execute_result"
        }
      ],
      "source": [
        "cat_data = []\n",
        "\n",
        "for index, type in enumerate(train_data.dtypes):\n",
        "    if type == \"object\":\n",
        "        cat_data.append(train_data.iloc[:, index])\n",
        "cat_data = pd.DataFrame(cat_data).transpose()\n",
        "cat_data"
      ]
    },
    {
      "cell_type": "code",
      "execution_count": 108,
      "metadata": {
        "colab": {
          "base_uri": "https://localhost:8080/"
        },
        "id": "oe1h_UHtUCZM",
        "outputId": "f36303bd-a284-40bd-aa82-15e715345bc0"
      },
      "outputs": [
        {
          "data": {
            "text/plain": [
              "Loan_ID               0\n",
              "Gender               13\n",
              "Married               3\n",
              "Dependents           15\n",
              "Education             0\n",
              "Self_Employed        32\n",
              "ApplicantIncome       0\n",
              "CoapplicantIncome     0\n",
              "LoanAmount           22\n",
              "Loan_Amount_Term     14\n",
              "Credit_History       50\n",
              "Property_Area         0\n",
              "Loan_Status           0\n",
              "dtype: int64"
            ]
          },
          "execution_count": 108,
          "metadata": {},
          "output_type": "execute_result"
        }
      ],
      "source": [
        "train_data.isnull().sum()"
      ]
    },
    {
      "cell_type": "markdown",
      "metadata": {
        "id": "rsIzmJSwUdbc"
      },
      "source": [
        "จะเห็นได้ว่าข้อมูลมี null อยู่ซึ่งอาจจะทำให้การ predict ผิดพลาดได้จึงต้องทำการจัดการกับข้อมูลเสียก่อน\n"
      ]
    },
    {
      "cell_type": "code",
      "execution_count": 110,
      "metadata": {
        "id": "qq1DOB05b_K8"
      },
      "outputs": [],
      "source": [
        "del cat_data['Loan_ID']\n",
        "del cat_data['Self_Employed']\n",
        "for cat in cat_data.columns :\n",
        "  if cat == 'Loan_Status' :\n",
        "    pass\n",
        "  else :\n",
        "    train_data[cat]  = train_data[cat].fillna(train_data[cat].mode()[0])\n",
        "    test_data[cat] = test_data[cat].fillna(test_data[cat].mode()[0])"
      ]
    },
    {
      "cell_type": "code",
      "execution_count": 111,
      "metadata": {
        "colab": {
          "base_uri": "https://localhost:8080/"
        },
        "id": "kIKbqPFia5Zz",
        "outputId": "567eb611-d7ef-4a90-e09c-2361f6583c1c"
      },
      "outputs": [
        {
          "data": {
            "text/plain": [
              "Loan_ID               0\n",
              "Gender                0\n",
              "Married               0\n",
              "Dependents            0\n",
              "Education             0\n",
              "Self_Employed        30\n",
              "ApplicantIncome       0\n",
              "CoapplicantIncome     0\n",
              "LoanAmount            0\n",
              "Loan_Amount_Term     14\n",
              "Credit_History       48\n",
              "Property_Area         0\n",
              "Loan_Status           0\n",
              "dtype: int64"
            ]
          },
          "execution_count": 111,
          "metadata": {},
          "output_type": "execute_result"
        }
      ],
      "source": [
        "train_data.isnull().sum()"
      ]
    },
    {
      "cell_type": "markdown",
      "metadata": {
        "id": "WCppLLQ4dIK-"
      },
      "source": [
        "LoanAmount fill ด้วย median"
      ]
    },
    {
      "cell_type": "code",
      "execution_count": 112,
      "metadata": {
        "id": "4m8XP8B7a4O3"
      },
      "outputs": [],
      "source": [
        "test_data.LoanAmount = test_data.LoanAmount.fillna(test_data[\"LoanAmount\"].median())\n",
        "train_data.LoanAmount = train_data.LoanAmount.fillna(train_data[\"LoanAmount\"].median())"
      ]
    },
    {
      "cell_type": "markdown",
      "metadata": {
        "id": "njgA5XCIdh4Z"
      },
      "source": [
        "Loan_Amount_Term fill ด้วย bfill"
      ]
    },
    {
      "cell_type": "code",
      "execution_count": 113,
      "metadata": {
        "id": "IHGD5uAodEJI"
      },
      "outputs": [],
      "source": [
        "train_data.Loan_Amount_Term = train_data.Loan_Amount_Term.fillna(method=\"bfill\")\n",
        "test_data.Loan_Amount_Term = test_data.Loan_Amount_Term.fillna(method=\"bfill\")"
      ]
    },
    {
      "cell_type": "markdown",
      "metadata": {
        "id": "K0-oQuHEdotF"
      },
      "source": [
        "Loan_Status fill ด้วยการดูค่าจาก Loan_Status เพราะว่าจาก EDA ทำให้ทราบว่าถ้า Credit_History กับ Loan_Status มีความสัมพันธ์กัน"
      ]
    },
    {
      "cell_type": "code",
      "execution_count": 114,
      "metadata": {
        "id": "qOL8E87mdClW"
      },
      "outputs": [],
      "source": [
        "train_data.loc[(train_data.Credit_History.isnull())&(train_data.Loan_Status==1),'Credit_History'] = 1\n",
        "train_data.loc[(train_data.Credit_History.isnull()),'Credit_History'] = 0\n",
        "\n",
        "test_data.Credit_History = test_data.Credit_History.fillna(method=\"bfill\")"
      ]
    },
    {
      "cell_type": "markdown",
      "metadata": {
        "id": "yI4VWHddeLtT"
      },
      "source": [
        "จาก EDA ทำให้ทราบว่าส่วนมากถ้าไม่ใช่อาชีพอิสระจะได้ credit_history = 1 "
      ]
    },
    {
      "cell_type": "code",
      "execution_count": 115,
      "metadata": {
        "id": "x13p4Zi6csSl"
      },
      "outputs": [],
      "source": [
        "train_data.loc[(train_data.Self_Employed.isnull())&(train_data.Credit_History==1),'Self_Employed'] ='No'\n",
        "train_data.loc[(train_data.Self_Employed.isnull()),'Self_Employed'] = 'Yes'\n",
        "\n",
        "test_data.loc[(test_data.Self_Employed.isnull())&(test_data.Credit_History==1),'Self_Employed'] ='No'\n",
        "test_data.loc[(test_data.Self_Employed.isnull()),'Self_Employed'] = 'Yes'"
      ]
    },
    {
      "cell_type": "code",
      "execution_count": 116,
      "metadata": {
        "colab": {
          "base_uri": "https://localhost:8080/"
        },
        "id": "qDfmVMsOVQaN",
        "outputId": "c979d91b-cb27-4045-b38d-f9b62ad90860"
      },
      "outputs": [
        {
          "data": {
            "text/plain": [
              "Loan_ID              0\n",
              "Gender               0\n",
              "Married              0\n",
              "Dependents           0\n",
              "Education            0\n",
              "Self_Employed        0\n",
              "ApplicantIncome      0\n",
              "CoapplicantIncome    0\n",
              "LoanAmount           0\n",
              "Loan_Amount_Term     0\n",
              "Credit_History       0\n",
              "Property_Area        0\n",
              "Loan_Status          0\n",
              "dtype: int64"
            ]
          },
          "execution_count": 116,
          "metadata": {},
          "output_type": "execute_result"
        }
      ],
      "source": [
        "train_data.isnull().sum()"
      ]
    },
    {
      "cell_type": "code",
      "execution_count": 117,
      "metadata": {
        "colab": {
          "base_uri": "https://localhost:8080/"
        },
        "id": "YQ8HSgL2_wUz",
        "outputId": "f225892f-6c19-4aa6-c9a6-a201e7a02a71"
      },
      "outputs": [
        {
          "data": {
            "text/plain": [
              "Loan_ID              0\n",
              "Gender               0\n",
              "Married              0\n",
              "Dependents           0\n",
              "Education            0\n",
              "Self_Employed        0\n",
              "ApplicantIncome      0\n",
              "CoapplicantIncome    0\n",
              "LoanAmount           0\n",
              "Loan_Amount_Term     0\n",
              "Credit_History       0\n",
              "Property_Area        0\n",
              "dtype: int64"
            ]
          },
          "execution_count": 117,
          "metadata": {},
          "output_type": "execute_result"
        }
      ],
      "source": [
        "test_data.isnull().sum()"
      ]
    },
    {
      "cell_type": "markdown",
      "metadata": {
        "id": "4QIxcAa5VoRi"
      },
      "source": [
        "หลังจากการจัดการข้อมูแล้วจะทำให้เห็นวาไม่มีค่า Null แล้ว"
      ]
    },
    {
      "cell_type": "markdown",
      "metadata": {
        "id": "Yd7ywtMjrJmi"
      },
      "source": [
        "##EDA\n"
      ]
    },
    {
      "cell_type": "code",
      "execution_count": 118,
      "metadata": {
        "id": "Bxf3r1TlcpSP"
      },
      "outputs": [],
      "source": [
        "train_data_copy = train_data.copy()"
      ]
    },
    {
      "cell_type": "code",
      "execution_count": 119,
      "metadata": {
        "colab": {
          "base_uri": "https://localhost:8080/",
          "height": 808
        },
        "id": "vUEc8gG9bu8w",
        "outputId": "f5210abd-070e-45de-9224-3b0a83d2b4e3"
      },
      "outputs": [
        {
          "data": {
            "text/plain": [
              "<AxesSubplot:>"
            ]
          },
          "execution_count": 119,
          "metadata": {},
          "output_type": "execute_result"
        },
        {
          "data": {
            "image/png": "[encoded data removed]",
            "text/plain": [
              "<Figure size 1080x864 with 2 Axes>"
            ]
          },
          "metadata": {
            "needs_background": "light"
          },
          "output_type": "display_data"
        }
      ],
      "source": [
        "corr = train_data_copy.corr()\n",
        "plt.figure(figsize=(15, 12))\n",
        "sns.heatmap(corr, annot=True)"
      ]
    },
    {
      "cell_type": "markdown",
      "metadata": {},
      "source": [
        "จากภาพจะทำให้เราเห็นว่ามีบาง Feature ที่มีความสัมพันธ์กันซึ่งมันจะเป็นข้อดีในตอน fill ข้อมูล"
      ]
    },
    {
      "cell_type": "markdown",
      "metadata": {},
      "source": [
        "มาลองดูข้อมูลทั้งหมด"
      ]
    },
    {
      "cell_type": "code",
      "execution_count": 120,
      "metadata": {},
      "outputs": [
        {
          "data": {
            "text/plain": [
              "<AxesSubplot:xlabel='Dependents', ylabel='count'>"
            ]
          },
          "execution_count": 120,
          "metadata": {},
          "output_type": "execute_result"
        },
        {
          "data": {
            "image/png": "[encoded data removed]",
            "text/plain": [
              "<Figure size 1152x720 with 8 Axes>"
            ]
          },
          "metadata": {
            "needs_background": "light"
          },
          "output_type": "display_data"
        }
      ],
      "source": [
        "fig,ax = plt.subplots(2,4,figsize=(16,10))\n",
        "sns.countplot('Loan_Status',data=train_data,ax=ax[0][0])\n",
        "sns.countplot('Gender',data=train_data,ax=ax[0][1])\n",
        "sns.countplot('Married',data=train_data,ax=ax[0][2])\n",
        "sns.countplot('Education',data=train_data,ax=ax[0][3])\n",
        "sns.countplot('Self_Employed',data=train_data,ax=ax[1][0])\n",
        "sns.countplot('Property_Area',data=train_data,ax=ax[1][1])\n",
        "sns.countplot('Credit_History',data=train_data,ax=ax[1][2])\n",
        "sns.countplot('Dependents',data=train_data,ax=ax[1][3])"
      ]
    },
    {
      "cell_type": "markdown",
      "metadata": {},
      "source": [
        "จากตารางทำให้เราเห็นว่า <br>\n",
        "1.ยอมรับการกู้มากกว่าการปฏิเสธการกู้<br>\n",
        "2.ชายมากกว่าหญิง<br>\n",
        "3.คนแต่งงานมากกว่าคนที่ยังไม่แต่งงาน<br>\n",
        "4.คนจบการศึกษามากกว่าคนที่ไม่จบ<br>\n",
        "5.คนทำอาชีพอิสระน้อยกว่าคนทำงานทั่วไป<br>\n",
        "6.คนที่อาศัยใน Semiurban มีมากกว่าอันอื่น <br>\n",
        "7.คนมีประวัติการเงินที่ดีกว่าไม่ดี<br>\n",
        "8.คนมีลูก 0 คนเยอะสุด<br>\n"
      ]
    },
    {
      "cell_type": "code",
      "execution_count": 121,
      "metadata": {
        "colab": {
          "base_uri": "https://localhost:8080/",
          "height": 296
        },
        "id": "YigHlIOvIpQC",
        "outputId": "1095acd5-d68f-4465-ae64-2f818f1c20c9"
      },
      "outputs": [
        {
          "data": {
            "text/plain": [
              "<AxesSubplot:xlabel='Gender', ylabel='count'>"
            ]
          },
          "execution_count": 121,
          "metadata": {},
          "output_type": "execute_result"
        },
        {
          "data": {
            "image/png": "[encoded data removed]",
            "text/plain": [
              "<Figure size 432x288 with 1 Axes>"
            ]
          },
          "metadata": {
            "needs_background": "light"
          },
          "output_type": "display_data"
        }
      ],
      "source": [
        "sns.countplot(train_data.Gender,hue=train_data.Loan_Status)"
      ]
    },
    {
      "cell_type": "code",
      "execution_count": 122,
      "metadata": {
        "colab": {
          "base_uri": "https://localhost:8080/",
          "height": 173
        },
        "id": "nLW0hC9rI60a",
        "outputId": "8e3dba63-4dea-4a0c-94a2-b8ce4310e8e4"
      },
      "outputs": [
        {
          "data": {
            "text/html": [
              "<div>\n",
              "<style scoped>\n",
              "    .dataframe tbody tr th:only-of-type {\n",
              "        vertical-align: middle;\n",
              "    }\n",
              "\n",
              "    .dataframe tbody tr th {\n",
              "        vertical-align: top;\n",
              "    }\n",
              "\n",
              "    .dataframe thead th {\n",
              "        text-align: right;\n",
              "    }\n",
              "</style>\n",
              "<table border=\"1\" class=\"dataframe\">\n",
              "  <thead>\n",
              "    <tr style=\"text-align: right;\">\n",
              "      <th>Loan_Status</th>\n",
              "      <th>N</th>\n",
              "      <th>Y</th>\n",
              "      <th>All</th>\n",
              "    </tr>\n",
              "    <tr>\n",
              "      <th>Gender</th>\n",
              "      <th></th>\n",
              "      <th></th>\n",
              "      <th></th>\n",
              "    </tr>\n",
              "  </thead>\n",
              "  <tbody>\n",
              "    <tr>\n",
              "      <th>Female</th>\n",
              "      <td>36</td>\n",
              "      <td>72</td>\n",
              "      <td>108</td>\n",
              "    </tr>\n",
              "    <tr>\n",
              "      <th>Male</th>\n",
              "      <td>142</td>\n",
              "      <td>334</td>\n",
              "      <td>476</td>\n",
              "    </tr>\n",
              "    <tr>\n",
              "      <th>All</th>\n",
              "      <td>178</td>\n",
              "      <td>406</td>\n",
              "      <td>584</td>\n",
              "    </tr>\n",
              "  </tbody>\n",
              "</table>\n",
              "</div>"
            ],
            "text/plain": [
              "Loan_Status    N    Y  All\n",
              "Gender                    \n",
              "Female        36   72  108\n",
              "Male         142  334  476\n",
              "All          178  406  584"
            ]
          },
          "execution_count": 122,
          "metadata": {},
          "output_type": "execute_result"
        }
      ],
      "source": [
        "pd.crosstab(train_data.Gender, train_data.Loan_Status, margins = True)"
      ]
    },
    {
      "cell_type": "code",
      "execution_count": 123,
      "metadata": {
        "colab": {
          "base_uri": "https://localhost:8080/",
          "height": 297
        },
        "id": "bhqCfeiHJ7YY",
        "outputId": "e89d8f0d-1a24-47d5-b849-288fd3d9511e"
      },
      "outputs": [
        {
          "data": {
            "text/plain": [
              "<AxesSubplot:xlabel='Credit_History', ylabel='count'>"
            ]
          },
          "execution_count": 123,
          "metadata": {},
          "output_type": "execute_result"
        },
        {
          "data": {
            "image/png": "[encoded data removed]",
            "text/plain": [
              "<Figure size 432x288 with 1 Axes>"
            ]
          },
          "metadata": {
            "needs_background": "light"
          },
          "output_type": "display_data"
        }
      ],
      "source": [
        "sns.countplot(train_data.Credit_History,hue=train_data.Loan_Status)"
      ]
    },
    {
      "cell_type": "code",
      "execution_count": 124,
      "metadata": {
        "colab": {
          "base_uri": "https://localhost:8080/",
          "height": 173
        },
        "id": "-NTIIoNKKBcZ",
        "outputId": "e7fb8162-766c-4588-b38b-0fb6fe6e2cd6"
      },
      "outputs": [
        {
          "data": {
            "text/html": [
              "<div>\n",
              "<style scoped>\n",
              "    .dataframe tbody tr th:only-of-type {\n",
              "        vertical-align: middle;\n",
              "    }\n",
              "\n",
              "    .dataframe tbody tr th {\n",
              "        vertical-align: top;\n",
              "    }\n",
              "\n",
              "    .dataframe thead th {\n",
              "        text-align: right;\n",
              "    }\n",
              "</style>\n",
              "<table border=\"1\" class=\"dataframe\">\n",
              "  <thead>\n",
              "    <tr style=\"text-align: right;\">\n",
              "      <th>Loan_Status</th>\n",
              "      <th>N</th>\n",
              "      <th>Y</th>\n",
              "      <th>All</th>\n",
              "    </tr>\n",
              "    <tr>\n",
              "      <th>Credit_History</th>\n",
              "      <th></th>\n",
              "      <th></th>\n",
              "      <th></th>\n",
              "    </tr>\n",
              "  </thead>\n",
              "  <tbody>\n",
              "    <tr>\n",
              "      <th>0.0</th>\n",
              "      <td>89</td>\n",
              "      <td>42</td>\n",
              "      <td>131</td>\n",
              "    </tr>\n",
              "    <tr>\n",
              "      <th>1.0</th>\n",
              "      <td>89</td>\n",
              "      <td>364</td>\n",
              "      <td>453</td>\n",
              "    </tr>\n",
              "    <tr>\n",
              "      <th>All</th>\n",
              "      <td>178</td>\n",
              "      <td>406</td>\n",
              "      <td>584</td>\n",
              "    </tr>\n",
              "  </tbody>\n",
              "</table>\n",
              "</div>"
            ],
            "text/plain": [
              "Loan_Status       N    Y  All\n",
              "Credit_History               \n",
              "0.0              89   42  131\n",
              "1.0              89  364  453\n",
              "All             178  406  584"
            ]
          },
          "execution_count": 124,
          "metadata": {},
          "output_type": "execute_result"
        }
      ],
      "source": [
        "pd.crosstab(train_data.Credit_History,train_data.Loan_Status , margins=True)"
      ]
    },
    {
      "cell_type": "markdown",
      "metadata": {
        "id": "ZCuc2oXiKJ1o"
      },
      "source": [
        "ถ้าประวัติเครดิตดีก็จะมีโอกาสที่จะกู้ได้มากกว่า ซึ่งควรนำไปทำเป็น Features"
      ]
    },
    {
      "cell_type": "code",
      "execution_count": 125,
      "metadata": {},
      "outputs": [
        {
          "data": {
            "text/plain": [
              "<AxesSubplot:xlabel='Self_Employed', ylabel='count'>"
            ]
          },
          "execution_count": 125,
          "metadata": {},
          "output_type": "execute_result"
        },
        {
          "data": {
            "image/png": "[encoded data removed]",
            "text/plain": [
              "<Figure size 432x288 with 1 Axes>"
            ]
          },
          "metadata": {
            "needs_background": "light"
          },
          "output_type": "display_data"
        }
      ],
      "source": [
        "sns.countplot(train_data.Self_Employed,hue=train_data.Loan_Status)"
      ]
    },
    {
      "cell_type": "code",
      "execution_count": 126,
      "metadata": {
        "colab": {
          "base_uri": "https://localhost:8080/",
          "height": 173
        },
        "id": "_4zzYD9WKhE1",
        "outputId": "cbd3679f-0d46-4140-97c4-0f701e972b05"
      },
      "outputs": [
        {
          "data": {
            "text/html": [
              "<div>\n",
              "<style scoped>\n",
              "    .dataframe tbody tr th:only-of-type {\n",
              "        vertical-align: middle;\n",
              "    }\n",
              "\n",
              "    .dataframe tbody tr th {\n",
              "        vertical-align: top;\n",
              "    }\n",
              "\n",
              "    .dataframe thead th {\n",
              "        text-align: right;\n",
              "    }\n",
              "</style>\n",
              "<table border=\"1\" class=\"dataframe\">\n",
              "  <thead>\n",
              "    <tr style=\"text-align: right;\">\n",
              "      <th>Loan_Status</th>\n",
              "      <th>N</th>\n",
              "      <th>Y</th>\n",
              "      <th>All</th>\n",
              "    </tr>\n",
              "    <tr>\n",
              "      <th>Self_Employed</th>\n",
              "      <th></th>\n",
              "      <th></th>\n",
              "      <th></th>\n",
              "    </tr>\n",
              "  </thead>\n",
              "  <tbody>\n",
              "    <tr>\n",
              "      <th>No</th>\n",
              "      <td>148</td>\n",
              "      <td>353</td>\n",
              "      <td>501</td>\n",
              "    </tr>\n",
              "    <tr>\n",
              "      <th>Yes</th>\n",
              "      <td>30</td>\n",
              "      <td>53</td>\n",
              "      <td>83</td>\n",
              "    </tr>\n",
              "    <tr>\n",
              "      <th>All</th>\n",
              "      <td>178</td>\n",
              "      <td>406</td>\n",
              "      <td>584</td>\n",
              "    </tr>\n",
              "  </tbody>\n",
              "</table>\n",
              "</div>"
            ],
            "text/plain": [
              "Loan_Status      N    Y  All\n",
              "Self_Employed               \n",
              "No             148  353  501\n",
              "Yes             30   53   83\n",
              "All            178  406  584"
            ]
          },
          "execution_count": 126,
          "metadata": {},
          "output_type": "execute_result"
        }
      ],
      "source": [
        "pd.crosstab(train_data.Self_Employed , train_data.Loan_Status,margins = True)"
      ]
    },
    {
      "cell_type": "markdown",
      "metadata": {},
      "source": [
        "เราจะเห็นได้ว่าถ้าเป็นอาชีพอิสระจะมีโอกาสได้กู้น้อยกว่า"
      ]
    },
    {
      "cell_type": "code",
      "execution_count": 127,
      "metadata": {
        "colab": {
          "base_uri": "https://localhost:8080/",
          "height": 299
        },
        "id": "It2hoT4jKqIa",
        "outputId": "82c85478-cb08-4dda-a550-ae99d6d90435"
      },
      "outputs": [
        {
          "data": {
            "text/plain": [
              "<AxesSubplot:xlabel='Married', ylabel='count'>"
            ]
          },
          "execution_count": 127,
          "metadata": {},
          "output_type": "execute_result"
        },
        {
          "data": {
            "image/png": "[encoded data removed]",
            "text/plain": [
              "<Figure size 432x288 with 1 Axes>"
            ]
          },
          "metadata": {
            "needs_background": "light"
          },
          "output_type": "display_data"
        }
      ],
      "source": [
        "sns.countplot(train_data.Married,hue=train_data.Loan_Status)"
      ]
    },
    {
      "cell_type": "code",
      "execution_count": 128,
      "metadata": {
        "colab": {
          "base_uri": "https://localhost:8080/",
          "height": 173
        },
        "id": "Qf2-ZWkBKvPl",
        "outputId": "bee904cf-9961-4a10-fc9e-8b5cf5805aff"
      },
      "outputs": [
        {
          "data": {
            "text/html": [
              "<div>\n",
              "<style scoped>\n",
              "    .dataframe tbody tr th:only-of-type {\n",
              "        vertical-align: middle;\n",
              "    }\n",
              "\n",
              "    .dataframe tbody tr th {\n",
              "        vertical-align: top;\n",
              "    }\n",
              "\n",
              "    .dataframe thead th {\n",
              "        text-align: right;\n",
              "    }\n",
              "</style>\n",
              "<table border=\"1\" class=\"dataframe\">\n",
              "  <thead>\n",
              "    <tr style=\"text-align: right;\">\n",
              "      <th>Loan_Status</th>\n",
              "      <th>N</th>\n",
              "      <th>Y</th>\n",
              "      <th>All</th>\n",
              "    </tr>\n",
              "    <tr>\n",
              "      <th>Married</th>\n",
              "      <th></th>\n",
              "      <th></th>\n",
              "      <th></th>\n",
              "    </tr>\n",
              "  </thead>\n",
              "  <tbody>\n",
              "    <tr>\n",
              "      <th>No</th>\n",
              "      <td>75</td>\n",
              "      <td>130</td>\n",
              "      <td>205</td>\n",
              "    </tr>\n",
              "    <tr>\n",
              "      <th>Yes</th>\n",
              "      <td>103</td>\n",
              "      <td>276</td>\n",
              "      <td>379</td>\n",
              "    </tr>\n",
              "    <tr>\n",
              "      <th>All</th>\n",
              "      <td>178</td>\n",
              "      <td>406</td>\n",
              "      <td>584</td>\n",
              "    </tr>\n",
              "  </tbody>\n",
              "</table>\n",
              "</div>"
            ],
            "text/plain": [
              "Loan_Status    N    Y  All\n",
              "Married                   \n",
              "No            75  130  205\n",
              "Yes          103  276  379\n",
              "All          178  406  584"
            ]
          },
          "execution_count": 128,
          "metadata": {},
          "output_type": "execute_result"
        }
      ],
      "source": [
        "pd.crosstab(train_data.Married, train_data.Loan_Status,margins = True)"
      ]
    },
    {
      "cell_type": "code",
      "execution_count": 129,
      "metadata": {
        "colab": {
          "base_uri": "https://localhost:8080/",
          "height": 296
        },
        "id": "nlJmWkM1K3QN",
        "outputId": "a6b02662-65e8-476d-c01d-1e82db9e6f29"
      },
      "outputs": [
        {
          "data": {
            "text/plain": [
              "<AxesSubplot:xlabel='Education', ylabel='count'>"
            ]
          },
          "execution_count": 129,
          "metadata": {},
          "output_type": "execute_result"
        },
        {
          "data": {
            "image/png": "[encoded data removed]",
            "text/plain": [
              "<Figure size 432x288 with 1 Axes>"
            ]
          },
          "metadata": {
            "needs_background": "light"
          },
          "output_type": "display_data"
        }
      ],
      "source": [
        "sns.countplot(train_data.Education,hue=train_data.Loan_Status)"
      ]
    },
    {
      "cell_type": "code",
      "execution_count": 130,
      "metadata": {
        "colab": {
          "base_uri": "https://localhost:8080/",
          "height": 173
        },
        "id": "Xeztm0rFK7Mq",
        "outputId": "7ea9d0a1-1735-43ca-ff68-e3bec867bc52"
      },
      "outputs": [
        {
          "data": {
            "text/html": [
              "<div>\n",
              "<style scoped>\n",
              "    .dataframe tbody tr th:only-of-type {\n",
              "        vertical-align: middle;\n",
              "    }\n",
              "\n",
              "    .dataframe tbody tr th {\n",
              "        vertical-align: top;\n",
              "    }\n",
              "\n",
              "    .dataframe thead th {\n",
              "        text-align: right;\n",
              "    }\n",
              "</style>\n",
              "<table border=\"1\" class=\"dataframe\">\n",
              "  <thead>\n",
              "    <tr style=\"text-align: right;\">\n",
              "      <th>Loan_Status</th>\n",
              "      <th>N</th>\n",
              "      <th>Y</th>\n",
              "      <th>All</th>\n",
              "    </tr>\n",
              "    <tr>\n",
              "      <th>Education</th>\n",
              "      <th></th>\n",
              "      <th></th>\n",
              "      <th></th>\n",
              "    </tr>\n",
              "  </thead>\n",
              "  <tbody>\n",
              "    <tr>\n",
              "      <th>Graduate</th>\n",
              "      <td>131</td>\n",
              "      <td>326</td>\n",
              "      <td>457</td>\n",
              "    </tr>\n",
              "    <tr>\n",
              "      <th>Not Graduate</th>\n",
              "      <td>47</td>\n",
              "      <td>80</td>\n",
              "      <td>127</td>\n",
              "    </tr>\n",
              "    <tr>\n",
              "      <th>All</th>\n",
              "      <td>178</td>\n",
              "      <td>406</td>\n",
              "      <td>584</td>\n",
              "    </tr>\n",
              "  </tbody>\n",
              "</table>\n",
              "</div>"
            ],
            "text/plain": [
              "Loan_Status     N    Y  All\n",
              "Education                  \n",
              "Graduate      131  326  457\n",
              "Not Graduate   47   80  127\n",
              "All           178  406  584"
            ]
          },
          "execution_count": 130,
          "metadata": {},
          "output_type": "execute_result"
        }
      ],
      "source": [
        "pd.crosstab(train_data.Education, train_data.Loan_Status,margins = True)"
      ]
    },
    {
      "cell_type": "code",
      "execution_count": 131,
      "metadata": {
        "colab": {
          "base_uri": "https://localhost:8080/",
          "height": 296
        },
        "id": "F6PjSjEdcDYg",
        "outputId": "6fcd76b4-49a7-4b1d-fcf1-dbeb90e191e7"
      },
      "outputs": [
        {
          "data": {
            "text/plain": [
              "<AxesSubplot:xlabel='Dependents', ylabel='count'>"
            ]
          },
          "execution_count": 131,
          "metadata": {},
          "output_type": "execute_result"
        },
        {
          "data": {
            "image/png": "[encoded data removed]",
            "text/plain": [
              "<Figure size 432x288 with 1 Axes>"
            ]
          },
          "metadata": {
            "needs_background": "light"
          },
          "output_type": "display_data"
        }
      ],
      "source": [
        "sns.countplot(train_data.Dependents,hue=train_data.Loan_Status)"
      ]
    },
    {
      "cell_type": "code",
      "execution_count": 132,
      "metadata": {
        "colab": {
          "base_uri": "https://localhost:8080/",
          "height": 235
        },
        "id": "KEHw7PGIcE51",
        "outputId": "2ae1a519-376f-4484-a0f8-778947b69863"
      },
      "outputs": [
        {
          "data": {
            "text/html": [
              "<div>\n",
              "<style scoped>\n",
              "    .dataframe tbody tr th:only-of-type {\n",
              "        vertical-align: middle;\n",
              "    }\n",
              "\n",
              "    .dataframe tbody tr th {\n",
              "        vertical-align: top;\n",
              "    }\n",
              "\n",
              "    .dataframe thead th {\n",
              "        text-align: right;\n",
              "    }\n",
              "</style>\n",
              "<table border=\"1\" class=\"dataframe\">\n",
              "  <thead>\n",
              "    <tr style=\"text-align: right;\">\n",
              "      <th>Loan_Status</th>\n",
              "      <th>N</th>\n",
              "      <th>Y</th>\n",
              "      <th>All</th>\n",
              "    </tr>\n",
              "    <tr>\n",
              "      <th>Dependents</th>\n",
              "      <th></th>\n",
              "      <th></th>\n",
              "      <th></th>\n",
              "    </tr>\n",
              "  </thead>\n",
              "  <tbody>\n",
              "    <tr>\n",
              "      <th>0</th>\n",
              "      <td>106</td>\n",
              "      <td>238</td>\n",
              "      <td>344</td>\n",
              "    </tr>\n",
              "    <tr>\n",
              "      <th>1</th>\n",
              "      <td>34</td>\n",
              "      <td>62</td>\n",
              "      <td>96</td>\n",
              "    </tr>\n",
              "    <tr>\n",
              "      <th>2</th>\n",
              "      <td>23</td>\n",
              "      <td>75</td>\n",
              "      <td>98</td>\n",
              "    </tr>\n",
              "    <tr>\n",
              "      <th>3+</th>\n",
              "      <td>15</td>\n",
              "      <td>31</td>\n",
              "      <td>46</td>\n",
              "    </tr>\n",
              "    <tr>\n",
              "      <th>All</th>\n",
              "      <td>178</td>\n",
              "      <td>406</td>\n",
              "      <td>584</td>\n",
              "    </tr>\n",
              "  </tbody>\n",
              "</table>\n",
              "</div>"
            ],
            "text/plain": [
              "Loan_Status    N    Y  All\n",
              "Dependents                \n",
              "0            106  238  344\n",
              "1             34   62   96\n",
              "2             23   75   98\n",
              "3+            15   31   46\n",
              "All          178  406  584"
            ]
          },
          "execution_count": 132,
          "metadata": {},
          "output_type": "execute_result"
        }
      ],
      "source": [
        "pd.crosstab(train_data.Dependents, train_data.Loan_Status,margins = True)"
      ]
    },
    {
      "cell_type": "markdown",
      "metadata": {},
      "source": [
        "จาก Depdndent,Married,Education,Gender จะทำให้เห็นว่าค่าไม่ได้มีความแตกต่างกันมากแต่จะมีค่าที่แตกต่างกันมากๆคือ Credit_History และ Self_Employed ที่มีผลต่อ Loan_Status"
      ]
    },
    {
      "cell_type": "markdown",
      "metadata": {},
      "source": [
        "งั้นแสดงว่า Credit_History และ Self_Employed มีความเกียวข้องหรือไม่มาลองพิสูจน์กัน"
      ]
    },
    {
      "cell_type": "code",
      "execution_count": 133,
      "metadata": {},
      "outputs": [
        {
          "data": {
            "text/html": [
              "<div>\n",
              "<style scoped>\n",
              "    .dataframe tbody tr th:only-of-type {\n",
              "        vertical-align: middle;\n",
              "    }\n",
              "\n",
              "    .dataframe tbody tr th {\n",
              "        vertical-align: top;\n",
              "    }\n",
              "\n",
              "    .dataframe thead th {\n",
              "        text-align: right;\n",
              "    }\n",
              "</style>\n",
              "<table border=\"1\" class=\"dataframe\">\n",
              "  <thead>\n",
              "    <tr style=\"text-align: right;\">\n",
              "      <th>Credit_History</th>\n",
              "      <th>0.0</th>\n",
              "      <th>1.0</th>\n",
              "      <th>All</th>\n",
              "    </tr>\n",
              "    <tr>\n",
              "      <th>Self_Employed</th>\n",
              "      <th></th>\n",
              "      <th></th>\n",
              "      <th></th>\n",
              "    </tr>\n",
              "  </thead>\n",
              "  <tbody>\n",
              "    <tr>\n",
              "      <th>No</th>\n",
              "      <td>108</td>\n",
              "      <td>393</td>\n",
              "      <td>501</td>\n",
              "    </tr>\n",
              "    <tr>\n",
              "      <th>Yes</th>\n",
              "      <td>23</td>\n",
              "      <td>60</td>\n",
              "      <td>83</td>\n",
              "    </tr>\n",
              "    <tr>\n",
              "      <th>All</th>\n",
              "      <td>131</td>\n",
              "      <td>453</td>\n",
              "      <td>584</td>\n",
              "    </tr>\n",
              "  </tbody>\n",
              "</table>\n",
              "</div>"
            ],
            "text/plain": [
              "Credit_History  0.0  1.0  All\n",
              "Self_Employed                \n",
              "No              108  393  501\n",
              "Yes              23   60   83\n",
              "All             131  453  584"
            ]
          },
          "execution_count": 133,
          "metadata": {},
          "output_type": "execute_result"
        }
      ],
      "source": [
        "pd.crosstab(train_data.Self_Employed , train_data.Credit_History,margins = True)"
      ]
    },
    {
      "cell_type": "markdown",
      "metadata": {},
      "source": [
        "สรุปสิ่งที่ได้คือ <br>\n",
        "1.Credit_History และ Self_Employed ส่งผลต่อการ Loan <br>\n",
        "2.Credit_History และ Self_Employed มีความสัมพันธ์กัน <br>\n",
        "3.Feature อื่นๆไม่มีความสัมพันธ์กันมากเท่าไหร่ "
      ]
    },
    {
      "cell_type": "markdown",
      "metadata": {},
      "source": [
        "จากตารางข้างบนทำให้เห็นว่าถ้าเราทำงานอาชีพอิสระก็จะส่งผลต่อ Credit_History"
      ]
    },
    {
      "cell_type": "markdown",
      "metadata": {
        "id": "K_IrwyFRwxAM"
      },
      "source": [
        "##Preprocessing"
      ]
    },
    {
      "cell_type": "code",
      "execution_count": 134,
      "metadata": {
        "id": "N9sqkjIn3k_q"
      },
      "outputs": [],
      "source": [
        "cols = ['Gender', 'Married', 'Education', 'Self_Employed', 'Property_Area', \n",
        "        'Loan_Status', 'Dependents']\n",
        "colsN = ['ApplicantIncome','CoapplicantIncome','Loan_Amount_Term','LoanAmount']\n",
        "train_data = train_data.replace(['3+'],'3')"
      ]
    },
    {
      "cell_type": "code",
      "execution_count": 135,
      "metadata": {
        "colab": {
          "base_uri": "https://localhost:8080/"
        },
        "id": "E-gIkbN20Up1",
        "outputId": "9610b224-3c83-4682-f03d-f84502799c8f"
      },
      "outputs": [
        {
          "data": {
            "text/html": [
              "<div>\n",
              "<style scoped>\n",
              "    .dataframe tbody tr th:only-of-type {\n",
              "        vertical-align: middle;\n",
              "    }\n",
              "\n",
              "    .dataframe tbody tr th {\n",
              "        vertical-align: top;\n",
              "    }\n",
              "\n",
              "    .dataframe thead th {\n",
              "        text-align: right;\n",
              "    }\n",
              "</style>\n",
              "<table border=\"1\" class=\"dataframe\">\n",
              "  <thead>\n",
              "    <tr style=\"text-align: right;\">\n",
              "      <th></th>\n",
              "      <th>Gender</th>\n",
              "      <th>Married</th>\n",
              "      <th>Dependents</th>\n",
              "      <th>Education</th>\n",
              "      <th>Self_Employed</th>\n",
              "      <th>ApplicantIncome</th>\n",
              "      <th>CoapplicantIncome</th>\n",
              "      <th>LoanAmount</th>\n",
              "      <th>Loan_Amount_Term</th>\n",
              "      <th>Credit_History</th>\n",
              "      <th>Property_Area</th>\n",
              "      <th>Loan_Status</th>\n",
              "    </tr>\n",
              "  </thead>\n",
              "  <tbody>\n",
              "    <tr>\n",
              "      <th>1</th>\n",
              "      <td>1</td>\n",
              "      <td>1</td>\n",
              "      <td>1</td>\n",
              "      <td>0</td>\n",
              "      <td>0</td>\n",
              "      <td>-0.090565</td>\n",
              "      <td>-0.049767</td>\n",
              "      <td>-0.182043</td>\n",
              "      <td>0.267607</td>\n",
              "      <td>1.0</td>\n",
              "      <td>0</td>\n",
              "      <td>0</td>\n",
              "    </tr>\n",
              "    <tr>\n",
              "      <th>2</th>\n",
              "      <td>1</td>\n",
              "      <td>1</td>\n",
              "      <td>0</td>\n",
              "      <td>0</td>\n",
              "      <td>1</td>\n",
              "      <td>-0.491040</td>\n",
              "      <td>-0.556449</td>\n",
              "      <td>-1.066324</td>\n",
              "      <td>0.267607</td>\n",
              "      <td>1.0</td>\n",
              "      <td>2</td>\n",
              "      <td>1</td>\n",
              "    </tr>\n",
              "    <tr>\n",
              "      <th>3</th>\n",
              "      <td>1</td>\n",
              "      <td>1</td>\n",
              "      <td>0</td>\n",
              "      <td>1</td>\n",
              "      <td>0</td>\n",
              "      <td>-0.596535</td>\n",
              "      <td>0.235830</td>\n",
              "      <td>-0.296144</td>\n",
              "      <td>0.267607</td>\n",
              "      <td>1.0</td>\n",
              "      <td>2</td>\n",
              "      <td>1</td>\n",
              "    </tr>\n",
              "    <tr>\n",
              "      <th>4</th>\n",
              "      <td>1</td>\n",
              "      <td>0</td>\n",
              "      <td>0</td>\n",
              "      <td>0</td>\n",
              "      <td>0</td>\n",
              "      <td>0.267915</td>\n",
              "      <td>-0.556449</td>\n",
              "      <td>0.003370</td>\n",
              "      <td>0.267607</td>\n",
              "      <td>1.0</td>\n",
              "      <td>2</td>\n",
              "      <td>1</td>\n",
              "    </tr>\n",
              "    <tr>\n",
              "      <th>5</th>\n",
              "      <td>1</td>\n",
              "      <td>1</td>\n",
              "      <td>2</td>\n",
              "      <td>0</td>\n",
              "      <td>1</td>\n",
              "      <td>0.120424</td>\n",
              "      <td>0.853391</td>\n",
              "      <td>1.800456</td>\n",
              "      <td>0.267607</td>\n",
              "      <td>1.0</td>\n",
              "      <td>2</td>\n",
              "      <td>1</td>\n",
              "    </tr>\n",
              "    <tr>\n",
              "      <th>...</th>\n",
              "      <td>...</td>\n",
              "      <td>...</td>\n",
              "      <td>...</td>\n",
              "      <td>...</td>\n",
              "      <td>...</td>\n",
              "      <td>...</td>\n",
              "      <td>...</td>\n",
              "      <td>...</td>\n",
              "      <td>...</td>\n",
              "      <td>...</td>\n",
              "      <td>...</td>\n",
              "      <td>...</td>\n",
              "    </tr>\n",
              "    <tr>\n",
              "      <th>609</th>\n",
              "      <td>0</td>\n",
              "      <td>0</td>\n",
              "      <td>0</td>\n",
              "      <td>0</td>\n",
              "      <td>0</td>\n",
              "      <td>-0.516339</td>\n",
              "      <td>-0.556449</td>\n",
              "      <td>-0.995011</td>\n",
              "      <td>0.267607</td>\n",
              "      <td>1.0</td>\n",
              "      <td>0</td>\n",
              "      <td>1</td>\n",
              "    </tr>\n",
              "    <tr>\n",
              "      <th>610</th>\n",
              "      <td>1</td>\n",
              "      <td>1</td>\n",
              "      <td>3</td>\n",
              "      <td>0</td>\n",
              "      <td>0</td>\n",
              "      <td>-0.211239</td>\n",
              "      <td>-0.556449</td>\n",
              "      <td>-1.437151</td>\n",
              "      <td>-2.539864</td>\n",
              "      <td>1.0</td>\n",
              "      <td>0</td>\n",
              "      <td>1</td>\n",
              "    </tr>\n",
              "    <tr>\n",
              "      <th>611</th>\n",
              "      <td>1</td>\n",
              "      <td>1</td>\n",
              "      <td>1</td>\n",
              "      <td>0</td>\n",
              "      <td>0</td>\n",
              "      <td>0.792099</td>\n",
              "      <td>-0.475810</td>\n",
              "      <td>1.600780</td>\n",
              "      <td>0.267607</td>\n",
              "      <td>1.0</td>\n",
              "      <td>2</td>\n",
              "      <td>1</td>\n",
              "    </tr>\n",
              "    <tr>\n",
              "      <th>612</th>\n",
              "      <td>1</td>\n",
              "      <td>1</td>\n",
              "      <td>2</td>\n",
              "      <td>0</td>\n",
              "      <td>0</td>\n",
              "      <td>0.668390</td>\n",
              "      <td>-0.556449</td>\n",
              "      <td>0.659449</td>\n",
              "      <td>0.267607</td>\n",
              "      <td>1.0</td>\n",
              "      <td>2</td>\n",
              "      <td>1</td>\n",
              "    </tr>\n",
              "    <tr>\n",
              "      <th>613</th>\n",
              "      <td>0</td>\n",
              "      <td>0</td>\n",
              "      <td>0</td>\n",
              "      <td>0</td>\n",
              "      <td>1</td>\n",
              "      <td>-0.090565</td>\n",
              "      <td>-0.556449</td>\n",
              "      <td>-0.110730</td>\n",
              "      <td>0.267607</td>\n",
              "      <td>0.0</td>\n",
              "      <td>1</td>\n",
              "      <td>0</td>\n",
              "    </tr>\n",
              "  </tbody>\n",
              "</table>\n",
              "<p>584 rows × 12 columns</p>\n",
              "</div>"
            ],
            "text/plain": [
              "     Gender  Married  Dependents  Education  Self_Employed  ApplicantIncome  \\\n",
              "1         1        1           1          0              0        -0.090565   \n",
              "2         1        1           0          0              1        -0.491040   \n",
              "3         1        1           0          1              0        -0.596535   \n",
              "4         1        0           0          0              0         0.267915   \n",
              "5         1        1           2          0              1         0.120424   \n",
              "..      ...      ...         ...        ...            ...              ...   \n",
              "609       0        0           0          0              0        -0.516339   \n",
              "610       1        1           3          0              0        -0.211239   \n",
              "611       1        1           1          0              0         0.792099   \n",
              "612       1        1           2          0              0         0.668390   \n",
              "613       0        0           0          0              1        -0.090565   \n",
              "\n",
              "     CoapplicantIncome  LoanAmount  Loan_Amount_Term  Credit_History  \\\n",
              "1            -0.049767   -0.182043          0.267607             1.0   \n",
              "2            -0.556449   -1.066324          0.267607             1.0   \n",
              "3             0.235830   -0.296144          0.267607             1.0   \n",
              "4            -0.556449    0.003370          0.267607             1.0   \n",
              "5             0.853391    1.800456          0.267607             1.0   \n",
              "..                 ...         ...               ...             ...   \n",
              "609          -0.556449   -0.995011          0.267607             1.0   \n",
              "610          -0.556449   -1.437151         -2.539864             1.0   \n",
              "611          -0.475810    1.600780          0.267607             1.0   \n",
              "612          -0.556449    0.659449          0.267607             1.0   \n",
              "613          -0.556449   -0.110730          0.267607             0.0   \n",
              "\n",
              "     Property_Area  Loan_Status  \n",
              "1                0            0  \n",
              "2                2            1  \n",
              "3                2            1  \n",
              "4                2            1  \n",
              "5                2            1  \n",
              "..             ...          ...  \n",
              "609              0            1  \n",
              "610              0            1  \n",
              "611              2            1  \n",
              "612              2            1  \n",
              "613              1            0  \n",
              "\n",
              "[584 rows x 12 columns]"
            ]
          },
          "execution_count": 135,
          "metadata": {},
          "output_type": "execute_result"
        }
      ],
      "source": [
        "del train_data['Loan_ID']\n",
        "\n",
        "for col in cols:\n",
        "  train_data[col] = LabelEncoder().fit_transform(train_data[col])\n",
        "\n",
        "for i in colsN :\n",
        "  train_data[i] = StandardScaler().fit_transform(train_data[[i]])\n",
        "\n",
        "\n",
        "train_data"
      ]
    },
    {
      "cell_type": "code",
      "execution_count": 136,
      "metadata": {
        "colab": {
          "base_uri": "https://localhost:8080/"
        },
        "id": "O3UzhKtye4nX",
        "outputId": "dba15ffe-72e0-40e6-ff71-1223b0ef4383"
      },
      "outputs": [
        {
          "name": "stdout",
          "output_type": "stream",
          "text": [
            "<class 'pandas.core.frame.DataFrame'>\n",
            "Int64Index: 584 entries, 1 to 613\n",
            "Data columns (total 12 columns):\n",
            " #   Column             Non-Null Count  Dtype  \n",
            "---  ------             --------------  -----  \n",
            " 0   Gender             584 non-null    int32  \n",
            " 1   Married            584 non-null    int32  \n",
            " 2   Dependents         584 non-null    int32  \n",
            " 3   Education          584 non-null    int32  \n",
            " 4   Self_Employed      584 non-null    int32  \n",
            " 5   ApplicantIncome    584 non-null    float64\n",
            " 6   CoapplicantIncome  584 non-null    float64\n",
            " 7   LoanAmount         584 non-null    float64\n",
            " 8   Loan_Amount_Term   584 non-null    float64\n",
            " 9   Credit_History     584 non-null    float64\n",
            " 10  Property_Area      584 non-null    int32  \n",
            " 11  Loan_Status        584 non-null    int32  \n",
            "dtypes: float64(5), int32(7)\n",
            "memory usage: 59.5 KB\n"
          ]
        }
      ],
      "source": [
        "train_data.info()"
      ]
    },
    {
      "cell_type": "code",
      "execution_count": 137,
      "metadata": {
        "id": "yGrTm-9Z4FJe"
      },
      "outputs": [],
      "source": [
        "colsT = ['Gender', 'Married', 'Education', 'Dependents','Property_Area','Self_Employed']"
      ]
    },
    {
      "cell_type": "code",
      "execution_count": 138,
      "metadata": {
        "colab": {
          "base_uri": "https://localhost:8080/"
        },
        "id": "4A_EzM-70omv",
        "outputId": "0bd5c5ad-069d-447a-ce07-36d5990619d4"
      },
      "outputs": [
        {
          "data": {
            "text/plain": [
              "Gender               0\n",
              "Married              0\n",
              "Dependents           0\n",
              "Education            0\n",
              "Self_Employed        0\n",
              "ApplicantIncome      0\n",
              "CoapplicantIncome    0\n",
              "LoanAmount           0\n",
              "Loan_Amount_Term     0\n",
              "Credit_History       0\n",
              "Property_Area        0\n",
              "dtype: int64"
            ]
          },
          "execution_count": 138,
          "metadata": {},
          "output_type": "execute_result"
        }
      ],
      "source": [
        "del test_data['Loan_ID']\n",
        "\n",
        "test_data = test_data.replace(['3+'],'3') # เพราะมันอ่านไม่เข้าใจ\n",
        "for col in colsT:\n",
        "  test_data[col] = LabelEncoder().fit_transform(test_data[col])\n",
        "\n",
        "scaler=StandardScaler()\n",
        "for i in colsN :\n",
        "  test_data[i] = StandardScaler().fit_transform(test_data[[i]])\n",
        "\n",
        "test_data.isnull().sum()"
      ]
    },
    {
      "cell_type": "markdown",
      "metadata": {
        "id": "yTHOYUVfIhpw"
      },
      "source": [
        "##Model Building"
      ]
    },
    {
      "cell_type": "code",
      "execution_count": 139,
      "metadata": {
        "id": "Xit2tJjuLNdQ"
      },
      "outputs": [],
      "source": [
        "X = train_data.drop(['Loan_Status'], axis = 1 )\n",
        "y = train_data['Loan_Status']\n",
        "\n",
        "X_train ,X_test , y_train , y_test = train_test_split(X , y , test_size = 0.20 , random_state =0)"
      ]
    },
    {
      "cell_type": "code",
      "execution_count": 140,
      "metadata": {
        "colab": {
          "base_uri": "https://localhost:8080/"
        },
        "id": "Z3HWvhaqnR4f",
        "outputId": "4c33a4c5-71ab-42e2-ff12-43ce8686bc60"
      },
      "outputs": [
        {
          "name": "stdout",
          "output_type": "stream",
          "text": [
            "Requirement already satisfied: catboost in c:\\users\\bigco\\anaconda3\\lib\\site-packages (1.0.3)\n",
            "Requirement already satisfied: plotly in c:\\users\\bigco\\anaconda3\\lib\\site-packages (from catboost) (5.4.0)\n",
            "Requirement already satisfied: matplotlib in c:\\users\\bigco\\anaconda3\\lib\\site-packages (from catboost) (3.3.4)\n",
            "Requirement already satisfied: six in c:\\users\\bigco\\anaconda3\\lib\\site-packages (from catboost) (1.15.0)\n",
            "Requirement already satisfied: graphviz in c:\\users\\bigco\\anaconda3\\lib\\site-packages (from catboost) (0.18.2)\n",
            "Requirement already satisfied: pandas>=0.24.0 in c:\\users\\bigco\\anaconda3\\lib\\site-packages (from catboost) (1.2.4)\n",
            "Requirement already satisfied: numpy>=1.16.0 in c:\\users\\bigco\\anaconda3\\lib\\site-packages (from catboost) (1.20.1)\n",
            "Requirement already satisfied: scipy in c:\\users\\bigco\\anaconda3\\lib\\site-packages (from catboost) (1.6.2)\n",
            "Requirement already satisfied: python-dateutil>=2.7.3 in c:\\users\\bigco\\anaconda3\\lib\\site-packages (from pandas>=0.24.0->catboost) (2.8.1)\n",
            "Requirement already satisfied: pytz>=2017.3 in c:\\users\\bigco\\anaconda3\\lib\\site-packages (from pandas>=0.24.0->catboost) (2021.1)\n",
            "Requirement already satisfied: pillow>=6.2.0 in c:\\users\\bigco\\anaconda3\\lib\\site-packages (from matplotlib->catboost) (8.2.0)\n",
            "Requirement already satisfied: kiwisolver>=1.0.1 in c:\\users\\bigco\\anaconda3\\lib\\site-packages (from matplotlib->catboost) (1.3.1)\n",
            "Requirement already satisfied: cycler>=0.10 in c:\\users\\bigco\\anaconda3\\lib\\site-packages (from matplotlib->catboost) (0.10.0)\n",
            "Requirement already satisfied: pyparsing!=2.0.4,!=2.1.2,!=2.1.6,>=2.0.3 in c:\\users\\bigco\\anaconda3\\lib\\site-packages (from matplotlib->catboost) (2.4.7)\n",
            "Requirement already satisfied: tenacity>=6.2.0 in c:\\users\\bigco\\anaconda3\\lib\\site-packages (from plotly->catboost) (8.0.1)\n"
          ]
        }
      ],
      "source": [
        "!pip3 install catboost"
      ]
    },
    {
      "cell_type": "code",
      "execution_count": 141,
      "metadata": {
        "colab": {
          "base_uri": "https://localhost:8080/"
        },
        "id": "hQp6SlywLdu9",
        "outputId": "2920378e-0b0f-4fc4-cdb1-6296c47709fa"
      },
      "outputs": [
        {
          "name": "stdout",
          "output_type": "stream",
          "text": [
            "Learning rate set to 0.007443\n",
            "0:\tlearn: 0.6901412\ttotal: 5.41ms\tremaining: 5.4s\n",
            "1:\tlearn: 0.6868555\ttotal: 7.46ms\tremaining: 3.72s\n",
            "2:\tlearn: 0.6833994\ttotal: 10ms\tremaining: 3.34s\n",
            "3:\tlearn: 0.6803348\ttotal: 13.3ms\tremaining: 3.31s\n",
            "4:\tlearn: 0.6770379\ttotal: 16.2ms\tremaining: 3.23s\n",
            "5:\tlearn: 0.6740616\ttotal: 18.2ms\tremaining: 3.02s\n",
            "6:\tlearn: 0.6714497\ttotal: 20.4ms\tremaining: 2.9s\n",
            "7:\tlearn: 0.6688121\ttotal: 22.3ms\tremaining: 2.76s\n",
            "8:\tlearn: 0.6657739\ttotal: 24.2ms\tremaining: 2.67s\n",
            "9:\tlearn: 0.6629444\ttotal: 26.1ms\tremaining: 2.59s\n",
            "10:\tlearn: 0.6598155\ttotal: 27.7ms\tremaining: 2.49s\n",
            "11:\tlearn: 0.6571790\ttotal: 29.1ms\tremaining: 2.4s\n",
            "12:\tlearn: 0.6544237\ttotal: 30.9ms\tremaining: 2.35s\n",
            "13:\tlearn: 0.6521609\ttotal: 32.9ms\tremaining: 2.32s\n",
            "14:\tlearn: 0.6493824\ttotal: 34.5ms\tremaining: 2.27s\n",
            "15:\tlearn: 0.6464239\ttotal: 35.9ms\tremaining: 2.21s\n",
            "16:\tlearn: 0.6436844\ttotal: 37.6ms\tremaining: 2.17s\n",
            "17:\tlearn: 0.6408694\ttotal: 44.5ms\tremaining: 2.43s\n",
            "18:\tlearn: 0.6383103\ttotal: 46.8ms\tremaining: 2.42s\n",
            "19:\tlearn: 0.6359430\ttotal: 49.3ms\tremaining: 2.41s\n",
            "20:\tlearn: 0.6340620\ttotal: 50.6ms\tremaining: 2.36s\n",
            "21:\tlearn: 0.6312876\ttotal: 52.2ms\tremaining: 2.32s\n",
            "22:\tlearn: 0.6284440\ttotal: 54ms\tremaining: 2.29s\n",
            "23:\tlearn: 0.6266629\ttotal: 55ms\tremaining: 2.24s\n",
            "24:\tlearn: 0.6241918\ttotal: 56.8ms\tremaining: 2.22s\n",
            "25:\tlearn: 0.6219398\ttotal: 58.6ms\tremaining: 2.19s\n",
            "26:\tlearn: 0.6190789\ttotal: 60.6ms\tremaining: 2.18s\n",
            "27:\tlearn: 0.6169324\ttotal: 62.4ms\tremaining: 2.17s\n",
            "28:\tlearn: 0.6144440\ttotal: 64.1ms\tremaining: 2.15s\n",
            "29:\tlearn: 0.6122846\ttotal: 65.7ms\tremaining: 2.12s\n",
            "30:\tlearn: 0.6105988\ttotal: 66.6ms\tremaining: 2.08s\n",
            "31:\tlearn: 0.6086768\ttotal: 69.1ms\tremaining: 2.09s\n",
            "32:\tlearn: 0.6065375\ttotal: 71.9ms\tremaining: 2.11s\n",
            "33:\tlearn: 0.6040389\ttotal: 74ms\tremaining: 2.1s\n",
            "34:\tlearn: 0.6025626\ttotal: 75ms\tremaining: 2.07s\n",
            "35:\tlearn: 0.6003649\ttotal: 77ms\tremaining: 2.06s\n",
            "36:\tlearn: 0.5983187\ttotal: 79.3ms\tremaining: 2.06s\n",
            "37:\tlearn: 0.5965463\ttotal: 80.9ms\tremaining: 2.05s\n",
            "38:\tlearn: 0.5949062\ttotal: 82.8ms\tremaining: 2.04s\n",
            "39:\tlearn: 0.5926761\ttotal: 84.6ms\tremaining: 2.03s\n",
            "40:\tlearn: 0.5908810\ttotal: 86.3ms\tremaining: 2.02s\n",
            "41:\tlearn: 0.5889974\ttotal: 87.9ms\tremaining: 2s\n",
            "42:\tlearn: 0.5870055\ttotal: 89.3ms\tremaining: 1.99s\n",
            "43:\tlearn: 0.5854615\ttotal: 90.6ms\tremaining: 1.97s\n",
            "44:\tlearn: 0.5833788\ttotal: 92.3ms\tremaining: 1.96s\n",
            "45:\tlearn: 0.5819361\ttotal: 94.2ms\tremaining: 1.95s\n",
            "46:\tlearn: 0.5801867\ttotal: 95.9ms\tremaining: 1.95s\n",
            "47:\tlearn: 0.5787066\ttotal: 98.7ms\tremaining: 1.96s\n",
            "48:\tlearn: 0.5770932\ttotal: 101ms\tremaining: 1.96s\n",
            "49:\tlearn: 0.5757070\ttotal: 103ms\tremaining: 1.96s\n",
            "50:\tlearn: 0.5742832\ttotal: 107ms\tremaining: 2s\n",
            "51:\tlearn: 0.5726124\ttotal: 109ms\tremaining: 1.99s\n",
            "52:\tlearn: 0.5709133\ttotal: 111ms\tremaining: 1.99s\n",
            "53:\tlearn: 0.5697186\ttotal: 113ms\tremaining: 1.98s\n",
            "54:\tlearn: 0.5676381\ttotal: 115ms\tremaining: 1.98s\n",
            "55:\tlearn: 0.5662185\ttotal: 117ms\tremaining: 1.98s\n",
            "56:\tlearn: 0.5646859\ttotal: 121ms\tremaining: 2s\n",
            "57:\tlearn: 0.5629556\ttotal: 124ms\tremaining: 2.01s\n",
            "58:\tlearn: 0.5614475\ttotal: 126ms\tremaining: 2s\n",
            "59:\tlearn: 0.5604164\ttotal: 127ms\tremaining: 1.99s\n",
            "60:\tlearn: 0.5589099\ttotal: 130ms\tremaining: 2.01s\n",
            "61:\tlearn: 0.5574219\ttotal: 133ms\tremaining: 2.01s\n",
            "62:\tlearn: 0.5561831\ttotal: 136ms\tremaining: 2.02s\n",
            "63:\tlearn: 0.5543506\ttotal: 137ms\tremaining: 2.01s\n",
            "64:\tlearn: 0.5523475\ttotal: 139ms\tremaining: 2.01s\n",
            "65:\tlearn: 0.5514434\ttotal: 141ms\tremaining: 1.99s\n",
            "66:\tlearn: 0.5506069\ttotal: 142ms\tremaining: 1.98s\n",
            "67:\tlearn: 0.5487961\ttotal: 144ms\tremaining: 1.97s\n",
            "68:\tlearn: 0.5469475\ttotal: 145ms\tremaining: 1.96s\n",
            "69:\tlearn: 0.5450471\ttotal: 148ms\tremaining: 1.96s\n",
            "70:\tlearn: 0.5433385\ttotal: 150ms\tremaining: 1.96s\n",
            "71:\tlearn: 0.5421575\ttotal: 152ms\tremaining: 1.95s\n",
            "72:\tlearn: 0.5408074\ttotal: 153ms\tremaining: 1.95s\n",
            "73:\tlearn: 0.5395688\ttotal: 155ms\tremaining: 1.95s\n",
            "74:\tlearn: 0.5381852\ttotal: 157ms\tremaining: 1.94s\n",
            "75:\tlearn: 0.5367337\ttotal: 160ms\tremaining: 1.94s\n",
            "76:\tlearn: 0.5356659\ttotal: 163ms\tremaining: 1.95s\n",
            "77:\tlearn: 0.5344828\ttotal: 165ms\tremaining: 1.95s\n",
            "78:\tlearn: 0.5326340\ttotal: 167ms\tremaining: 1.95s\n",
            "79:\tlearn: 0.5312693\ttotal: 169ms\tremaining: 1.94s\n",
            "80:\tlearn: 0.5297776\ttotal: 171ms\tremaining: 1.93s\n",
            "81:\tlearn: 0.5289896\ttotal: 172ms\tremaining: 1.93s\n",
            "82:\tlearn: 0.5283719\ttotal: 173ms\tremaining: 1.91s\n",
            "83:\tlearn: 0.5273280\ttotal: 176ms\tremaining: 1.92s\n",
            "84:\tlearn: 0.5263438\ttotal: 178ms\tremaining: 1.92s\n",
            "85:\tlearn: 0.5253978\ttotal: 180ms\tremaining: 1.91s\n",
            "86:\tlearn: 0.5243341\ttotal: 182ms\tremaining: 1.91s\n",
            "87:\tlearn: 0.5231947\ttotal: 185ms\tremaining: 1.92s\n",
            "88:\tlearn: 0.5221506\ttotal: 191ms\tremaining: 1.95s\n",
            "89:\tlearn: 0.5212052\ttotal: 194ms\tremaining: 1.96s\n",
            "90:\tlearn: 0.5205638\ttotal: 196ms\tremaining: 1.96s\n",
            "91:\tlearn: 0.5194063\ttotal: 198ms\tremaining: 1.96s\n",
            "92:\tlearn: 0.5183098\ttotal: 200ms\tremaining: 1.95s\n",
            "93:\tlearn: 0.5169924\ttotal: 203ms\tremaining: 1.96s\n",
            "94:\tlearn: 0.5159459\ttotal: 205ms\tremaining: 1.95s\n",
            "95:\tlearn: 0.5153178\ttotal: 207ms\tremaining: 1.95s\n",
            "96:\tlearn: 0.5140026\ttotal: 208ms\tremaining: 1.94s\n",
            "97:\tlearn: 0.5129737\ttotal: 211ms\tremaining: 1.94s\n",
            "98:\tlearn: 0.5124900\ttotal: 213ms\tremaining: 1.94s\n",
            "99:\tlearn: 0.5116287\ttotal: 218ms\tremaining: 1.96s\n",
            "100:\tlearn: 0.5111169\ttotal: 219ms\tremaining: 1.95s\n",
            "101:\tlearn: 0.5106287\ttotal: 221ms\tremaining: 1.94s\n",
            "102:\tlearn: 0.5094772\ttotal: 223ms\tremaining: 1.94s\n",
            "103:\tlearn: 0.5083103\ttotal: 225ms\tremaining: 1.94s\n",
            "104:\tlearn: 0.5073261\ttotal: 227ms\tremaining: 1.94s\n",
            "105:\tlearn: 0.5065708\ttotal: 230ms\tremaining: 1.94s\n",
            "106:\tlearn: 0.5056440\ttotal: 232ms\tremaining: 1.93s\n",
            "107:\tlearn: 0.5049289\ttotal: 234ms\tremaining: 1.93s\n",
            "108:\tlearn: 0.5040752\ttotal: 235ms\tremaining: 1.92s\n",
            "109:\tlearn: 0.5029231\ttotal: 237ms\tremaining: 1.92s\n",
            "110:\tlearn: 0.5021355\ttotal: 245ms\tremaining: 1.96s\n",
            "111:\tlearn: 0.5013067\ttotal: 252ms\tremaining: 1.99s\n",
            "112:\tlearn: 0.5005500\ttotal: 258ms\tremaining: 2.02s\n",
            "113:\tlearn: 0.4993308\ttotal: 260ms\tremaining: 2.02s\n",
            "114:\tlearn: 0.4986325\ttotal: 262ms\tremaining: 2.01s\n",
            "115:\tlearn: 0.4979636\ttotal: 264ms\tremaining: 2.01s\n",
            "116:\tlearn: 0.4968391\ttotal: 266ms\tremaining: 2.01s\n",
            "117:\tlearn: 0.4957016\ttotal: 269ms\tremaining: 2.01s\n",
            "118:\tlearn: 0.4950326\ttotal: 272ms\tremaining: 2.01s\n",
            "119:\tlearn: 0.4941338\ttotal: 274ms\tremaining: 2.01s\n",
            "120:\tlearn: 0.4934563\ttotal: 276ms\tremaining: 2s\n",
            "121:\tlearn: 0.4928142\ttotal: 278ms\tremaining: 2s\n",
            "122:\tlearn: 0.4922135\ttotal: 281ms\tremaining: 2s\n",
            "123:\tlearn: 0.4919015\ttotal: 283ms\tremaining: 2s\n",
            "124:\tlearn: 0.4911503\ttotal: 286ms\tremaining: 2s\n",
            "125:\tlearn: 0.4907992\ttotal: 288ms\tremaining: 2s\n",
            "126:\tlearn: 0.4901793\ttotal: 290ms\tremaining: 1.99s\n",
            "127:\tlearn: 0.4895130\ttotal: 291ms\tremaining: 1.98s\n",
            "128:\tlearn: 0.4890449\ttotal: 293ms\tremaining: 1.98s\n",
            "129:\tlearn: 0.4882206\ttotal: 294ms\tremaining: 1.97s\n",
            "130:\tlearn: 0.4874812\ttotal: 300ms\tremaining: 1.99s\n",
            "131:\tlearn: 0.4864583\ttotal: 302ms\tremaining: 1.99s\n",
            "132:\tlearn: 0.4857264\ttotal: 305ms\tremaining: 1.99s\n",
            "133:\tlearn: 0.4852170\ttotal: 308ms\tremaining: 1.99s\n",
            "134:\tlearn: 0.4849125\ttotal: 310ms\tremaining: 1.99s\n",
            "135:\tlearn: 0.4840367\ttotal: 313ms\tremaining: 1.99s\n",
            "136:\tlearn: 0.4832193\ttotal: 315ms\tremaining: 1.98s\n",
            "137:\tlearn: 0.4826076\ttotal: 317ms\tremaining: 1.98s\n",
            "138:\tlearn: 0.4819189\ttotal: 319ms\tremaining: 1.97s\n",
            "139:\tlearn: 0.4809625\ttotal: 321ms\tremaining: 1.97s\n",
            "140:\tlearn: 0.4802179\ttotal: 323ms\tremaining: 1.97s\n",
            "141:\tlearn: 0.4794614\ttotal: 327ms\tremaining: 1.97s\n",
            "142:\tlearn: 0.4787688\ttotal: 329ms\tremaining: 1.97s\n",
            "143:\tlearn: 0.4779697\ttotal: 331ms\tremaining: 1.97s\n",
            "144:\tlearn: 0.4775662\ttotal: 333ms\tremaining: 1.97s\n",
            "145:\tlearn: 0.4770110\ttotal: 335ms\tremaining: 1.96s\n",
            "146:\tlearn: 0.4763956\ttotal: 337ms\tremaining: 1.96s\n",
            "147:\tlearn: 0.4755890\ttotal: 340ms\tremaining: 1.96s\n",
            "148:\tlearn: 0.4749774\ttotal: 342ms\tremaining: 1.96s\n",
            "149:\tlearn: 0.4740610\ttotal: 345ms\tremaining: 1.95s\n",
            "150:\tlearn: 0.4733264\ttotal: 347ms\tremaining: 1.95s\n",
            "151:\tlearn: 0.4728285\ttotal: 348ms\tremaining: 1.94s\n",
            "152:\tlearn: 0.4721804\ttotal: 350ms\tremaining: 1.94s\n",
            "153:\tlearn: 0.4710868\ttotal: 352ms\tremaining: 1.93s\n",
            "154:\tlearn: 0.4705104\ttotal: 354ms\tremaining: 1.93s\n",
            "155:\tlearn: 0.4694863\ttotal: 358ms\tremaining: 1.94s\n",
            "156:\tlearn: 0.4689937\ttotal: 360ms\tremaining: 1.94s\n",
            "157:\tlearn: 0.4685697\ttotal: 363ms\tremaining: 1.93s\n",
            "158:\tlearn: 0.4678659\ttotal: 365ms\tremaining: 1.93s\n",
            "159:\tlearn: 0.4671678\ttotal: 372ms\tremaining: 1.95s\n",
            "160:\tlearn: 0.4666385\ttotal: 373ms\tremaining: 1.95s\n",
            "161:\tlearn: 0.4662347\ttotal: 375ms\tremaining: 1.94s\n",
            "162:\tlearn: 0.4659805\ttotal: 376ms\tremaining: 1.93s\n",
            "163:\tlearn: 0.4653136\ttotal: 379ms\tremaining: 1.93s\n",
            "164:\tlearn: 0.4647163\ttotal: 381ms\tremaining: 1.93s\n",
            "165:\tlearn: 0.4640041\ttotal: 383ms\tremaining: 1.92s\n",
            "166:\tlearn: 0.4634282\ttotal: 385ms\tremaining: 1.92s\n",
            "167:\tlearn: 0.4629508\ttotal: 387ms\tremaining: 1.92s\n",
            "168:\tlearn: 0.4618200\ttotal: 389ms\tremaining: 1.91s\n",
            "169:\tlearn: 0.4612812\ttotal: 391ms\tremaining: 1.91s\n",
            "170:\tlearn: 0.4608301\ttotal: 394ms\tremaining: 1.91s\n",
            "171:\tlearn: 0.4606130\ttotal: 395ms\tremaining: 1.9s\n",
            "172:\tlearn: 0.4598659\ttotal: 400ms\tremaining: 1.91s\n",
            "173:\tlearn: 0.4592960\ttotal: 403ms\tremaining: 1.91s\n",
            "174:\tlearn: 0.4585045\ttotal: 405ms\tremaining: 1.91s\n",
            "175:\tlearn: 0.4580973\ttotal: 408ms\tremaining: 1.91s\n",
            "176:\tlearn: 0.4575711\ttotal: 410ms\tremaining: 1.91s\n",
            "177:\tlearn: 0.4571040\ttotal: 414ms\tremaining: 1.91s\n",
            "178:\tlearn: 0.4565053\ttotal: 416ms\tremaining: 1.91s\n",
            "179:\tlearn: 0.4559759\ttotal: 418ms\tremaining: 1.9s\n",
            "180:\tlearn: 0.4553203\ttotal: 420ms\tremaining: 1.9s\n",
            "181:\tlearn: 0.4546323\ttotal: 421ms\tremaining: 1.89s\n",
            "182:\tlearn: 0.4542878\ttotal: 423ms\tremaining: 1.89s\n",
            "183:\tlearn: 0.4540948\ttotal: 425ms\tremaining: 1.88s\n",
            "184:\tlearn: 0.4537065\ttotal: 432ms\tremaining: 1.9s\n",
            "185:\tlearn: 0.4532025\ttotal: 434ms\tremaining: 1.9s\n",
            "186:\tlearn: 0.4522244\ttotal: 436ms\tremaining: 1.9s\n",
            "187:\tlearn: 0.4517937\ttotal: 438ms\tremaining: 1.89s\n",
            "188:\tlearn: 0.4513178\ttotal: 440ms\tremaining: 1.89s\n",
            "189:\tlearn: 0.4508458\ttotal: 443ms\tremaining: 1.89s\n",
            "190:\tlearn: 0.4504793\ttotal: 444ms\tremaining: 1.88s\n",
            "191:\tlearn: 0.4500270\ttotal: 446ms\tremaining: 1.88s\n",
            "192:\tlearn: 0.4495642\ttotal: 448ms\tremaining: 1.87s\n",
            "193:\tlearn: 0.4495275\ttotal: 448ms\tremaining: 1.86s\n",
            "194:\tlearn: 0.4489741\ttotal: 450ms\tremaining: 1.86s\n",
            "195:\tlearn: 0.4486162\ttotal: 452ms\tremaining: 1.85s\n",
            "196:\tlearn: 0.4478397\ttotal: 456ms\tremaining: 1.86s\n",
            "197:\tlearn: 0.4473950\ttotal: 459ms\tremaining: 1.86s\n",
            "198:\tlearn: 0.4467093\ttotal: 461ms\tremaining: 1.85s\n",
            "199:\tlearn: 0.4463113\ttotal: 463ms\tremaining: 1.85s\n",
            "200:\tlearn: 0.4459190\ttotal: 465ms\tremaining: 1.85s\n",
            "201:\tlearn: 0.4450093\ttotal: 467ms\tremaining: 1.84s\n",
            "202:\tlearn: 0.4444159\ttotal: 469ms\tremaining: 1.84s\n",
            "203:\tlearn: 0.4437881\ttotal: 470ms\tremaining: 1.83s\n",
            "204:\tlearn: 0.4434511\ttotal: 472ms\tremaining: 1.83s\n",
            "205:\tlearn: 0.4430292\ttotal: 474ms\tremaining: 1.83s\n",
            "206:\tlearn: 0.4427687\ttotal: 477ms\tremaining: 1.82s\n",
            "207:\tlearn: 0.4424074\ttotal: 479ms\tremaining: 1.82s\n",
            "208:\tlearn: 0.4419841\ttotal: 480ms\tremaining: 1.82s\n",
            "209:\tlearn: 0.4413087\ttotal: 482ms\tremaining: 1.81s\n",
            "210:\tlearn: 0.4403549\ttotal: 484ms\tremaining: 1.81s\n",
            "211:\tlearn: 0.4398627\ttotal: 487ms\tremaining: 1.81s\n",
            "212:\tlearn: 0.4393266\ttotal: 490ms\tremaining: 1.81s\n",
            "213:\tlearn: 0.4389900\ttotal: 492ms\tremaining: 1.81s\n",
            "214:\tlearn: 0.4385910\ttotal: 494ms\tremaining: 1.8s\n",
            "215:\tlearn: 0.4380819\ttotal: 496ms\tremaining: 1.8s\n",
            "216:\tlearn: 0.4378016\ttotal: 498ms\tremaining: 1.8s\n",
            "217:\tlearn: 0.4373581\ttotal: 500ms\tremaining: 1.79s\n",
            "218:\tlearn: 0.4370082\ttotal: 502ms\tremaining: 1.79s\n",
            "219:\tlearn: 0.4366180\ttotal: 504ms\tremaining: 1.79s\n",
            "220:\tlearn: 0.4365390\ttotal: 505ms\tremaining: 1.78s\n",
            "221:\tlearn: 0.4360493\ttotal: 507ms\tremaining: 1.77s\n",
            "222:\tlearn: 0.4353029\ttotal: 508ms\tremaining: 1.77s\n",
            "223:\tlearn: 0.4346772\ttotal: 510ms\tremaining: 1.77s\n",
            "224:\tlearn: 0.4341338\ttotal: 513ms\tremaining: 1.76s\n",
            "225:\tlearn: 0.4334968\ttotal: 515ms\tremaining: 1.76s\n",
            "226:\tlearn: 0.4330564\ttotal: 517ms\tremaining: 1.76s\n",
            "227:\tlearn: 0.4325431\ttotal: 518ms\tremaining: 1.75s\n",
            "228:\tlearn: 0.4319890\ttotal: 520ms\tremaining: 1.75s\n",
            "229:\tlearn: 0.4316898\ttotal: 523ms\tremaining: 1.75s\n",
            "230:\tlearn: 0.4311052\ttotal: 525ms\tremaining: 1.75s\n",
            "231:\tlearn: 0.4307431\ttotal: 527ms\tremaining: 1.74s\n",
            "232:\tlearn: 0.4304925\ttotal: 529ms\tremaining: 1.74s\n",
            "233:\tlearn: 0.4300876\ttotal: 530ms\tremaining: 1.74s\n",
            "234:\tlearn: 0.4298672\ttotal: 532ms\tremaining: 1.73s\n",
            "235:\tlearn: 0.4295992\ttotal: 536ms\tremaining: 1.73s\n",
            "236:\tlearn: 0.4290654\ttotal: 538ms\tremaining: 1.73s\n",
            "237:\tlearn: 0.4286269\ttotal: 539ms\tremaining: 1.73s\n",
            "238:\tlearn: 0.4282629\ttotal: 541ms\tremaining: 1.72s\n",
            "239:\tlearn: 0.4276304\ttotal: 543ms\tremaining: 1.72s\n",
            "240:\tlearn: 0.4271519\ttotal: 546ms\tremaining: 1.72s\n",
            "241:\tlearn: 0.4269109\ttotal: 547ms\tremaining: 1.71s\n",
            "242:\tlearn: 0.4266011\ttotal: 550ms\tremaining: 1.71s\n",
            "243:\tlearn: 0.4261172\ttotal: 552ms\tremaining: 1.71s\n",
            "244:\tlearn: 0.4257019\ttotal: 553ms\tremaining: 1.7s\n",
            "245:\tlearn: 0.4255718\ttotal: 555ms\tremaining: 1.7s\n",
            "246:\tlearn: 0.4251594\ttotal: 557ms\tremaining: 1.7s\n",
            "247:\tlearn: 0.4249700\ttotal: 559ms\tremaining: 1.7s\n",
            "248:\tlearn: 0.4241992\ttotal: 562ms\tremaining: 1.69s\n",
            "249:\tlearn: 0.4239393\ttotal: 565ms\tremaining: 1.69s\n",
            "250:\tlearn: 0.4233105\ttotal: 567ms\tremaining: 1.69s\n",
            "251:\tlearn: 0.4228485\ttotal: 569ms\tremaining: 1.69s\n",
            "252:\tlearn: 0.4224327\ttotal: 571ms\tremaining: 1.69s\n",
            "253:\tlearn: 0.4221241\ttotal: 573ms\tremaining: 1.68s\n",
            "254:\tlearn: 0.4216236\ttotal: 575ms\tremaining: 1.68s\n",
            "255:\tlearn: 0.4212631\ttotal: 579ms\tremaining: 1.68s\n",
            "256:\tlearn: 0.4210494\ttotal: 581ms\tremaining: 1.68s\n",
            "257:\tlearn: 0.4206498\ttotal: 584ms\tremaining: 1.68s\n",
            "258:\tlearn: 0.4202585\ttotal: 586ms\tremaining: 1.68s\n",
            "259:\tlearn: 0.4200199\ttotal: 587ms\tremaining: 1.67s\n",
            "260:\tlearn: 0.4197150\ttotal: 589ms\tremaining: 1.67s\n",
            "261:\tlearn: 0.4195432\ttotal: 591ms\tremaining: 1.66s\n",
            "262:\tlearn: 0.4190786\ttotal: 593ms\tremaining: 1.66s\n",
            "263:\tlearn: 0.4187020\ttotal: 594ms\tremaining: 1.66s\n",
            "264:\tlearn: 0.4185439\ttotal: 596ms\tremaining: 1.65s\n",
            "265:\tlearn: 0.4180084\ttotal: 598ms\tremaining: 1.65s\n",
            "266:\tlearn: 0.4176769\ttotal: 601ms\tremaining: 1.65s\n",
            "267:\tlearn: 0.4173835\ttotal: 602ms\tremaining: 1.65s\n",
            "268:\tlearn: 0.4170466\ttotal: 605ms\tremaining: 1.64s\n",
            "269:\tlearn: 0.4168598\ttotal: 606ms\tremaining: 1.64s\n",
            "270:\tlearn: 0.4167213\ttotal: 608ms\tremaining: 1.63s\n",
            "271:\tlearn: 0.4163586\ttotal: 609ms\tremaining: 1.63s\n",
            "272:\tlearn: 0.4162626\ttotal: 610ms\tremaining: 1.62s\n",
            "273:\tlearn: 0.4156972\ttotal: 613ms\tremaining: 1.62s\n",
            "274:\tlearn: 0.4151456\ttotal: 615ms\tremaining: 1.62s\n",
            "275:\tlearn: 0.4146642\ttotal: 616ms\tremaining: 1.62s\n",
            "276:\tlearn: 0.4142768\ttotal: 618ms\tremaining: 1.61s\n",
            "277:\tlearn: 0.4136701\ttotal: 620ms\tremaining: 1.61s\n",
            "278:\tlearn: 0.4136063\ttotal: 621ms\tremaining: 1.6s\n",
            "279:\tlearn: 0.4131341\ttotal: 622ms\tremaining: 1.6s\n",
            "280:\tlearn: 0.4125619\ttotal: 624ms\tremaining: 1.6s\n",
            "281:\tlearn: 0.4122012\ttotal: 626ms\tremaining: 1.59s\n",
            "282:\tlearn: 0.4121531\ttotal: 627ms\tremaining: 1.59s\n",
            "283:\tlearn: 0.4117764\ttotal: 629ms\tremaining: 1.58s\n",
            "284:\tlearn: 0.4113863\ttotal: 630ms\tremaining: 1.58s\n",
            "285:\tlearn: 0.4111256\ttotal: 632ms\tremaining: 1.58s\n",
            "286:\tlearn: 0.4105884\ttotal: 634ms\tremaining: 1.57s\n",
            "287:\tlearn: 0.4102050\ttotal: 636ms\tremaining: 1.57s\n",
            "288:\tlearn: 0.4098815\ttotal: 638ms\tremaining: 1.57s\n",
            "289:\tlearn: 0.4096606\ttotal: 640ms\tremaining: 1.57s\n",
            "290:\tlearn: 0.4093063\ttotal: 641ms\tremaining: 1.56s\n",
            "291:\tlearn: 0.4089140\ttotal: 643ms\tremaining: 1.56s\n",
            "292:\tlearn: 0.4086376\ttotal: 645ms\tremaining: 1.55s\n",
            "293:\tlearn: 0.4080822\ttotal: 646ms\tremaining: 1.55s\n",
            "294:\tlearn: 0.4077954\ttotal: 648ms\tremaining: 1.55s\n",
            "295:\tlearn: 0.4075450\ttotal: 650ms\tremaining: 1.55s\n",
            "296:\tlearn: 0.4071313\ttotal: 652ms\tremaining: 1.54s\n",
            "297:\tlearn: 0.4066760\ttotal: 654ms\tremaining: 1.54s\n",
            "298:\tlearn: 0.4063245\ttotal: 656ms\tremaining: 1.54s\n",
            "299:\tlearn: 0.4060519\ttotal: 658ms\tremaining: 1.53s\n",
            "300:\tlearn: 0.4057880\ttotal: 660ms\tremaining: 1.53s\n",
            "301:\tlearn: 0.4054931\ttotal: 662ms\tremaining: 1.53s\n",
            "302:\tlearn: 0.4050053\ttotal: 665ms\tremaining: 1.53s\n",
            "303:\tlearn: 0.4047124\ttotal: 669ms\tremaining: 1.53s\n",
            "304:\tlearn: 0.4041004\ttotal: 671ms\tremaining: 1.53s\n",
            "305:\tlearn: 0.4036214\ttotal: 676ms\tremaining: 1.53s\n",
            "306:\tlearn: 0.4035208\ttotal: 678ms\tremaining: 1.53s\n",
            "307:\tlearn: 0.4033452\ttotal: 681ms\tremaining: 1.53s\n",
            "308:\tlearn: 0.4029346\ttotal: 683ms\tremaining: 1.53s\n",
            "309:\tlearn: 0.4028284\ttotal: 686ms\tremaining: 1.53s\n",
            "310:\tlearn: 0.4027249\ttotal: 688ms\tremaining: 1.52s\n",
            "311:\tlearn: 0.4024511\ttotal: 690ms\tremaining: 1.52s\n",
            "312:\tlearn: 0.4020450\ttotal: 691ms\tremaining: 1.52s\n",
            "313:\tlearn: 0.4018026\ttotal: 694ms\tremaining: 1.52s\n",
            "314:\tlearn: 0.4014168\ttotal: 697ms\tremaining: 1.51s\n",
            "315:\tlearn: 0.4009181\ttotal: 699ms\tremaining: 1.51s\n",
            "316:\tlearn: 0.4006903\ttotal: 701ms\tremaining: 1.51s\n",
            "317:\tlearn: 0.4003643\ttotal: 703ms\tremaining: 1.51s\n",
            "318:\tlearn: 0.4000982\ttotal: 705ms\tremaining: 1.5s\n",
            "319:\tlearn: 0.3998165\ttotal: 706ms\tremaining: 1.5s\n",
            "320:\tlearn: 0.3992843\ttotal: 708ms\tremaining: 1.5s\n",
            "321:\tlearn: 0.3989264\ttotal: 709ms\tremaining: 1.49s\n",
            "322:\tlearn: 0.3986548\ttotal: 711ms\tremaining: 1.49s\n",
            "323:\tlearn: 0.3983027\ttotal: 717ms\tremaining: 1.5s\n",
            "324:\tlearn: 0.3980309\ttotal: 720ms\tremaining: 1.49s\n",
            "325:\tlearn: 0.3977940\ttotal: 722ms\tremaining: 1.49s\n",
            "326:\tlearn: 0.3975743\ttotal: 725ms\tremaining: 1.49s\n",
            "327:\tlearn: 0.3972293\ttotal: 728ms\tremaining: 1.49s\n",
            "328:\tlearn: 0.3968051\ttotal: 732ms\tremaining: 1.49s\n",
            "329:\tlearn: 0.3964529\ttotal: 734ms\tremaining: 1.49s\n",
            "330:\tlearn: 0.3961599\ttotal: 736ms\tremaining: 1.49s\n",
            "331:\tlearn: 0.3958191\ttotal: 737ms\tremaining: 1.48s\n",
            "332:\tlearn: 0.3953264\ttotal: 739ms\tremaining: 1.48s\n",
            "333:\tlearn: 0.3950510\ttotal: 741ms\tremaining: 1.48s\n",
            "334:\tlearn: 0.3946721\ttotal: 743ms\tremaining: 1.48s\n",
            "335:\tlearn: 0.3943574\ttotal: 745ms\tremaining: 1.47s\n",
            "336:\tlearn: 0.3939215\ttotal: 748ms\tremaining: 1.47s\n",
            "337:\tlearn: 0.3937734\ttotal: 750ms\tremaining: 1.47s\n",
            "338:\tlearn: 0.3935886\ttotal: 752ms\tremaining: 1.47s\n",
            "339:\tlearn: 0.3932126\ttotal: 755ms\tremaining: 1.46s\n",
            "340:\tlearn: 0.3930915\ttotal: 758ms\tremaining: 1.46s\n",
            "341:\tlearn: 0.3927768\ttotal: 762ms\tremaining: 1.47s\n",
            "342:\tlearn: 0.3924184\ttotal: 764ms\tremaining: 1.46s\n",
            "343:\tlearn: 0.3919368\ttotal: 766ms\tremaining: 1.46s\n",
            "344:\tlearn: 0.3916943\ttotal: 768ms\tremaining: 1.46s\n",
            "345:\tlearn: 0.3913437\ttotal: 770ms\tremaining: 1.45s\n",
            "346:\tlearn: 0.3910842\ttotal: 772ms\tremaining: 1.45s\n",
            "347:\tlearn: 0.3908419\ttotal: 774ms\tremaining: 1.45s\n",
            "348:\tlearn: 0.3902380\ttotal: 776ms\tremaining: 1.45s\n",
            "349:\tlearn: 0.3898773\ttotal: 778ms\tremaining: 1.45s\n",
            "350:\tlearn: 0.3896225\ttotal: 780ms\tremaining: 1.44s\n",
            "351:\tlearn: 0.3891790\ttotal: 781ms\tremaining: 1.44s\n",
            "352:\tlearn: 0.3891047\ttotal: 784ms\tremaining: 1.44s\n",
            "353:\tlearn: 0.3885673\ttotal: 787ms\tremaining: 1.44s\n",
            "354:\tlearn: 0.3882498\ttotal: 790ms\tremaining: 1.44s\n",
            "355:\tlearn: 0.3876651\ttotal: 793ms\tremaining: 1.43s\n",
            "356:\tlearn: 0.3873722\ttotal: 795ms\tremaining: 1.43s\n",
            "357:\tlearn: 0.3871814\ttotal: 797ms\tremaining: 1.43s\n",
            "358:\tlearn: 0.3869556\ttotal: 798ms\tremaining: 1.43s\n",
            "359:\tlearn: 0.3865853\ttotal: 800ms\tremaining: 1.42s\n",
            "360:\tlearn: 0.3863083\ttotal: 802ms\tremaining: 1.42s\n",
            "361:\tlearn: 0.3858561\ttotal: 804ms\tremaining: 1.42s\n",
            "362:\tlearn: 0.3856684\ttotal: 806ms\tremaining: 1.41s\n",
            "363:\tlearn: 0.3853151\ttotal: 807ms\tremaining: 1.41s\n",
            "364:\tlearn: 0.3851305\ttotal: 809ms\tremaining: 1.41s\n",
            "365:\tlearn: 0.3850373\ttotal: 811ms\tremaining: 1.41s\n",
            "366:\tlearn: 0.3846876\ttotal: 814ms\tremaining: 1.4s\n",
            "367:\tlearn: 0.3843421\ttotal: 816ms\tremaining: 1.4s\n",
            "368:\tlearn: 0.3840840\ttotal: 818ms\tremaining: 1.4s\n",
            "369:\tlearn: 0.3836212\ttotal: 821ms\tremaining: 1.4s\n",
            "370:\tlearn: 0.3835079\ttotal: 823ms\tremaining: 1.39s\n",
            "371:\tlearn: 0.3829868\ttotal: 824ms\tremaining: 1.39s\n",
            "372:\tlearn: 0.3825288\ttotal: 826ms\tremaining: 1.39s\n",
            "373:\tlearn: 0.3823112\ttotal: 828ms\tremaining: 1.39s\n",
            "374:\tlearn: 0.3818711\ttotal: 830ms\tremaining: 1.38s\n",
            "375:\tlearn: 0.3817303\ttotal: 833ms\tremaining: 1.38s\n",
            "376:\tlearn: 0.3815695\ttotal: 834ms\tremaining: 1.38s\n",
            "377:\tlearn: 0.3813805\ttotal: 836ms\tremaining: 1.38s\n",
            "378:\tlearn: 0.3812611\ttotal: 838ms\tremaining: 1.37s\n",
            "379:\tlearn: 0.3808700\ttotal: 840ms\tremaining: 1.37s\n",
            "380:\tlearn: 0.3806988\ttotal: 842ms\tremaining: 1.37s\n",
            "381:\tlearn: 0.3804467\ttotal: 845ms\tremaining: 1.37s\n",
            "382:\tlearn: 0.3802906\ttotal: 847ms\tremaining: 1.36s\n",
            "383:\tlearn: 0.3798197\ttotal: 849ms\tremaining: 1.36s\n",
            "384:\tlearn: 0.3794547\ttotal: 851ms\tremaining: 1.36s\n",
            "385:\tlearn: 0.3792661\ttotal: 853ms\tremaining: 1.36s\n",
            "386:\tlearn: 0.3788844\ttotal: 857ms\tremaining: 1.36s\n",
            "387:\tlearn: 0.3787162\ttotal: 859ms\tremaining: 1.35s\n",
            "388:\tlearn: 0.3782886\ttotal: 860ms\tremaining: 1.35s\n",
            "389:\tlearn: 0.3781052\ttotal: 862ms\tremaining: 1.35s\n",
            "390:\tlearn: 0.3779523\ttotal: 864ms\tremaining: 1.34s\n",
            "391:\tlearn: 0.3776065\ttotal: 866ms\tremaining: 1.34s\n",
            "392:\tlearn: 0.3773627\ttotal: 868ms\tremaining: 1.34s\n",
            "393:\tlearn: 0.3771549\ttotal: 871ms\tremaining: 1.34s\n",
            "394:\tlearn: 0.3766357\ttotal: 873ms\tremaining: 1.34s\n",
            "395:\tlearn: 0.3761998\ttotal: 875ms\tremaining: 1.33s\n",
            "396:\tlearn: 0.3759814\ttotal: 877ms\tremaining: 1.33s\n",
            "397:\tlearn: 0.3757728\ttotal: 879ms\tremaining: 1.33s\n",
            "398:\tlearn: 0.3753796\ttotal: 881ms\tremaining: 1.33s\n",
            "399:\tlearn: 0.3749225\ttotal: 883ms\tremaining: 1.32s\n",
            "400:\tlearn: 0.3744770\ttotal: 885ms\tremaining: 1.32s\n",
            "401:\tlearn: 0.3740160\ttotal: 887ms\tremaining: 1.32s\n",
            "402:\tlearn: 0.3736900\ttotal: 889ms\tremaining: 1.32s\n",
            "403:\tlearn: 0.3735204\ttotal: 891ms\tremaining: 1.31s\n",
            "404:\tlearn: 0.3733681\ttotal: 892ms\tremaining: 1.31s\n",
            "405:\tlearn: 0.3731445\ttotal: 894ms\tremaining: 1.31s\n",
            "406:\tlearn: 0.3730137\ttotal: 896ms\tremaining: 1.3s\n",
            "407:\tlearn: 0.3727120\ttotal: 897ms\tremaining: 1.3s\n",
            "408:\tlearn: 0.3724034\ttotal: 899ms\tremaining: 1.3s\n",
            "409:\tlearn: 0.3721029\ttotal: 901ms\tremaining: 1.3s\n",
            "410:\tlearn: 0.3718394\ttotal: 903ms\tremaining: 1.29s\n",
            "411:\tlearn: 0.3716398\ttotal: 904ms\tremaining: 1.29s\n",
            "412:\tlearn: 0.3715026\ttotal: 907ms\tremaining: 1.29s\n",
            "413:\tlearn: 0.3711916\ttotal: 909ms\tremaining: 1.29s\n",
            "414:\tlearn: 0.3709415\ttotal: 911ms\tremaining: 1.28s\n",
            "415:\tlearn: 0.3706893\ttotal: 913ms\tremaining: 1.28s\n",
            "416:\tlearn: 0.3705031\ttotal: 915ms\tremaining: 1.28s\n",
            "417:\tlearn: 0.3701431\ttotal: 917ms\tremaining: 1.28s\n",
            "418:\tlearn: 0.3698875\ttotal: 918ms\tremaining: 1.27s\n",
            "419:\tlearn: 0.3697346\ttotal: 920ms\tremaining: 1.27s\n",
            "420:\tlearn: 0.3694283\ttotal: 922ms\tremaining: 1.27s\n",
            "421:\tlearn: 0.3687929\ttotal: 924ms\tremaining: 1.26s\n",
            "422:\tlearn: 0.3685852\ttotal: 926ms\tremaining: 1.26s\n",
            "423:\tlearn: 0.3685622\ttotal: 927ms\tremaining: 1.26s\n",
            "424:\tlearn: 0.3681060\ttotal: 928ms\tremaining: 1.25s\n",
            "425:\tlearn: 0.3677457\ttotal: 930ms\tremaining: 1.25s\n",
            "426:\tlearn: 0.3676279\ttotal: 931ms\tremaining: 1.25s\n",
            "427:\tlearn: 0.3674964\ttotal: 934ms\tremaining: 1.25s\n",
            "428:\tlearn: 0.3672492\ttotal: 938ms\tremaining: 1.25s\n",
            "429:\tlearn: 0.3671433\ttotal: 939ms\tremaining: 1.24s\n",
            "430:\tlearn: 0.3671084\ttotal: 940ms\tremaining: 1.24s\n",
            "431:\tlearn: 0.3668436\ttotal: 942ms\tremaining: 1.24s\n",
            "432:\tlearn: 0.3666692\ttotal: 944ms\tremaining: 1.24s\n",
            "433:\tlearn: 0.3662680\ttotal: 946ms\tremaining: 1.23s\n",
            "434:\tlearn: 0.3660669\ttotal: 947ms\tremaining: 1.23s\n",
            "435:\tlearn: 0.3657024\ttotal: 949ms\tremaining: 1.23s\n",
            "436:\tlearn: 0.3654070\ttotal: 950ms\tremaining: 1.22s\n",
            "437:\tlearn: 0.3651906\ttotal: 952ms\tremaining: 1.22s\n",
            "438:\tlearn: 0.3649621\ttotal: 954ms\tremaining: 1.22s\n",
            "439:\tlearn: 0.3646999\ttotal: 957ms\tremaining: 1.22s\n",
            "440:\tlearn: 0.3643415\ttotal: 959ms\tremaining: 1.22s\n",
            "441:\tlearn: 0.3642861\ttotal: 961ms\tremaining: 1.21s\n",
            "442:\tlearn: 0.3638197\ttotal: 962ms\tremaining: 1.21s\n",
            "443:\tlearn: 0.3637465\ttotal: 964ms\tremaining: 1.21s\n",
            "444:\tlearn: 0.3635075\ttotal: 966ms\tremaining: 1.2s\n",
            "445:\tlearn: 0.3631589\ttotal: 968ms\tremaining: 1.2s\n",
            "446:\tlearn: 0.3628707\ttotal: 975ms\tremaining: 1.21s\n",
            "447:\tlearn: 0.3626253\ttotal: 977ms\tremaining: 1.2s\n",
            "448:\tlearn: 0.3622970\ttotal: 979ms\tremaining: 1.2s\n",
            "449:\tlearn: 0.3621488\ttotal: 980ms\tremaining: 1.2s\n",
            "450:\tlearn: 0.3619809\ttotal: 983ms\tremaining: 1.2s\n",
            "451:\tlearn: 0.3615660\ttotal: 985ms\tremaining: 1.19s\n",
            "452:\tlearn: 0.3613913\ttotal: 987ms\tremaining: 1.19s\n",
            "453:\tlearn: 0.3612648\ttotal: 989ms\tremaining: 1.19s\n",
            "454:\tlearn: 0.3610699\ttotal: 991ms\tremaining: 1.19s\n",
            "455:\tlearn: 0.3605625\ttotal: 993ms\tremaining: 1.18s\n",
            "456:\tlearn: 0.3603626\ttotal: 995ms\tremaining: 1.18s\n",
            "457:\tlearn: 0.3602052\ttotal: 997ms\tremaining: 1.18s\n",
            "458:\tlearn: 0.3597004\ttotal: 1s\tremaining: 1.18s\n",
            "459:\tlearn: 0.3594884\ttotal: 1.01s\tremaining: 1.18s\n",
            "460:\tlearn: 0.3592352\ttotal: 1.01s\tremaining: 1.18s\n",
            "461:\tlearn: 0.3587971\ttotal: 1.01s\tremaining: 1.18s\n",
            "462:\tlearn: 0.3586047\ttotal: 1.01s\tremaining: 1.17s\n",
            "463:\tlearn: 0.3585011\ttotal: 1.01s\tremaining: 1.17s\n",
            "464:\tlearn: 0.3583529\ttotal: 1.02s\tremaining: 1.17s\n",
            "465:\tlearn: 0.3579981\ttotal: 1.02s\tremaining: 1.17s\n",
            "466:\tlearn: 0.3579261\ttotal: 1.02s\tremaining: 1.17s\n",
            "467:\tlearn: 0.3576970\ttotal: 1.03s\tremaining: 1.17s\n",
            "468:\tlearn: 0.3575620\ttotal: 1.03s\tremaining: 1.17s\n",
            "469:\tlearn: 0.3575463\ttotal: 1.04s\tremaining: 1.17s\n",
            "470:\tlearn: 0.3574030\ttotal: 1.04s\tremaining: 1.17s\n",
            "471:\tlearn: 0.3568912\ttotal: 1.04s\tremaining: 1.16s\n",
            "472:\tlearn: 0.3566879\ttotal: 1.04s\tremaining: 1.16s\n",
            "473:\tlearn: 0.3564638\ttotal: 1.04s\tremaining: 1.16s\n",
            "474:\tlearn: 0.3560655\ttotal: 1.05s\tremaining: 1.16s\n",
            "475:\tlearn: 0.3557159\ttotal: 1.05s\tremaining: 1.16s\n",
            "476:\tlearn: 0.3555787\ttotal: 1.05s\tremaining: 1.15s\n",
            "477:\tlearn: 0.3554025\ttotal: 1.05s\tremaining: 1.15s\n",
            "478:\tlearn: 0.3549110\ttotal: 1.06s\tremaining: 1.15s\n",
            "479:\tlearn: 0.3547002\ttotal: 1.06s\tremaining: 1.15s\n",
            "480:\tlearn: 0.3546192\ttotal: 1.06s\tremaining: 1.15s\n",
            "481:\tlearn: 0.3543365\ttotal: 1.06s\tremaining: 1.15s\n",
            "482:\tlearn: 0.3541755\ttotal: 1.07s\tremaining: 1.14s\n",
            "483:\tlearn: 0.3539559\ttotal: 1.07s\tremaining: 1.14s\n",
            "484:\tlearn: 0.3537802\ttotal: 1.07s\tremaining: 1.14s\n",
            "485:\tlearn: 0.3531472\ttotal: 1.07s\tremaining: 1.13s\n",
            "486:\tlearn: 0.3529161\ttotal: 1.07s\tremaining: 1.13s\n",
            "487:\tlearn: 0.3527369\ttotal: 1.08s\tremaining: 1.13s\n",
            "488:\tlearn: 0.3524860\ttotal: 1.08s\tremaining: 1.13s\n",
            "489:\tlearn: 0.3522038\ttotal: 1.08s\tremaining: 1.12s\n",
            "490:\tlearn: 0.3517955\ttotal: 1.08s\tremaining: 1.12s\n",
            "491:\tlearn: 0.3514792\ttotal: 1.08s\tremaining: 1.12s\n",
            "492:\tlearn: 0.3511916\ttotal: 1.09s\tremaining: 1.12s\n",
            "493:\tlearn: 0.3509438\ttotal: 1.09s\tremaining: 1.11s\n",
            "494:\tlearn: 0.3506404\ttotal: 1.09s\tremaining: 1.11s\n",
            "495:\tlearn: 0.3505523\ttotal: 1.09s\tremaining: 1.11s\n",
            "496:\tlearn: 0.3504808\ttotal: 1.09s\tremaining: 1.11s\n",
            "497:\tlearn: 0.3503205\ttotal: 1.1s\tremaining: 1.1s\n",
            "498:\tlearn: 0.3502648\ttotal: 1.1s\tremaining: 1.1s\n",
            "499:\tlearn: 0.3499654\ttotal: 1.1s\tremaining: 1.1s\n",
            "500:\tlearn: 0.3497212\ttotal: 1.1s\tremaining: 1.1s\n",
            "501:\tlearn: 0.3494844\ttotal: 1.1s\tremaining: 1.09s\n",
            "502:\tlearn: 0.3492466\ttotal: 1.11s\tremaining: 1.09s\n",
            "503:\tlearn: 0.3490221\ttotal: 1.11s\tremaining: 1.09s\n",
            "504:\tlearn: 0.3488169\ttotal: 1.11s\tremaining: 1.09s\n",
            "505:\tlearn: 0.3486490\ttotal: 1.11s\tremaining: 1.09s\n",
            "506:\tlearn: 0.3482909\ttotal: 1.12s\tremaining: 1.09s\n",
            "507:\tlearn: 0.3479962\ttotal: 1.12s\tremaining: 1.08s\n",
            "508:\tlearn: 0.3478544\ttotal: 1.12s\tremaining: 1.08s\n",
            "509:\tlearn: 0.3477376\ttotal: 1.12s\tremaining: 1.08s\n",
            "510:\tlearn: 0.3475761\ttotal: 1.13s\tremaining: 1.08s\n",
            "511:\tlearn: 0.3473746\ttotal: 1.13s\tremaining: 1.07s\n",
            "512:\tlearn: 0.3473102\ttotal: 1.13s\tremaining: 1.07s\n",
            "513:\tlearn: 0.3469814\ttotal: 1.13s\tremaining: 1.07s\n",
            "514:\tlearn: 0.3468331\ttotal: 1.13s\tremaining: 1.07s\n",
            "515:\tlearn: 0.3464154\ttotal: 1.14s\tremaining: 1.06s\n",
            "516:\tlearn: 0.3462951\ttotal: 1.14s\tremaining: 1.06s\n",
            "517:\tlearn: 0.3461290\ttotal: 1.14s\tremaining: 1.06s\n",
            "518:\tlearn: 0.3458295\ttotal: 1.14s\tremaining: 1.06s\n",
            "519:\tlearn: 0.3456790\ttotal: 1.14s\tremaining: 1.05s\n",
            "520:\tlearn: 0.3454397\ttotal: 1.15s\tremaining: 1.05s\n",
            "521:\tlearn: 0.3450623\ttotal: 1.15s\tremaining: 1.05s\n",
            "522:\tlearn: 0.3447786\ttotal: 1.15s\tremaining: 1.05s\n",
            "523:\tlearn: 0.3446690\ttotal: 1.16s\tremaining: 1.05s\n",
            "524:\tlearn: 0.3443733\ttotal: 1.16s\tremaining: 1.05s\n",
            "525:\tlearn: 0.3440035\ttotal: 1.16s\tremaining: 1.04s\n",
            "526:\tlearn: 0.3436913\ttotal: 1.16s\tremaining: 1.04s\n",
            "527:\tlearn: 0.3433522\ttotal: 1.16s\tremaining: 1.04s\n",
            "528:\tlearn: 0.3431119\ttotal: 1.16s\tremaining: 1.04s\n",
            "529:\tlearn: 0.3429595\ttotal: 1.17s\tremaining: 1.03s\n",
            "530:\tlearn: 0.3427651\ttotal: 1.17s\tremaining: 1.03s\n",
            "531:\tlearn: 0.3423696\ttotal: 1.17s\tremaining: 1.03s\n",
            "532:\tlearn: 0.3422767\ttotal: 1.17s\tremaining: 1.03s\n",
            "533:\tlearn: 0.3419659\ttotal: 1.17s\tremaining: 1.02s\n",
            "534:\tlearn: 0.3418782\ttotal: 1.18s\tremaining: 1.02s\n",
            "535:\tlearn: 0.3416957\ttotal: 1.18s\tremaining: 1.02s\n",
            "536:\tlearn: 0.3415615\ttotal: 1.18s\tremaining: 1.02s\n",
            "537:\tlearn: 0.3414021\ttotal: 1.18s\tremaining: 1.02s\n",
            "538:\tlearn: 0.3412671\ttotal: 1.19s\tremaining: 1.01s\n",
            "539:\tlearn: 0.3411418\ttotal: 1.19s\tremaining: 1.01s\n",
            "540:\tlearn: 0.3410810\ttotal: 1.19s\tremaining: 1.01s\n",
            "541:\tlearn: 0.3407575\ttotal: 1.19s\tremaining: 1.01s\n",
            "542:\tlearn: 0.3403949\ttotal: 1.19s\tremaining: 1s\n",
            "543:\tlearn: 0.3402177\ttotal: 1.2s\tremaining: 1s\n",
            "544:\tlearn: 0.3400213\ttotal: 1.2s\tremaining: 1s\n",
            "545:\tlearn: 0.3398296\ttotal: 1.22s\tremaining: 1.01s\n",
            "546:\tlearn: 0.3395187\ttotal: 1.22s\tremaining: 1.01s\n",
            "547:\tlearn: 0.3393566\ttotal: 1.23s\tremaining: 1.02s\n",
            "548:\tlearn: 0.3391061\ttotal: 1.24s\tremaining: 1.02s\n",
            "549:\tlearn: 0.3389016\ttotal: 1.25s\tremaining: 1.02s\n",
            "550:\tlearn: 0.3385971\ttotal: 1.25s\tremaining: 1.02s\n",
            "551:\tlearn: 0.3381014\ttotal: 1.25s\tremaining: 1.01s\n",
            "552:\tlearn: 0.3378401\ttotal: 1.25s\tremaining: 1.01s\n",
            "553:\tlearn: 0.3376973\ttotal: 1.25s\tremaining: 1.01s\n",
            "554:\tlearn: 0.3374055\ttotal: 1.25s\tremaining: 1.01s\n",
            "555:\tlearn: 0.3370486\ttotal: 1.26s\tremaining: 1s\n",
            "556:\tlearn: 0.3369174\ttotal: 1.26s\tremaining: 1s\n",
            "557:\tlearn: 0.3367417\ttotal: 1.26s\tremaining: 999ms\n",
            "558:\tlearn: 0.3363726\ttotal: 1.26s\tremaining: 997ms\n",
            "559:\tlearn: 0.3362983\ttotal: 1.27s\tremaining: 996ms\n",
            "560:\tlearn: 0.3358562\ttotal: 1.27s\tremaining: 993ms\n",
            "561:\tlearn: 0.3356575\ttotal: 1.27s\tremaining: 992ms\n",
            "562:\tlearn: 0.3354398\ttotal: 1.28s\tremaining: 992ms\n",
            "563:\tlearn: 0.3351880\ttotal: 1.28s\tremaining: 989ms\n",
            "564:\tlearn: 0.3347285\ttotal: 1.28s\tremaining: 987ms\n",
            "565:\tlearn: 0.3344609\ttotal: 1.28s\tremaining: 984ms\n",
            "566:\tlearn: 0.3341347\ttotal: 1.28s\tremaining: 982ms\n",
            "567:\tlearn: 0.3338341\ttotal: 1.29s\tremaining: 979ms\n",
            "568:\tlearn: 0.3336818\ttotal: 1.29s\tremaining: 976ms\n",
            "569:\tlearn: 0.3335987\ttotal: 1.29s\tremaining: 974ms\n",
            "570:\tlearn: 0.3332718\ttotal: 1.29s\tremaining: 971ms\n",
            "571:\tlearn: 0.3331331\ttotal: 1.29s\tremaining: 968ms\n",
            "572:\tlearn: 0.3328329\ttotal: 1.29s\tremaining: 965ms\n",
            "573:\tlearn: 0.3326182\ttotal: 1.3s\tremaining: 963ms\n",
            "574:\tlearn: 0.3323380\ttotal: 1.3s\tremaining: 960ms\n",
            "575:\tlearn: 0.3321622\ttotal: 1.3s\tremaining: 958ms\n",
            "576:\tlearn: 0.3320199\ttotal: 1.3s\tremaining: 955ms\n",
            "577:\tlearn: 0.3319031\ttotal: 1.3s\tremaining: 953ms\n",
            "578:\tlearn: 0.3317144\ttotal: 1.31s\tremaining: 950ms\n",
            "579:\tlearn: 0.3314480\ttotal: 1.31s\tremaining: 948ms\n",
            "580:\tlearn: 0.3311775\ttotal: 1.31s\tremaining: 945ms\n",
            "581:\tlearn: 0.3310204\ttotal: 1.31s\tremaining: 942ms\n",
            "582:\tlearn: 0.3308639\ttotal: 1.31s\tremaining: 940ms\n",
            "583:\tlearn: 0.3304800\ttotal: 1.31s\tremaining: 937ms\n",
            "584:\tlearn: 0.3304548\ttotal: 1.32s\tremaining: 934ms\n",
            "585:\tlearn: 0.3303699\ttotal: 1.32s\tremaining: 933ms\n",
            "586:\tlearn: 0.3301871\ttotal: 1.32s\tremaining: 931ms\n",
            "587:\tlearn: 0.3298318\ttotal: 1.32s\tremaining: 928ms\n",
            "588:\tlearn: 0.3296716\ttotal: 1.33s\tremaining: 926ms\n",
            "589:\tlearn: 0.3293559\ttotal: 1.33s\tremaining: 923ms\n",
            "590:\tlearn: 0.3291459\ttotal: 1.33s\tremaining: 920ms\n",
            "591:\tlearn: 0.3288915\ttotal: 1.33s\tremaining: 918ms\n",
            "592:\tlearn: 0.3285926\ttotal: 1.33s\tremaining: 916ms\n",
            "593:\tlearn: 0.3285581\ttotal: 1.33s\tremaining: 913ms\n",
            "594:\tlearn: 0.3283928\ttotal: 1.34s\tremaining: 910ms\n",
            "595:\tlearn: 0.3281998\ttotal: 1.34s\tremaining: 907ms\n",
            "596:\tlearn: 0.3280235\ttotal: 1.34s\tremaining: 904ms\n",
            "597:\tlearn: 0.3278487\ttotal: 1.34s\tremaining: 902ms\n",
            "598:\tlearn: 0.3277874\ttotal: 1.34s\tremaining: 899ms\n",
            "599:\tlearn: 0.3277026\ttotal: 1.34s\tremaining: 897ms\n",
            "600:\tlearn: 0.3274750\ttotal: 1.35s\tremaining: 895ms\n",
            "601:\tlearn: 0.3271690\ttotal: 1.35s\tremaining: 892ms\n",
            "602:\tlearn: 0.3269774\ttotal: 1.35s\tremaining: 890ms\n",
            "603:\tlearn: 0.3267660\ttotal: 1.35s\tremaining: 887ms\n",
            "604:\tlearn: 0.3266204\ttotal: 1.35s\tremaining: 885ms\n",
            "605:\tlearn: 0.3265147\ttotal: 1.36s\tremaining: 883ms\n",
            "606:\tlearn: 0.3264027\ttotal: 1.36s\tremaining: 880ms\n",
            "607:\tlearn: 0.3261089\ttotal: 1.36s\tremaining: 878ms\n",
            "608:\tlearn: 0.3259780\ttotal: 1.36s\tremaining: 876ms\n",
            "609:\tlearn: 0.3258378\ttotal: 1.37s\tremaining: 873ms\n",
            "610:\tlearn: 0.3256731\ttotal: 1.37s\tremaining: 871ms\n",
            "611:\tlearn: 0.3252957\ttotal: 1.37s\tremaining: 868ms\n",
            "612:\tlearn: 0.3251689\ttotal: 1.37s\tremaining: 866ms\n",
            "613:\tlearn: 0.3249401\ttotal: 1.37s\tremaining: 863ms\n",
            "614:\tlearn: 0.3248319\ttotal: 1.38s\tremaining: 861ms\n",
            "615:\tlearn: 0.3246884\ttotal: 1.38s\tremaining: 859ms\n",
            "616:\tlearn: 0.3244325\ttotal: 1.38s\tremaining: 857ms\n",
            "617:\tlearn: 0.3240828\ttotal: 1.38s\tremaining: 854ms\n",
            "618:\tlearn: 0.3240041\ttotal: 1.38s\tremaining: 852ms\n",
            "619:\tlearn: 0.3237324\ttotal: 1.39s\tremaining: 849ms\n",
            "620:\tlearn: 0.3235632\ttotal: 1.39s\tremaining: 847ms\n",
            "621:\tlearn: 0.3233775\ttotal: 1.39s\tremaining: 844ms\n",
            "622:\tlearn: 0.3232376\ttotal: 1.39s\tremaining: 842ms\n",
            "623:\tlearn: 0.3229349\ttotal: 1.39s\tremaining: 840ms\n",
            "624:\tlearn: 0.3227744\ttotal: 1.4s\tremaining: 837ms\n",
            "625:\tlearn: 0.3224393\ttotal: 1.4s\tremaining: 835ms\n",
            "626:\tlearn: 0.3221559\ttotal: 1.4s\tremaining: 833ms\n",
            "627:\tlearn: 0.3218894\ttotal: 1.4s\tremaining: 830ms\n",
            "628:\tlearn: 0.3217999\ttotal: 1.4s\tremaining: 827ms\n",
            "629:\tlearn: 0.3216407\ttotal: 1.4s\tremaining: 825ms\n",
            "630:\tlearn: 0.3213156\ttotal: 1.41s\tremaining: 822ms\n",
            "631:\tlearn: 0.3211595\ttotal: 1.41s\tremaining: 820ms\n",
            "632:\tlearn: 0.3208711\ttotal: 1.41s\tremaining: 818ms\n",
            "633:\tlearn: 0.3204445\ttotal: 1.41s\tremaining: 815ms\n",
            "634:\tlearn: 0.3203438\ttotal: 1.41s\tremaining: 812ms\n",
            "635:\tlearn: 0.3198911\ttotal: 1.42s\tremaining: 810ms\n",
            "636:\tlearn: 0.3197898\ttotal: 1.42s\tremaining: 808ms\n",
            "637:\tlearn: 0.3197302\ttotal: 1.42s\tremaining: 806ms\n",
            "638:\tlearn: 0.3196435\ttotal: 1.42s\tremaining: 803ms\n",
            "639:\tlearn: 0.3194580\ttotal: 1.42s\tremaining: 801ms\n",
            "640:\tlearn: 0.3193090\ttotal: 1.43s\tremaining: 798ms\n",
            "641:\tlearn: 0.3189729\ttotal: 1.43s\tremaining: 796ms\n",
            "642:\tlearn: 0.3188705\ttotal: 1.43s\tremaining: 793ms\n",
            "643:\tlearn: 0.3187028\ttotal: 1.43s\tremaining: 790ms\n",
            "644:\tlearn: 0.3183516\ttotal: 1.43s\tremaining: 788ms\n",
            "645:\tlearn: 0.3181045\ttotal: 1.43s\tremaining: 786ms\n",
            "646:\tlearn: 0.3179340\ttotal: 1.44s\tremaining: 784ms\n",
            "647:\tlearn: 0.3178233\ttotal: 1.44s\tremaining: 781ms\n",
            "648:\tlearn: 0.3177200\ttotal: 1.44s\tremaining: 779ms\n",
            "649:\tlearn: 0.3174879\ttotal: 1.44s\tremaining: 776ms\n",
            "650:\tlearn: 0.3173620\ttotal: 1.44s\tremaining: 774ms\n",
            "651:\tlearn: 0.3170227\ttotal: 1.44s\tremaining: 771ms\n",
            "652:\tlearn: 0.3169802\ttotal: 1.45s\tremaining: 768ms\n",
            "653:\tlearn: 0.3169136\ttotal: 1.45s\tremaining: 767ms\n",
            "654:\tlearn: 0.3165232\ttotal: 1.45s\tremaining: 765ms\n",
            "655:\tlearn: 0.3164775\ttotal: 1.45s\tremaining: 763ms\n",
            "656:\tlearn: 0.3162401\ttotal: 1.46s\tremaining: 760ms\n",
            "657:\tlearn: 0.3161666\ttotal: 1.46s\tremaining: 758ms\n",
            "658:\tlearn: 0.3160041\ttotal: 1.46s\tremaining: 755ms\n",
            "659:\tlearn: 0.3158063\ttotal: 1.46s\tremaining: 753ms\n",
            "660:\tlearn: 0.3156866\ttotal: 1.46s\tremaining: 750ms\n",
            "661:\tlearn: 0.3153626\ttotal: 1.46s\tremaining: 748ms\n",
            "662:\tlearn: 0.3152621\ttotal: 1.47s\tremaining: 745ms\n",
            "663:\tlearn: 0.3151288\ttotal: 1.47s\tremaining: 743ms\n",
            "664:\tlearn: 0.3150105\ttotal: 1.47s\tremaining: 740ms\n",
            "665:\tlearn: 0.3147582\ttotal: 1.47s\tremaining: 738ms\n",
            "666:\tlearn: 0.3144310\ttotal: 1.47s\tremaining: 735ms\n",
            "667:\tlearn: 0.3141995\ttotal: 1.47s\tremaining: 733ms\n",
            "668:\tlearn: 0.3139970\ttotal: 1.48s\tremaining: 731ms\n",
            "669:\tlearn: 0.3137562\ttotal: 1.48s\tremaining: 729ms\n",
            "670:\tlearn: 0.3136531\ttotal: 1.48s\tremaining: 727ms\n",
            "671:\tlearn: 0.3135487\ttotal: 1.48s\tremaining: 724ms\n",
            "672:\tlearn: 0.3134551\ttotal: 1.49s\tremaining: 722ms\n",
            "673:\tlearn: 0.3130907\ttotal: 1.49s\tremaining: 719ms\n",
            "674:\tlearn: 0.3129531\ttotal: 1.49s\tremaining: 717ms\n",
            "675:\tlearn: 0.3126262\ttotal: 1.49s\tremaining: 715ms\n",
            "676:\tlearn: 0.3125601\ttotal: 1.49s\tremaining: 713ms\n",
            "677:\tlearn: 0.3123395\ttotal: 1.5s\tremaining: 710ms\n",
            "678:\tlearn: 0.3122222\ttotal: 1.5s\tremaining: 708ms\n",
            "679:\tlearn: 0.3120814\ttotal: 1.5s\tremaining: 705ms\n",
            "680:\tlearn: 0.3118784\ttotal: 1.5s\tremaining: 703ms\n",
            "681:\tlearn: 0.3117036\ttotal: 1.5s\tremaining: 700ms\n",
            "682:\tlearn: 0.3115107\ttotal: 1.5s\tremaining: 698ms\n",
            "683:\tlearn: 0.3113340\ttotal: 1.51s\tremaining: 696ms\n",
            "684:\tlearn: 0.3112006\ttotal: 1.51s\tremaining: 694ms\n",
            "685:\tlearn: 0.3110295\ttotal: 1.51s\tremaining: 692ms\n",
            "686:\tlearn: 0.3109458\ttotal: 1.51s\tremaining: 690ms\n",
            "687:\tlearn: 0.3108159\ttotal: 1.51s\tremaining: 687ms\n",
            "688:\tlearn: 0.3106075\ttotal: 1.52s\tremaining: 685ms\n",
            "689:\tlearn: 0.3104268\ttotal: 1.52s\tremaining: 683ms\n",
            "690:\tlearn: 0.3103023\ttotal: 1.52s\tremaining: 680ms\n",
            "691:\tlearn: 0.3100839\ttotal: 1.52s\tremaining: 678ms\n",
            "692:\tlearn: 0.3100069\ttotal: 1.52s\tremaining: 676ms\n",
            "693:\tlearn: 0.3098104\ttotal: 1.53s\tremaining: 673ms\n",
            "694:\tlearn: 0.3096740\ttotal: 1.53s\tremaining: 671ms\n",
            "695:\tlearn: 0.3096633\ttotal: 1.53s\tremaining: 668ms\n",
            "696:\tlearn: 0.3096085\ttotal: 1.53s\tremaining: 665ms\n",
            "697:\tlearn: 0.3095011\ttotal: 1.53s\tremaining: 663ms\n",
            "698:\tlearn: 0.3093629\ttotal: 1.53s\tremaining: 661ms\n",
            "699:\tlearn: 0.3092389\ttotal: 1.54s\tremaining: 659ms\n",
            "700:\tlearn: 0.3091202\ttotal: 1.54s\tremaining: 657ms\n",
            "701:\tlearn: 0.3089887\ttotal: 1.54s\tremaining: 655ms\n",
            "702:\tlearn: 0.3088078\ttotal: 1.55s\tremaining: 653ms\n",
            "703:\tlearn: 0.3086852\ttotal: 1.56s\tremaining: 657ms\n",
            "704:\tlearn: 0.3084488\ttotal: 1.56s\tremaining: 654ms\n",
            "705:\tlearn: 0.3083261\ttotal: 1.56s\tremaining: 652ms\n",
            "706:\tlearn: 0.3080753\ttotal: 1.57s\tremaining: 649ms\n",
            "707:\tlearn: 0.3079138\ttotal: 1.57s\tremaining: 647ms\n",
            "708:\tlearn: 0.3077215\ttotal: 1.57s\tremaining: 645ms\n",
            "709:\tlearn: 0.3076114\ttotal: 1.57s\tremaining: 642ms\n",
            "710:\tlearn: 0.3074206\ttotal: 1.57s\tremaining: 640ms\n",
            "711:\tlearn: 0.3073314\ttotal: 1.57s\tremaining: 637ms\n",
            "712:\tlearn: 0.3072360\ttotal: 1.58s\tremaining: 635ms\n",
            "713:\tlearn: 0.3071023\ttotal: 1.58s\tremaining: 633ms\n",
            "714:\tlearn: 0.3069767\ttotal: 1.58s\tremaining: 630ms\n",
            "715:\tlearn: 0.3067572\ttotal: 1.58s\tremaining: 628ms\n",
            "716:\tlearn: 0.3066163\ttotal: 1.58s\tremaining: 626ms\n",
            "717:\tlearn: 0.3063478\ttotal: 1.59s\tremaining: 623ms\n",
            "718:\tlearn: 0.3062541\ttotal: 1.59s\tremaining: 621ms\n",
            "719:\tlearn: 0.3061251\ttotal: 1.59s\tremaining: 619ms\n",
            "720:\tlearn: 0.3060193\ttotal: 1.59s\tremaining: 616ms\n",
            "721:\tlearn: 0.3058776\ttotal: 1.59s\tremaining: 614ms\n",
            "722:\tlearn: 0.3055923\ttotal: 1.6s\tremaining: 612ms\n",
            "723:\tlearn: 0.3054581\ttotal: 1.6s\tremaining: 610ms\n",
            "724:\tlearn: 0.3052462\ttotal: 1.6s\tremaining: 607ms\n",
            "725:\tlearn: 0.3050516\ttotal: 1.6s\tremaining: 605ms\n",
            "726:\tlearn: 0.3049695\ttotal: 1.6s\tremaining: 603ms\n",
            "727:\tlearn: 0.3047462\ttotal: 1.61s\tremaining: 600ms\n",
            "728:\tlearn: 0.3045117\ttotal: 1.61s\tremaining: 598ms\n",
            "729:\tlearn: 0.3041850\ttotal: 1.61s\tremaining: 596ms\n",
            "730:\tlearn: 0.3038984\ttotal: 1.61s\tremaining: 593ms\n",
            "731:\tlearn: 0.3036680\ttotal: 1.61s\tremaining: 591ms\n",
            "732:\tlearn: 0.3033890\ttotal: 1.61s\tremaining: 589ms\n",
            "733:\tlearn: 0.3032473\ttotal: 1.62s\tremaining: 587ms\n",
            "734:\tlearn: 0.3030118\ttotal: 1.62s\tremaining: 584ms\n",
            "735:\tlearn: 0.3029454\ttotal: 1.62s\tremaining: 582ms\n",
            "736:\tlearn: 0.3026986\ttotal: 1.62s\tremaining: 580ms\n",
            "737:\tlearn: 0.3025800\ttotal: 1.63s\tremaining: 578ms\n",
            "738:\tlearn: 0.3023190\ttotal: 1.63s\tremaining: 576ms\n",
            "739:\tlearn: 0.3021981\ttotal: 1.63s\tremaining: 574ms\n",
            "740:\tlearn: 0.3021000\ttotal: 1.63s\tremaining: 571ms\n",
            "741:\tlearn: 0.3019112\ttotal: 1.64s\tremaining: 569ms\n",
            "742:\tlearn: 0.3017002\ttotal: 1.64s\tremaining: 567ms\n",
            "743:\tlearn: 0.3014633\ttotal: 1.64s\tremaining: 564ms\n",
            "744:\tlearn: 0.3013658\ttotal: 1.64s\tremaining: 562ms\n",
            "745:\tlearn: 0.3012143\ttotal: 1.64s\tremaining: 560ms\n",
            "746:\tlearn: 0.3010706\ttotal: 1.65s\tremaining: 557ms\n",
            "747:\tlearn: 0.3009721\ttotal: 1.65s\tremaining: 555ms\n",
            "748:\tlearn: 0.3006689\ttotal: 1.65s\tremaining: 553ms\n",
            "749:\tlearn: 0.3005563\ttotal: 1.65s\tremaining: 551ms\n",
            "750:\tlearn: 0.3005242\ttotal: 1.65s\tremaining: 548ms\n",
            "751:\tlearn: 0.3003901\ttotal: 1.66s\tremaining: 546ms\n",
            "752:\tlearn: 0.3002269\ttotal: 1.66s\tremaining: 543ms\n",
            "753:\tlearn: 0.3000110\ttotal: 1.66s\tremaining: 541ms\n",
            "754:\tlearn: 0.2997916\ttotal: 1.66s\tremaining: 539ms\n",
            "755:\tlearn: 0.2996718\ttotal: 1.66s\tremaining: 537ms\n",
            "756:\tlearn: 0.2995021\ttotal: 1.67s\tremaining: 535ms\n",
            "757:\tlearn: 0.2994288\ttotal: 1.67s\tremaining: 532ms\n",
            "758:\tlearn: 0.2992056\ttotal: 1.67s\tremaining: 530ms\n",
            "759:\tlearn: 0.2991402\ttotal: 1.67s\tremaining: 528ms\n",
            "760:\tlearn: 0.2989335\ttotal: 1.67s\tremaining: 525ms\n",
            "761:\tlearn: 0.2988156\ttotal: 1.68s\tremaining: 524ms\n",
            "762:\tlearn: 0.2987952\ttotal: 1.68s\tremaining: 521ms\n",
            "763:\tlearn: 0.2987302\ttotal: 1.68s\tremaining: 519ms\n",
            "764:\tlearn: 0.2985677\ttotal: 1.68s\tremaining: 517ms\n",
            "765:\tlearn: 0.2984123\ttotal: 1.68s\tremaining: 514ms\n",
            "766:\tlearn: 0.2980703\ttotal: 1.69s\tremaining: 512ms\n",
            "767:\tlearn: 0.2979113\ttotal: 1.69s\tremaining: 510ms\n",
            "768:\tlearn: 0.2976602\ttotal: 1.69s\tremaining: 509ms\n",
            "769:\tlearn: 0.2975035\ttotal: 1.7s\tremaining: 506ms\n",
            "770:\tlearn: 0.2973730\ttotal: 1.7s\tremaining: 504ms\n",
            "771:\tlearn: 0.2972132\ttotal: 1.7s\tremaining: 502ms\n",
            "772:\tlearn: 0.2968824\ttotal: 1.7s\tremaining: 499ms\n",
            "773:\tlearn: 0.2967526\ttotal: 1.7s\tremaining: 497ms\n",
            "774:\tlearn: 0.2965767\ttotal: 1.7s\tremaining: 495ms\n",
            "775:\tlearn: 0.2965506\ttotal: 1.71s\tremaining: 492ms\n",
            "776:\tlearn: 0.2961991\ttotal: 1.71s\tremaining: 490ms\n",
            "777:\tlearn: 0.2959756\ttotal: 1.71s\tremaining: 488ms\n",
            "778:\tlearn: 0.2958632\ttotal: 1.71s\tremaining: 485ms\n",
            "779:\tlearn: 0.2956092\ttotal: 1.71s\tremaining: 483ms\n",
            "780:\tlearn: 0.2955298\ttotal: 1.71s\tremaining: 481ms\n",
            "781:\tlearn: 0.2952932\ttotal: 1.72s\tremaining: 479ms\n",
            "782:\tlearn: 0.2949209\ttotal: 1.72s\tremaining: 477ms\n",
            "783:\tlearn: 0.2947853\ttotal: 1.72s\tremaining: 475ms\n",
            "784:\tlearn: 0.2945608\ttotal: 1.73s\tremaining: 473ms\n",
            "785:\tlearn: 0.2944177\ttotal: 1.73s\tremaining: 470ms\n",
            "786:\tlearn: 0.2941851\ttotal: 1.73s\tremaining: 468ms\n",
            "787:\tlearn: 0.2940486\ttotal: 1.73s\tremaining: 466ms\n",
            "788:\tlearn: 0.2939282\ttotal: 1.74s\tremaining: 464ms\n",
            "789:\tlearn: 0.2936019\ttotal: 1.74s\tremaining: 462ms\n",
            "790:\tlearn: 0.2934177\ttotal: 1.74s\tremaining: 460ms\n",
            "791:\tlearn: 0.2932858\ttotal: 1.74s\tremaining: 457ms\n",
            "792:\tlearn: 0.2931837\ttotal: 1.74s\tremaining: 455ms\n",
            "793:\tlearn: 0.2930601\ttotal: 1.74s\tremaining: 453ms\n",
            "794:\tlearn: 0.2929442\ttotal: 1.75s\tremaining: 450ms\n",
            "795:\tlearn: 0.2927509\ttotal: 1.75s\tremaining: 448ms\n",
            "796:\tlearn: 0.2926513\ttotal: 1.75s\tremaining: 446ms\n",
            "797:\tlearn: 0.2923957\ttotal: 1.75s\tremaining: 443ms\n",
            "798:\tlearn: 0.2923148\ttotal: 1.75s\tremaining: 441ms\n",
            "799:\tlearn: 0.2921162\ttotal: 1.75s\tremaining: 439ms\n",
            "800:\tlearn: 0.2920665\ttotal: 1.76s\tremaining: 436ms\n",
            "801:\tlearn: 0.2919896\ttotal: 1.76s\tremaining: 434ms\n",
            "802:\tlearn: 0.2917754\ttotal: 1.76s\tremaining: 432ms\n",
            "803:\tlearn: 0.2913909\ttotal: 1.76s\tremaining: 429ms\n",
            "804:\tlearn: 0.2912659\ttotal: 1.76s\tremaining: 427ms\n",
            "805:\tlearn: 0.2909076\ttotal: 1.76s\tremaining: 425ms\n",
            "806:\tlearn: 0.2908491\ttotal: 1.77s\tremaining: 423ms\n",
            "807:\tlearn: 0.2905804\ttotal: 1.77s\tremaining: 420ms\n",
            "808:\tlearn: 0.2905614\ttotal: 1.77s\tremaining: 418ms\n",
            "809:\tlearn: 0.2905409\ttotal: 1.77s\tremaining: 415ms\n",
            "810:\tlearn: 0.2903806\ttotal: 1.77s\tremaining: 413ms\n",
            "811:\tlearn: 0.2901978\ttotal: 1.77s\tremaining: 411ms\n",
            "812:\tlearn: 0.2898744\ttotal: 1.78s\tremaining: 409ms\n",
            "813:\tlearn: 0.2897930\ttotal: 1.78s\tremaining: 407ms\n",
            "814:\tlearn: 0.2897089\ttotal: 1.78s\tremaining: 404ms\n",
            "815:\tlearn: 0.2895945\ttotal: 1.78s\tremaining: 402ms\n",
            "816:\tlearn: 0.2894796\ttotal: 1.78s\tremaining: 400ms\n",
            "817:\tlearn: 0.2892665\ttotal: 1.78s\tremaining: 397ms\n",
            "818:\tlearn: 0.2890584\ttotal: 1.79s\tremaining: 395ms\n",
            "819:\tlearn: 0.2888825\ttotal: 1.79s\tremaining: 393ms\n",
            "820:\tlearn: 0.2887253\ttotal: 1.79s\tremaining: 390ms\n",
            "821:\tlearn: 0.2884926\ttotal: 1.79s\tremaining: 388ms\n",
            "822:\tlearn: 0.2881653\ttotal: 1.79s\tremaining: 386ms\n",
            "823:\tlearn: 0.2879920\ttotal: 1.8s\tremaining: 384ms\n",
            "824:\tlearn: 0.2878798\ttotal: 1.8s\tremaining: 382ms\n",
            "825:\tlearn: 0.2878011\ttotal: 1.8s\tremaining: 379ms\n",
            "826:\tlearn: 0.2877344\ttotal: 1.8s\tremaining: 377ms\n",
            "827:\tlearn: 0.2876280\ttotal: 1.8s\tremaining: 375ms\n",
            "828:\tlearn: 0.2873830\ttotal: 1.81s\tremaining: 373ms\n",
            "829:\tlearn: 0.2873758\ttotal: 1.81s\tremaining: 370ms\n",
            "830:\tlearn: 0.2872816\ttotal: 1.81s\tremaining: 368ms\n",
            "831:\tlearn: 0.2871900\ttotal: 1.82s\tremaining: 368ms\n",
            "832:\tlearn: 0.2869365\ttotal: 1.82s\tremaining: 366ms\n",
            "833:\tlearn: 0.2867427\ttotal: 1.82s\tremaining: 363ms\n",
            "834:\tlearn: 0.2865992\ttotal: 1.83s\tremaining: 361ms\n",
            "835:\tlearn: 0.2863645\ttotal: 1.83s\tremaining: 359ms\n",
            "836:\tlearn: 0.2863099\ttotal: 1.83s\tremaining: 357ms\n",
            "837:\tlearn: 0.2860837\ttotal: 1.83s\tremaining: 354ms\n",
            "838:\tlearn: 0.2859968\ttotal: 1.83s\tremaining: 352ms\n",
            "839:\tlearn: 0.2858443\ttotal: 1.83s\tremaining: 350ms\n",
            "840:\tlearn: 0.2858305\ttotal: 1.84s\tremaining: 347ms\n",
            "841:\tlearn: 0.2856261\ttotal: 1.84s\tremaining: 345ms\n",
            "842:\tlearn: 0.2854963\ttotal: 1.84s\tremaining: 343ms\n",
            "843:\tlearn: 0.2854435\ttotal: 1.84s\tremaining: 340ms\n",
            "844:\tlearn: 0.2854247\ttotal: 1.84s\tremaining: 338ms\n",
            "845:\tlearn: 0.2852727\ttotal: 1.84s\tremaining: 336ms\n",
            "846:\tlearn: 0.2850546\ttotal: 1.84s\tremaining: 333ms\n",
            "847:\tlearn: 0.2849219\ttotal: 1.85s\tremaining: 331ms\n",
            "848:\tlearn: 0.2846537\ttotal: 1.85s\tremaining: 329ms\n",
            "849:\tlearn: 0.2844438\ttotal: 1.85s\tremaining: 327ms\n",
            "850:\tlearn: 0.2842061\ttotal: 1.85s\tremaining: 325ms\n",
            "851:\tlearn: 0.2841723\ttotal: 1.85s\tremaining: 322ms\n",
            "852:\tlearn: 0.2840220\ttotal: 1.86s\tremaining: 320ms\n",
            "853:\tlearn: 0.2838505\ttotal: 1.86s\tremaining: 318ms\n",
            "854:\tlearn: 0.2836940\ttotal: 1.86s\tremaining: 316ms\n",
            "855:\tlearn: 0.2836231\ttotal: 1.86s\tremaining: 313ms\n",
            "856:\tlearn: 0.2834529\ttotal: 1.87s\tremaining: 311ms\n",
            "857:\tlearn: 0.2830589\ttotal: 1.87s\tremaining: 309ms\n",
            "858:\tlearn: 0.2830149\ttotal: 1.87s\tremaining: 307ms\n",
            "859:\tlearn: 0.2829533\ttotal: 1.87s\tremaining: 305ms\n",
            "860:\tlearn: 0.2827684\ttotal: 1.87s\tremaining: 303ms\n",
            "861:\tlearn: 0.2826403\ttotal: 1.88s\tremaining: 300ms\n",
            "862:\tlearn: 0.2824202\ttotal: 1.88s\tremaining: 298ms\n",
            "863:\tlearn: 0.2822653\ttotal: 1.88s\tremaining: 296ms\n",
            "864:\tlearn: 0.2821891\ttotal: 1.88s\tremaining: 294ms\n",
            "865:\tlearn: 0.2819320\ttotal: 1.88s\tremaining: 291ms\n",
            "866:\tlearn: 0.2816526\ttotal: 1.88s\tremaining: 289ms\n",
            "867:\tlearn: 0.2814148\ttotal: 1.89s\tremaining: 287ms\n",
            "868:\tlearn: 0.2810482\ttotal: 1.89s\tremaining: 285ms\n",
            "869:\tlearn: 0.2807760\ttotal: 1.89s\tremaining: 282ms\n",
            "870:\tlearn: 0.2807276\ttotal: 1.89s\tremaining: 280ms\n",
            "871:\tlearn: 0.2805559\ttotal: 1.89s\tremaining: 278ms\n",
            "872:\tlearn: 0.2804321\ttotal: 1.9s\tremaining: 276ms\n",
            "873:\tlearn: 0.2802404\ttotal: 1.9s\tremaining: 273ms\n",
            "874:\tlearn: 0.2801409\ttotal: 1.9s\tremaining: 271ms\n",
            "875:\tlearn: 0.2799982\ttotal: 1.9s\tremaining: 269ms\n",
            "876:\tlearn: 0.2799725\ttotal: 1.9s\tremaining: 267ms\n",
            "877:\tlearn: 0.2799049\ttotal: 1.91s\tremaining: 265ms\n",
            "878:\tlearn: 0.2796736\ttotal: 1.91s\tremaining: 263ms\n",
            "879:\tlearn: 0.2796111\ttotal: 1.91s\tremaining: 261ms\n",
            "880:\tlearn: 0.2792894\ttotal: 1.91s\tremaining: 258ms\n",
            "881:\tlearn: 0.2791514\ttotal: 1.91s\tremaining: 256ms\n",
            "882:\tlearn: 0.2790398\ttotal: 1.92s\tremaining: 254ms\n",
            "883:\tlearn: 0.2789097\ttotal: 1.92s\tremaining: 252ms\n",
            "884:\tlearn: 0.2788111\ttotal: 1.92s\tremaining: 249ms\n",
            "885:\tlearn: 0.2786182\ttotal: 1.92s\tremaining: 247ms\n",
            "886:\tlearn: 0.2785290\ttotal: 1.92s\tremaining: 245ms\n",
            "887:\tlearn: 0.2783077\ttotal: 1.93s\tremaining: 243ms\n",
            "888:\tlearn: 0.2781219\ttotal: 1.93s\tremaining: 241ms\n",
            "889:\tlearn: 0.2780580\ttotal: 1.93s\tremaining: 239ms\n",
            "890:\tlearn: 0.2779788\ttotal: 1.93s\tremaining: 236ms\n",
            "891:\tlearn: 0.2778902\ttotal: 1.93s\tremaining: 234ms\n",
            "892:\tlearn: 0.2777844\ttotal: 1.94s\tremaining: 232ms\n",
            "893:\tlearn: 0.2776319\ttotal: 1.94s\tremaining: 230ms\n",
            "894:\tlearn: 0.2775696\ttotal: 1.94s\tremaining: 227ms\n",
            "895:\tlearn: 0.2774275\ttotal: 1.94s\tremaining: 225ms\n",
            "896:\tlearn: 0.2772895\ttotal: 1.94s\tremaining: 223ms\n",
            "897:\tlearn: 0.2772044\ttotal: 1.94s\tremaining: 221ms\n",
            "898:\tlearn: 0.2771383\ttotal: 1.95s\tremaining: 219ms\n",
            "899:\tlearn: 0.2768091\ttotal: 1.95s\tremaining: 216ms\n",
            "900:\tlearn: 0.2767318\ttotal: 1.95s\tremaining: 214ms\n",
            "901:\tlearn: 0.2765328\ttotal: 1.95s\tremaining: 212ms\n",
            "902:\tlearn: 0.2763478\ttotal: 1.95s\tremaining: 210ms\n",
            "903:\tlearn: 0.2762088\ttotal: 1.96s\tremaining: 208ms\n",
            "904:\tlearn: 0.2761335\ttotal: 1.96s\tremaining: 205ms\n",
            "905:\tlearn: 0.2758656\ttotal: 1.96s\tremaining: 203ms\n",
            "906:\tlearn: 0.2758074\ttotal: 1.96s\tremaining: 201ms\n",
            "907:\tlearn: 0.2756858\ttotal: 1.96s\tremaining: 199ms\n",
            "908:\tlearn: 0.2755077\ttotal: 1.97s\tremaining: 197ms\n",
            "909:\tlearn: 0.2754679\ttotal: 1.97s\tremaining: 195ms\n",
            "910:\tlearn: 0.2752821\ttotal: 1.97s\tremaining: 192ms\n",
            "911:\tlearn: 0.2751708\ttotal: 1.97s\tremaining: 190ms\n",
            "912:\tlearn: 0.2750471\ttotal: 1.97s\tremaining: 188ms\n",
            "913:\tlearn: 0.2749837\ttotal: 1.97s\tremaining: 186ms\n",
            "914:\tlearn: 0.2748780\ttotal: 1.98s\tremaining: 184ms\n",
            "915:\tlearn: 0.2747694\ttotal: 1.98s\tremaining: 181ms\n",
            "916:\tlearn: 0.2747134\ttotal: 1.98s\tremaining: 179ms\n",
            "917:\tlearn: 0.2745899\ttotal: 1.98s\tremaining: 177ms\n",
            "918:\tlearn: 0.2745090\ttotal: 1.98s\tremaining: 175ms\n",
            "919:\tlearn: 0.2743402\ttotal: 1.98s\tremaining: 173ms\n",
            "920:\tlearn: 0.2742305\ttotal: 1.99s\tremaining: 170ms\n",
            "921:\tlearn: 0.2740526\ttotal: 1.99s\tremaining: 168ms\n",
            "922:\tlearn: 0.2739223\ttotal: 1.99s\tremaining: 166ms\n",
            "923:\tlearn: 0.2738278\ttotal: 1.99s\tremaining: 164ms\n",
            "924:\tlearn: 0.2736602\ttotal: 2s\tremaining: 162ms\n",
            "925:\tlearn: 0.2735915\ttotal: 2s\tremaining: 160ms\n",
            "926:\tlearn: 0.2734609\ttotal: 2s\tremaining: 157ms\n",
            "927:\tlearn: 0.2733270\ttotal: 2s\tremaining: 155ms\n",
            "928:\tlearn: 0.2730343\ttotal: 2s\tremaining: 153ms\n",
            "929:\tlearn: 0.2728079\ttotal: 2s\tremaining: 151ms\n",
            "930:\tlearn: 0.2727020\ttotal: 2.01s\tremaining: 149ms\n",
            "931:\tlearn: 0.2725074\ttotal: 2.01s\tremaining: 147ms\n",
            "932:\tlearn: 0.2722592\ttotal: 2.01s\tremaining: 145ms\n",
            "933:\tlearn: 0.2722236\ttotal: 2.01s\tremaining: 142ms\n",
            "934:\tlearn: 0.2720162\ttotal: 2.02s\tremaining: 140ms\n",
            "935:\tlearn: 0.2719799\ttotal: 2.02s\tremaining: 138ms\n",
            "936:\tlearn: 0.2718267\ttotal: 2.02s\tremaining: 136ms\n",
            "937:\tlearn: 0.2716484\ttotal: 2.02s\tremaining: 134ms\n",
            "938:\tlearn: 0.2715192\ttotal: 2.03s\tremaining: 132ms\n",
            "939:\tlearn: 0.2713321\ttotal: 2.03s\tremaining: 129ms\n",
            "940:\tlearn: 0.2711037\ttotal: 2.03s\tremaining: 127ms\n",
            "941:\tlearn: 0.2709204\ttotal: 2.03s\tremaining: 125ms\n",
            "942:\tlearn: 0.2708433\ttotal: 2.03s\tremaining: 123ms\n",
            "943:\tlearn: 0.2706410\ttotal: 2.04s\tremaining: 121ms\n",
            "944:\tlearn: 0.2702362\ttotal: 2.04s\tremaining: 119ms\n",
            "945:\tlearn: 0.2701734\ttotal: 2.04s\tremaining: 116ms\n",
            "946:\tlearn: 0.2701553\ttotal: 2.04s\tremaining: 114ms\n",
            "947:\tlearn: 0.2699608\ttotal: 2.04s\tremaining: 112ms\n",
            "948:\tlearn: 0.2696064\ttotal: 2.05s\tremaining: 110ms\n",
            "949:\tlearn: 0.2695105\ttotal: 2.05s\tremaining: 108ms\n",
            "950:\tlearn: 0.2693610\ttotal: 2.05s\tremaining: 106ms\n",
            "951:\tlearn: 0.2692888\ttotal: 2.05s\tremaining: 104ms\n",
            "952:\tlearn: 0.2692338\ttotal: 2.06s\tremaining: 101ms\n",
            "953:\tlearn: 0.2691957\ttotal: 2.06s\tremaining: 99.2ms\n",
            "954:\tlearn: 0.2691523\ttotal: 2.06s\tremaining: 97ms\n",
            "955:\tlearn: 0.2689942\ttotal: 2.06s\tremaining: 94.8ms\n",
            "956:\tlearn: 0.2688475\ttotal: 2.06s\tremaining: 92.7ms\n",
            "957:\tlearn: 0.2684823\ttotal: 2.06s\tremaining: 90.5ms\n",
            "958:\tlearn: 0.2682708\ttotal: 2.07s\tremaining: 88.4ms\n",
            "959:\tlearn: 0.2682331\ttotal: 2.07s\tremaining: 86.2ms\n",
            "960:\tlearn: 0.2681325\ttotal: 2.07s\tremaining: 84ms\n",
            "961:\tlearn: 0.2679524\ttotal: 2.07s\tremaining: 81.9ms\n",
            "962:\tlearn: 0.2679033\ttotal: 2.07s\tremaining: 79.7ms\n",
            "963:\tlearn: 0.2677390\ttotal: 2.08s\tremaining: 77.5ms\n",
            "964:\tlearn: 0.2677000\ttotal: 2.08s\tremaining: 75.4ms\n",
            "965:\tlearn: 0.2676537\ttotal: 2.08s\tremaining: 73.2ms\n",
            "966:\tlearn: 0.2675707\ttotal: 2.08s\tremaining: 71.1ms\n",
            "967:\tlearn: 0.2673041\ttotal: 2.08s\tremaining: 69ms\n",
            "968:\tlearn: 0.2669500\ttotal: 2.09s\tremaining: 66.8ms\n",
            "969:\tlearn: 0.2668620\ttotal: 2.09s\tremaining: 64.6ms\n",
            "970:\tlearn: 0.2667149\ttotal: 2.09s\tremaining: 62.4ms\n",
            "971:\tlearn: 0.2665446\ttotal: 2.09s\tremaining: 60.3ms\n",
            "972:\tlearn: 0.2663708\ttotal: 2.1s\tremaining: 58.2ms\n",
            "973:\tlearn: 0.2662941\ttotal: 2.1s\tremaining: 56ms\n",
            "974:\tlearn: 0.2662440\ttotal: 2.1s\tremaining: 53.9ms\n",
            "975:\tlearn: 0.2660377\ttotal: 2.1s\tremaining: 51.7ms\n",
            "976:\tlearn: 0.2658529\ttotal: 2.1s\tremaining: 49.6ms\n",
            "977:\tlearn: 0.2657722\ttotal: 2.11s\tremaining: 47.4ms\n",
            "978:\tlearn: 0.2656505\ttotal: 2.11s\tremaining: 45.3ms\n",
            "979:\tlearn: 0.2654532\ttotal: 2.12s\tremaining: 43.3ms\n",
            "980:\tlearn: 0.2653008\ttotal: 2.13s\tremaining: 41.2ms\n",
            "981:\tlearn: 0.2650610\ttotal: 2.13s\tremaining: 39ms\n",
            "982:\tlearn: 0.2650209\ttotal: 2.13s\tremaining: 36.9ms\n",
            "983:\tlearn: 0.2649177\ttotal: 2.13s\tremaining: 34.7ms\n",
            "984:\tlearn: 0.2648009\ttotal: 2.13s\tremaining: 32.5ms\n",
            "985:\tlearn: 0.2647527\ttotal: 2.14s\tremaining: 30.3ms\n",
            "986:\tlearn: 0.2645513\ttotal: 2.14s\tremaining: 28.2ms\n",
            "987:\tlearn: 0.2643099\ttotal: 2.14s\tremaining: 26ms\n",
            "988:\tlearn: 0.2642720\ttotal: 2.14s\tremaining: 23.8ms\n",
            "989:\tlearn: 0.2642168\ttotal: 2.14s\tremaining: 21.7ms\n",
            "990:\tlearn: 0.2639341\ttotal: 2.15s\tremaining: 19.5ms\n",
            "991:\tlearn: 0.2636641\ttotal: 2.15s\tremaining: 17.3ms\n",
            "992:\tlearn: 0.2636312\ttotal: 2.15s\tremaining: 15.2ms\n",
            "993:\tlearn: 0.2635460\ttotal: 2.15s\tremaining: 13ms\n",
            "994:\tlearn: 0.2633416\ttotal: 2.15s\tremaining: 10.8ms\n",
            "995:\tlearn: 0.2631971\ttotal: 2.16s\tremaining: 8.66ms\n",
            "996:\tlearn: 0.2631044\ttotal: 2.16s\tremaining: 6.5ms\n",
            "997:\tlearn: 0.2629385\ttotal: 2.16s\tremaining: 4.33ms\n",
            "998:\tlearn: 0.2626781\ttotal: 2.16s\tremaining: 2.16ms\n",
            "999:\tlearn: 0.2625250\ttotal: 2.16s\tremaining: 0us\n"
          ]
        },
        {
          "data": {
            "text/plain": [
              "72.64957264957265"
            ]
          },
          "execution_count": 141,
          "metadata": {},
          "output_type": "execute_result"
        }
      ],
      "source": [
        "from catboost import CatBoostClassifier\n",
        "logmodel = CatBoostClassifier().fit(X_train , y_train)\n",
        "pred_l = logmodel.predict(X_test)\n",
        "acc_l = accuracy_score(y_test , pred_l)*100\n",
        "acc_l"
      ]
    },
    {
      "cell_type": "code",
      "execution_count": 142,
      "metadata": {
        "colab": {
          "base_uri": "https://localhost:8080/",
          "height": 421
        },
        "id": "GAia_cXYMZPD",
        "outputId": "d9183cb5-7cef-4ab2-df62-09ff49c71bf6"
      },
      "outputs": [
        {
          "data": {
            "text/html": [
              "<div>\n",
              "<style scoped>\n",
              "    .dataframe tbody tr th:only-of-type {\n",
              "        vertical-align: middle;\n",
              "    }\n",
              "\n",
              "    .dataframe tbody tr th {\n",
              "        vertical-align: top;\n",
              "    }\n",
              "\n",
              "    .dataframe thead th {\n",
              "        text-align: right;\n",
              "    }\n",
              "</style>\n",
              "<table border=\"1\" class=\"dataframe\">\n",
              "  <thead>\n",
              "    <tr style=\"text-align: right;\">\n",
              "      <th></th>\n",
              "      <th>Importance</th>\n",
              "    </tr>\n",
              "    <tr>\n",
              "      <th>Features</th>\n",
              "      <th></th>\n",
              "    </tr>\n",
              "  </thead>\n",
              "  <tbody>\n",
              "    <tr>\n",
              "      <th>ApplicantIncome</th>\n",
              "      <td>0.228</td>\n",
              "    </tr>\n",
              "    <tr>\n",
              "      <th>LoanAmount</th>\n",
              "      <td>0.214</td>\n",
              "    </tr>\n",
              "    <tr>\n",
              "      <th>Credit_History</th>\n",
              "      <td>0.164</td>\n",
              "    </tr>\n",
              "    <tr>\n",
              "      <th>CoapplicantIncome</th>\n",
              "      <td>0.131</td>\n",
              "    </tr>\n",
              "    <tr>\n",
              "      <th>Property_Area</th>\n",
              "      <td>0.053</td>\n",
              "    </tr>\n",
              "    <tr>\n",
              "      <th>Dependents</th>\n",
              "      <td>0.050</td>\n",
              "    </tr>\n",
              "    <tr>\n",
              "      <th>Loan_Amount_Term</th>\n",
              "      <td>0.050</td>\n",
              "    </tr>\n",
              "    <tr>\n",
              "      <th>Married</th>\n",
              "      <td>0.033</td>\n",
              "    </tr>\n",
              "    <tr>\n",
              "      <th>Gender</th>\n",
              "      <td>0.029</td>\n",
              "    </tr>\n",
              "    <tr>\n",
              "      <th>Education</th>\n",
              "      <td>0.029</td>\n",
              "    </tr>\n",
              "    <tr>\n",
              "      <th>Self_Employed</th>\n",
              "      <td>0.018</td>\n",
              "    </tr>\n",
              "  </tbody>\n",
              "</table>\n",
              "</div>"
            ],
            "text/plain": [
              "                   Importance\n",
              "Features                     \n",
              "ApplicantIncome         0.228\n",
              "LoanAmount              0.214\n",
              "Credit_History          0.164\n",
              "CoapplicantIncome       0.131\n",
              "Property_Area           0.053\n",
              "Dependents              0.050\n",
              "Loan_Amount_Term        0.050\n",
              "Married                 0.033\n",
              "Gender                  0.029\n",
              "Education               0.029\n",
              "Self_Employed           0.018"
            ]
          },
          "execution_count": 142,
          "metadata": {},
          "output_type": "execute_result"
        }
      ],
      "source": [
        "random_forest = RandomForestClassifier(n_estimators= 100)\n",
        "random_forest.fit(X_train, y_train)\n",
        "importances = pd.DataFrame({'Features':X_train.columns,'Importance':np.round(random_forest.feature_importances_,3)})\n",
        "importances = importances.sort_values('Importance',ascending=False).set_index('Features')\n",
        "importances.head(11) "
      ]
    },
    {
      "cell_type": "code",
      "execution_count": 143,
      "metadata": {
        "colab": {
          "base_uri": "https://localhost:8080/",
          "height": 421
        },
        "id": "uyAQbFV8H4kI",
        "outputId": "5810bddc-42f5-438d-e273-12a5345a9d25"
      },
      "outputs": [
        {
          "data": {
            "text/html": [
              "<div>\n",
              "<style scoped>\n",
              "    .dataframe tbody tr th:only-of-type {\n",
              "        vertical-align: middle;\n",
              "    }\n",
              "\n",
              "    .dataframe tbody tr th {\n",
              "        vertical-align: top;\n",
              "    }\n",
              "\n",
              "    .dataframe thead th {\n",
              "        text-align: right;\n",
              "    }\n",
              "</style>\n",
              "<table border=\"1\" class=\"dataframe\">\n",
              "  <thead>\n",
              "    <tr style=\"text-align: right;\">\n",
              "      <th></th>\n",
              "      <th>Importance</th>\n",
              "    </tr>\n",
              "    <tr>\n",
              "      <th>Features</th>\n",
              "      <th></th>\n",
              "    </tr>\n",
              "  </thead>\n",
              "  <tbody>\n",
              "    <tr>\n",
              "      <th>ApplicantIncome</th>\n",
              "      <td>0.228</td>\n",
              "    </tr>\n",
              "    <tr>\n",
              "      <th>LoanAmount</th>\n",
              "      <td>0.214</td>\n",
              "    </tr>\n",
              "    <tr>\n",
              "      <th>Credit_History</th>\n",
              "      <td>0.164</td>\n",
              "    </tr>\n",
              "    <tr>\n",
              "      <th>CoapplicantIncome</th>\n",
              "      <td>0.131</td>\n",
              "    </tr>\n",
              "    <tr>\n",
              "      <th>Property_Area</th>\n",
              "      <td>0.053</td>\n",
              "    </tr>\n",
              "    <tr>\n",
              "      <th>Dependents</th>\n",
              "      <td>0.050</td>\n",
              "    </tr>\n",
              "    <tr>\n",
              "      <th>Loan_Amount_Term</th>\n",
              "      <td>0.050</td>\n",
              "    </tr>\n",
              "    <tr>\n",
              "      <th>Married</th>\n",
              "      <td>0.033</td>\n",
              "    </tr>\n",
              "    <tr>\n",
              "      <th>Gender</th>\n",
              "      <td>0.029</td>\n",
              "    </tr>\n",
              "    <tr>\n",
              "      <th>Education</th>\n",
              "      <td>0.029</td>\n",
              "    </tr>\n",
              "    <tr>\n",
              "      <th>Self_Employed</th>\n",
              "      <td>0.018</td>\n",
              "    </tr>\n",
              "  </tbody>\n",
              "</table>\n",
              "</div>"
            ],
            "text/plain": [
              "                   Importance\n",
              "Features                     \n",
              "ApplicantIncome         0.228\n",
              "LoanAmount              0.214\n",
              "Credit_History          0.164\n",
              "CoapplicantIncome       0.131\n",
              "Property_Area           0.053\n",
              "Dependents              0.050\n",
              "Loan_Amount_Term        0.050\n",
              "Married                 0.033\n",
              "Gender                  0.029\n",
              "Education               0.029\n",
              "Self_Employed           0.018"
            ]
          },
          "execution_count": 143,
          "metadata": {},
          "output_type": "execute_result"
        }
      ],
      "source": [
        "importances = pd.DataFrame({'Features':X_train.columns,'Importance':np.round(random_forest.feature_importances_,3)})\n",
        "importances = importances.sort_values('Importance',ascending=False).set_index('Features')\n",
        "importances.head(12) "
      ]
    },
    {
      "cell_type": "code",
      "execution_count": 144,
      "metadata": {
        "id": "AvLRW0QOtAeq"
      },
      "outputs": [],
      "source": [
        "submission = pd.DataFrame({\n",
        "        \"Loan_ID\": test_data_copy[\"Loan_ID\"],\n",
        "        \"Loan_Status\": logmodel.predict(test_data)\n",
        "    })\n",
        "submission['Loan_Status'] = submission['Loan_Status'].replace(1,'Y')\n",
        "submission['Loan_Status'] = submission['Loan_Status'].replace(0,'N')\n",
        "\n",
        "submission.to_csv(\"results.csv\", encoding='utf-8', index=False)"
      ]
    }
  ],
  "metadata": {
    "colab": {
      "collapsed_sections": [],
      "name": "0.8194444444.ipynb",
      "provenance": []
    },
    "kernelspec": {
      "display_name": "Python 3",
      "name": "python3"
    },
    "language_info": {
      "codemirror_mode": {
        "name": "ipython",
        "version": 3
      },
      "file_extension": ".py",
      "mimetype": "text/x-python",
      "name": "python",
      "nbconvert_exporter": "python",
      "pygments_lexer": "ipython3",
      "version": "3.8.8"
    }
  },
  "nbformat": 4,
  "nbformat_minor": 0
}
