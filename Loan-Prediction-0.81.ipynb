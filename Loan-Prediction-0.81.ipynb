{
  "nbformat": 4,
  "nbformat_minor": 0,
  "metadata": {
    "colab": {
      "name": "0.8194444444.ipynb",
      "provenance": [],
      "collapsed_sections": []
    },
    "kernelspec": {
      "name": "python3",
      "display_name": "Python 3"
    },
    "language_info": {
      "name": "python"
    }
  },
  "cells": [
    {
      "cell_type": "markdown",
      "metadata": {
        "id": "3Tza_iC_e9sD"
      },
      "source": [
        "##Import ต่างๆ"
      ]
    },
    {
      "cell_type": "code",
      "metadata": {
        "id": "b3wmugJES6pU"
      },
      "source": [
        "%matplotlib inline\n",
        "import numpy as np\n",
        "import pandas as pd\n",
        "import matplotlib.pyplot as plt\n",
        "import seaborn as sns\n",
        "from sklearn.preprocessing import StandardScaler, LabelEncoder\n",
        "from sklearn.model_selection import StratifiedKFold, cross_val_score,GridSearchCV\n",
        "from sklearn.metrics import accuracy_score\n",
        "from sklearn.tree import DecisionTreeClassifier\n",
        "from sklearn.neighbors import KNeighborsClassifier \n",
        "from sklearn.naive_bayes import GaussianNB\n",
        "from sklearn.svm import SVC\n",
        "from sklearn.ensemble import RandomForestClassifier\n",
        "from sklearn.linear_model import LogisticRegression\n",
        "from xgboost import XGBClassifier\n",
        "from sklearn.model_selection import train_test_split\n",
        "from sklearn import preprocessing\n",
        "from sklearn import metrics"
      ],
      "execution_count": 1,
      "outputs": []
    },
    {
      "cell_type": "code",
      "metadata": {
        "id": "1ZbHobQDtn0_"
      },
      "source": [
        "import warnings\n",
        "warnings.filterwarnings(\"ignore\")"
      ],
      "execution_count": 2,
      "outputs": []
    },
    {
      "cell_type": "code",
      "metadata": {
        "colab": {
          "base_uri": "https://localhost:8080/"
        },
        "id": "aswYMCdz6Izb",
        "outputId": "ec2d556e-82fa-419d-8885-3b6c1df9f98d"
      },
      "source": [
        "from google.colab import drive\n",
        "drive.mount('/content/drive')"
      ],
      "execution_count": 3,
      "outputs": [
        {
          "output_type": "stream",
          "name": "stdout",
          "text": [
            "Mounted at /content/drive\n"
          ]
        }
      ]
    },
    {
      "cell_type": "markdown",
      "metadata": {
        "id": "iT2NOBWPUI1q"
      },
      "source": [
        "##ทำการ Read ไฟล์ csv ที่ทางเว็บให้มา"
      ]
    },
    {
      "cell_type": "code",
      "metadata": {
        "id": "2IC_7WetTTEM"
      },
      "source": [
        "train_data = pd.read_csv(\"/content/drive/MyDrive/ปี3เทอม1/CP462/Final Project/Data/train_ctrUa4K.csv\")\n",
        "test_data = pd.read_csv(\"/content/drive/MyDrive/ปี3เทอม1/CP462/Final Project/Data/test_lAUu6dG.csv\")"
      ],
      "execution_count": 4,
      "outputs": []
    },
    {
      "cell_type": "code",
      "metadata": {
        "colab": {
          "base_uri": "https://localhost:8080/",
          "height": 0
        },
        "id": "EIFCkxYaTefL",
        "outputId": "6908a049-b68d-49d2-907e-58d816e9b332"
      },
      "source": [
        "test_data.head()"
      ],
      "execution_count": 5,
      "outputs": [
        {
          "output_type": "execute_result",
          "data": {
            "text/html": [
              "<div>\n",
              "<style scoped>\n",
              "    .dataframe tbody tr th:only-of-type {\n",
              "        vertical-align: middle;\n",
              "    }\n",
              "\n",
              "    .dataframe tbody tr th {\n",
              "        vertical-align: top;\n",
              "    }\n",
              "\n",
              "    .dataframe thead th {\n",
              "        text-align: right;\n",
              "    }\n",
              "</style>\n",
              "<table border=\"1\" class=\"dataframe\">\n",
              "  <thead>\n",
              "    <tr style=\"text-align: right;\">\n",
              "      <th></th>\n",
              "      <th>Loan_ID</th>\n",
              "      <th>Gender</th>\n",
              "      <th>Married</th>\n",
              "      <th>Dependents</th>\n",
              "      <th>Education</th>\n",
              "      <th>Self_Employed</th>\n",
              "      <th>ApplicantIncome</th>\n",
              "      <th>CoapplicantIncome</th>\n",
              "      <th>LoanAmount</th>\n",
              "      <th>Loan_Amount_Term</th>\n",
              "      <th>Credit_History</th>\n",
              "      <th>Property_Area</th>\n",
              "    </tr>\n",
              "  </thead>\n",
              "  <tbody>\n",
              "    <tr>\n",
              "      <th>0</th>\n",
              "      <td>LP001015</td>\n",
              "      <td>Male</td>\n",
              "      <td>Yes</td>\n",
              "      <td>0</td>\n",
              "      <td>Graduate</td>\n",
              "      <td>No</td>\n",
              "      <td>5720</td>\n",
              "      <td>0</td>\n",
              "      <td>110.0</td>\n",
              "      <td>360.0</td>\n",
              "      <td>1.0</td>\n",
              "      <td>Urban</td>\n",
              "    </tr>\n",
              "    <tr>\n",
              "      <th>1</th>\n",
              "      <td>LP001022</td>\n",
              "      <td>Male</td>\n",
              "      <td>Yes</td>\n",
              "      <td>1</td>\n",
              "      <td>Graduate</td>\n",
              "      <td>No</td>\n",
              "      <td>3076</td>\n",
              "      <td>1500</td>\n",
              "      <td>126.0</td>\n",
              "      <td>360.0</td>\n",
              "      <td>1.0</td>\n",
              "      <td>Urban</td>\n",
              "    </tr>\n",
              "    <tr>\n",
              "      <th>2</th>\n",
              "      <td>LP001031</td>\n",
              "      <td>Male</td>\n",
              "      <td>Yes</td>\n",
              "      <td>2</td>\n",
              "      <td>Graduate</td>\n",
              "      <td>No</td>\n",
              "      <td>5000</td>\n",
              "      <td>1800</td>\n",
              "      <td>208.0</td>\n",
              "      <td>360.0</td>\n",
              "      <td>1.0</td>\n",
              "      <td>Urban</td>\n",
              "    </tr>\n",
              "    <tr>\n",
              "      <th>3</th>\n",
              "      <td>LP001035</td>\n",
              "      <td>Male</td>\n",
              "      <td>Yes</td>\n",
              "      <td>2</td>\n",
              "      <td>Graduate</td>\n",
              "      <td>No</td>\n",
              "      <td>2340</td>\n",
              "      <td>2546</td>\n",
              "      <td>100.0</td>\n",
              "      <td>360.0</td>\n",
              "      <td>NaN</td>\n",
              "      <td>Urban</td>\n",
              "    </tr>\n",
              "    <tr>\n",
              "      <th>4</th>\n",
              "      <td>LP001051</td>\n",
              "      <td>Male</td>\n",
              "      <td>No</td>\n",
              "      <td>0</td>\n",
              "      <td>Not Graduate</td>\n",
              "      <td>No</td>\n",
              "      <td>3276</td>\n",
              "      <td>0</td>\n",
              "      <td>78.0</td>\n",
              "      <td>360.0</td>\n",
              "      <td>1.0</td>\n",
              "      <td>Urban</td>\n",
              "    </tr>\n",
              "  </tbody>\n",
              "</table>\n",
              "</div>"
            ],
            "text/plain": [
              "    Loan_ID Gender Married  ... Loan_Amount_Term Credit_History Property_Area\n",
              "0  LP001015   Male     Yes  ...            360.0            1.0         Urban\n",
              "1  LP001022   Male     Yes  ...            360.0            1.0         Urban\n",
              "2  LP001031   Male     Yes  ...            360.0            1.0         Urban\n",
              "3  LP001035   Male     Yes  ...            360.0            NaN         Urban\n",
              "4  LP001051   Male      No  ...            360.0            1.0         Urban\n",
              "\n",
              "[5 rows x 12 columns]"
            ]
          },
          "metadata": {},
          "execution_count": 5
        }
      ]
    },
    {
      "cell_type": "code",
      "metadata": {
        "id": "CTFFzBXAhzDw"
      },
      "source": [
        "test_data_copy = test_data.copy()"
      ],
      "execution_count": 6,
      "outputs": []
    },
    {
      "cell_type": "code",
      "metadata": {
        "colab": {
          "base_uri": "https://localhost:8080/",
          "height": 0
        },
        "id": "yWQ1yJYCTgd1",
        "outputId": "c0c44b01-0c1e-454b-bdd1-74c5466ee79f"
      },
      "source": [
        "train_data.head()"
      ],
      "execution_count": 7,
      "outputs": [
        {
          "output_type": "execute_result",
          "data": {
            "text/html": [
              "<div>\n",
              "<style scoped>\n",
              "    .dataframe tbody tr th:only-of-type {\n",
              "        vertical-align: middle;\n",
              "    }\n",
              "\n",
              "    .dataframe tbody tr th {\n",
              "        vertical-align: top;\n",
              "    }\n",
              "\n",
              "    .dataframe thead th {\n",
              "        text-align: right;\n",
              "    }\n",
              "</style>\n",
              "<table border=\"1\" class=\"dataframe\">\n",
              "  <thead>\n",
              "    <tr style=\"text-align: right;\">\n",
              "      <th></th>\n",
              "      <th>Loan_ID</th>\n",
              "      <th>Gender</th>\n",
              "      <th>Married</th>\n",
              "      <th>Dependents</th>\n",
              "      <th>Education</th>\n",
              "      <th>Self_Employed</th>\n",
              "      <th>ApplicantIncome</th>\n",
              "      <th>CoapplicantIncome</th>\n",
              "      <th>LoanAmount</th>\n",
              "      <th>Loan_Amount_Term</th>\n",
              "      <th>Credit_History</th>\n",
              "      <th>Property_Area</th>\n",
              "      <th>Loan_Status</th>\n",
              "    </tr>\n",
              "  </thead>\n",
              "  <tbody>\n",
              "    <tr>\n",
              "      <th>0</th>\n",
              "      <td>LP001002</td>\n",
              "      <td>Male</td>\n",
              "      <td>No</td>\n",
              "      <td>0</td>\n",
              "      <td>Graduate</td>\n",
              "      <td>No</td>\n",
              "      <td>5849</td>\n",
              "      <td>0.0</td>\n",
              "      <td>NaN</td>\n",
              "      <td>360.0</td>\n",
              "      <td>1.0</td>\n",
              "      <td>Urban</td>\n",
              "      <td>Y</td>\n",
              "    </tr>\n",
              "    <tr>\n",
              "      <th>1</th>\n",
              "      <td>LP001003</td>\n",
              "      <td>Male</td>\n",
              "      <td>Yes</td>\n",
              "      <td>1</td>\n",
              "      <td>Graduate</td>\n",
              "      <td>No</td>\n",
              "      <td>4583</td>\n",
              "      <td>1508.0</td>\n",
              "      <td>128.0</td>\n",
              "      <td>360.0</td>\n",
              "      <td>1.0</td>\n",
              "      <td>Rural</td>\n",
              "      <td>N</td>\n",
              "    </tr>\n",
              "    <tr>\n",
              "      <th>2</th>\n",
              "      <td>LP001005</td>\n",
              "      <td>Male</td>\n",
              "      <td>Yes</td>\n",
              "      <td>0</td>\n",
              "      <td>Graduate</td>\n",
              "      <td>Yes</td>\n",
              "      <td>3000</td>\n",
              "      <td>0.0</td>\n",
              "      <td>66.0</td>\n",
              "      <td>360.0</td>\n",
              "      <td>1.0</td>\n",
              "      <td>Urban</td>\n",
              "      <td>Y</td>\n",
              "    </tr>\n",
              "    <tr>\n",
              "      <th>3</th>\n",
              "      <td>LP001006</td>\n",
              "      <td>Male</td>\n",
              "      <td>Yes</td>\n",
              "      <td>0</td>\n",
              "      <td>Not Graduate</td>\n",
              "      <td>No</td>\n",
              "      <td>2583</td>\n",
              "      <td>2358.0</td>\n",
              "      <td>120.0</td>\n",
              "      <td>360.0</td>\n",
              "      <td>1.0</td>\n",
              "      <td>Urban</td>\n",
              "      <td>Y</td>\n",
              "    </tr>\n",
              "    <tr>\n",
              "      <th>4</th>\n",
              "      <td>LP001008</td>\n",
              "      <td>Male</td>\n",
              "      <td>No</td>\n",
              "      <td>0</td>\n",
              "      <td>Graduate</td>\n",
              "      <td>No</td>\n",
              "      <td>6000</td>\n",
              "      <td>0.0</td>\n",
              "      <td>141.0</td>\n",
              "      <td>360.0</td>\n",
              "      <td>1.0</td>\n",
              "      <td>Urban</td>\n",
              "      <td>Y</td>\n",
              "    </tr>\n",
              "  </tbody>\n",
              "</table>\n",
              "</div>"
            ],
            "text/plain": [
              "    Loan_ID Gender Married  ... Credit_History Property_Area Loan_Status\n",
              "0  LP001002   Male      No  ...            1.0         Urban           Y\n",
              "1  LP001003   Male     Yes  ...            1.0         Rural           N\n",
              "2  LP001005   Male     Yes  ...            1.0         Urban           Y\n",
              "3  LP001006   Male     Yes  ...            1.0         Urban           Y\n",
              "4  LP001008   Male      No  ...            1.0         Urban           Y\n",
              "\n",
              "[5 rows x 13 columns]"
            ]
          },
          "metadata": {},
          "execution_count": 7
        }
      ]
    },
    {
      "cell_type": "markdown",
      "metadata": {
        "id": "t7fOh12lUPI9"
      },
      "source": [
        "##ขนาดของ Train และ Test"
      ]
    },
    {
      "cell_type": "code",
      "metadata": {
        "colab": {
          "base_uri": "https://localhost:8080/"
        },
        "id": "Y7iiN4SoT39-",
        "outputId": "717ead9e-6e72-42cc-be27-d3eb83a35df6"
      },
      "source": [
        "train_data.shape"
      ],
      "execution_count": 8,
      "outputs": [
        {
          "output_type": "execute_result",
          "data": {
            "text/plain": [
              "(614, 13)"
            ]
          },
          "metadata": {},
          "execution_count": 8
        }
      ]
    },
    {
      "cell_type": "code",
      "metadata": {
        "colab": {
          "base_uri": "https://localhost:8080/"
        },
        "id": "sLBptwHLT8V9",
        "outputId": "2690a1b1-e69a-4d31-96ee-9e71312cc9d3"
      },
      "source": [
        "test_data.shape"
      ],
      "execution_count": 9,
      "outputs": [
        {
          "output_type": "execute_result",
          "data": {
            "text/plain": [
              "(367, 12)"
            ]
          },
          "metadata": {},
          "execution_count": 9
        }
      ]
    },
    {
      "cell_type": "markdown",
      "metadata": {
        "id": "RP9_O4v8UVMY"
      },
      "source": [
        "##ทำการเช็คข้อมูลและทำการ Clean ข้อมูลและทำการเติม Missing \n"
      ]
    },
    {
      "cell_type": "code",
      "metadata": {
        "colab": {
          "base_uri": "https://localhost:8080/"
        },
        "id": "MSreiyc_wXIg",
        "outputId": "abd4e897-5533-49b0-d22d-da2e7f639110"
      },
      "source": [
        "train_data.info()"
      ],
      "execution_count": 10,
      "outputs": [
        {
          "output_type": "stream",
          "name": "stdout",
          "text": [
            "<class 'pandas.core.frame.DataFrame'>\n",
            "RangeIndex: 614 entries, 0 to 613\n",
            "Data columns (total 13 columns):\n",
            " #   Column             Non-Null Count  Dtype  \n",
            "---  ------             --------------  -----  \n",
            " 0   Loan_ID            614 non-null    object \n",
            " 1   Gender             601 non-null    object \n",
            " 2   Married            611 non-null    object \n",
            " 3   Dependents         599 non-null    object \n",
            " 4   Education          614 non-null    object \n",
            " 5   Self_Employed      582 non-null    object \n",
            " 6   ApplicantIncome    614 non-null    int64  \n",
            " 7   CoapplicantIncome  614 non-null    float64\n",
            " 8   LoanAmount         592 non-null    float64\n",
            " 9   Loan_Amount_Term   600 non-null    float64\n",
            " 10  Credit_History     564 non-null    float64\n",
            " 11  Property_Area      614 non-null    object \n",
            " 12  Loan_Status        614 non-null    object \n",
            "dtypes: float64(4), int64(1), object(8)\n",
            "memory usage: 62.5+ KB\n"
          ]
        }
      ]
    },
    {
      "cell_type": "markdown",
      "metadata": {
        "id": "T09elNjO5ktm"
      },
      "source": [
        "แยกประเภทของข้อมูล"
      ]
    },
    {
      "cell_type": "code",
      "metadata": {
        "id": "jkx6Sw1V80hw",
        "colab": {
          "base_uri": "https://localhost:8080/",
          "height": 419
        },
        "outputId": "65b2b257-a063-47af-b290-222f6700ffa7"
      },
      "source": [
        "cat_data = []\n",
        "\n",
        "for index, type in enumerate(train_data.dtypes):\n",
        "    if type == \"object\":\n",
        "        cat_data.append(train_data.iloc[:, index])\n",
        "cat_data = pd.DataFrame(cat_data).transpose()\n",
        "cat_data"
      ],
      "execution_count": 11,
      "outputs": [
        {
          "output_type": "execute_result",
          "data": {
            "text/html": [
              "<div>\n",
              "<style scoped>\n",
              "    .dataframe tbody tr th:only-of-type {\n",
              "        vertical-align: middle;\n",
              "    }\n",
              "\n",
              "    .dataframe tbody tr th {\n",
              "        vertical-align: top;\n",
              "    }\n",
              "\n",
              "    .dataframe thead th {\n",
              "        text-align: right;\n",
              "    }\n",
              "</style>\n",
              "<table border=\"1\" class=\"dataframe\">\n",
              "  <thead>\n",
              "    <tr style=\"text-align: right;\">\n",
              "      <th></th>\n",
              "      <th>Loan_ID</th>\n",
              "      <th>Gender</th>\n",
              "      <th>Married</th>\n",
              "      <th>Dependents</th>\n",
              "      <th>Education</th>\n",
              "      <th>Self_Employed</th>\n",
              "      <th>Property_Area</th>\n",
              "      <th>Loan_Status</th>\n",
              "    </tr>\n",
              "  </thead>\n",
              "  <tbody>\n",
              "    <tr>\n",
              "      <th>0</th>\n",
              "      <td>LP001002</td>\n",
              "      <td>Male</td>\n",
              "      <td>No</td>\n",
              "      <td>0</td>\n",
              "      <td>Graduate</td>\n",
              "      <td>No</td>\n",
              "      <td>Urban</td>\n",
              "      <td>Y</td>\n",
              "    </tr>\n",
              "    <tr>\n",
              "      <th>1</th>\n",
              "      <td>LP001003</td>\n",
              "      <td>Male</td>\n",
              "      <td>Yes</td>\n",
              "      <td>1</td>\n",
              "      <td>Graduate</td>\n",
              "      <td>No</td>\n",
              "      <td>Rural</td>\n",
              "      <td>N</td>\n",
              "    </tr>\n",
              "    <tr>\n",
              "      <th>2</th>\n",
              "      <td>LP001005</td>\n",
              "      <td>Male</td>\n",
              "      <td>Yes</td>\n",
              "      <td>0</td>\n",
              "      <td>Graduate</td>\n",
              "      <td>Yes</td>\n",
              "      <td>Urban</td>\n",
              "      <td>Y</td>\n",
              "    </tr>\n",
              "    <tr>\n",
              "      <th>3</th>\n",
              "      <td>LP001006</td>\n",
              "      <td>Male</td>\n",
              "      <td>Yes</td>\n",
              "      <td>0</td>\n",
              "      <td>Not Graduate</td>\n",
              "      <td>No</td>\n",
              "      <td>Urban</td>\n",
              "      <td>Y</td>\n",
              "    </tr>\n",
              "    <tr>\n",
              "      <th>4</th>\n",
              "      <td>LP001008</td>\n",
              "      <td>Male</td>\n",
              "      <td>No</td>\n",
              "      <td>0</td>\n",
              "      <td>Graduate</td>\n",
              "      <td>No</td>\n",
              "      <td>Urban</td>\n",
              "      <td>Y</td>\n",
              "    </tr>\n",
              "    <tr>\n",
              "      <th>...</th>\n",
              "      <td>...</td>\n",
              "      <td>...</td>\n",
              "      <td>...</td>\n",
              "      <td>...</td>\n",
              "      <td>...</td>\n",
              "      <td>...</td>\n",
              "      <td>...</td>\n",
              "      <td>...</td>\n",
              "    </tr>\n",
              "    <tr>\n",
              "      <th>609</th>\n",
              "      <td>LP002978</td>\n",
              "      <td>Female</td>\n",
              "      <td>No</td>\n",
              "      <td>0</td>\n",
              "      <td>Graduate</td>\n",
              "      <td>No</td>\n",
              "      <td>Rural</td>\n",
              "      <td>Y</td>\n",
              "    </tr>\n",
              "    <tr>\n",
              "      <th>610</th>\n",
              "      <td>LP002979</td>\n",
              "      <td>Male</td>\n",
              "      <td>Yes</td>\n",
              "      <td>3+</td>\n",
              "      <td>Graduate</td>\n",
              "      <td>No</td>\n",
              "      <td>Rural</td>\n",
              "      <td>Y</td>\n",
              "    </tr>\n",
              "    <tr>\n",
              "      <th>611</th>\n",
              "      <td>LP002983</td>\n",
              "      <td>Male</td>\n",
              "      <td>Yes</td>\n",
              "      <td>1</td>\n",
              "      <td>Graduate</td>\n",
              "      <td>No</td>\n",
              "      <td>Urban</td>\n",
              "      <td>Y</td>\n",
              "    </tr>\n",
              "    <tr>\n",
              "      <th>612</th>\n",
              "      <td>LP002984</td>\n",
              "      <td>Male</td>\n",
              "      <td>Yes</td>\n",
              "      <td>2</td>\n",
              "      <td>Graduate</td>\n",
              "      <td>No</td>\n",
              "      <td>Urban</td>\n",
              "      <td>Y</td>\n",
              "    </tr>\n",
              "    <tr>\n",
              "      <th>613</th>\n",
              "      <td>LP002990</td>\n",
              "      <td>Female</td>\n",
              "      <td>No</td>\n",
              "      <td>0</td>\n",
              "      <td>Graduate</td>\n",
              "      <td>Yes</td>\n",
              "      <td>Semiurban</td>\n",
              "      <td>N</td>\n",
              "    </tr>\n",
              "  </tbody>\n",
              "</table>\n",
              "<p>614 rows × 8 columns</p>\n",
              "</div>"
            ],
            "text/plain": [
              "      Loan_ID  Gender Married  ... Self_Employed Property_Area Loan_Status\n",
              "0    LP001002    Male      No  ...            No         Urban           Y\n",
              "1    LP001003    Male     Yes  ...            No         Rural           N\n",
              "2    LP001005    Male     Yes  ...           Yes         Urban           Y\n",
              "3    LP001006    Male     Yes  ...            No         Urban           Y\n",
              "4    LP001008    Male      No  ...            No         Urban           Y\n",
              "..        ...     ...     ...  ...           ...           ...         ...\n",
              "609  LP002978  Female      No  ...            No         Rural           Y\n",
              "610  LP002979    Male     Yes  ...            No         Rural           Y\n",
              "611  LP002983    Male     Yes  ...            No         Urban           Y\n",
              "612  LP002984    Male     Yes  ...            No         Urban           Y\n",
              "613  LP002990  Female      No  ...           Yes     Semiurban           N\n",
              "\n",
              "[614 rows x 8 columns]"
            ]
          },
          "metadata": {},
          "execution_count": 11
        }
      ]
    },
    {
      "cell_type": "code",
      "metadata": {
        "colab": {
          "base_uri": "https://localhost:8080/"
        },
        "id": "oe1h_UHtUCZM",
        "outputId": "f36303bd-a284-40bd-aa82-15e715345bc0"
      },
      "source": [
        "train_data.isnull().sum()"
      ],
      "execution_count": 12,
      "outputs": [
        {
          "output_type": "execute_result",
          "data": {
            "text/plain": [
              "Loan_ID               0\n",
              "Gender               13\n",
              "Married               3\n",
              "Dependents           15\n",
              "Education             0\n",
              "Self_Employed        32\n",
              "ApplicantIncome       0\n",
              "CoapplicantIncome     0\n",
              "LoanAmount           22\n",
              "Loan_Amount_Term     14\n",
              "Credit_History       50\n",
              "Property_Area         0\n",
              "Loan_Status           0\n",
              "dtype: int64"
            ]
          },
          "metadata": {},
          "execution_count": 12
        }
      ]
    },
    {
      "cell_type": "markdown",
      "metadata": {
        "id": "rsIzmJSwUdbc"
      },
      "source": [
        "จะเห็นได้ว่าข้อมูลมี null อยู่ซึ่งอาจจะทำให้การ predict ผิดพลาดได้จึงต้องทำการจัดการกับข้อมูลเสียก่อน\n"
      ]
    },
    {
      "cell_type": "code",
      "metadata": {
        "id": "qq1DOB05b_K8"
      },
      "source": [
        "del cat_data['Loan_ID']\n",
        "del cat_data['Self_Employed']\n",
        "for cat in cat_data.columns :\n",
        "  if cat == 'Loan_Status' :\n",
        "    pass\n",
        "  else :\n",
        "    train_data[cat]  = train_data[cat].fillna(train_data[cat].mode()[0])\n",
        "    test_data[cat] = test_data[cat].fillna(test_data[cat].mode()[0])"
      ],
      "execution_count": 13,
      "outputs": []
    },
    {
      "cell_type": "code",
      "metadata": {
        "colab": {
          "base_uri": "https://localhost:8080/"
        },
        "id": "kIKbqPFia5Zz",
        "outputId": "567eb611-d7ef-4a90-e09c-2361f6583c1c"
      },
      "source": [
        "train_data.isnull().sum()"
      ],
      "execution_count": 14,
      "outputs": [
        {
          "output_type": "execute_result",
          "data": {
            "text/plain": [
              "Loan_ID               0\n",
              "Gender                0\n",
              "Married               0\n",
              "Dependents            0\n",
              "Education             0\n",
              "Self_Employed        32\n",
              "ApplicantIncome       0\n",
              "CoapplicantIncome     0\n",
              "LoanAmount           22\n",
              "Loan_Amount_Term     14\n",
              "Credit_History       50\n",
              "Property_Area         0\n",
              "Loan_Status           0\n",
              "dtype: int64"
            ]
          },
          "metadata": {},
          "execution_count": 14
        }
      ]
    },
    {
      "cell_type": "markdown",
      "metadata": {
        "id": "WCppLLQ4dIK-"
      },
      "source": [
        "LoanAmount fill ด้วย median"
      ]
    },
    {
      "cell_type": "code",
      "metadata": {
        "id": "4m8XP8B7a4O3"
      },
      "source": [
        "test_data.LoanAmount = test_data.LoanAmount.fillna(test_data[\"LoanAmount\"].median())\n",
        "train_data.LoanAmount = train_data.LoanAmount.fillna(train_data[\"LoanAmount\"].median())"
      ],
      "execution_count": 15,
      "outputs": []
    },
    {
      "cell_type": "markdown",
      "metadata": {
        "id": "njgA5XCIdh4Z"
      },
      "source": [
        "Loan_Amount_Term fill ด้วย bfill"
      ]
    },
    {
      "cell_type": "code",
      "metadata": {
        "id": "IHGD5uAodEJI"
      },
      "source": [
        "train_data.Loan_Amount_Term = train_data.Loan_Amount_Term.fillna(method=\"bfill\")\n",
        "test_data.Loan_Amount_Term = test_data.Loan_Amount_Term.fillna(method=\"bfill\")"
      ],
      "execution_count": 16,
      "outputs": []
    },
    {
      "cell_type": "markdown",
      "metadata": {
        "id": "K0-oQuHEdotF"
      },
      "source": [
        "Loan_Status fill ด้วยการดูค่าจาก Loan_Status เพราะว่าจาก EDA ทำให้ทราบว่าถ้า Credit_History กับ Loan_Status มีความสัมพันธ์กัน"
      ]
    },
    {
      "cell_type": "code",
      "metadata": {
        "id": "qOL8E87mdClW"
      },
      "source": [
        "train_data.loc[(train_data.Credit_History.isnull())&(train_data.Loan_Status==1),'Credit_History'] = 1\n",
        "train_data.loc[(train_data.Credit_History.isnull()),'Credit_History'] = 0\n",
        "\n",
        "test_data.Credit_History = test_data.Credit_History.fillna(method=\"bfill\")\n",
        "test_data['Credit_History'].fillna(test_data['Credit_History'].value_counts().index[0], inplace=True)\n",
        "test_data.loc[(test_data.ApplicantIncome == 2733),'Credit_History']  = 0"
      ],
      "execution_count": 17,
      "outputs": []
    },
    {
      "cell_type": "markdown",
      "metadata": {
        "id": "yI4VWHddeLtT"
      },
      "source": [
        "จาก EDA ทำให้ทราบว่าส่วนมากถ้าไม่ใช่อาชีพอิสระจะได้ credit_history = 1 "
      ]
    },
    {
      "cell_type": "code",
      "metadata": {
        "id": "x13p4Zi6csSl"
      },
      "source": [
        "train_data.loc[(train_data.Self_Employed.isnull())&(train_data.Credit_History==1),'Self_Employed'] ='No'\n",
        "train_data.loc[(train_data.Self_Employed.isnull()),'Self_Employed'] = 'Yes'\n",
        "\n",
        "test_data.loc[(test_data.Self_Employed.isnull())&(test_data.Credit_History==1),'Self_Employed'] ='No'\n",
        "test_data.loc[(test_data.Self_Employed.isnull()),'Self_Employed'] = 'Yes'"
      ],
      "execution_count": 18,
      "outputs": []
    },
    {
      "cell_type": "code",
      "metadata": {
        "colab": {
          "base_uri": "https://localhost:8080/"
        },
        "id": "qDfmVMsOVQaN",
        "outputId": "c979d91b-cb27-4045-b38d-f9b62ad90860"
      },
      "source": [
        "train_data.isnull().sum()"
      ],
      "execution_count": 19,
      "outputs": [
        {
          "output_type": "execute_result",
          "data": {
            "text/plain": [
              "Loan_ID              0\n",
              "Gender               0\n",
              "Married              0\n",
              "Dependents           0\n",
              "Education            0\n",
              "Self_Employed        0\n",
              "ApplicantIncome      0\n",
              "CoapplicantIncome    0\n",
              "LoanAmount           0\n",
              "Loan_Amount_Term     0\n",
              "Credit_History       0\n",
              "Property_Area        0\n",
              "Loan_Status          0\n",
              "dtype: int64"
            ]
          },
          "metadata": {},
          "execution_count": 19
        }
      ]
    },
    {
      "cell_type": "code",
      "metadata": {
        "colab": {
          "base_uri": "https://localhost:8080/"
        },
        "id": "YQ8HSgL2_wUz",
        "outputId": "f225892f-6c19-4aa6-c9a6-a201e7a02a71"
      },
      "source": [
        "test_data.isnull().sum()"
      ],
      "execution_count": 20,
      "outputs": [
        {
          "output_type": "execute_result",
          "data": {
            "text/plain": [
              "Loan_ID              0\n",
              "Gender               0\n",
              "Married              0\n",
              "Dependents           0\n",
              "Education            0\n",
              "Self_Employed        0\n",
              "ApplicantIncome      0\n",
              "CoapplicantIncome    0\n",
              "LoanAmount           0\n",
              "Loan_Amount_Term     0\n",
              "Credit_History       0\n",
              "Property_Area        0\n",
              "dtype: int64"
            ]
          },
          "metadata": {},
          "execution_count": 20
        }
      ]
    },
    {
      "cell_type": "markdown",
      "metadata": {
        "id": "4QIxcAa5VoRi"
      },
      "source": [
        "หลังจากการจัดการข้อมูแล้วจะทำให้เห็นวาไม่มีค่า Null แล้ว"
      ]
    },
    {
      "cell_type": "markdown",
      "metadata": {
        "id": "Yd7ywtMjrJmi"
      },
      "source": [
        "##EDA\n"
      ]
    },
    {
      "cell_type": "code",
      "metadata": {
        "id": "Bxf3r1TlcpSP"
      },
      "source": [
        "train_data_copy = train_data.copy()"
      ],
      "execution_count": 50,
      "outputs": []
    },
    {
      "cell_type": "code",
      "metadata": {
        "colab": {
          "base_uri": "https://localhost:8080/",
          "height": 808
        },
        "id": "vUEc8gG9bu8w",
        "outputId": "f5210abd-070e-45de-9224-3b0a83d2b4e3"
      },
      "source": [
        "corr = train_data_copy.corr()\n",
        "plt.figure(figsize=(15, 12))\n",
        "sns.heatmap(corr, annot=True)"
      ],
      "execution_count": 51,
      "outputs": [
        {
          "output_type": "execute_result",
          "data": {
            "text/plain": [
              "<matplotlib.axes._subplots.AxesSubplot at 0x7fa64f9b3f90>"
            ]
          },
          "metadata": {},
          "execution_count": 51
        },
        {
          "output_type": "display_data",
          "data": {
            "image/png": "[encoded data removed]",
            "text/plain": [
              "<Figure size 1080x864 with 2 Axes>"
            ]
          },
          "metadata": {
            "needs_background": "light"
          }
        }
      ]
    },
    {
      "cell_type": "code",
      "metadata": {
        "colab": {
          "base_uri": "https://localhost:8080/",
          "height": 296
        },
        "id": "YigHlIOvIpQC",
        "outputId": "1095acd5-d68f-4465-ae64-2f818f1c20c9"
      },
      "source": [
        "sns.countplot(train_data.Gender,hue=train_data.Loan_Status)"
      ],
      "execution_count": 22,
      "outputs": [
        {
          "output_type": "execute_result",
          "data": {
            "text/plain": [
              "<matplotlib.axes._subplots.AxesSubplot at 0x7fa6658a3590>"
            ]
          },
          "metadata": {},
          "execution_count": 22
        },
        {
          "output_type": "display_data",
          "data": {
            "image/png": "[encoded data removed]",
            "text/plain": [
              "<Figure size 432x288 with 1 Axes>"
            ]
          },
          "metadata": {
            "needs_background": "light"
          }
        }
      ]
    },
    {
      "cell_type": "code",
      "metadata": {
        "colab": {
          "base_uri": "https://localhost:8080/",
          "height": 173
        },
        "id": "nLW0hC9rI60a",
        "outputId": "8e3dba63-4dea-4a0c-94a2-b8ce4310e8e4"
      },
      "source": [
        "pd.crosstab(train_data.Gender, train_data.Loan_Status, margins = True)"
      ],
      "execution_count": 23,
      "outputs": [
        {
          "output_type": "execute_result",
          "data": {
            "text/html": [
              "<div>\n",
              "<style scoped>\n",
              "    .dataframe tbody tr th:only-of-type {\n",
              "        vertical-align: middle;\n",
              "    }\n",
              "\n",
              "    .dataframe tbody tr th {\n",
              "        vertical-align: top;\n",
              "    }\n",
              "\n",
              "    .dataframe thead th {\n",
              "        text-align: right;\n",
              "    }\n",
              "</style>\n",
              "<table border=\"1\" class=\"dataframe\">\n",
              "  <thead>\n",
              "    <tr style=\"text-align: right;\">\n",
              "      <th>Loan_Status</th>\n",
              "      <th>N</th>\n",
              "      <th>Y</th>\n",
              "      <th>All</th>\n",
              "    </tr>\n",
              "    <tr>\n",
              "      <th>Gender</th>\n",
              "      <th></th>\n",
              "      <th></th>\n",
              "      <th></th>\n",
              "    </tr>\n",
              "  </thead>\n",
              "  <tbody>\n",
              "    <tr>\n",
              "      <th>Female</th>\n",
              "      <td>37</td>\n",
              "      <td>75</td>\n",
              "      <td>112</td>\n",
              "    </tr>\n",
              "    <tr>\n",
              "      <th>Male</th>\n",
              "      <td>155</td>\n",
              "      <td>347</td>\n",
              "      <td>502</td>\n",
              "    </tr>\n",
              "    <tr>\n",
              "      <th>All</th>\n",
              "      <td>192</td>\n",
              "      <td>422</td>\n",
              "      <td>614</td>\n",
              "    </tr>\n",
              "  </tbody>\n",
              "</table>\n",
              "</div>"
            ],
            "text/plain": [
              "Loan_Status    N    Y  All\n",
              "Gender                    \n",
              "Female        37   75  112\n",
              "Male         155  347  502\n",
              "All          192  422  614"
            ]
          },
          "metadata": {},
          "execution_count": 23
        }
      ]
    },
    {
      "cell_type": "markdown",
      "metadata": {
        "id": "AgCpKsHRJO--"
      },
      "source": [
        "ผู้ชายมีจำนวนมากกว่าเมื่อเทียบกับผู้หญิง หลายคนยังมีสถานการกู้เป็น Yes"
      ]
    },
    {
      "cell_type": "code",
      "metadata": {
        "colab": {
          "base_uri": "https://localhost:8080/"
        },
        "id": "34cRd5NRJfAZ",
        "outputId": "8efac9a4-f96c-41fc-bccc-fa37e8289ec0"
      },
      "source": [
        "train_data.Dependents.value_counts()"
      ],
      "execution_count": 24,
      "outputs": [
        {
          "output_type": "execute_result",
          "data": {
            "text/plain": [
              "0     360\n",
              "1     102\n",
              "2     101\n",
              "3+     51\n",
              "Name: Dependents, dtype: int64"
            ]
          },
          "metadata": {},
          "execution_count": 24
        }
      ]
    },
    {
      "cell_type": "code",
      "metadata": {
        "colab": {
          "base_uri": "https://localhost:8080/",
          "height": 235
        },
        "id": "m_22tadZJkMG",
        "outputId": "6270fdb3-61d7-4299-b22a-ad5426b6b00e"
      },
      "source": [
        "pd.crosstab(train_data.Dependents,train_data.Loan_Status , margins=True)"
      ],
      "execution_count": 25,
      "outputs": [
        {
          "output_type": "execute_result",
          "data": {
            "text/html": [
              "<div>\n",
              "<style scoped>\n",
              "    .dataframe tbody tr th:only-of-type {\n",
              "        vertical-align: middle;\n",
              "    }\n",
              "\n",
              "    .dataframe tbody tr th {\n",
              "        vertical-align: top;\n",
              "    }\n",
              "\n",
              "    .dataframe thead th {\n",
              "        text-align: right;\n",
              "    }\n",
              "</style>\n",
              "<table border=\"1\" class=\"dataframe\">\n",
              "  <thead>\n",
              "    <tr style=\"text-align: right;\">\n",
              "      <th>Loan_Status</th>\n",
              "      <th>N</th>\n",
              "      <th>Y</th>\n",
              "      <th>All</th>\n",
              "    </tr>\n",
              "    <tr>\n",
              "      <th>Dependents</th>\n",
              "      <th></th>\n",
              "      <th></th>\n",
              "      <th></th>\n",
              "    </tr>\n",
              "  </thead>\n",
              "  <tbody>\n",
              "    <tr>\n",
              "      <th>0</th>\n",
              "      <td>113</td>\n",
              "      <td>247</td>\n",
              "      <td>360</td>\n",
              "    </tr>\n",
              "    <tr>\n",
              "      <th>1</th>\n",
              "      <td>36</td>\n",
              "      <td>66</td>\n",
              "      <td>102</td>\n",
              "    </tr>\n",
              "    <tr>\n",
              "      <th>2</th>\n",
              "      <td>25</td>\n",
              "      <td>76</td>\n",
              "      <td>101</td>\n",
              "    </tr>\n",
              "    <tr>\n",
              "      <th>3+</th>\n",
              "      <td>18</td>\n",
              "      <td>33</td>\n",
              "      <td>51</td>\n",
              "    </tr>\n",
              "    <tr>\n",
              "      <th>All</th>\n",
              "      <td>192</td>\n",
              "      <td>422</td>\n",
              "      <td>614</td>\n",
              "    </tr>\n",
              "  </tbody>\n",
              "</table>\n",
              "</div>"
            ],
            "text/plain": [
              "Loan_Status    N    Y  All\n",
              "Dependents                \n",
              "0            113  247  360\n",
              "1             36   66  102\n",
              "2             25   76  101\n",
              "3+            18   33   51\n",
              "All          192  422  614"
            ]
          },
          "metadata": {},
          "execution_count": 25
        }
      ]
    },
    {
      "cell_type": "code",
      "metadata": {
        "colab": {
          "base_uri": "https://localhost:8080/",
          "height": 297
        },
        "id": "bhqCfeiHJ7YY",
        "outputId": "e89d8f0d-1a24-47d5-b849-288fd3d9511e"
      },
      "source": [
        "sns.countplot(train_data.Credit_History,hue=train_data.Loan_Status)"
      ],
      "execution_count": 26,
      "outputs": [
        {
          "output_type": "execute_result",
          "data": {
            "text/plain": [
              "<matplotlib.axes._subplots.AxesSubplot at 0x7fa65c776810>"
            ]
          },
          "metadata": {},
          "execution_count": 26
        },
        {
          "output_type": "display_data",
          "data": {
            "image/png": "[encoded data removed]",
            "text/plain": [
              "<Figure size 432x288 with 1 Axes>"
            ]
          },
          "metadata": {
            "needs_background": "light"
          }
        }
      ]
    },
    {
      "cell_type": "code",
      "metadata": {
        "colab": {
          "base_uri": "https://localhost:8080/",
          "height": 173
        },
        "id": "-NTIIoNKKBcZ",
        "outputId": "e7fb8162-766c-4588-b38b-0fb6fe6e2cd6"
      },
      "source": [
        "pd.crosstab(train_data.Credit_History,train_data.Loan_Status , margins=True)"
      ],
      "execution_count": 27,
      "outputs": [
        {
          "output_type": "execute_result",
          "data": {
            "text/html": [
              "<div>\n",
              "<style scoped>\n",
              "    .dataframe tbody tr th:only-of-type {\n",
              "        vertical-align: middle;\n",
              "    }\n",
              "\n",
              "    .dataframe tbody tr th {\n",
              "        vertical-align: top;\n",
              "    }\n",
              "\n",
              "    .dataframe thead th {\n",
              "        text-align: right;\n",
              "    }\n",
              "</style>\n",
              "<table border=\"1\" class=\"dataframe\">\n",
              "  <thead>\n",
              "    <tr style=\"text-align: right;\">\n",
              "      <th>Loan_Status</th>\n",
              "      <th>N</th>\n",
              "      <th>Y</th>\n",
              "      <th>All</th>\n",
              "    </tr>\n",
              "    <tr>\n",
              "      <th>Credit_History</th>\n",
              "      <th></th>\n",
              "      <th></th>\n",
              "      <th></th>\n",
              "    </tr>\n",
              "  </thead>\n",
              "  <tbody>\n",
              "    <tr>\n",
              "      <th>0.0</th>\n",
              "      <td>95</td>\n",
              "      <td>44</td>\n",
              "      <td>139</td>\n",
              "    </tr>\n",
              "    <tr>\n",
              "      <th>1.0</th>\n",
              "      <td>97</td>\n",
              "      <td>378</td>\n",
              "      <td>475</td>\n",
              "    </tr>\n",
              "    <tr>\n",
              "      <th>All</th>\n",
              "      <td>192</td>\n",
              "      <td>422</td>\n",
              "      <td>614</td>\n",
              "    </tr>\n",
              "  </tbody>\n",
              "</table>\n",
              "</div>"
            ],
            "text/plain": [
              "Loan_Status       N    Y  All\n",
              "Credit_History               \n",
              "0.0              95   44  139\n",
              "1.0              97  378  475\n",
              "All             192  422  614"
            ]
          },
          "metadata": {},
          "execution_count": 27
        }
      ]
    },
    {
      "cell_type": "markdown",
      "metadata": {
        "id": "ZCuc2oXiKJ1o"
      },
      "source": [
        "ถ้าประหยัดเครดิตดีก็จะมีโอกาสที่จะกู้ได้มากกว่า ซึ่งควรนำไปทำเป็น Features"
      ]
    },
    {
      "cell_type": "code",
      "metadata": {
        "colab": {
          "base_uri": "https://localhost:8080/",
          "height": 297
        },
        "id": "PrVowJyzKZSj",
        "outputId": "d35e5568-6e3b-47b3-ccf2-95fdd75977de"
      },
      "source": [
        "sns.countplot(train_data.Self_Employed,hue=train_data.Loan_Status)"
      ],
      "execution_count": 28,
      "outputs": [
        {
          "output_type": "execute_result",
          "data": {
            "text/plain": [
              "<matplotlib.axes._subplots.AxesSubplot at 0x7fa65c1ba310>"
            ]
          },
          "metadata": {},
          "execution_count": 28
        },
        {
          "output_type": "display_data",
          "data": {
            "image/png": "[encoded data removed]",
            "text/plain": [
              "<Figure size 432x288 with 1 Axes>"
            ]
          },
          "metadata": {
            "needs_background": "light"
          }
        }
      ]
    },
    {
      "cell_type": "code",
      "metadata": {
        "colab": {
          "base_uri": "https://localhost:8080/",
          "height": 173
        },
        "id": "_4zzYD9WKhE1",
        "outputId": "cbd3679f-0d46-4140-97c4-0f701e972b05"
      },
      "source": [
        "pd.crosstab(train_data.Self_Employed , train_data.Loan_Status,margins = True)"
      ],
      "execution_count": 29,
      "outputs": [
        {
          "output_type": "execute_result",
          "data": {
            "text/html": [
              "<div>\n",
              "<style scoped>\n",
              "    .dataframe tbody tr th:only-of-type {\n",
              "        vertical-align: middle;\n",
              "    }\n",
              "\n",
              "    .dataframe tbody tr th {\n",
              "        vertical-align: top;\n",
              "    }\n",
              "\n",
              "    .dataframe thead th {\n",
              "        text-align: right;\n",
              "    }\n",
              "</style>\n",
              "<table border=\"1\" class=\"dataframe\">\n",
              "  <thead>\n",
              "    <tr style=\"text-align: right;\">\n",
              "      <th>Loan_Status</th>\n",
              "      <th>N</th>\n",
              "      <th>Y</th>\n",
              "      <th>All</th>\n",
              "    </tr>\n",
              "    <tr>\n",
              "      <th>Self_Employed</th>\n",
              "      <th></th>\n",
              "      <th></th>\n",
              "      <th></th>\n",
              "    </tr>\n",
              "  </thead>\n",
              "  <tbody>\n",
              "    <tr>\n",
              "      <th>No</th>\n",
              "      <td>160</td>\n",
              "      <td>365</td>\n",
              "      <td>525</td>\n",
              "    </tr>\n",
              "    <tr>\n",
              "      <th>Yes</th>\n",
              "      <td>32</td>\n",
              "      <td>57</td>\n",
              "      <td>89</td>\n",
              "    </tr>\n",
              "    <tr>\n",
              "      <th>All</th>\n",
              "      <td>192</td>\n",
              "      <td>422</td>\n",
              "      <td>614</td>\n",
              "    </tr>\n",
              "  </tbody>\n",
              "</table>\n",
              "</div>"
            ],
            "text/plain": [
              "Loan_Status      N    Y  All\n",
              "Self_Employed               \n",
              "No             160  365  525\n",
              "Yes             32   57   89\n",
              "All            192  422  614"
            ]
          },
          "metadata": {},
          "execution_count": 29
        }
      ]
    },
    {
      "cell_type": "code",
      "metadata": {
        "colab": {
          "base_uri": "https://localhost:8080/",
          "height": 297
        },
        "id": "NhifPnf5cXUq",
        "outputId": "9500d674-5450-4736-fe45-fbc6a443eb3b"
      },
      "source": [
        "sns.countplot(train_data.Self_Employed,hue=train_data.Credit_History)"
      ],
      "execution_count": 30,
      "outputs": [
        {
          "output_type": "execute_result",
          "data": {
            "text/plain": [
              "<matplotlib.axes._subplots.AxesSubplot at 0x7fa65c165650>"
            ]
          },
          "metadata": {},
          "execution_count": 30
        },
        {
          "output_type": "display_data",
          "data": {
            "image/png": "[encoded data removed]",
            "text/plain": [
              "<Figure size 432x288 with 1 Axes>"
            ]
          },
          "metadata": {
            "needs_background": "light"
          }
        }
      ]
    },
    {
      "cell_type": "code",
      "metadata": {
        "colab": {
          "base_uri": "https://localhost:8080/",
          "height": 173
        },
        "id": "PZrezRjEcX_d",
        "outputId": "ca8dbd83-bb06-4a04-e55c-3226c54cb7fd"
      },
      "source": [
        "pd.crosstab(train_data.Self_Employed , train_data.Credit_History,margins = True)"
      ],
      "execution_count": 31,
      "outputs": [
        {
          "output_type": "execute_result",
          "data": {
            "text/html": [
              "<div>\n",
              "<style scoped>\n",
              "    .dataframe tbody tr th:only-of-type {\n",
              "        vertical-align: middle;\n",
              "    }\n",
              "\n",
              "    .dataframe tbody tr th {\n",
              "        vertical-align: top;\n",
              "    }\n",
              "\n",
              "    .dataframe thead th {\n",
              "        text-align: right;\n",
              "    }\n",
              "</style>\n",
              "<table border=\"1\" class=\"dataframe\">\n",
              "  <thead>\n",
              "    <tr style=\"text-align: right;\">\n",
              "      <th>Credit_History</th>\n",
              "      <th>0.0</th>\n",
              "      <th>1.0</th>\n",
              "      <th>All</th>\n",
              "    </tr>\n",
              "    <tr>\n",
              "      <th>Self_Employed</th>\n",
              "      <th></th>\n",
              "      <th></th>\n",
              "      <th></th>\n",
              "    </tr>\n",
              "  </thead>\n",
              "  <tbody>\n",
              "    <tr>\n",
              "      <th>No</th>\n",
              "      <td>113</td>\n",
              "      <td>412</td>\n",
              "      <td>525</td>\n",
              "    </tr>\n",
              "    <tr>\n",
              "      <th>Yes</th>\n",
              "      <td>26</td>\n",
              "      <td>63</td>\n",
              "      <td>89</td>\n",
              "    </tr>\n",
              "    <tr>\n",
              "      <th>All</th>\n",
              "      <td>139</td>\n",
              "      <td>475</td>\n",
              "      <td>614</td>\n",
              "    </tr>\n",
              "  </tbody>\n",
              "</table>\n",
              "</div>"
            ],
            "text/plain": [
              "Credit_History  0.0  1.0  All\n",
              "Self_Employed                \n",
              "No              113  412  525\n",
              "Yes              26   63   89\n",
              "All             139  475  614"
            ]
          },
          "metadata": {},
          "execution_count": 31
        }
      ]
    },
    {
      "cell_type": "code",
      "metadata": {
        "colab": {
          "base_uri": "https://localhost:8080/",
          "height": 299
        },
        "id": "It2hoT4jKqIa",
        "outputId": "82c85478-cb08-4dda-a550-ae99d6d90435"
      },
      "source": [
        "sns.countplot(train_data.Married,hue=train_data.Loan_Status)"
      ],
      "execution_count": 32,
      "outputs": [
        {
          "output_type": "execute_result",
          "data": {
            "text/plain": [
              "<matplotlib.axes._subplots.AxesSubplot at 0x7fa65c12f4d0>"
            ]
          },
          "metadata": {},
          "execution_count": 32
        },
        {
          "output_type": "display_data",
          "data": {
            "image/png": "[encoded data removed]",
            "text/plain": [
              "<Figure size 432x288 with 1 Axes>"
            ]
          },
          "metadata": {
            "needs_background": "light"
          }
        }
      ]
    },
    {
      "cell_type": "code",
      "metadata": {
        "colab": {
          "base_uri": "https://localhost:8080/",
          "height": 173
        },
        "id": "Qf2-ZWkBKvPl",
        "outputId": "bee904cf-9961-4a10-fc9e-8b5cf5805aff"
      },
      "source": [
        "pd.crosstab(train_data.Married, train_data.Loan_Status,margins = True)"
      ],
      "execution_count": 33,
      "outputs": [
        {
          "output_type": "execute_result",
          "data": {
            "text/html": [
              "<div>\n",
              "<style scoped>\n",
              "    .dataframe tbody tr th:only-of-type {\n",
              "        vertical-align: middle;\n",
              "    }\n",
              "\n",
              "    .dataframe tbody tr th {\n",
              "        vertical-align: top;\n",
              "    }\n",
              "\n",
              "    .dataframe thead th {\n",
              "        text-align: right;\n",
              "    }\n",
              "</style>\n",
              "<table border=\"1\" class=\"dataframe\">\n",
              "  <thead>\n",
              "    <tr style=\"text-align: right;\">\n",
              "      <th>Loan_Status</th>\n",
              "      <th>N</th>\n",
              "      <th>Y</th>\n",
              "      <th>All</th>\n",
              "    </tr>\n",
              "    <tr>\n",
              "      <th>Married</th>\n",
              "      <th></th>\n",
              "      <th></th>\n",
              "      <th></th>\n",
              "    </tr>\n",
              "  </thead>\n",
              "  <tbody>\n",
              "    <tr>\n",
              "      <th>No</th>\n",
              "      <td>79</td>\n",
              "      <td>134</td>\n",
              "      <td>213</td>\n",
              "    </tr>\n",
              "    <tr>\n",
              "      <th>Yes</th>\n",
              "      <td>113</td>\n",
              "      <td>288</td>\n",
              "      <td>401</td>\n",
              "    </tr>\n",
              "    <tr>\n",
              "      <th>All</th>\n",
              "      <td>192</td>\n",
              "      <td>422</td>\n",
              "      <td>614</td>\n",
              "    </tr>\n",
              "  </tbody>\n",
              "</table>\n",
              "</div>"
            ],
            "text/plain": [
              "Loan_Status    N    Y  All\n",
              "Married                   \n",
              "No            79  134  213\n",
              "Yes          113  288  401\n",
              "All          192  422  614"
            ]
          },
          "metadata": {},
          "execution_count": 33
        }
      ]
    },
    {
      "cell_type": "code",
      "metadata": {
        "colab": {
          "base_uri": "https://localhost:8080/",
          "height": 296
        },
        "id": "nlJmWkM1K3QN",
        "outputId": "a6b02662-65e8-476d-c01d-1e82db9e6f29"
      },
      "source": [
        "sns.countplot(train_data.Education,hue=train_data.Loan_Status)"
      ],
      "execution_count": 34,
      "outputs": [
        {
          "output_type": "execute_result",
          "data": {
            "text/plain": [
              "<matplotlib.axes._subplots.AxesSubplot at 0x7fa65c03e490>"
            ]
          },
          "metadata": {},
          "execution_count": 34
        },
        {
          "output_type": "display_data",
          "data": {
            "image/png": "[encoded data removed]",
            "text/plain": [
              "<Figure size 432x288 with 1 Axes>"
            ]
          },
          "metadata": {
            "needs_background": "light"
          }
        }
      ]
    },
    {
      "cell_type": "code",
      "metadata": {
        "colab": {
          "base_uri": "https://localhost:8080/",
          "height": 173
        },
        "id": "Xeztm0rFK7Mq",
        "outputId": "7ea9d0a1-1735-43ca-ff68-e3bec867bc52"
      },
      "source": [
        "pd.crosstab(train_data.Education, train_data.Loan_Status,margins = True)"
      ],
      "execution_count": 35,
      "outputs": [
        {
          "output_type": "execute_result",
          "data": {
            "text/html": [
              "<div>\n",
              "<style scoped>\n",
              "    .dataframe tbody tr th:only-of-type {\n",
              "        vertical-align: middle;\n",
              "    }\n",
              "\n",
              "    .dataframe tbody tr th {\n",
              "        vertical-align: top;\n",
              "    }\n",
              "\n",
              "    .dataframe thead th {\n",
              "        text-align: right;\n",
              "    }\n",
              "</style>\n",
              "<table border=\"1\" class=\"dataframe\">\n",
              "  <thead>\n",
              "    <tr style=\"text-align: right;\">\n",
              "      <th>Loan_Status</th>\n",
              "      <th>N</th>\n",
              "      <th>Y</th>\n",
              "      <th>All</th>\n",
              "    </tr>\n",
              "    <tr>\n",
              "      <th>Education</th>\n",
              "      <th></th>\n",
              "      <th></th>\n",
              "      <th></th>\n",
              "    </tr>\n",
              "  </thead>\n",
              "  <tbody>\n",
              "    <tr>\n",
              "      <th>Graduate</th>\n",
              "      <td>140</td>\n",
              "      <td>340</td>\n",
              "      <td>480</td>\n",
              "    </tr>\n",
              "    <tr>\n",
              "      <th>Not Graduate</th>\n",
              "      <td>52</td>\n",
              "      <td>82</td>\n",
              "      <td>134</td>\n",
              "    </tr>\n",
              "    <tr>\n",
              "      <th>All</th>\n",
              "      <td>192</td>\n",
              "      <td>422</td>\n",
              "      <td>614</td>\n",
              "    </tr>\n",
              "  </tbody>\n",
              "</table>\n",
              "</div>"
            ],
            "text/plain": [
              "Loan_Status     N    Y  All\n",
              "Education                  \n",
              "Graduate      140  340  480\n",
              "Not Graduate   52   82  134\n",
              "All           192  422  614"
            ]
          },
          "metadata": {},
          "execution_count": 35
        }
      ]
    },
    {
      "cell_type": "code",
      "metadata": {
        "colab": {
          "base_uri": "https://localhost:8080/",
          "height": 296
        },
        "id": "F6PjSjEdcDYg",
        "outputId": "6fcd76b4-49a7-4b1d-fcf1-dbeb90e191e7"
      },
      "source": [
        "sns.countplot(train_data.Dependents,hue=train_data.Loan_Status)"
      ],
      "execution_count": 36,
      "outputs": [
        {
          "output_type": "execute_result",
          "data": {
            "text/plain": [
              "<matplotlib.axes._subplots.AxesSubplot at 0x7fa65c02b610>"
            ]
          },
          "metadata": {},
          "execution_count": 36
        },
        {
          "output_type": "display_data",
          "data": {
            "image/png": "[encoded data removed]",
            "text/plain": [
              "<Figure size 432x288 with 1 Axes>"
            ]
          },
          "metadata": {
            "needs_background": "light"
          }
        }
      ]
    },
    {
      "cell_type": "code",
      "metadata": {
        "colab": {
          "base_uri": "https://localhost:8080/",
          "height": 235
        },
        "id": "KEHw7PGIcE51",
        "outputId": "2ae1a519-376f-4484-a0f8-778947b69863"
      },
      "source": [
        "pd.crosstab(train_data.Dependents, train_data.Loan_Status,margins = True)"
      ],
      "execution_count": 37,
      "outputs": [
        {
          "output_type": "execute_result",
          "data": {
            "text/html": [
              "<div>\n",
              "<style scoped>\n",
              "    .dataframe tbody tr th:only-of-type {\n",
              "        vertical-align: middle;\n",
              "    }\n",
              "\n",
              "    .dataframe tbody tr th {\n",
              "        vertical-align: top;\n",
              "    }\n",
              "\n",
              "    .dataframe thead th {\n",
              "        text-align: right;\n",
              "    }\n",
              "</style>\n",
              "<table border=\"1\" class=\"dataframe\">\n",
              "  <thead>\n",
              "    <tr style=\"text-align: right;\">\n",
              "      <th>Loan_Status</th>\n",
              "      <th>N</th>\n",
              "      <th>Y</th>\n",
              "      <th>All</th>\n",
              "    </tr>\n",
              "    <tr>\n",
              "      <th>Dependents</th>\n",
              "      <th></th>\n",
              "      <th></th>\n",
              "      <th></th>\n",
              "    </tr>\n",
              "  </thead>\n",
              "  <tbody>\n",
              "    <tr>\n",
              "      <th>0</th>\n",
              "      <td>113</td>\n",
              "      <td>247</td>\n",
              "      <td>360</td>\n",
              "    </tr>\n",
              "    <tr>\n",
              "      <th>1</th>\n",
              "      <td>36</td>\n",
              "      <td>66</td>\n",
              "      <td>102</td>\n",
              "    </tr>\n",
              "    <tr>\n",
              "      <th>2</th>\n",
              "      <td>25</td>\n",
              "      <td>76</td>\n",
              "      <td>101</td>\n",
              "    </tr>\n",
              "    <tr>\n",
              "      <th>3+</th>\n",
              "      <td>18</td>\n",
              "      <td>33</td>\n",
              "      <td>51</td>\n",
              "    </tr>\n",
              "    <tr>\n",
              "      <th>All</th>\n",
              "      <td>192</td>\n",
              "      <td>422</td>\n",
              "      <td>614</td>\n",
              "    </tr>\n",
              "  </tbody>\n",
              "</table>\n",
              "</div>"
            ],
            "text/plain": [
              "Loan_Status    N    Y  All\n",
              "Dependents                \n",
              "0            113  247  360\n",
              "1             36   66  102\n",
              "2             25   76  101\n",
              "3+            18   33   51\n",
              "All          192  422  614"
            ]
          },
          "metadata": {},
          "execution_count": 37
        }
      ]
    },
    {
      "cell_type": "markdown",
      "metadata": {
        "id": "K_IrwyFRwxAM"
      },
      "source": [
        "##Preprocessing"
      ]
    },
    {
      "cell_type": "code",
      "metadata": {
        "id": "N9sqkjIn3k_q"
      },
      "source": [
        "cols = ['Gender', 'Married', 'Education', 'Self_Employed', 'Property_Area', \n",
        "        'Loan_Status', 'Dependents']\n",
        "colsN = ['ApplicantIncome','CoapplicantIncome','Loan_Amount_Term','LoanAmount']\n",
        "train_data = train_data.replace(['3+'],'3')"
      ],
      "execution_count": 38,
      "outputs": []
    },
    {
      "cell_type": "code",
      "metadata": {
        "id": "E-gIkbN20Up1",
        "colab": {
          "base_uri": "https://localhost:8080/"
        },
        "outputId": "9610b224-3c83-4682-f03d-f84502799c8f"
      },
      "source": [
        "del train_data['Loan_ID']\n",
        "\n",
        "for col in cols:\n",
        "  train_data[col] = LabelEncoder().fit_transform(train_data[col])\n",
        "\n",
        "for i in colsN :\n",
        "  train_data[i] = StandardScaler().fit_transform(train_data[[i]]).reshape(-1,1)\n",
        "\n",
        "\n",
        "train_data.isnull().sum()"
      ],
      "execution_count": 39,
      "outputs": [
        {
          "output_type": "execute_result",
          "data": {
            "text/plain": [
              "Gender               0\n",
              "Married              0\n",
              "Dependents           0\n",
              "Education            0\n",
              "Self_Employed        0\n",
              "ApplicantIncome      0\n",
              "CoapplicantIncome    0\n",
              "LoanAmount           0\n",
              "Loan_Amount_Term     0\n",
              "Credit_History       0\n",
              "Property_Area        0\n",
              "Loan_Status          0\n",
              "dtype: int64"
            ]
          },
          "metadata": {},
          "execution_count": 39
        }
      ]
    },
    {
      "cell_type": "code",
      "metadata": {
        "id": "O3UzhKtye4nX",
        "colab": {
          "base_uri": "https://localhost:8080/"
        },
        "outputId": "dba15ffe-72e0-40e6-ff71-1223b0ef4383"
      },
      "source": [
        "train_data.info()"
      ],
      "execution_count": 40,
      "outputs": [
        {
          "output_type": "stream",
          "name": "stdout",
          "text": [
            "<class 'pandas.core.frame.DataFrame'>\n",
            "RangeIndex: 614 entries, 0 to 613\n",
            "Data columns (total 12 columns):\n",
            " #   Column             Non-Null Count  Dtype  \n",
            "---  ------             --------------  -----  \n",
            " 0   Gender             614 non-null    int64  \n",
            " 1   Married            614 non-null    int64  \n",
            " 2   Dependents         614 non-null    int64  \n",
            " 3   Education          614 non-null    int64  \n",
            " 4   Self_Employed      614 non-null    int64  \n",
            " 5   ApplicantIncome    614 non-null    float64\n",
            " 6   CoapplicantIncome  614 non-null    float64\n",
            " 7   LoanAmount         614 non-null    float64\n",
            " 8   Loan_Amount_Term   614 non-null    float64\n",
            " 9   Credit_History     614 non-null    float64\n",
            " 10  Property_Area      614 non-null    int64  \n",
            " 11  Loan_Status        614 non-null    int64  \n",
            "dtypes: float64(5), int64(7)\n",
            "memory usage: 57.7 KB\n"
          ]
        }
      ]
    },
    {
      "cell_type": "code",
      "metadata": {
        "id": "yGrTm-9Z4FJe"
      },
      "source": [
        "colsT = ['Gender', 'Married', 'Education', 'Dependents','Property_Area','Self_Employed']\n"
      ],
      "execution_count": 41,
      "outputs": []
    },
    {
      "cell_type": "code",
      "metadata": {
        "id": "4A_EzM-70omv",
        "colab": {
          "base_uri": "https://localhost:8080/"
        },
        "outputId": "0bd5c5ad-069d-447a-ce07-36d5990619d4"
      },
      "source": [
        "del test_data['Loan_ID']\n",
        "\n",
        "test_data = test_data.replace(['3+'],'3') # เพราะมันอ่านไม่เข้าใจ\n",
        "for col in colsT:\n",
        "  test_data[col] = LabelEncoder().fit_transform(test_data[col])\n",
        "\n",
        "scaler=StandardScaler()\n",
        "for i in colsN :\n",
        "  test_data[i] = StandardScaler().fit_transform(test_data[[i]]).reshape(-1,1)\n",
        "\n",
        "test_data.isnull().sum()"
      ],
      "execution_count": 42,
      "outputs": [
        {
          "output_type": "execute_result",
          "data": {
            "text/plain": [
              "Gender               0\n",
              "Married              0\n",
              "Dependents           0\n",
              "Education            0\n",
              "Self_Employed        0\n",
              "ApplicantIncome      0\n",
              "CoapplicantIncome    0\n",
              "LoanAmount           0\n",
              "Loan_Amount_Term     0\n",
              "Credit_History       0\n",
              "Property_Area        0\n",
              "dtype: int64"
            ]
          },
          "metadata": {},
          "execution_count": 42
        }
      ]
    },
    {
      "cell_type": "markdown",
      "metadata": {
        "id": "yTHOYUVfIhpw"
      },
      "source": [
        "##Model Building"
      ]
    },
    {
      "cell_type": "code",
      "metadata": {
        "id": "Xit2tJjuLNdQ"
      },
      "source": [
        "X = train_data.drop(['Loan_Status'], axis = 1 )\n",
        "y = train_data['Loan_Status']\n",
        "\n",
        "X_train ,X_test , y_train , y_test = train_test_split(X , y , test_size = 0.20 , random_state =0)"
      ],
      "execution_count": 43,
      "outputs": []
    },
    {
      "cell_type": "code",
      "metadata": {
        "colab": {
          "base_uri": "https://localhost:8080/"
        },
        "id": "Z3HWvhaqnR4f",
        "outputId": "4c33a4c5-71ab-42e2-ff12-43ce8686bc60"
      },
      "source": [
        "!pip3 install catboost"
      ],
      "execution_count": 44,
      "outputs": [
        {
          "output_type": "stream",
          "name": "stdout",
          "text": [
            "Collecting catboost\n",
            "  Downloading catboost-1.0.3-cp37-none-manylinux1_x86_64.whl (76.3 MB)\n",
            "\u001b[K     |████████████████████████████████| 76.3 MB 13 kB/s \n",
            "\u001b[?25hRequirement already satisfied: graphviz in /usr/local/lib/python3.7/dist-packages (from catboost) (0.10.1)\n",
            "Requirement already satisfied: six in /usr/local/lib/python3.7/dist-packages (from catboost) (1.15.0)\n",
            "Requirement already satisfied: plotly in /usr/local/lib/python3.7/dist-packages (from catboost) (4.4.1)\n",
            "Requirement already satisfied: matplotlib in /usr/local/lib/python3.7/dist-packages (from catboost) (3.2.2)\n",
            "Requirement already satisfied: pandas>=0.24.0 in /usr/local/lib/python3.7/dist-packages (from catboost) (1.1.5)\n",
            "Requirement already satisfied: scipy in /usr/local/lib/python3.7/dist-packages (from catboost) (1.4.1)\n",
            "Requirement already satisfied: numpy>=1.16.0 in /usr/local/lib/python3.7/dist-packages (from catboost) (1.19.5)\n",
            "Requirement already satisfied: python-dateutil>=2.7.3 in /usr/local/lib/python3.7/dist-packages (from pandas>=0.24.0->catboost) (2.8.2)\n",
            "Requirement already satisfied: pytz>=2017.2 in /usr/local/lib/python3.7/dist-packages (from pandas>=0.24.0->catboost) (2018.9)\n",
            "Requirement already satisfied: pyparsing!=2.0.4,!=2.1.2,!=2.1.6,>=2.0.1 in /usr/local/lib/python3.7/dist-packages (from matplotlib->catboost) (2.4.7)\n",
            "Requirement already satisfied: kiwisolver>=1.0.1 in /usr/local/lib/python3.7/dist-packages (from matplotlib->catboost) (1.3.2)\n",
            "Requirement already satisfied: cycler>=0.10 in /usr/local/lib/python3.7/dist-packages (from matplotlib->catboost) (0.11.0)\n",
            "Requirement already satisfied: retrying>=1.3.3 in /usr/local/lib/python3.7/dist-packages (from plotly->catboost) (1.3.3)\n",
            "Installing collected packages: catboost\n",
            "Successfully installed catboost-1.0.3\n"
          ]
        }
      ]
    },
    {
      "cell_type": "code",
      "metadata": {
        "id": "hQp6SlywLdu9",
        "colab": {
          "base_uri": "https://localhost:8080/"
        },
        "outputId": "2920378e-0b0f-4fc4-cdb1-6296c47709fa"
      },
      "source": [
        "from catboost import CatBoostClassifier\n",
        "logmodel = CatBoostClassifier()\n",
        "logmodel.fit(X_train , y_train)\n",
        "pred_l = logmodel.predict(X_test)\n",
        "acc_l = accuracy_score(y_test , pred_l)*100\n",
        "acc_l"
      ],
      "execution_count": 45,
      "outputs": [
        {
          "output_type": "stream",
          "name": "stdout",
          "text": [
            "Learning rate set to 0.007604\n",
            "0:\tlearn: 0.6899144\ttotal: 48.1ms\tremaining: 48.1s\n",
            "1:\tlearn: 0.6870031\ttotal: 49.8ms\tremaining: 24.8s\n",
            "2:\tlearn: 0.6837434\ttotal: 51.2ms\tremaining: 17s\n",
            "3:\tlearn: 0.6808964\ttotal: 53.4ms\tremaining: 13.3s\n",
            "4:\tlearn: 0.6779019\ttotal: 56.4ms\tremaining: 11.2s\n",
            "5:\tlearn: 0.6752501\ttotal: 58.2ms\tremaining: 9.63s\n",
            "6:\tlearn: 0.6726925\ttotal: 61ms\tremaining: 8.65s\n",
            "7:\tlearn: 0.6701797\ttotal: 64.3ms\tremaining: 7.97s\n",
            "8:\tlearn: 0.6673086\ttotal: 65.5ms\tremaining: 7.21s\n",
            "9:\tlearn: 0.6645868\ttotal: 66.7ms\tremaining: 6.6s\n",
            "10:\tlearn: 0.6613772\ttotal: 68.1ms\tremaining: 6.12s\n",
            "11:\tlearn: 0.6586997\ttotal: 69.5ms\tremaining: 5.72s\n",
            "12:\tlearn: 0.6563338\ttotal: 71ms\tremaining: 5.39s\n",
            "13:\tlearn: 0.6536767\ttotal: 72.4ms\tremaining: 5.1s\n",
            "14:\tlearn: 0.6510230\ttotal: 73.8ms\tremaining: 4.85s\n",
            "15:\tlearn: 0.6484935\ttotal: 75.2ms\tremaining: 4.63s\n",
            "16:\tlearn: 0.6458925\ttotal: 76.7ms\tremaining: 4.43s\n",
            "17:\tlearn: 0.6434283\ttotal: 78.1ms\tremaining: 4.26s\n",
            "18:\tlearn: 0.6410104\ttotal: 79.5ms\tremaining: 4.11s\n",
            "19:\tlearn: 0.6388954\ttotal: 80.9ms\tremaining: 3.96s\n",
            "20:\tlearn: 0.6365698\ttotal: 82.3ms\tremaining: 3.84s\n",
            "21:\tlearn: 0.6347126\ttotal: 83.2ms\tremaining: 3.7s\n",
            "22:\tlearn: 0.6324779\ttotal: 84.6ms\tremaining: 3.59s\n",
            "23:\tlearn: 0.6301564\ttotal: 86ms\tremaining: 3.5s\n",
            "24:\tlearn: 0.6281283\ttotal: 87.4ms\tremaining: 3.41s\n",
            "25:\tlearn: 0.6263371\ttotal: 88.5ms\tremaining: 3.32s\n",
            "26:\tlearn: 0.6246524\ttotal: 89.4ms\tremaining: 3.22s\n",
            "27:\tlearn: 0.6225916\ttotal: 90.7ms\tremaining: 3.15s\n",
            "28:\tlearn: 0.6210256\ttotal: 91.6ms\tremaining: 3.07s\n",
            "29:\tlearn: 0.6187664\ttotal: 92.9ms\tremaining: 3s\n",
            "30:\tlearn: 0.6172859\ttotal: 93.6ms\tremaining: 2.92s\n",
            "31:\tlearn: 0.6149592\ttotal: 94.9ms\tremaining: 2.87s\n",
            "32:\tlearn: 0.6129021\ttotal: 96.4ms\tremaining: 2.82s\n",
            "33:\tlearn: 0.6114907\ttotal: 97.1ms\tremaining: 2.76s\n",
            "34:\tlearn: 0.6096289\ttotal: 98.4ms\tremaining: 2.71s\n",
            "35:\tlearn: 0.6082704\ttotal: 99.1ms\tremaining: 2.65s\n",
            "36:\tlearn: 0.6068077\ttotal: 100ms\tremaining: 2.6s\n",
            "37:\tlearn: 0.6046932\ttotal: 101ms\tremaining: 2.57s\n",
            "38:\tlearn: 0.6030224\ttotal: 103ms\tremaining: 2.54s\n",
            "39:\tlearn: 0.6007772\ttotal: 104ms\tremaining: 2.5s\n",
            "40:\tlearn: 0.5992570\ttotal: 105ms\tremaining: 2.46s\n",
            "41:\tlearn: 0.5980285\ttotal: 106ms\tremaining: 2.42s\n",
            "42:\tlearn: 0.5964767\ttotal: 107ms\tremaining: 2.38s\n",
            "43:\tlearn: 0.5946838\ttotal: 109ms\tremaining: 2.36s\n",
            "44:\tlearn: 0.5929383\ttotal: 110ms\tremaining: 2.33s\n",
            "45:\tlearn: 0.5912514\ttotal: 111ms\tremaining: 2.31s\n",
            "46:\tlearn: 0.5897828\ttotal: 113ms\tremaining: 2.29s\n",
            "47:\tlearn: 0.5882513\ttotal: 114ms\tremaining: 2.27s\n",
            "48:\tlearn: 0.5870665\ttotal: 115ms\tremaining: 2.24s\n",
            "49:\tlearn: 0.5859685\ttotal: 116ms\tremaining: 2.21s\n",
            "50:\tlearn: 0.5846008\ttotal: 118ms\tremaining: 2.19s\n",
            "51:\tlearn: 0.5835369\ttotal: 119ms\tremaining: 2.16s\n",
            "52:\tlearn: 0.5821000\ttotal: 120ms\tremaining: 2.14s\n",
            "53:\tlearn: 0.5805700\ttotal: 121ms\tremaining: 2.13s\n",
            "54:\tlearn: 0.5790549\ttotal: 123ms\tremaining: 2.11s\n",
            "55:\tlearn: 0.5775803\ttotal: 124ms\tremaining: 2.09s\n",
            "56:\tlearn: 0.5762767\ttotal: 125ms\tremaining: 2.07s\n",
            "57:\tlearn: 0.5748791\ttotal: 127ms\tremaining: 2.06s\n",
            "58:\tlearn: 0.5734091\ttotal: 128ms\tremaining: 2.04s\n",
            "59:\tlearn: 0.5719759\ttotal: 130ms\tremaining: 2.03s\n",
            "60:\tlearn: 0.5710281\ttotal: 131ms\tremaining: 2.01s\n",
            "61:\tlearn: 0.5696481\ttotal: 132ms\tremaining: 2s\n",
            "62:\tlearn: 0.5687879\ttotal: 133ms\tremaining: 1.98s\n",
            "63:\tlearn: 0.5674342\ttotal: 134ms\tremaining: 1.96s\n",
            "64:\tlearn: 0.5663939\ttotal: 136ms\tremaining: 1.95s\n",
            "65:\tlearn: 0.5652026\ttotal: 137ms\tremaining: 1.94s\n",
            "66:\tlearn: 0.5639382\ttotal: 139ms\tremaining: 1.93s\n",
            "67:\tlearn: 0.5629235\ttotal: 140ms\tremaining: 1.92s\n",
            "68:\tlearn: 0.5616958\ttotal: 141ms\tremaining: 1.91s\n",
            "69:\tlearn: 0.5607186\ttotal: 143ms\tremaining: 1.9s\n",
            "70:\tlearn: 0.5593883\ttotal: 144ms\tremaining: 1.89s\n",
            "71:\tlearn: 0.5574930\ttotal: 146ms\tremaining: 1.88s\n",
            "72:\tlearn: 0.5563324\ttotal: 147ms\tremaining: 1.87s\n",
            "73:\tlearn: 0.5553499\ttotal: 148ms\tremaining: 1.85s\n",
            "74:\tlearn: 0.5542648\ttotal: 150ms\tremaining: 1.84s\n",
            "75:\tlearn: 0.5528962\ttotal: 151ms\tremaining: 1.84s\n",
            "76:\tlearn: 0.5517730\ttotal: 153ms\tremaining: 1.83s\n",
            "77:\tlearn: 0.5504629\ttotal: 154ms\tremaining: 1.82s\n",
            "78:\tlearn: 0.5487939\ttotal: 156ms\tremaining: 1.81s\n",
            "79:\tlearn: 0.5474034\ttotal: 158ms\tremaining: 1.81s\n",
            "80:\tlearn: 0.5463366\ttotal: 159ms\tremaining: 1.8s\n",
            "81:\tlearn: 0.5448624\ttotal: 161ms\tremaining: 1.8s\n",
            "82:\tlearn: 0.5437289\ttotal: 162ms\tremaining: 1.79s\n",
            "83:\tlearn: 0.5429959\ttotal: 163ms\tremaining: 1.78s\n",
            "84:\tlearn: 0.5424068\ttotal: 164ms\tremaining: 1.76s\n",
            "85:\tlearn: 0.5415469\ttotal: 165ms\tremaining: 1.75s\n",
            "86:\tlearn: 0.5403791\ttotal: 166ms\tremaining: 1.75s\n",
            "87:\tlearn: 0.5393171\ttotal: 168ms\tremaining: 1.74s\n",
            "88:\tlearn: 0.5385411\ttotal: 169ms\tremaining: 1.73s\n",
            "89:\tlearn: 0.5379609\ttotal: 170ms\tremaining: 1.72s\n",
            "90:\tlearn: 0.5367761\ttotal: 171ms\tremaining: 1.71s\n",
            "91:\tlearn: 0.5359655\ttotal: 173ms\tremaining: 1.71s\n",
            "92:\tlearn: 0.5349165\ttotal: 174ms\tremaining: 1.7s\n",
            "93:\tlearn: 0.5343679\ttotal: 175ms\tremaining: 1.69s\n",
            "94:\tlearn: 0.5331567\ttotal: 177ms\tremaining: 1.68s\n",
            "95:\tlearn: 0.5320183\ttotal: 178ms\tremaining: 1.67s\n",
            "96:\tlearn: 0.5310352\ttotal: 179ms\tremaining: 1.67s\n",
            "97:\tlearn: 0.5300801\ttotal: 181ms\tremaining: 1.66s\n",
            "98:\tlearn: 0.5290568\ttotal: 182ms\tremaining: 1.66s\n",
            "99:\tlearn: 0.5278625\ttotal: 183ms\tremaining: 1.65s\n",
            "100:\tlearn: 0.5270017\ttotal: 187ms\tremaining: 1.66s\n",
            "101:\tlearn: 0.5262016\ttotal: 189ms\tremaining: 1.66s\n",
            "102:\tlearn: 0.5251310\ttotal: 192ms\tremaining: 1.67s\n",
            "103:\tlearn: 0.5244779\ttotal: 195ms\tremaining: 1.68s\n",
            "104:\tlearn: 0.5234094\ttotal: 198ms\tremaining: 1.69s\n",
            "105:\tlearn: 0.5225534\ttotal: 199ms\tremaining: 1.68s\n",
            "106:\tlearn: 0.5215111\ttotal: 201ms\tremaining: 1.68s\n",
            "107:\tlearn: 0.5206801\ttotal: 202ms\tremaining: 1.67s\n",
            "108:\tlearn: 0.5194724\ttotal: 204ms\tremaining: 1.66s\n",
            "109:\tlearn: 0.5187221\ttotal: 205ms\tremaining: 1.66s\n",
            "110:\tlearn: 0.5180214\ttotal: 207ms\tremaining: 1.65s\n",
            "111:\tlearn: 0.5172879\ttotal: 208ms\tremaining: 1.65s\n",
            "112:\tlearn: 0.5163363\ttotal: 210ms\tremaining: 1.64s\n",
            "113:\tlearn: 0.5154755\ttotal: 211ms\tremaining: 1.64s\n",
            "114:\tlearn: 0.5148281\ttotal: 212ms\tremaining: 1.63s\n",
            "115:\tlearn: 0.5139831\ttotal: 214ms\tremaining: 1.63s\n",
            "116:\tlearn: 0.5133561\ttotal: 215ms\tremaining: 1.62s\n",
            "117:\tlearn: 0.5125802\ttotal: 217ms\tremaining: 1.62s\n",
            "118:\tlearn: 0.5119683\ttotal: 218ms\tremaining: 1.61s\n",
            "119:\tlearn: 0.5110746\ttotal: 219ms\tremaining: 1.61s\n",
            "120:\tlearn: 0.5100414\ttotal: 221ms\tremaining: 1.6s\n",
            "121:\tlearn: 0.5093535\ttotal: 222ms\tremaining: 1.6s\n",
            "122:\tlearn: 0.5081884\ttotal: 224ms\tremaining: 1.59s\n",
            "123:\tlearn: 0.5075442\ttotal: 225ms\tremaining: 1.59s\n",
            "124:\tlearn: 0.5069965\ttotal: 227ms\tremaining: 1.59s\n",
            "125:\tlearn: 0.5063835\ttotal: 228ms\tremaining: 1.58s\n",
            "126:\tlearn: 0.5060235\ttotal: 229ms\tremaining: 1.58s\n",
            "127:\tlearn: 0.5054022\ttotal: 231ms\tremaining: 1.57s\n",
            "128:\tlearn: 0.5047265\ttotal: 232ms\tremaining: 1.57s\n",
            "129:\tlearn: 0.5042556\ttotal: 234ms\tremaining: 1.56s\n",
            "130:\tlearn: 0.5035828\ttotal: 235ms\tremaining: 1.56s\n",
            "131:\tlearn: 0.5031714\ttotal: 237ms\tremaining: 1.56s\n",
            "132:\tlearn: 0.5021795\ttotal: 238ms\tremaining: 1.55s\n",
            "133:\tlearn: 0.5013061\ttotal: 240ms\tremaining: 1.55s\n",
            "134:\tlearn: 0.5007553\ttotal: 241ms\tremaining: 1.54s\n",
            "135:\tlearn: 0.4999194\ttotal: 242ms\tremaining: 1.54s\n",
            "136:\tlearn: 0.4991874\ttotal: 244ms\tremaining: 1.54s\n",
            "137:\tlearn: 0.4985042\ttotal: 245ms\tremaining: 1.53s\n",
            "138:\tlearn: 0.4977895\ttotal: 247ms\tremaining: 1.53s\n",
            "139:\tlearn: 0.4971714\ttotal: 248ms\tremaining: 1.52s\n",
            "140:\tlearn: 0.4967768\ttotal: 250ms\tremaining: 1.52s\n",
            "141:\tlearn: 0.4961721\ttotal: 251ms\tremaining: 1.52s\n",
            "142:\tlearn: 0.4955559\ttotal: 253ms\tremaining: 1.51s\n",
            "143:\tlearn: 0.4951579\ttotal: 254ms\tremaining: 1.51s\n",
            "144:\tlearn: 0.4945102\ttotal: 255ms\tremaining: 1.51s\n",
            "145:\tlearn: 0.4942172\ttotal: 256ms\tremaining: 1.5s\n",
            "146:\tlearn: 0.4934778\ttotal: 258ms\tremaining: 1.5s\n",
            "147:\tlearn: 0.4928860\ttotal: 259ms\tremaining: 1.49s\n",
            "148:\tlearn: 0.4922027\ttotal: 261ms\tremaining: 1.49s\n",
            "149:\tlearn: 0.4913619\ttotal: 262ms\tremaining: 1.48s\n",
            "150:\tlearn: 0.4908677\ttotal: 263ms\tremaining: 1.48s\n",
            "151:\tlearn: 0.4901542\ttotal: 265ms\tremaining: 1.48s\n",
            "152:\tlearn: 0.4895605\ttotal: 266ms\tremaining: 1.47s\n",
            "153:\tlearn: 0.4891766\ttotal: 267ms\tremaining: 1.47s\n",
            "154:\tlearn: 0.4886160\ttotal: 269ms\tremaining: 1.47s\n",
            "155:\tlearn: 0.4879556\ttotal: 270ms\tremaining: 1.46s\n",
            "156:\tlearn: 0.4872288\ttotal: 272ms\tremaining: 1.46s\n",
            "157:\tlearn: 0.4867184\ttotal: 273ms\tremaining: 1.46s\n",
            "158:\tlearn: 0.4860839\ttotal: 275ms\tremaining: 1.45s\n",
            "159:\tlearn: 0.4853822\ttotal: 276ms\tremaining: 1.45s\n",
            "160:\tlearn: 0.4848550\ttotal: 278ms\tremaining: 1.45s\n",
            "161:\tlearn: 0.4843263\ttotal: 279ms\tremaining: 1.44s\n",
            "162:\tlearn: 0.4836535\ttotal: 281ms\tremaining: 1.44s\n",
            "163:\tlearn: 0.4832747\ttotal: 282ms\tremaining: 1.44s\n",
            "164:\tlearn: 0.4825776\ttotal: 284ms\tremaining: 1.44s\n",
            "165:\tlearn: 0.4823271\ttotal: 285ms\tremaining: 1.43s\n",
            "166:\tlearn: 0.4819703\ttotal: 286ms\tremaining: 1.43s\n",
            "167:\tlearn: 0.4808954\ttotal: 288ms\tremaining: 1.43s\n",
            "168:\tlearn: 0.4804329\ttotal: 289ms\tremaining: 1.42s\n",
            "169:\tlearn: 0.4799528\ttotal: 291ms\tremaining: 1.42s\n",
            "170:\tlearn: 0.4793287\ttotal: 292ms\tremaining: 1.42s\n",
            "171:\tlearn: 0.4789481\ttotal: 294ms\tremaining: 1.41s\n",
            "172:\tlearn: 0.4785932\ttotal: 295ms\tremaining: 1.41s\n",
            "173:\tlearn: 0.4780800\ttotal: 297ms\tremaining: 1.41s\n",
            "174:\tlearn: 0.4771799\ttotal: 298ms\tremaining: 1.4s\n",
            "175:\tlearn: 0.4766067\ttotal: 299ms\tremaining: 1.4s\n",
            "176:\tlearn: 0.4763653\ttotal: 301ms\tremaining: 1.4s\n",
            "177:\tlearn: 0.4758603\ttotal: 302ms\tremaining: 1.4s\n",
            "178:\tlearn: 0.4753643\ttotal: 304ms\tremaining: 1.39s\n",
            "179:\tlearn: 0.4746960\ttotal: 305ms\tremaining: 1.39s\n",
            "180:\tlearn: 0.4741436\ttotal: 307ms\tremaining: 1.39s\n",
            "181:\tlearn: 0.4736620\ttotal: 308ms\tremaining: 1.38s\n",
            "182:\tlearn: 0.4732302\ttotal: 309ms\tremaining: 1.38s\n",
            "183:\tlearn: 0.4727531\ttotal: 311ms\tremaining: 1.38s\n",
            "184:\tlearn: 0.4723114\ttotal: 312ms\tremaining: 1.38s\n",
            "185:\tlearn: 0.4716817\ttotal: 314ms\tremaining: 1.37s\n",
            "186:\tlearn: 0.4710184\ttotal: 315ms\tremaining: 1.37s\n",
            "187:\tlearn: 0.4708428\ttotal: 316ms\tremaining: 1.36s\n",
            "188:\tlearn: 0.4703746\ttotal: 318ms\tremaining: 1.36s\n",
            "189:\tlearn: 0.4697125\ttotal: 319ms\tremaining: 1.36s\n",
            "190:\tlearn: 0.4691895\ttotal: 320ms\tremaining: 1.36s\n",
            "191:\tlearn: 0.4688655\ttotal: 322ms\tremaining: 1.35s\n",
            "192:\tlearn: 0.4684440\ttotal: 323ms\tremaining: 1.35s\n",
            "193:\tlearn: 0.4680358\ttotal: 325ms\tremaining: 1.35s\n",
            "194:\tlearn: 0.4675051\ttotal: 326ms\tremaining: 1.35s\n",
            "195:\tlearn: 0.4667219\ttotal: 328ms\tremaining: 1.34s\n",
            "196:\tlearn: 0.4663620\ttotal: 329ms\tremaining: 1.34s\n",
            "197:\tlearn: 0.4661014\ttotal: 330ms\tremaining: 1.34s\n",
            "198:\tlearn: 0.4660186\ttotal: 331ms\tremaining: 1.33s\n",
            "199:\tlearn: 0.4656677\ttotal: 332ms\tremaining: 1.33s\n",
            "200:\tlearn: 0.4651125\ttotal: 334ms\tremaining: 1.33s\n",
            "201:\tlearn: 0.4648858\ttotal: 335ms\tremaining: 1.32s\n",
            "202:\tlearn: 0.4643348\ttotal: 337ms\tremaining: 1.32s\n",
            "203:\tlearn: 0.4639383\ttotal: 338ms\tremaining: 1.32s\n",
            "204:\tlearn: 0.4634664\ttotal: 340ms\tremaining: 1.32s\n",
            "205:\tlearn: 0.4630988\ttotal: 341ms\tremaining: 1.31s\n",
            "206:\tlearn: 0.4623701\ttotal: 342ms\tremaining: 1.31s\n",
            "207:\tlearn: 0.4621242\ttotal: 343ms\tremaining: 1.31s\n",
            "208:\tlearn: 0.4615672\ttotal: 345ms\tremaining: 1.3s\n",
            "209:\tlearn: 0.4611879\ttotal: 346ms\tremaining: 1.3s\n",
            "210:\tlearn: 0.4609665\ttotal: 348ms\tremaining: 1.3s\n",
            "211:\tlearn: 0.4607547\ttotal: 349ms\tremaining: 1.3s\n",
            "212:\tlearn: 0.4601400\ttotal: 351ms\tremaining: 1.29s\n",
            "213:\tlearn: 0.4598244\ttotal: 352ms\tremaining: 1.29s\n",
            "214:\tlearn: 0.4596142\ttotal: 353ms\tremaining: 1.29s\n",
            "215:\tlearn: 0.4586500\ttotal: 354ms\tremaining: 1.28s\n",
            "216:\tlearn: 0.4579494\ttotal: 356ms\tremaining: 1.28s\n",
            "217:\tlearn: 0.4575946\ttotal: 357ms\tremaining: 1.28s\n",
            "218:\tlearn: 0.4571402\ttotal: 359ms\tremaining: 1.28s\n",
            "219:\tlearn: 0.4566618\ttotal: 360ms\tremaining: 1.28s\n",
            "220:\tlearn: 0.4562386\ttotal: 362ms\tremaining: 1.27s\n",
            "221:\tlearn: 0.4558991\ttotal: 363ms\tremaining: 1.27s\n",
            "222:\tlearn: 0.4553030\ttotal: 364ms\tremaining: 1.27s\n",
            "223:\tlearn: 0.4550310\ttotal: 366ms\tremaining: 1.27s\n",
            "224:\tlearn: 0.4546367\ttotal: 367ms\tremaining: 1.26s\n",
            "225:\tlearn: 0.4542126\ttotal: 369ms\tremaining: 1.26s\n",
            "226:\tlearn: 0.4537407\ttotal: 371ms\tremaining: 1.26s\n",
            "227:\tlearn: 0.4534480\ttotal: 373ms\tremaining: 1.26s\n",
            "228:\tlearn: 0.4532714\ttotal: 376ms\tremaining: 1.27s\n",
            "229:\tlearn: 0.4530064\ttotal: 377ms\tremaining: 1.26s\n",
            "230:\tlearn: 0.4526462\ttotal: 379ms\tremaining: 1.26s\n",
            "231:\tlearn: 0.4523478\ttotal: 380ms\tremaining: 1.26s\n",
            "232:\tlearn: 0.4518208\ttotal: 382ms\tremaining: 1.26s\n",
            "233:\tlearn: 0.4512871\ttotal: 383ms\tremaining: 1.25s\n",
            "234:\tlearn: 0.4508520\ttotal: 385ms\tremaining: 1.25s\n",
            "235:\tlearn: 0.4505560\ttotal: 386ms\tremaining: 1.25s\n",
            "236:\tlearn: 0.4505290\ttotal: 387ms\tremaining: 1.24s\n",
            "237:\tlearn: 0.4501223\ttotal: 388ms\tremaining: 1.24s\n",
            "238:\tlearn: 0.4496770\ttotal: 389ms\tremaining: 1.24s\n",
            "239:\tlearn: 0.4493428\ttotal: 391ms\tremaining: 1.24s\n",
            "240:\tlearn: 0.4487706\ttotal: 392ms\tremaining: 1.24s\n",
            "241:\tlearn: 0.4483786\ttotal: 394ms\tremaining: 1.23s\n",
            "242:\tlearn: 0.4482726\ttotal: 395ms\tremaining: 1.23s\n",
            "243:\tlearn: 0.4478787\ttotal: 396ms\tremaining: 1.23s\n",
            "244:\tlearn: 0.4476629\ttotal: 398ms\tremaining: 1.23s\n",
            "245:\tlearn: 0.4471494\ttotal: 399ms\tremaining: 1.22s\n",
            "246:\tlearn: 0.4468393\ttotal: 400ms\tremaining: 1.22s\n",
            "247:\tlearn: 0.4466052\ttotal: 402ms\tremaining: 1.22s\n",
            "248:\tlearn: 0.4462929\ttotal: 403ms\tremaining: 1.22s\n",
            "249:\tlearn: 0.4460349\ttotal: 405ms\tremaining: 1.21s\n",
            "250:\tlearn: 0.4457431\ttotal: 406ms\tremaining: 1.21s\n",
            "251:\tlearn: 0.4455791\ttotal: 408ms\tremaining: 1.21s\n",
            "252:\tlearn: 0.4454313\ttotal: 409ms\tremaining: 1.21s\n",
            "253:\tlearn: 0.4449780\ttotal: 410ms\tremaining: 1.2s\n",
            "254:\tlearn: 0.4445226\ttotal: 411ms\tremaining: 1.2s\n",
            "255:\tlearn: 0.4442627\ttotal: 413ms\tremaining: 1.2s\n",
            "256:\tlearn: 0.4439818\ttotal: 414ms\tremaining: 1.2s\n",
            "257:\tlearn: 0.4436908\ttotal: 416ms\tremaining: 1.2s\n",
            "258:\tlearn: 0.4431815\ttotal: 417ms\tremaining: 1.19s\n",
            "259:\tlearn: 0.4427550\ttotal: 419ms\tremaining: 1.19s\n",
            "260:\tlearn: 0.4424577\ttotal: 420ms\tremaining: 1.19s\n",
            "261:\tlearn: 0.4421354\ttotal: 422ms\tremaining: 1.19s\n",
            "262:\tlearn: 0.4416308\ttotal: 423ms\tremaining: 1.19s\n",
            "263:\tlearn: 0.4414731\ttotal: 425ms\tremaining: 1.18s\n",
            "264:\tlearn: 0.4411973\ttotal: 426ms\tremaining: 1.18s\n",
            "265:\tlearn: 0.4408400\ttotal: 428ms\tremaining: 1.18s\n",
            "266:\tlearn: 0.4403725\ttotal: 429ms\tremaining: 1.18s\n",
            "267:\tlearn: 0.4399318\ttotal: 431ms\tremaining: 1.18s\n",
            "268:\tlearn: 0.4396249\ttotal: 432ms\tremaining: 1.17s\n",
            "269:\tlearn: 0.4389530\ttotal: 433ms\tremaining: 1.17s\n",
            "270:\tlearn: 0.4386400\ttotal: 435ms\tremaining: 1.17s\n",
            "271:\tlearn: 0.4385705\ttotal: 436ms\tremaining: 1.17s\n",
            "272:\tlearn: 0.4382122\ttotal: 437ms\tremaining: 1.16s\n",
            "273:\tlearn: 0.4380114\ttotal: 439ms\tremaining: 1.16s\n",
            "274:\tlearn: 0.4377668\ttotal: 440ms\tremaining: 1.16s\n",
            "275:\tlearn: 0.4373775\ttotal: 443ms\tremaining: 1.16s\n",
            "276:\tlearn: 0.4370878\ttotal: 445ms\tremaining: 1.16s\n",
            "277:\tlearn: 0.4368386\ttotal: 446ms\tremaining: 1.16s\n",
            "278:\tlearn: 0.4363310\ttotal: 448ms\tremaining: 1.16s\n",
            "279:\tlearn: 0.4352905\ttotal: 449ms\tremaining: 1.16s\n",
            "280:\tlearn: 0.4350080\ttotal: 451ms\tremaining: 1.15s\n",
            "281:\tlearn: 0.4346039\ttotal: 452ms\tremaining: 1.15s\n",
            "282:\tlearn: 0.4343655\ttotal: 454ms\tremaining: 1.15s\n",
            "283:\tlearn: 0.4338283\ttotal: 455ms\tremaining: 1.15s\n",
            "284:\tlearn: 0.4334660\ttotal: 456ms\tremaining: 1.15s\n",
            "285:\tlearn: 0.4333177\ttotal: 458ms\tremaining: 1.14s\n",
            "286:\tlearn: 0.4329702\ttotal: 459ms\tremaining: 1.14s\n",
            "287:\tlearn: 0.4325992\ttotal: 461ms\tremaining: 1.14s\n",
            "288:\tlearn: 0.4320763\ttotal: 462ms\tremaining: 1.14s\n",
            "289:\tlearn: 0.4318125\ttotal: 464ms\tremaining: 1.14s\n",
            "290:\tlearn: 0.4314171\ttotal: 465ms\tremaining: 1.13s\n",
            "291:\tlearn: 0.4310206\ttotal: 467ms\tremaining: 1.13s\n",
            "292:\tlearn: 0.4309082\ttotal: 468ms\tremaining: 1.13s\n",
            "293:\tlearn: 0.4306483\ttotal: 469ms\tremaining: 1.13s\n",
            "294:\tlearn: 0.4303112\ttotal: 471ms\tremaining: 1.13s\n",
            "295:\tlearn: 0.4300950\ttotal: 472ms\tremaining: 1.12s\n",
            "296:\tlearn: 0.4298863\ttotal: 474ms\tremaining: 1.12s\n",
            "297:\tlearn: 0.4294220\ttotal: 475ms\tremaining: 1.12s\n",
            "298:\tlearn: 0.4292866\ttotal: 477ms\tremaining: 1.12s\n",
            "299:\tlearn: 0.4290585\ttotal: 478ms\tremaining: 1.12s\n",
            "300:\tlearn: 0.4287080\ttotal: 480ms\tremaining: 1.11s\n",
            "301:\tlearn: 0.4284406\ttotal: 482ms\tremaining: 1.11s\n",
            "302:\tlearn: 0.4279992\ttotal: 484ms\tremaining: 1.11s\n",
            "303:\tlearn: 0.4276307\ttotal: 485ms\tremaining: 1.11s\n",
            "304:\tlearn: 0.4274254\ttotal: 487ms\tremaining: 1.11s\n",
            "305:\tlearn: 0.4270609\ttotal: 488ms\tremaining: 1.11s\n",
            "306:\tlearn: 0.4270089\ttotal: 489ms\tremaining: 1.1s\n",
            "307:\tlearn: 0.4266683\ttotal: 490ms\tremaining: 1.1s\n",
            "308:\tlearn: 0.4264774\ttotal: 492ms\tremaining: 1.1s\n",
            "309:\tlearn: 0.4263286\ttotal: 493ms\tremaining: 1.1s\n",
            "310:\tlearn: 0.4262224\ttotal: 494ms\tremaining: 1.09s\n",
            "311:\tlearn: 0.4259976\ttotal: 496ms\tremaining: 1.09s\n",
            "312:\tlearn: 0.4256911\ttotal: 497ms\tremaining: 1.09s\n",
            "313:\tlearn: 0.4253963\ttotal: 499ms\tremaining: 1.09s\n",
            "314:\tlearn: 0.4250369\ttotal: 500ms\tremaining: 1.09s\n",
            "315:\tlearn: 0.4246240\ttotal: 502ms\tremaining: 1.08s\n",
            "316:\tlearn: 0.4241141\ttotal: 503ms\tremaining: 1.08s\n",
            "317:\tlearn: 0.4237753\ttotal: 505ms\tremaining: 1.08s\n",
            "318:\tlearn: 0.4234254\ttotal: 506ms\tremaining: 1.08s\n",
            "319:\tlearn: 0.4230295\ttotal: 508ms\tremaining: 1.08s\n",
            "320:\tlearn: 0.4226228\ttotal: 509ms\tremaining: 1.08s\n",
            "321:\tlearn: 0.4224417\ttotal: 512ms\tremaining: 1.08s\n",
            "322:\tlearn: 0.4221420\ttotal: 514ms\tremaining: 1.08s\n",
            "323:\tlearn: 0.4217742\ttotal: 516ms\tremaining: 1.07s\n",
            "324:\tlearn: 0.4215580\ttotal: 518ms\tremaining: 1.07s\n",
            "325:\tlearn: 0.4212923\ttotal: 520ms\tremaining: 1.07s\n",
            "326:\tlearn: 0.4209302\ttotal: 521ms\tremaining: 1.07s\n",
            "327:\tlearn: 0.4206414\ttotal: 523ms\tremaining: 1.07s\n",
            "328:\tlearn: 0.4202083\ttotal: 524ms\tremaining: 1.07s\n",
            "329:\tlearn: 0.4199571\ttotal: 526ms\tremaining: 1.07s\n",
            "330:\tlearn: 0.4197752\ttotal: 527ms\tremaining: 1.07s\n",
            "331:\tlearn: 0.4194444\ttotal: 529ms\tremaining: 1.06s\n",
            "332:\tlearn: 0.4190473\ttotal: 530ms\tremaining: 1.06s\n",
            "333:\tlearn: 0.4189040\ttotal: 531ms\tremaining: 1.06s\n",
            "334:\tlearn: 0.4185448\ttotal: 533ms\tremaining: 1.06s\n",
            "335:\tlearn: 0.4182879\ttotal: 534ms\tremaining: 1.05s\n",
            "336:\tlearn: 0.4178992\ttotal: 536ms\tremaining: 1.05s\n",
            "337:\tlearn: 0.4175544\ttotal: 537ms\tremaining: 1.05s\n",
            "338:\tlearn: 0.4171743\ttotal: 539ms\tremaining: 1.05s\n",
            "339:\tlearn: 0.4170014\ttotal: 540ms\tremaining: 1.05s\n",
            "340:\tlearn: 0.4166268\ttotal: 541ms\tremaining: 1.05s\n",
            "341:\tlearn: 0.4163741\ttotal: 543ms\tremaining: 1.04s\n",
            "342:\tlearn: 0.4161943\ttotal: 544ms\tremaining: 1.04s\n",
            "343:\tlearn: 0.4159701\ttotal: 546ms\tremaining: 1.04s\n",
            "344:\tlearn: 0.4156826\ttotal: 547ms\tremaining: 1.04s\n",
            "345:\tlearn: 0.4152930\ttotal: 549ms\tremaining: 1.04s\n",
            "346:\tlearn: 0.4150890\ttotal: 551ms\tremaining: 1.04s\n",
            "347:\tlearn: 0.4148134\ttotal: 556ms\tremaining: 1.04s\n",
            "348:\tlearn: 0.4147196\ttotal: 558ms\tremaining: 1.04s\n",
            "349:\tlearn: 0.4145872\ttotal: 559ms\tremaining: 1.04s\n",
            "350:\tlearn: 0.4144202\ttotal: 561ms\tremaining: 1.04s\n",
            "351:\tlearn: 0.4140809\ttotal: 563ms\tremaining: 1.03s\n",
            "352:\tlearn: 0.4136676\ttotal: 564ms\tremaining: 1.03s\n",
            "353:\tlearn: 0.4132686\ttotal: 566ms\tremaining: 1.03s\n",
            "354:\tlearn: 0.4130785\ttotal: 568ms\tremaining: 1.03s\n",
            "355:\tlearn: 0.4127993\ttotal: 569ms\tremaining: 1.03s\n",
            "356:\tlearn: 0.4124896\ttotal: 571ms\tremaining: 1.03s\n",
            "357:\tlearn: 0.4122663\ttotal: 572ms\tremaining: 1.03s\n",
            "358:\tlearn: 0.4121296\ttotal: 574ms\tremaining: 1.02s\n",
            "359:\tlearn: 0.4120235\ttotal: 575ms\tremaining: 1.02s\n",
            "360:\tlearn: 0.4116888\ttotal: 577ms\tremaining: 1.02s\n",
            "361:\tlearn: 0.4115003\ttotal: 578ms\tremaining: 1.02s\n",
            "362:\tlearn: 0.4110859\ttotal: 580ms\tremaining: 1.02s\n",
            "363:\tlearn: 0.4109901\ttotal: 581ms\tremaining: 1.01s\n",
            "364:\tlearn: 0.4109209\ttotal: 582ms\tremaining: 1.01s\n",
            "365:\tlearn: 0.4105007\ttotal: 583ms\tremaining: 1.01s\n",
            "366:\tlearn: 0.4102338\ttotal: 584ms\tremaining: 1.01s\n",
            "367:\tlearn: 0.4099908\ttotal: 586ms\tremaining: 1.01s\n",
            "368:\tlearn: 0.4094313\ttotal: 587ms\tremaining: 1s\n",
            "369:\tlearn: 0.4090530\ttotal: 589ms\tremaining: 1s\n",
            "370:\tlearn: 0.4088404\ttotal: 590ms\tremaining: 1s\n",
            "371:\tlearn: 0.4085679\ttotal: 592ms\tremaining: 999ms\n",
            "372:\tlearn: 0.4082650\ttotal: 593ms\tremaining: 997ms\n",
            "373:\tlearn: 0.4079764\ttotal: 595ms\tremaining: 996ms\n",
            "374:\tlearn: 0.4078681\ttotal: 596ms\tremaining: 994ms\n",
            "375:\tlearn: 0.4077243\ttotal: 598ms\tremaining: 992ms\n",
            "376:\tlearn: 0.4074272\ttotal: 599ms\tremaining: 990ms\n",
            "377:\tlearn: 0.4070887\ttotal: 601ms\tremaining: 989ms\n",
            "378:\tlearn: 0.4068115\ttotal: 602ms\tremaining: 987ms\n",
            "379:\tlearn: 0.4065836\ttotal: 604ms\tremaining: 985ms\n",
            "380:\tlearn: 0.4061938\ttotal: 605ms\tremaining: 983ms\n",
            "381:\tlearn: 0.4058874\ttotal: 607ms\tremaining: 981ms\n",
            "382:\tlearn: 0.4057320\ttotal: 608ms\tremaining: 980ms\n",
            "383:\tlearn: 0.4053043\ttotal: 610ms\tremaining: 978ms\n",
            "384:\tlearn: 0.4049021\ttotal: 611ms\tremaining: 976ms\n",
            "385:\tlearn: 0.4044418\ttotal: 613ms\tremaining: 974ms\n",
            "386:\tlearn: 0.4043905\ttotal: 613ms\tremaining: 972ms\n",
            "387:\tlearn: 0.4041274\ttotal: 615ms\tremaining: 970ms\n",
            "388:\tlearn: 0.4035437\ttotal: 617ms\tremaining: 968ms\n",
            "389:\tlearn: 0.4033205\ttotal: 618ms\tremaining: 967ms\n",
            "390:\tlearn: 0.4029830\ttotal: 619ms\tremaining: 965ms\n",
            "391:\tlearn: 0.4025214\ttotal: 621ms\tremaining: 963ms\n",
            "392:\tlearn: 0.4020845\ttotal: 622ms\tremaining: 961ms\n",
            "393:\tlearn: 0.4018095\ttotal: 624ms\tremaining: 959ms\n",
            "394:\tlearn: 0.4015594\ttotal: 625ms\tremaining: 958ms\n",
            "395:\tlearn: 0.4011074\ttotal: 627ms\tremaining: 956ms\n",
            "396:\tlearn: 0.4008892\ttotal: 628ms\tremaining: 954ms\n",
            "397:\tlearn: 0.4004878\ttotal: 630ms\tremaining: 952ms\n",
            "398:\tlearn: 0.4001476\ttotal: 631ms\tremaining: 951ms\n",
            "399:\tlearn: 0.4000103\ttotal: 633ms\tremaining: 949ms\n",
            "400:\tlearn: 0.3998331\ttotal: 634ms\tremaining: 947ms\n",
            "401:\tlearn: 0.3993994\ttotal: 635ms\tremaining: 945ms\n",
            "402:\tlearn: 0.3992065\ttotal: 637ms\tremaining: 943ms\n",
            "403:\tlearn: 0.3990306\ttotal: 638ms\tremaining: 942ms\n",
            "404:\tlearn: 0.3988223\ttotal: 640ms\tremaining: 940ms\n",
            "405:\tlearn: 0.3985278\ttotal: 641ms\tremaining: 938ms\n",
            "406:\tlearn: 0.3980760\ttotal: 643ms\tremaining: 936ms\n",
            "407:\tlearn: 0.3979175\ttotal: 644ms\tremaining: 935ms\n",
            "408:\tlearn: 0.3974806\ttotal: 646ms\tremaining: 933ms\n",
            "409:\tlearn: 0.3972673\ttotal: 647ms\tremaining: 931ms\n",
            "410:\tlearn: 0.3970697\ttotal: 648ms\tremaining: 929ms\n",
            "411:\tlearn: 0.3967786\ttotal: 650ms\tremaining: 927ms\n",
            "412:\tlearn: 0.3966397\ttotal: 651ms\tremaining: 926ms\n",
            "413:\tlearn: 0.3964662\ttotal: 653ms\tremaining: 924ms\n",
            "414:\tlearn: 0.3962637\ttotal: 654ms\tremaining: 922ms\n",
            "415:\tlearn: 0.3960074\ttotal: 656ms\tremaining: 920ms\n",
            "416:\tlearn: 0.3959767\ttotal: 656ms\tremaining: 917ms\n",
            "417:\tlearn: 0.3956067\ttotal: 658ms\tremaining: 916ms\n",
            "418:\tlearn: 0.3953521\ttotal: 659ms\tremaining: 914ms\n",
            "419:\tlearn: 0.3950894\ttotal: 660ms\tremaining: 912ms\n",
            "420:\tlearn: 0.3947637\ttotal: 662ms\tremaining: 910ms\n",
            "421:\tlearn: 0.3944604\ttotal: 663ms\tremaining: 909ms\n",
            "422:\tlearn: 0.3939438\ttotal: 665ms\tremaining: 907ms\n",
            "423:\tlearn: 0.3938800\ttotal: 666ms\tremaining: 905ms\n",
            "424:\tlearn: 0.3937531\ttotal: 668ms\tremaining: 903ms\n",
            "425:\tlearn: 0.3935813\ttotal: 669ms\tremaining: 902ms\n",
            "426:\tlearn: 0.3933468\ttotal: 671ms\tremaining: 900ms\n",
            "427:\tlearn: 0.3930408\ttotal: 672ms\tremaining: 898ms\n",
            "428:\tlearn: 0.3928527\ttotal: 673ms\tremaining: 896ms\n",
            "429:\tlearn: 0.3927049\ttotal: 675ms\tremaining: 895ms\n",
            "430:\tlearn: 0.3923023\ttotal: 677ms\tremaining: 893ms\n",
            "431:\tlearn: 0.3918478\ttotal: 678ms\tremaining: 892ms\n",
            "432:\tlearn: 0.3914846\ttotal: 680ms\tremaining: 890ms\n",
            "433:\tlearn: 0.3914809\ttotal: 680ms\tremaining: 887ms\n",
            "434:\tlearn: 0.3912661\ttotal: 682ms\tremaining: 886ms\n",
            "435:\tlearn: 0.3910293\ttotal: 684ms\tremaining: 884ms\n",
            "436:\tlearn: 0.3906663\ttotal: 685ms\tremaining: 883ms\n",
            "437:\tlearn: 0.3903509\ttotal: 687ms\tremaining: 881ms\n",
            "438:\tlearn: 0.3901592\ttotal: 688ms\tremaining: 879ms\n",
            "439:\tlearn: 0.3899868\ttotal: 690ms\tremaining: 878ms\n",
            "440:\tlearn: 0.3898336\ttotal: 691ms\tremaining: 876ms\n",
            "441:\tlearn: 0.3894811\ttotal: 692ms\tremaining: 874ms\n",
            "442:\tlearn: 0.3892951\ttotal: 694ms\tremaining: 872ms\n",
            "443:\tlearn: 0.3891973\ttotal: 695ms\tremaining: 871ms\n",
            "444:\tlearn: 0.3890070\ttotal: 697ms\tremaining: 869ms\n",
            "445:\tlearn: 0.3888724\ttotal: 698ms\tremaining: 867ms\n",
            "446:\tlearn: 0.3886496\ttotal: 702ms\tremaining: 868ms\n",
            "447:\tlearn: 0.3882988\ttotal: 704ms\tremaining: 867ms\n",
            "448:\tlearn: 0.3877676\ttotal: 707ms\tremaining: 867ms\n",
            "449:\tlearn: 0.3875859\ttotal: 708ms\tremaining: 865ms\n",
            "450:\tlearn: 0.3872671\ttotal: 709ms\tremaining: 863ms\n",
            "451:\tlearn: 0.3871368\ttotal: 711ms\tremaining: 861ms\n",
            "452:\tlearn: 0.3870719\ttotal: 712ms\tremaining: 860ms\n",
            "453:\tlearn: 0.3869139\ttotal: 713ms\tremaining: 858ms\n",
            "454:\tlearn: 0.3867507\ttotal: 715ms\tremaining: 856ms\n",
            "455:\tlearn: 0.3866881\ttotal: 716ms\tremaining: 855ms\n",
            "456:\tlearn: 0.3863871\ttotal: 718ms\tremaining: 853ms\n",
            "457:\tlearn: 0.3862025\ttotal: 719ms\tremaining: 851ms\n",
            "458:\tlearn: 0.3860772\ttotal: 721ms\tremaining: 850ms\n",
            "459:\tlearn: 0.3857112\ttotal: 722ms\tremaining: 848ms\n",
            "460:\tlearn: 0.3852963\ttotal: 724ms\tremaining: 846ms\n",
            "461:\tlearn: 0.3850530\ttotal: 725ms\tremaining: 844ms\n",
            "462:\tlearn: 0.3847889\ttotal: 727ms\tremaining: 843ms\n",
            "463:\tlearn: 0.3845592\ttotal: 728ms\tremaining: 841ms\n",
            "464:\tlearn: 0.3844159\ttotal: 729ms\tremaining: 839ms\n",
            "465:\tlearn: 0.3841585\ttotal: 731ms\tremaining: 838ms\n",
            "466:\tlearn: 0.3840176\ttotal: 732ms\tremaining: 836ms\n",
            "467:\tlearn: 0.3837986\ttotal: 734ms\tremaining: 834ms\n",
            "468:\tlearn: 0.3836955\ttotal: 735ms\tremaining: 833ms\n",
            "469:\tlearn: 0.3834906\ttotal: 739ms\tremaining: 833ms\n",
            "470:\tlearn: 0.3830097\ttotal: 745ms\tremaining: 836ms\n",
            "471:\tlearn: 0.3826298\ttotal: 746ms\tremaining: 834ms\n",
            "472:\tlearn: 0.3824156\ttotal: 747ms\tremaining: 833ms\n",
            "473:\tlearn: 0.3820267\ttotal: 749ms\tremaining: 831ms\n",
            "474:\tlearn: 0.3818957\ttotal: 750ms\tremaining: 829ms\n",
            "475:\tlearn: 0.3816482\ttotal: 752ms\tremaining: 828ms\n",
            "476:\tlearn: 0.3814507\ttotal: 753ms\tremaining: 826ms\n",
            "477:\tlearn: 0.3810002\ttotal: 755ms\tremaining: 825ms\n",
            "478:\tlearn: 0.3806503\ttotal: 757ms\tremaining: 823ms\n",
            "479:\tlearn: 0.3804984\ttotal: 758ms\tremaining: 821ms\n",
            "480:\tlearn: 0.3801902\ttotal: 760ms\tremaining: 820ms\n",
            "481:\tlearn: 0.3798018\ttotal: 761ms\tremaining: 818ms\n",
            "482:\tlearn: 0.3794898\ttotal: 763ms\tremaining: 817ms\n",
            "483:\tlearn: 0.3792799\ttotal: 770ms\tremaining: 821ms\n",
            "484:\tlearn: 0.3788598\ttotal: 771ms\tremaining: 819ms\n",
            "485:\tlearn: 0.3784045\ttotal: 773ms\tremaining: 817ms\n",
            "486:\tlearn: 0.3782460\ttotal: 774ms\tremaining: 816ms\n",
            "487:\tlearn: 0.3780565\ttotal: 776ms\tremaining: 814ms\n",
            "488:\tlearn: 0.3776955\ttotal: 777ms\tremaining: 812ms\n",
            "489:\tlearn: 0.3774484\ttotal: 779ms\tremaining: 811ms\n",
            "490:\tlearn: 0.3772629\ttotal: 780ms\tremaining: 809ms\n",
            "491:\tlearn: 0.3769072\ttotal: 782ms\tremaining: 807ms\n",
            "492:\tlearn: 0.3766719\ttotal: 783ms\tremaining: 805ms\n",
            "493:\tlearn: 0.3764825\ttotal: 785ms\tremaining: 804ms\n",
            "494:\tlearn: 0.3763856\ttotal: 786ms\tremaining: 802ms\n",
            "495:\tlearn: 0.3761541\ttotal: 788ms\tremaining: 800ms\n",
            "496:\tlearn: 0.3759589\ttotal: 789ms\tremaining: 799ms\n",
            "497:\tlearn: 0.3756158\ttotal: 791ms\tremaining: 797ms\n",
            "498:\tlearn: 0.3752309\ttotal: 792ms\tremaining: 795ms\n",
            "499:\tlearn: 0.3750006\ttotal: 794ms\tremaining: 794ms\n",
            "500:\tlearn: 0.3749278\ttotal: 795ms\tremaining: 792ms\n",
            "501:\tlearn: 0.3747078\ttotal: 797ms\tremaining: 791ms\n",
            "502:\tlearn: 0.3745009\ttotal: 798ms\tremaining: 789ms\n",
            "503:\tlearn: 0.3743780\ttotal: 800ms\tremaining: 787ms\n",
            "504:\tlearn: 0.3740286\ttotal: 801ms\tremaining: 785ms\n",
            "505:\tlearn: 0.3739139\ttotal: 803ms\tremaining: 784ms\n",
            "506:\tlearn: 0.3737586\ttotal: 804ms\tremaining: 782ms\n",
            "507:\tlearn: 0.3735965\ttotal: 806ms\tremaining: 780ms\n",
            "508:\tlearn: 0.3734355\ttotal: 807ms\tremaining: 779ms\n",
            "509:\tlearn: 0.3730958\ttotal: 809ms\tremaining: 777ms\n",
            "510:\tlearn: 0.3727159\ttotal: 810ms\tremaining: 775ms\n",
            "511:\tlearn: 0.3723464\ttotal: 812ms\tremaining: 774ms\n",
            "512:\tlearn: 0.3720900\ttotal: 813ms\tremaining: 772ms\n",
            "513:\tlearn: 0.3718200\ttotal: 815ms\tremaining: 770ms\n",
            "514:\tlearn: 0.3717145\ttotal: 816ms\tremaining: 769ms\n",
            "515:\tlearn: 0.3714706\ttotal: 818ms\tremaining: 767ms\n",
            "516:\tlearn: 0.3713499\ttotal: 819ms\tremaining: 765ms\n",
            "517:\tlearn: 0.3711207\ttotal: 821ms\tremaining: 764ms\n",
            "518:\tlearn: 0.3707808\ttotal: 825ms\tremaining: 764ms\n",
            "519:\tlearn: 0.3705949\ttotal: 827ms\tremaining: 763ms\n",
            "520:\tlearn: 0.3704476\ttotal: 828ms\tremaining: 761ms\n",
            "521:\tlearn: 0.3702843\ttotal: 830ms\tremaining: 760ms\n",
            "522:\tlearn: 0.3700643\ttotal: 831ms\tremaining: 758ms\n",
            "523:\tlearn: 0.3697393\ttotal: 833ms\tremaining: 756ms\n",
            "524:\tlearn: 0.3694842\ttotal: 834ms\tremaining: 755ms\n",
            "525:\tlearn: 0.3693094\ttotal: 836ms\tremaining: 753ms\n",
            "526:\tlearn: 0.3690541\ttotal: 837ms\tremaining: 751ms\n",
            "527:\tlearn: 0.3689483\ttotal: 839ms\tremaining: 750ms\n",
            "528:\tlearn: 0.3688155\ttotal: 840ms\tremaining: 748ms\n",
            "529:\tlearn: 0.3686091\ttotal: 842ms\tremaining: 746ms\n",
            "530:\tlearn: 0.3682142\ttotal: 843ms\tremaining: 745ms\n",
            "531:\tlearn: 0.3681063\ttotal: 845ms\tremaining: 743ms\n",
            "532:\tlearn: 0.3678471\ttotal: 846ms\tremaining: 741ms\n",
            "533:\tlearn: 0.3674621\ttotal: 848ms\tremaining: 740ms\n",
            "534:\tlearn: 0.3671884\ttotal: 849ms\tremaining: 738ms\n",
            "535:\tlearn: 0.3669075\ttotal: 851ms\tremaining: 736ms\n",
            "536:\tlearn: 0.3666136\ttotal: 852ms\tremaining: 735ms\n",
            "537:\tlearn: 0.3665050\ttotal: 853ms\tremaining: 733ms\n",
            "538:\tlearn: 0.3663543\ttotal: 855ms\tremaining: 731ms\n",
            "539:\tlearn: 0.3662181\ttotal: 856ms\tremaining: 729ms\n",
            "540:\tlearn: 0.3660108\ttotal: 858ms\tremaining: 728ms\n",
            "541:\tlearn: 0.3659215\ttotal: 859ms\tremaining: 726ms\n",
            "542:\tlearn: 0.3654243\ttotal: 861ms\tremaining: 724ms\n",
            "543:\tlearn: 0.3651618\ttotal: 862ms\tremaining: 723ms\n",
            "544:\tlearn: 0.3649592\ttotal: 864ms\tremaining: 721ms\n",
            "545:\tlearn: 0.3646926\ttotal: 865ms\tremaining: 719ms\n",
            "546:\tlearn: 0.3644941\ttotal: 866ms\tremaining: 718ms\n",
            "547:\tlearn: 0.3643510\ttotal: 868ms\tremaining: 716ms\n",
            "548:\tlearn: 0.3642070\ttotal: 869ms\tremaining: 714ms\n",
            "549:\tlearn: 0.3638507\ttotal: 871ms\tremaining: 712ms\n",
            "550:\tlearn: 0.3637748\ttotal: 872ms\tremaining: 711ms\n",
            "551:\tlearn: 0.3635486\ttotal: 874ms\tremaining: 709ms\n",
            "552:\tlearn: 0.3631794\ttotal: 875ms\tremaining: 707ms\n",
            "553:\tlearn: 0.3630580\ttotal: 877ms\tremaining: 706ms\n",
            "554:\tlearn: 0.3627401\ttotal: 878ms\tremaining: 704ms\n",
            "555:\tlearn: 0.3622958\ttotal: 880ms\tremaining: 702ms\n",
            "556:\tlearn: 0.3621478\ttotal: 881ms\tremaining: 701ms\n",
            "557:\tlearn: 0.3618697\ttotal: 882ms\tremaining: 699ms\n",
            "558:\tlearn: 0.3616768\ttotal: 884ms\tremaining: 697ms\n",
            "559:\tlearn: 0.3616396\ttotal: 885ms\tremaining: 696ms\n",
            "560:\tlearn: 0.3614927\ttotal: 887ms\tremaining: 694ms\n",
            "561:\tlearn: 0.3612767\ttotal: 888ms\tremaining: 692ms\n",
            "562:\tlearn: 0.3610699\ttotal: 889ms\tremaining: 690ms\n",
            "563:\tlearn: 0.3607268\ttotal: 891ms\tremaining: 689ms\n",
            "564:\tlearn: 0.3605755\ttotal: 892ms\tremaining: 687ms\n",
            "565:\tlearn: 0.3603813\ttotal: 894ms\tremaining: 685ms\n",
            "566:\tlearn: 0.3598554\ttotal: 895ms\tremaining: 684ms\n",
            "567:\tlearn: 0.3597346\ttotal: 897ms\tremaining: 682ms\n",
            "568:\tlearn: 0.3595822\ttotal: 898ms\tremaining: 680ms\n",
            "569:\tlearn: 0.3593070\ttotal: 900ms\tremaining: 679ms\n",
            "570:\tlearn: 0.3588908\ttotal: 901ms\tremaining: 677ms\n",
            "571:\tlearn: 0.3588023\ttotal: 903ms\tremaining: 675ms\n",
            "572:\tlearn: 0.3586039\ttotal: 904ms\tremaining: 674ms\n",
            "573:\tlearn: 0.3583816\ttotal: 906ms\tremaining: 672ms\n",
            "574:\tlearn: 0.3582197\ttotal: 907ms\tremaining: 670ms\n",
            "575:\tlearn: 0.3580241\ttotal: 908ms\tremaining: 669ms\n",
            "576:\tlearn: 0.3576779\ttotal: 910ms\tremaining: 667ms\n",
            "577:\tlearn: 0.3575551\ttotal: 911ms\tremaining: 665ms\n",
            "578:\tlearn: 0.3575384\ttotal: 912ms\tremaining: 663ms\n",
            "579:\tlearn: 0.3574213\ttotal: 914ms\tremaining: 662ms\n",
            "580:\tlearn: 0.3572408\ttotal: 915ms\tremaining: 660ms\n",
            "581:\tlearn: 0.3569353\ttotal: 916ms\tremaining: 658ms\n",
            "582:\tlearn: 0.3567421\ttotal: 918ms\tremaining: 656ms\n",
            "583:\tlearn: 0.3564675\ttotal: 919ms\tremaining: 655ms\n",
            "584:\tlearn: 0.3561004\ttotal: 925ms\tremaining: 656ms\n",
            "585:\tlearn: 0.3558402\ttotal: 927ms\tremaining: 655ms\n",
            "586:\tlearn: 0.3557258\ttotal: 928ms\tremaining: 653ms\n",
            "587:\tlearn: 0.3554034\ttotal: 930ms\tremaining: 651ms\n",
            "588:\tlearn: 0.3551187\ttotal: 931ms\tremaining: 650ms\n",
            "589:\tlearn: 0.3549544\ttotal: 933ms\tremaining: 648ms\n",
            "590:\tlearn: 0.3545409\ttotal: 934ms\tremaining: 646ms\n",
            "591:\tlearn: 0.3543191\ttotal: 935ms\tremaining: 645ms\n",
            "592:\tlearn: 0.3540866\ttotal: 937ms\tremaining: 643ms\n",
            "593:\tlearn: 0.3539734\ttotal: 938ms\tremaining: 641ms\n",
            "594:\tlearn: 0.3537871\ttotal: 940ms\tremaining: 640ms\n",
            "595:\tlearn: 0.3534996\ttotal: 941ms\tremaining: 638ms\n",
            "596:\tlearn: 0.3532020\ttotal: 943ms\tremaining: 636ms\n",
            "597:\tlearn: 0.3530795\ttotal: 944ms\tremaining: 635ms\n",
            "598:\tlearn: 0.3528052\ttotal: 946ms\tremaining: 633ms\n",
            "599:\tlearn: 0.3525886\ttotal: 947ms\tremaining: 631ms\n",
            "600:\tlearn: 0.3524976\ttotal: 948ms\tremaining: 630ms\n",
            "601:\tlearn: 0.3520901\ttotal: 950ms\tremaining: 628ms\n",
            "602:\tlearn: 0.3518670\ttotal: 951ms\tremaining: 626ms\n",
            "603:\tlearn: 0.3514330\ttotal: 953ms\tremaining: 625ms\n",
            "604:\tlearn: 0.3511500\ttotal: 954ms\tremaining: 623ms\n",
            "605:\tlearn: 0.3509335\ttotal: 956ms\tremaining: 621ms\n",
            "606:\tlearn: 0.3505872\ttotal: 957ms\tremaining: 620ms\n",
            "607:\tlearn: 0.3503177\ttotal: 963ms\tremaining: 621ms\n",
            "608:\tlearn: 0.3500610\ttotal: 965ms\tremaining: 619ms\n",
            "609:\tlearn: 0.3498396\ttotal: 968ms\tremaining: 619ms\n",
            "610:\tlearn: 0.3496248\ttotal: 970ms\tremaining: 618ms\n",
            "611:\tlearn: 0.3495053\ttotal: 972ms\tremaining: 616ms\n",
            "612:\tlearn: 0.3493485\ttotal: 973ms\tremaining: 615ms\n",
            "613:\tlearn: 0.3492029\ttotal: 976ms\tremaining: 613ms\n",
            "614:\tlearn: 0.3488988\ttotal: 977ms\tremaining: 612ms\n",
            "615:\tlearn: 0.3488366\ttotal: 980ms\tremaining: 611ms\n",
            "616:\tlearn: 0.3486248\ttotal: 982ms\tremaining: 610ms\n",
            "617:\tlearn: 0.3484215\ttotal: 983ms\tremaining: 608ms\n",
            "618:\tlearn: 0.3483953\ttotal: 984ms\tremaining: 606ms\n",
            "619:\tlearn: 0.3482252\ttotal: 987ms\tremaining: 605ms\n",
            "620:\tlearn: 0.3479388\ttotal: 990ms\tremaining: 604ms\n",
            "621:\tlearn: 0.3478605\ttotal: 991ms\tremaining: 602ms\n",
            "622:\tlearn: 0.3477008\ttotal: 992ms\tremaining: 600ms\n",
            "623:\tlearn: 0.3476306\ttotal: 994ms\tremaining: 599ms\n",
            "624:\tlearn: 0.3472619\ttotal: 995ms\tremaining: 597ms\n",
            "625:\tlearn: 0.3471231\ttotal: 997ms\tremaining: 595ms\n",
            "626:\tlearn: 0.3469767\ttotal: 998ms\tremaining: 594ms\n",
            "627:\tlearn: 0.3465619\ttotal: 999ms\tremaining: 592ms\n",
            "628:\tlearn: 0.3461233\ttotal: 1s\tremaining: 590ms\n",
            "629:\tlearn: 0.3459714\ttotal: 1s\tremaining: 589ms\n",
            "630:\tlearn: 0.3458941\ttotal: 1s\tremaining: 587ms\n",
            "631:\tlearn: 0.3457160\ttotal: 1s\tremaining: 585ms\n",
            "632:\tlearn: 0.3455475\ttotal: 1.01s\tremaining: 584ms\n",
            "633:\tlearn: 0.3453193\ttotal: 1.01s\tremaining: 582ms\n",
            "634:\tlearn: 0.3451274\ttotal: 1.01s\tremaining: 581ms\n",
            "635:\tlearn: 0.3449840\ttotal: 1.01s\tremaining: 579ms\n",
            "636:\tlearn: 0.3446351\ttotal: 1.01s\tremaining: 577ms\n",
            "637:\tlearn: 0.3443772\ttotal: 1.01s\tremaining: 576ms\n",
            "638:\tlearn: 0.3443666\ttotal: 1.01s\tremaining: 573ms\n",
            "639:\tlearn: 0.3442403\ttotal: 1.02s\tremaining: 572ms\n",
            "640:\tlearn: 0.3440101\ttotal: 1.02s\tremaining: 570ms\n",
            "641:\tlearn: 0.3437687\ttotal: 1.02s\tremaining: 568ms\n",
            "642:\tlearn: 0.3434290\ttotal: 1.02s\tremaining: 567ms\n",
            "643:\tlearn: 0.3432756\ttotal: 1.02s\tremaining: 565ms\n",
            "644:\tlearn: 0.3431075\ttotal: 1.02s\tremaining: 563ms\n",
            "645:\tlearn: 0.3429999\ttotal: 1.02s\tremaining: 562ms\n",
            "646:\tlearn: 0.3427383\ttotal: 1.03s\tremaining: 560ms\n",
            "647:\tlearn: 0.3424504\ttotal: 1.03s\tremaining: 558ms\n",
            "648:\tlearn: 0.3423092\ttotal: 1.03s\tremaining: 557ms\n",
            "649:\tlearn: 0.3420713\ttotal: 1.03s\tremaining: 555ms\n",
            "650:\tlearn: 0.3417896\ttotal: 1.03s\tremaining: 553ms\n",
            "651:\tlearn: 0.3415333\ttotal: 1.03s\tremaining: 552ms\n",
            "652:\tlearn: 0.3411481\ttotal: 1.03s\tremaining: 550ms\n",
            "653:\tlearn: 0.3410609\ttotal: 1.04s\tremaining: 548ms\n",
            "654:\tlearn: 0.3408592\ttotal: 1.04s\tremaining: 547ms\n",
            "655:\tlearn: 0.3407436\ttotal: 1.04s\tremaining: 545ms\n",
            "656:\tlearn: 0.3403074\ttotal: 1.04s\tremaining: 544ms\n",
            "657:\tlearn: 0.3401858\ttotal: 1.04s\tremaining: 542ms\n",
            "658:\tlearn: 0.3400410\ttotal: 1.04s\tremaining: 540ms\n",
            "659:\tlearn: 0.3399172\ttotal: 1.04s\tremaining: 539ms\n",
            "660:\tlearn: 0.3396738\ttotal: 1.05s\tremaining: 537ms\n",
            "661:\tlearn: 0.3395797\ttotal: 1.05s\tremaining: 536ms\n",
            "662:\tlearn: 0.3393626\ttotal: 1.05s\tremaining: 534ms\n",
            "663:\tlearn: 0.3390404\ttotal: 1.05s\tremaining: 532ms\n",
            "664:\tlearn: 0.3389929\ttotal: 1.05s\tremaining: 531ms\n",
            "665:\tlearn: 0.3388429\ttotal: 1.05s\tremaining: 529ms\n",
            "666:\tlearn: 0.3384732\ttotal: 1.06s\tremaining: 528ms\n",
            "667:\tlearn: 0.3382352\ttotal: 1.06s\tremaining: 526ms\n",
            "668:\tlearn: 0.3379666\ttotal: 1.06s\tremaining: 525ms\n",
            "669:\tlearn: 0.3377141\ttotal: 1.06s\tremaining: 523ms\n",
            "670:\tlearn: 0.3375953\ttotal: 1.06s\tremaining: 522ms\n",
            "671:\tlearn: 0.3372703\ttotal: 1.06s\tremaining: 520ms\n",
            "672:\tlearn: 0.3371604\ttotal: 1.07s\tremaining: 518ms\n",
            "673:\tlearn: 0.3370934\ttotal: 1.07s\tremaining: 516ms\n",
            "674:\tlearn: 0.3367911\ttotal: 1.07s\tremaining: 515ms\n",
            "675:\tlearn: 0.3367115\ttotal: 1.07s\tremaining: 513ms\n",
            "676:\tlearn: 0.3364100\ttotal: 1.07s\tremaining: 511ms\n",
            "677:\tlearn: 0.3362003\ttotal: 1.07s\tremaining: 510ms\n",
            "678:\tlearn: 0.3359767\ttotal: 1.07s\tremaining: 508ms\n",
            "679:\tlearn: 0.3357216\ttotal: 1.08s\tremaining: 506ms\n",
            "680:\tlearn: 0.3354723\ttotal: 1.08s\tremaining: 505ms\n",
            "681:\tlearn: 0.3353539\ttotal: 1.08s\tremaining: 503ms\n",
            "682:\tlearn: 0.3352371\ttotal: 1.08s\tremaining: 501ms\n",
            "683:\tlearn: 0.3350594\ttotal: 1.08s\tremaining: 500ms\n",
            "684:\tlearn: 0.3348478\ttotal: 1.08s\tremaining: 498ms\n",
            "685:\tlearn: 0.3345994\ttotal: 1.08s\tremaining: 496ms\n",
            "686:\tlearn: 0.3344167\ttotal: 1.08s\tremaining: 495ms\n",
            "687:\tlearn: 0.3341843\ttotal: 1.09s\tremaining: 493ms\n",
            "688:\tlearn: 0.3340781\ttotal: 1.09s\tremaining: 491ms\n",
            "689:\tlearn: 0.3337800\ttotal: 1.09s\tremaining: 490ms\n",
            "690:\tlearn: 0.3337273\ttotal: 1.09s\tremaining: 488ms\n",
            "691:\tlearn: 0.3334573\ttotal: 1.09s\tremaining: 486ms\n",
            "692:\tlearn: 0.3330178\ttotal: 1.09s\tremaining: 485ms\n",
            "693:\tlearn: 0.3324835\ttotal: 1.09s\tremaining: 483ms\n",
            "694:\tlearn: 0.3323987\ttotal: 1.1s\tremaining: 481ms\n",
            "695:\tlearn: 0.3321540\ttotal: 1.1s\tremaining: 480ms\n",
            "696:\tlearn: 0.3318733\ttotal: 1.1s\tremaining: 478ms\n",
            "697:\tlearn: 0.3317879\ttotal: 1.1s\tremaining: 476ms\n",
            "698:\tlearn: 0.3316696\ttotal: 1.1s\tremaining: 475ms\n",
            "699:\tlearn: 0.3312878\ttotal: 1.1s\tremaining: 473ms\n",
            "700:\tlearn: 0.3309672\ttotal: 1.11s\tremaining: 472ms\n",
            "701:\tlearn: 0.3309059\ttotal: 1.11s\tremaining: 470ms\n",
            "702:\tlearn: 0.3307400\ttotal: 1.11s\tremaining: 469ms\n",
            "703:\tlearn: 0.3305955\ttotal: 1.11s\tremaining: 468ms\n",
            "704:\tlearn: 0.3304614\ttotal: 1.11s\tremaining: 467ms\n",
            "705:\tlearn: 0.3303954\ttotal: 1.12s\tremaining: 465ms\n",
            "706:\tlearn: 0.3303365\ttotal: 1.12s\tremaining: 463ms\n",
            "707:\tlearn: 0.3300908\ttotal: 1.12s\tremaining: 462ms\n",
            "708:\tlearn: 0.3299382\ttotal: 1.12s\tremaining: 460ms\n",
            "709:\tlearn: 0.3297777\ttotal: 1.12s\tremaining: 458ms\n",
            "710:\tlearn: 0.3294625\ttotal: 1.12s\tremaining: 457ms\n",
            "711:\tlearn: 0.3293353\ttotal: 1.13s\tremaining: 455ms\n",
            "712:\tlearn: 0.3290608\ttotal: 1.13s\tremaining: 454ms\n",
            "713:\tlearn: 0.3289191\ttotal: 1.13s\tremaining: 452ms\n",
            "714:\tlearn: 0.3286440\ttotal: 1.13s\tremaining: 450ms\n",
            "715:\tlearn: 0.3283087\ttotal: 1.13s\tremaining: 449ms\n",
            "716:\tlearn: 0.3281997\ttotal: 1.13s\tremaining: 447ms\n",
            "717:\tlearn: 0.3280750\ttotal: 1.13s\tremaining: 445ms\n",
            "718:\tlearn: 0.3278892\ttotal: 1.14s\tremaining: 444ms\n",
            "719:\tlearn: 0.3275145\ttotal: 1.14s\tremaining: 442ms\n",
            "720:\tlearn: 0.3273344\ttotal: 1.14s\tremaining: 440ms\n",
            "721:\tlearn: 0.3271876\ttotal: 1.14s\tremaining: 439ms\n",
            "722:\tlearn: 0.3270768\ttotal: 1.14s\tremaining: 437ms\n",
            "723:\tlearn: 0.3270677\ttotal: 1.14s\tremaining: 435ms\n",
            "724:\tlearn: 0.3269072\ttotal: 1.14s\tremaining: 434ms\n",
            "725:\tlearn: 0.3268015\ttotal: 1.14s\tremaining: 432ms\n",
            "726:\tlearn: 0.3267246\ttotal: 1.15s\tremaining: 430ms\n",
            "727:\tlearn: 0.3265344\ttotal: 1.15s\tremaining: 429ms\n",
            "728:\tlearn: 0.3264404\ttotal: 1.15s\tremaining: 427ms\n",
            "729:\tlearn: 0.3262761\ttotal: 1.15s\tremaining: 426ms\n",
            "730:\tlearn: 0.3260643\ttotal: 1.15s\tremaining: 424ms\n",
            "731:\tlearn: 0.3258447\ttotal: 1.15s\tremaining: 423ms\n",
            "732:\tlearn: 0.3257509\ttotal: 1.16s\tremaining: 421ms\n",
            "733:\tlearn: 0.3254157\ttotal: 1.16s\tremaining: 420ms\n",
            "734:\tlearn: 0.3251708\ttotal: 1.16s\tremaining: 418ms\n",
            "735:\tlearn: 0.3250266\ttotal: 1.16s\tremaining: 417ms\n",
            "736:\tlearn: 0.3248518\ttotal: 1.16s\tremaining: 415ms\n",
            "737:\tlearn: 0.3247481\ttotal: 1.17s\tremaining: 414ms\n",
            "738:\tlearn: 0.3245534\ttotal: 1.17s\tremaining: 412ms\n",
            "739:\tlearn: 0.3242781\ttotal: 1.17s\tremaining: 410ms\n",
            "740:\tlearn: 0.3240328\ttotal: 1.17s\tremaining: 409ms\n",
            "741:\tlearn: 0.3239220\ttotal: 1.17s\tremaining: 407ms\n",
            "742:\tlearn: 0.3236018\ttotal: 1.17s\tremaining: 406ms\n",
            "743:\tlearn: 0.3233254\ttotal: 1.17s\tremaining: 404ms\n",
            "744:\tlearn: 0.3232045\ttotal: 1.18s\tremaining: 402ms\n",
            "745:\tlearn: 0.3229404\ttotal: 1.18s\tremaining: 401ms\n",
            "746:\tlearn: 0.3227283\ttotal: 1.18s\tremaining: 399ms\n",
            "747:\tlearn: 0.3225951\ttotal: 1.18s\tremaining: 397ms\n",
            "748:\tlearn: 0.3225060\ttotal: 1.18s\tremaining: 396ms\n",
            "749:\tlearn: 0.3224061\ttotal: 1.18s\tremaining: 394ms\n",
            "750:\tlearn: 0.3220666\ttotal: 1.18s\tremaining: 392ms\n",
            "751:\tlearn: 0.3218540\ttotal: 1.19s\tremaining: 391ms\n",
            "752:\tlearn: 0.3216033\ttotal: 1.19s\tremaining: 389ms\n",
            "753:\tlearn: 0.3215690\ttotal: 1.19s\tremaining: 388ms\n",
            "754:\tlearn: 0.3214967\ttotal: 1.19s\tremaining: 387ms\n",
            "755:\tlearn: 0.3213654\ttotal: 1.19s\tremaining: 386ms\n",
            "756:\tlearn: 0.3211457\ttotal: 1.2s\tremaining: 384ms\n",
            "757:\tlearn: 0.3209120\ttotal: 1.2s\tremaining: 383ms\n",
            "758:\tlearn: 0.3204733\ttotal: 1.2s\tremaining: 381ms\n",
            "759:\tlearn: 0.3203255\ttotal: 1.2s\tremaining: 379ms\n",
            "760:\tlearn: 0.3199333\ttotal: 1.2s\tremaining: 378ms\n",
            "761:\tlearn: 0.3196477\ttotal: 1.2s\tremaining: 376ms\n",
            "762:\tlearn: 0.3195522\ttotal: 1.21s\tremaining: 374ms\n",
            "763:\tlearn: 0.3194177\ttotal: 1.21s\tremaining: 373ms\n",
            "764:\tlearn: 0.3191324\ttotal: 1.21s\tremaining: 371ms\n",
            "765:\tlearn: 0.3190317\ttotal: 1.21s\tremaining: 370ms\n",
            "766:\tlearn: 0.3188139\ttotal: 1.21s\tremaining: 368ms\n",
            "767:\tlearn: 0.3185854\ttotal: 1.21s\tremaining: 366ms\n",
            "768:\tlearn: 0.3184660\ttotal: 1.21s\tremaining: 365ms\n",
            "769:\tlearn: 0.3183771\ttotal: 1.22s\tremaining: 363ms\n",
            "770:\tlearn: 0.3182491\ttotal: 1.22s\tremaining: 362ms\n",
            "771:\tlearn: 0.3180424\ttotal: 1.22s\tremaining: 360ms\n",
            "772:\tlearn: 0.3179558\ttotal: 1.22s\tremaining: 358ms\n",
            "773:\tlearn: 0.3178579\ttotal: 1.22s\tremaining: 357ms\n",
            "774:\tlearn: 0.3174836\ttotal: 1.22s\tremaining: 355ms\n",
            "775:\tlearn: 0.3173951\ttotal: 1.22s\tremaining: 353ms\n",
            "776:\tlearn: 0.3172066\ttotal: 1.23s\tremaining: 352ms\n",
            "777:\tlearn: 0.3168943\ttotal: 1.23s\tremaining: 350ms\n",
            "778:\tlearn: 0.3166400\ttotal: 1.23s\tremaining: 349ms\n",
            "779:\tlearn: 0.3165472\ttotal: 1.23s\tremaining: 347ms\n",
            "780:\tlearn: 0.3162037\ttotal: 1.23s\tremaining: 345ms\n",
            "781:\tlearn: 0.3159623\ttotal: 1.23s\tremaining: 344ms\n",
            "782:\tlearn: 0.3157604\ttotal: 1.23s\tremaining: 342ms\n",
            "783:\tlearn: 0.3157191\ttotal: 1.24s\tremaining: 340ms\n",
            "784:\tlearn: 0.3155655\ttotal: 1.24s\tremaining: 339ms\n",
            "785:\tlearn: 0.3154268\ttotal: 1.24s\tremaining: 337ms\n",
            "786:\tlearn: 0.3152846\ttotal: 1.24s\tremaining: 336ms\n",
            "787:\tlearn: 0.3150797\ttotal: 1.24s\tremaining: 334ms\n",
            "788:\tlearn: 0.3147996\ttotal: 1.24s\tremaining: 332ms\n",
            "789:\tlearn: 0.3146268\ttotal: 1.24s\tremaining: 331ms\n",
            "790:\tlearn: 0.3145573\ttotal: 1.25s\tremaining: 329ms\n",
            "791:\tlearn: 0.3143789\ttotal: 1.25s\tremaining: 328ms\n",
            "792:\tlearn: 0.3142527\ttotal: 1.25s\tremaining: 326ms\n",
            "793:\tlearn: 0.3140242\ttotal: 1.25s\tremaining: 324ms\n",
            "794:\tlearn: 0.3138054\ttotal: 1.25s\tremaining: 323ms\n",
            "795:\tlearn: 0.3135169\ttotal: 1.25s\tremaining: 321ms\n",
            "796:\tlearn: 0.3132244\ttotal: 1.25s\tremaining: 320ms\n",
            "797:\tlearn: 0.3129622\ttotal: 1.26s\tremaining: 318ms\n",
            "798:\tlearn: 0.3127912\ttotal: 1.26s\tremaining: 316ms\n",
            "799:\tlearn: 0.3126347\ttotal: 1.26s\tremaining: 315ms\n",
            "800:\tlearn: 0.3124826\ttotal: 1.26s\tremaining: 313ms\n",
            "801:\tlearn: 0.3123122\ttotal: 1.26s\tremaining: 312ms\n",
            "802:\tlearn: 0.3121717\ttotal: 1.26s\tremaining: 310ms\n",
            "803:\tlearn: 0.3118764\ttotal: 1.26s\tremaining: 308ms\n",
            "804:\tlearn: 0.3118152\ttotal: 1.27s\tremaining: 307ms\n",
            "805:\tlearn: 0.3115014\ttotal: 1.27s\tremaining: 305ms\n",
            "806:\tlearn: 0.3114027\ttotal: 1.27s\tremaining: 304ms\n",
            "807:\tlearn: 0.3112011\ttotal: 1.27s\tremaining: 302ms\n",
            "808:\tlearn: 0.3111084\ttotal: 1.27s\tremaining: 300ms\n",
            "809:\tlearn: 0.3109597\ttotal: 1.27s\tremaining: 299ms\n",
            "810:\tlearn: 0.3107102\ttotal: 1.27s\tremaining: 297ms\n",
            "811:\tlearn: 0.3106044\ttotal: 1.28s\tremaining: 296ms\n",
            "812:\tlearn: 0.3105117\ttotal: 1.28s\tremaining: 294ms\n",
            "813:\tlearn: 0.3104035\ttotal: 1.28s\tremaining: 292ms\n",
            "814:\tlearn: 0.3101388\ttotal: 1.28s\tremaining: 291ms\n",
            "815:\tlearn: 0.3099513\ttotal: 1.28s\tremaining: 289ms\n",
            "816:\tlearn: 0.3098305\ttotal: 1.28s\tremaining: 288ms\n",
            "817:\tlearn: 0.3096719\ttotal: 1.29s\tremaining: 286ms\n",
            "818:\tlearn: 0.3095335\ttotal: 1.29s\tremaining: 285ms\n",
            "819:\tlearn: 0.3092003\ttotal: 1.29s\tremaining: 283ms\n",
            "820:\tlearn: 0.3089983\ttotal: 1.29s\tremaining: 282ms\n",
            "821:\tlearn: 0.3088588\ttotal: 1.29s\tremaining: 280ms\n",
            "822:\tlearn: 0.3087768\ttotal: 1.29s\tremaining: 279ms\n",
            "823:\tlearn: 0.3085049\ttotal: 1.3s\tremaining: 277ms\n",
            "824:\tlearn: 0.3083017\ttotal: 1.3s\tremaining: 276ms\n",
            "825:\tlearn: 0.3080572\ttotal: 1.3s\tremaining: 274ms\n",
            "826:\tlearn: 0.3079333\ttotal: 1.3s\tremaining: 273ms\n",
            "827:\tlearn: 0.3078294\ttotal: 1.3s\tremaining: 271ms\n",
            "828:\tlearn: 0.3076907\ttotal: 1.3s\tremaining: 269ms\n",
            "829:\tlearn: 0.3075543\ttotal: 1.31s\tremaining: 268ms\n",
            "830:\tlearn: 0.3074235\ttotal: 1.31s\tremaining: 266ms\n",
            "831:\tlearn: 0.3071392\ttotal: 1.31s\tremaining: 265ms\n",
            "832:\tlearn: 0.3070700\ttotal: 1.31s\tremaining: 263ms\n",
            "833:\tlearn: 0.3070104\ttotal: 1.31s\tremaining: 261ms\n",
            "834:\tlearn: 0.3067233\ttotal: 1.31s\tremaining: 260ms\n",
            "835:\tlearn: 0.3065823\ttotal: 1.32s\tremaining: 258ms\n",
            "836:\tlearn: 0.3064012\ttotal: 1.32s\tremaining: 257ms\n",
            "837:\tlearn: 0.3062033\ttotal: 1.32s\tremaining: 255ms\n",
            "838:\tlearn: 0.3060488\ttotal: 1.32s\tremaining: 253ms\n",
            "839:\tlearn: 0.3059310\ttotal: 1.32s\tremaining: 252ms\n",
            "840:\tlearn: 0.3056286\ttotal: 1.32s\tremaining: 250ms\n",
            "841:\tlearn: 0.3054166\ttotal: 1.32s\tremaining: 249ms\n",
            "842:\tlearn: 0.3053585\ttotal: 1.33s\tremaining: 247ms\n",
            "843:\tlearn: 0.3052181\ttotal: 1.33s\tremaining: 245ms\n",
            "844:\tlearn: 0.3049195\ttotal: 1.33s\tremaining: 244ms\n",
            "845:\tlearn: 0.3045918\ttotal: 1.33s\tremaining: 242ms\n",
            "846:\tlearn: 0.3043217\ttotal: 1.33s\tremaining: 241ms\n",
            "847:\tlearn: 0.3041578\ttotal: 1.33s\tremaining: 239ms\n",
            "848:\tlearn: 0.3040475\ttotal: 1.33s\tremaining: 237ms\n",
            "849:\tlearn: 0.3038575\ttotal: 1.34s\tremaining: 236ms\n",
            "850:\tlearn: 0.3036236\ttotal: 1.34s\tremaining: 234ms\n",
            "851:\tlearn: 0.3033244\ttotal: 1.34s\tremaining: 233ms\n",
            "852:\tlearn: 0.3031662\ttotal: 1.34s\tremaining: 231ms\n",
            "853:\tlearn: 0.3029339\ttotal: 1.34s\tremaining: 229ms\n",
            "854:\tlearn: 0.3026970\ttotal: 1.34s\tremaining: 228ms\n",
            "855:\tlearn: 0.3025675\ttotal: 1.34s\tremaining: 226ms\n",
            "856:\tlearn: 0.3024671\ttotal: 1.35s\tremaining: 225ms\n",
            "857:\tlearn: 0.3022335\ttotal: 1.35s\tremaining: 223ms\n",
            "858:\tlearn: 0.3019782\ttotal: 1.35s\tremaining: 221ms\n",
            "859:\tlearn: 0.3018678\ttotal: 1.35s\tremaining: 220ms\n",
            "860:\tlearn: 0.3018582\ttotal: 1.35s\tremaining: 218ms\n",
            "861:\tlearn: 0.3016458\ttotal: 1.35s\tremaining: 217ms\n",
            "862:\tlearn: 0.3014868\ttotal: 1.35s\tremaining: 215ms\n",
            "863:\tlearn: 0.3013650\ttotal: 1.35s\tremaining: 213ms\n",
            "864:\tlearn: 0.3011970\ttotal: 1.36s\tremaining: 212ms\n",
            "865:\tlearn: 0.3010244\ttotal: 1.36s\tremaining: 210ms\n",
            "866:\tlearn: 0.3008319\ttotal: 1.36s\tremaining: 209ms\n",
            "867:\tlearn: 0.3006929\ttotal: 1.36s\tremaining: 207ms\n",
            "868:\tlearn: 0.3002350\ttotal: 1.36s\tremaining: 205ms\n",
            "869:\tlearn: 0.3001307\ttotal: 1.36s\tremaining: 204ms\n",
            "870:\tlearn: 0.3000471\ttotal: 1.36s\tremaining: 202ms\n",
            "871:\tlearn: 0.2999068\ttotal: 1.37s\tremaining: 201ms\n",
            "872:\tlearn: 0.2997615\ttotal: 1.37s\tremaining: 199ms\n",
            "873:\tlearn: 0.2997102\ttotal: 1.37s\tremaining: 197ms\n",
            "874:\tlearn: 0.2996332\ttotal: 1.37s\tremaining: 196ms\n",
            "875:\tlearn: 0.2992943\ttotal: 1.37s\tremaining: 194ms\n",
            "876:\tlearn: 0.2990975\ttotal: 1.37s\tremaining: 193ms\n",
            "877:\tlearn: 0.2988993\ttotal: 1.38s\tremaining: 191ms\n",
            "878:\tlearn: 0.2988770\ttotal: 1.38s\tremaining: 189ms\n",
            "879:\tlearn: 0.2987140\ttotal: 1.38s\tremaining: 188ms\n",
            "880:\tlearn: 0.2983705\ttotal: 1.38s\tremaining: 186ms\n",
            "881:\tlearn: 0.2981867\ttotal: 1.38s\tremaining: 185ms\n",
            "882:\tlearn: 0.2978756\ttotal: 1.38s\tremaining: 183ms\n",
            "883:\tlearn: 0.2975682\ttotal: 1.38s\tremaining: 182ms\n",
            "884:\tlearn: 0.2974491\ttotal: 1.38s\tremaining: 180ms\n",
            "885:\tlearn: 0.2972089\ttotal: 1.39s\tremaining: 178ms\n",
            "886:\tlearn: 0.2971153\ttotal: 1.39s\tremaining: 177ms\n",
            "887:\tlearn: 0.2969861\ttotal: 1.39s\tremaining: 175ms\n",
            "888:\tlearn: 0.2968967\ttotal: 1.39s\tremaining: 174ms\n",
            "889:\tlearn: 0.2967483\ttotal: 1.39s\tremaining: 172ms\n",
            "890:\tlearn: 0.2966594\ttotal: 1.39s\tremaining: 170ms\n",
            "891:\tlearn: 0.2964528\ttotal: 1.39s\tremaining: 169ms\n",
            "892:\tlearn: 0.2963702\ttotal: 1.4s\tremaining: 167ms\n",
            "893:\tlearn: 0.2962506\ttotal: 1.4s\tremaining: 166ms\n",
            "894:\tlearn: 0.2960023\ttotal: 1.4s\tremaining: 164ms\n",
            "895:\tlearn: 0.2959207\ttotal: 1.4s\tremaining: 163ms\n",
            "896:\tlearn: 0.2958298\ttotal: 1.4s\tremaining: 161ms\n",
            "897:\tlearn: 0.2956330\ttotal: 1.4s\tremaining: 159ms\n",
            "898:\tlearn: 0.2955306\ttotal: 1.4s\tremaining: 158ms\n",
            "899:\tlearn: 0.2951342\ttotal: 1.41s\tremaining: 156ms\n",
            "900:\tlearn: 0.2948741\ttotal: 1.41s\tremaining: 155ms\n",
            "901:\tlearn: 0.2947767\ttotal: 1.41s\tremaining: 153ms\n",
            "902:\tlearn: 0.2944538\ttotal: 1.41s\tremaining: 151ms\n",
            "903:\tlearn: 0.2942505\ttotal: 1.41s\tremaining: 150ms\n",
            "904:\tlearn: 0.2940206\ttotal: 1.41s\tremaining: 148ms\n",
            "905:\tlearn: 0.2937118\ttotal: 1.41s\tremaining: 147ms\n",
            "906:\tlearn: 0.2935584\ttotal: 1.42s\tremaining: 145ms\n",
            "907:\tlearn: 0.2933365\ttotal: 1.42s\tremaining: 144ms\n",
            "908:\tlearn: 0.2932359\ttotal: 1.42s\tremaining: 142ms\n",
            "909:\tlearn: 0.2930599\ttotal: 1.42s\tremaining: 140ms\n",
            "910:\tlearn: 0.2928951\ttotal: 1.42s\tremaining: 139ms\n",
            "911:\tlearn: 0.2926566\ttotal: 1.42s\tremaining: 137ms\n",
            "912:\tlearn: 0.2924138\ttotal: 1.42s\tremaining: 136ms\n",
            "913:\tlearn: 0.2921629\ttotal: 1.43s\tremaining: 134ms\n",
            "914:\tlearn: 0.2920800\ttotal: 1.43s\tremaining: 133ms\n",
            "915:\tlearn: 0.2918604\ttotal: 1.43s\tremaining: 131ms\n",
            "916:\tlearn: 0.2917319\ttotal: 1.43s\tremaining: 129ms\n",
            "917:\tlearn: 0.2915855\ttotal: 1.43s\tremaining: 128ms\n",
            "918:\tlearn: 0.2915089\ttotal: 1.43s\tremaining: 126ms\n",
            "919:\tlearn: 0.2913701\ttotal: 1.43s\tremaining: 125ms\n",
            "920:\tlearn: 0.2911309\ttotal: 1.44s\tremaining: 123ms\n",
            "921:\tlearn: 0.2909215\ttotal: 1.44s\tremaining: 122ms\n",
            "922:\tlearn: 0.2907891\ttotal: 1.44s\tremaining: 120ms\n",
            "923:\tlearn: 0.2906758\ttotal: 1.44s\tremaining: 118ms\n",
            "924:\tlearn: 0.2904379\ttotal: 1.44s\tremaining: 117ms\n",
            "925:\tlearn: 0.2903794\ttotal: 1.44s\tremaining: 115ms\n",
            "926:\tlearn: 0.2902885\ttotal: 1.44s\tremaining: 114ms\n",
            "927:\tlearn: 0.2901785\ttotal: 1.45s\tremaining: 112ms\n",
            "928:\tlearn: 0.2901652\ttotal: 1.45s\tremaining: 111ms\n",
            "929:\tlearn: 0.2900597\ttotal: 1.45s\tremaining: 109ms\n",
            "930:\tlearn: 0.2899408\ttotal: 1.45s\tremaining: 107ms\n",
            "931:\tlearn: 0.2897030\ttotal: 1.45s\tremaining: 106ms\n",
            "932:\tlearn: 0.2895135\ttotal: 1.45s\tremaining: 104ms\n",
            "933:\tlearn: 0.2894384\ttotal: 1.45s\tremaining: 103ms\n",
            "934:\tlearn: 0.2893759\ttotal: 1.46s\tremaining: 101ms\n",
            "935:\tlearn: 0.2892986\ttotal: 1.46s\tremaining: 99.6ms\n",
            "936:\tlearn: 0.2890885\ttotal: 1.46s\tremaining: 98.1ms\n",
            "937:\tlearn: 0.2887820\ttotal: 1.46s\tremaining: 96.5ms\n",
            "938:\tlearn: 0.2886285\ttotal: 1.46s\tremaining: 94.9ms\n",
            "939:\tlearn: 0.2883417\ttotal: 1.46s\tremaining: 93.4ms\n",
            "940:\tlearn: 0.2882287\ttotal: 1.46s\tremaining: 91.8ms\n",
            "941:\tlearn: 0.2880889\ttotal: 1.47s\tremaining: 90.2ms\n",
            "942:\tlearn: 0.2880221\ttotal: 1.47s\tremaining: 88.7ms\n",
            "943:\tlearn: 0.2879010\ttotal: 1.47s\tremaining: 87.1ms\n",
            "944:\tlearn: 0.2876034\ttotal: 1.47s\tremaining: 85.5ms\n",
            "945:\tlearn: 0.2874291\ttotal: 1.47s\tremaining: 84ms\n",
            "946:\tlearn: 0.2872819\ttotal: 1.47s\tremaining: 82.4ms\n",
            "947:\tlearn: 0.2871098\ttotal: 1.47s\tremaining: 80.9ms\n",
            "948:\tlearn: 0.2869545\ttotal: 1.48s\tremaining: 79.3ms\n",
            "949:\tlearn: 0.2868073\ttotal: 1.48s\tremaining: 77.7ms\n",
            "950:\tlearn: 0.2866106\ttotal: 1.48s\tremaining: 76.2ms\n",
            "951:\tlearn: 0.2865568\ttotal: 1.48s\tremaining: 74.7ms\n",
            "952:\tlearn: 0.2863527\ttotal: 1.48s\tremaining: 73.1ms\n",
            "953:\tlearn: 0.2862045\ttotal: 1.48s\tremaining: 71.6ms\n",
            "954:\tlearn: 0.2861259\ttotal: 1.49s\tremaining: 70.2ms\n",
            "955:\tlearn: 0.2860101\ttotal: 1.49s\tremaining: 68.7ms\n",
            "956:\tlearn: 0.2858775\ttotal: 1.49s\tremaining: 67.1ms\n",
            "957:\tlearn: 0.2858285\ttotal: 1.5s\tremaining: 65.6ms\n",
            "958:\tlearn: 0.2854680\ttotal: 1.5s\tremaining: 64.1ms\n",
            "959:\tlearn: 0.2853141\ttotal: 1.5s\tremaining: 62.6ms\n",
            "960:\tlearn: 0.2850141\ttotal: 1.5s\tremaining: 61.1ms\n",
            "961:\tlearn: 0.2849222\ttotal: 1.51s\tremaining: 59.5ms\n",
            "962:\tlearn: 0.2848407\ttotal: 1.51s\tremaining: 57.9ms\n",
            "963:\tlearn: 0.2846801\ttotal: 1.51s\tremaining: 56.4ms\n",
            "964:\tlearn: 0.2844856\ttotal: 1.51s\tremaining: 54.8ms\n",
            "965:\tlearn: 0.2843758\ttotal: 1.51s\tremaining: 53.2ms\n",
            "966:\tlearn: 0.2842504\ttotal: 1.51s\tremaining: 51.7ms\n",
            "967:\tlearn: 0.2841289\ttotal: 1.51s\tremaining: 50.1ms\n",
            "968:\tlearn: 0.2840323\ttotal: 1.52s\tremaining: 48.5ms\n",
            "969:\tlearn: 0.2838757\ttotal: 1.52s\tremaining: 47ms\n",
            "970:\tlearn: 0.2836922\ttotal: 1.52s\tremaining: 45.4ms\n",
            "971:\tlearn: 0.2836058\ttotal: 1.52s\tremaining: 43.8ms\n",
            "972:\tlearn: 0.2835320\ttotal: 1.52s\tremaining: 42.3ms\n",
            "973:\tlearn: 0.2834077\ttotal: 1.52s\tremaining: 40.7ms\n",
            "974:\tlearn: 0.2833013\ttotal: 1.52s\tremaining: 39.1ms\n",
            "975:\tlearn: 0.2830733\ttotal: 1.53s\tremaining: 37.6ms\n",
            "976:\tlearn: 0.2829635\ttotal: 1.53s\tremaining: 36ms\n",
            "977:\tlearn: 0.2826681\ttotal: 1.53s\tremaining: 34.4ms\n",
            "978:\tlearn: 0.2825279\ttotal: 1.53s\tremaining: 32.9ms\n",
            "979:\tlearn: 0.2823149\ttotal: 1.54s\tremaining: 31.4ms\n",
            "980:\tlearn: 0.2821407\ttotal: 1.54s\tremaining: 29.8ms\n",
            "981:\tlearn: 0.2820323\ttotal: 1.54s\tremaining: 28.2ms\n",
            "982:\tlearn: 0.2818336\ttotal: 1.54s\tremaining: 26.7ms\n",
            "983:\tlearn: 0.2817539\ttotal: 1.54s\tremaining: 25.1ms\n",
            "984:\tlearn: 0.2814945\ttotal: 1.54s\tremaining: 23.5ms\n",
            "985:\tlearn: 0.2813583\ttotal: 1.54s\tremaining: 21.9ms\n",
            "986:\tlearn: 0.2812017\ttotal: 1.55s\tremaining: 20.4ms\n",
            "987:\tlearn: 0.2809892\ttotal: 1.55s\tremaining: 18.8ms\n",
            "988:\tlearn: 0.2808639\ttotal: 1.55s\tremaining: 17.2ms\n",
            "989:\tlearn: 0.2807887\ttotal: 1.55s\tremaining: 15.7ms\n",
            "990:\tlearn: 0.2807284\ttotal: 1.55s\tremaining: 14.1ms\n",
            "991:\tlearn: 0.2806112\ttotal: 1.55s\tremaining: 12.5ms\n",
            "992:\tlearn: 0.2805229\ttotal: 1.56s\tremaining: 11ms\n",
            "993:\tlearn: 0.2804922\ttotal: 1.56s\tremaining: 9.4ms\n",
            "994:\tlearn: 0.2802775\ttotal: 1.56s\tremaining: 7.83ms\n",
            "995:\tlearn: 0.2801012\ttotal: 1.56s\tremaining: 6.27ms\n",
            "996:\tlearn: 0.2798329\ttotal: 1.56s\tremaining: 4.7ms\n",
            "997:\tlearn: 0.2797659\ttotal: 1.56s\tremaining: 3.13ms\n",
            "998:\tlearn: 0.2797011\ttotal: 1.56s\tremaining: 1.57ms\n",
            "999:\tlearn: 0.2796077\ttotal: 1.57s\tremaining: 0us\n"
          ]
        },
        {
          "output_type": "execute_result",
          "data": {
            "text/plain": [
              "75.60975609756098"
            ]
          },
          "metadata": {},
          "execution_count": 45
        }
      ]
    },
    {
      "cell_type": "code",
      "metadata": {
        "id": "GAia_cXYMZPD",
        "colab": {
          "base_uri": "https://localhost:8080/",
          "height": 421
        },
        "outputId": "d9183cb5-7cef-4ab2-df62-09ff49c71bf6"
      },
      "source": [
        "random_forest = RandomForestClassifier(n_estimators= 100)\n",
        "random_forest.fit(X_train, y_train)\n",
        "importances = pd.DataFrame({'Features':X_train.columns,'Importance':np.round(random_forest.feature_importances_,3)})\n",
        "importances = importances.sort_values('Importance',ascending=False).set_index('Features')\n",
        "importances.head(11) "
      ],
      "execution_count": 46,
      "outputs": [
        {
          "output_type": "execute_result",
          "data": {
            "text/html": [
              "<div>\n",
              "<style scoped>\n",
              "    .dataframe tbody tr th:only-of-type {\n",
              "        vertical-align: middle;\n",
              "    }\n",
              "\n",
              "    .dataframe tbody tr th {\n",
              "        vertical-align: top;\n",
              "    }\n",
              "\n",
              "    .dataframe thead th {\n",
              "        text-align: right;\n",
              "    }\n",
              "</style>\n",
              "<table border=\"1\" class=\"dataframe\">\n",
              "  <thead>\n",
              "    <tr style=\"text-align: right;\">\n",
              "      <th></th>\n",
              "      <th>Importance</th>\n",
              "    </tr>\n",
              "    <tr>\n",
              "      <th>Features</th>\n",
              "      <th></th>\n",
              "    </tr>\n",
              "  </thead>\n",
              "  <tbody>\n",
              "    <tr>\n",
              "      <th>ApplicantIncome</th>\n",
              "      <td>0.229</td>\n",
              "    </tr>\n",
              "    <tr>\n",
              "      <th>LoanAmount</th>\n",
              "      <td>0.216</td>\n",
              "    </tr>\n",
              "    <tr>\n",
              "      <th>Credit_History</th>\n",
              "      <td>0.172</td>\n",
              "    </tr>\n",
              "    <tr>\n",
              "      <th>CoapplicantIncome</th>\n",
              "      <td>0.131</td>\n",
              "    </tr>\n",
              "    <tr>\n",
              "      <th>Dependents</th>\n",
              "      <td>0.056</td>\n",
              "    </tr>\n",
              "    <tr>\n",
              "      <th>Property_Area</th>\n",
              "      <td>0.055</td>\n",
              "    </tr>\n",
              "    <tr>\n",
              "      <th>Loan_Amount_Term</th>\n",
              "      <td>0.049</td>\n",
              "    </tr>\n",
              "    <tr>\n",
              "      <th>Education</th>\n",
              "      <td>0.026</td>\n",
              "    </tr>\n",
              "    <tr>\n",
              "      <th>Married</th>\n",
              "      <td>0.025</td>\n",
              "    </tr>\n",
              "    <tr>\n",
              "      <th>Gender</th>\n",
              "      <td>0.022</td>\n",
              "    </tr>\n",
              "    <tr>\n",
              "      <th>Self_Employed</th>\n",
              "      <td>0.019</td>\n",
              "    </tr>\n",
              "  </tbody>\n",
              "</table>\n",
              "</div>"
            ],
            "text/plain": [
              "                   Importance\n",
              "Features                     \n",
              "ApplicantIncome         0.229\n",
              "LoanAmount              0.216\n",
              "Credit_History          0.172\n",
              "CoapplicantIncome       0.131\n",
              "Dependents              0.056\n",
              "Property_Area           0.055\n",
              "Loan_Amount_Term        0.049\n",
              "Education               0.026\n",
              "Married                 0.025\n",
              "Gender                  0.022\n",
              "Self_Employed           0.019"
            ]
          },
          "metadata": {},
          "execution_count": 46
        }
      ]
    },
    {
      "cell_type": "code",
      "metadata": {
        "id": "uyAQbFV8H4kI",
        "colab": {
          "base_uri": "https://localhost:8080/",
          "height": 421
        },
        "outputId": "5810bddc-42f5-438d-e273-12a5345a9d25"
      },
      "source": [
        "importances = pd.DataFrame({'Features':X_train.columns,'Importance':np.round(random_forest.feature_importances_,3)})\n",
        "importances = importances.sort_values('Importance',ascending=False).set_index('Features')\n",
        "importances.head(11) "
      ],
      "execution_count": 47,
      "outputs": [
        {
          "output_type": "execute_result",
          "data": {
            "text/html": [
              "<div>\n",
              "<style scoped>\n",
              "    .dataframe tbody tr th:only-of-type {\n",
              "        vertical-align: middle;\n",
              "    }\n",
              "\n",
              "    .dataframe tbody tr th {\n",
              "        vertical-align: top;\n",
              "    }\n",
              "\n",
              "    .dataframe thead th {\n",
              "        text-align: right;\n",
              "    }\n",
              "</style>\n",
              "<table border=\"1\" class=\"dataframe\">\n",
              "  <thead>\n",
              "    <tr style=\"text-align: right;\">\n",
              "      <th></th>\n",
              "      <th>Importance</th>\n",
              "    </tr>\n",
              "    <tr>\n",
              "      <th>Features</th>\n",
              "      <th></th>\n",
              "    </tr>\n",
              "  </thead>\n",
              "  <tbody>\n",
              "    <tr>\n",
              "      <th>ApplicantIncome</th>\n",
              "      <td>0.229</td>\n",
              "    </tr>\n",
              "    <tr>\n",
              "      <th>LoanAmount</th>\n",
              "      <td>0.216</td>\n",
              "    </tr>\n",
              "    <tr>\n",
              "      <th>Credit_History</th>\n",
              "      <td>0.172</td>\n",
              "    </tr>\n",
              "    <tr>\n",
              "      <th>CoapplicantIncome</th>\n",
              "      <td>0.131</td>\n",
              "    </tr>\n",
              "    <tr>\n",
              "      <th>Dependents</th>\n",
              "      <td>0.056</td>\n",
              "    </tr>\n",
              "    <tr>\n",
              "      <th>Property_Area</th>\n",
              "      <td>0.055</td>\n",
              "    </tr>\n",
              "    <tr>\n",
              "      <th>Loan_Amount_Term</th>\n",
              "      <td>0.049</td>\n",
              "    </tr>\n",
              "    <tr>\n",
              "      <th>Education</th>\n",
              "      <td>0.026</td>\n",
              "    </tr>\n",
              "    <tr>\n",
              "      <th>Married</th>\n",
              "      <td>0.025</td>\n",
              "    </tr>\n",
              "    <tr>\n",
              "      <th>Gender</th>\n",
              "      <td>0.022</td>\n",
              "    </tr>\n",
              "    <tr>\n",
              "      <th>Self_Employed</th>\n",
              "      <td>0.019</td>\n",
              "    </tr>\n",
              "  </tbody>\n",
              "</table>\n",
              "</div>"
            ],
            "text/plain": [
              "                   Importance\n",
              "Features                     \n",
              "ApplicantIncome         0.229\n",
              "LoanAmount              0.216\n",
              "Credit_History          0.172\n",
              "CoapplicantIncome       0.131\n",
              "Dependents              0.056\n",
              "Property_Area           0.055\n",
              "Loan_Amount_Term        0.049\n",
              "Education               0.026\n",
              "Married                 0.025\n",
              "Gender                  0.022\n",
              "Self_Employed           0.019"
            ]
          },
          "metadata": {},
          "execution_count": 47
        }
      ]
    },
    {
      "cell_type": "code",
      "metadata": {
        "id": "opQ2NKLbs6Xe"
      },
      "source": [
        "p_log = logmodel.predict(test_data)"
      ],
      "execution_count": 48,
      "outputs": []
    },
    {
      "cell_type": "code",
      "metadata": {
        "id": "AvLRW0QOtAeq"
      },
      "source": [
        "submission = pd.DataFrame({\n",
        "        \"Loan_ID\": test_data_copy[\"Loan_ID\"],\n",
        "        \"Loan_Status\": p_log\n",
        "    })\n",
        "submission['Loan_Status'] = submission['Loan_Status'].replace(1,'Y')\n",
        "submission['Loan_Status'] = submission['Loan_Status'].replace(0,'N')\n",
        "\n",
        "submission.to_csv(\"results.csv\", encoding='utf-8', index=False)"
      ],
      "execution_count": 49,
      "outputs": []
    }
  ]
}