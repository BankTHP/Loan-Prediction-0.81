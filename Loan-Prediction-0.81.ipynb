{
  "cells": [
    {
      "cell_type": "markdown",
      "metadata": {
        "id": "3Tza_iC_e9sD"
      },
      "source": [
        "##Import ต่างๆ"
      ]
    },
    {
      "cell_type": "code",
      "execution_count": 1,
      "metadata": {
        "id": "b3wmugJES6pU"
      },
      "outputs": [],
      "source": [
        "%matplotlib inline\n",
        "import numpy as np\n",
        "import pandas as pd\n",
        "import matplotlib.pyplot as plt\n",
        "import seaborn as sns\n",
        "from sklearn.preprocessing import StandardScaler, LabelEncoder\n",
        "from sklearn.model_selection import StratifiedKFold, cross_val_score,GridSearchCV\n",
        "from sklearn.metrics import accuracy_score\n",
        "from sklearn.tree import DecisionTreeClassifier\n",
        "from sklearn.neighbors import KNeighborsClassifier \n",
        "from sklearn.naive_bayes import GaussianNB\n",
        "from sklearn.svm import SVC\n",
        "from sklearn.ensemble import RandomForestClassifier\n",
        "from sklearn.linear_model import LogisticRegression\n",
        "from sklearn.model_selection import train_test_split\n",
        "from sklearn import preprocessing\n",
        "from sklearn import metrics"
      ]
    },
    {
      "cell_type": "code",
      "execution_count": 2,
      "metadata": {
        "id": "1ZbHobQDtn0_"
      },
      "outputs": [],
      "source": [
        "import warnings\n",
        "warnings.filterwarnings(\"ignore\")"
      ]
    },
    {
      "cell_type": "markdown",
      "metadata": {
        "id": "iT2NOBWPUI1q"
      },
      "source": [
        "##ทำการ Read ไฟล์ csv ที่ทางเว็บให้มา"
      ]
    },
    {
      "cell_type": "code",
      "execution_count": 3,
      "metadata": {
        "id": "2IC_7WetTTEM"
      },
      "outputs": [],
      "source": [
        "train_data = pd.read_csv(\"Data/train_ctrUa4K.csv\")\n",
        "test_data = pd.read_csv(\"Data/test_lAUu6dG.csv\")"
      ]
    },
    {
      "cell_type": "code",
      "execution_count": 4,
      "metadata": {
        "colab": {
          "base_uri": "https://localhost:8080/",
          "height": 0
        },
        "id": "EIFCkxYaTefL",
        "outputId": "6908a049-b68d-49d2-907e-58d816e9b332"
      },
      "outputs": [
        {
          "data": {
            "text/html": [
              "<div>\n",
              "<style scoped>\n",
              "    .dataframe tbody tr th:only-of-type {\n",
              "        vertical-align: middle;\n",
              "    }\n",
              "\n",
              "    .dataframe tbody tr th {\n",
              "        vertical-align: top;\n",
              "    }\n",
              "\n",
              "    .dataframe thead th {\n",
              "        text-align: right;\n",
              "    }\n",
              "</style>\n",
              "<table border=\"1\" class=\"dataframe\">\n",
              "  <thead>\n",
              "    <tr style=\"text-align: right;\">\n",
              "      <th></th>\n",
              "      <th>Loan_ID</th>\n",
              "      <th>Gender</th>\n",
              "      <th>Married</th>\n",
              "      <th>Dependents</th>\n",
              "      <th>Education</th>\n",
              "      <th>Self_Employed</th>\n",
              "      <th>ApplicantIncome</th>\n",
              "      <th>CoapplicantIncome</th>\n",
              "      <th>LoanAmount</th>\n",
              "      <th>Loan_Amount_Term</th>\n",
              "      <th>Credit_History</th>\n",
              "      <th>Property_Area</th>\n",
              "    </tr>\n",
              "  </thead>\n",
              "  <tbody>\n",
              "    <tr>\n",
              "      <th>0</th>\n",
              "      <td>LP001015</td>\n",
              "      <td>Male</td>\n",
              "      <td>Yes</td>\n",
              "      <td>0</td>\n",
              "      <td>Graduate</td>\n",
              "      <td>No</td>\n",
              "      <td>5720</td>\n",
              "      <td>0</td>\n",
              "      <td>110.0</td>\n",
              "      <td>360.0</td>\n",
              "      <td>1.0</td>\n",
              "      <td>Urban</td>\n",
              "    </tr>\n",
              "    <tr>\n",
              "      <th>1</th>\n",
              "      <td>LP001022</td>\n",
              "      <td>Male</td>\n",
              "      <td>Yes</td>\n",
              "      <td>1</td>\n",
              "      <td>Graduate</td>\n",
              "      <td>No</td>\n",
              "      <td>3076</td>\n",
              "      <td>1500</td>\n",
              "      <td>126.0</td>\n",
              "      <td>360.0</td>\n",
              "      <td>1.0</td>\n",
              "      <td>Urban</td>\n",
              "    </tr>\n",
              "    <tr>\n",
              "      <th>2</th>\n",
              "      <td>LP001031</td>\n",
              "      <td>Male</td>\n",
              "      <td>Yes</td>\n",
              "      <td>2</td>\n",
              "      <td>Graduate</td>\n",
              "      <td>No</td>\n",
              "      <td>5000</td>\n",
              "      <td>1800</td>\n",
              "      <td>208.0</td>\n",
              "      <td>360.0</td>\n",
              "      <td>1.0</td>\n",
              "      <td>Urban</td>\n",
              "    </tr>\n",
              "    <tr>\n",
              "      <th>3</th>\n",
              "      <td>LP001035</td>\n",
              "      <td>Male</td>\n",
              "      <td>Yes</td>\n",
              "      <td>2</td>\n",
              "      <td>Graduate</td>\n",
              "      <td>No</td>\n",
              "      <td>2340</td>\n",
              "      <td>2546</td>\n",
              "      <td>100.0</td>\n",
              "      <td>360.0</td>\n",
              "      <td>NaN</td>\n",
              "      <td>Urban</td>\n",
              "    </tr>\n",
              "    <tr>\n",
              "      <th>4</th>\n",
              "      <td>LP001051</td>\n",
              "      <td>Male</td>\n",
              "      <td>No</td>\n",
              "      <td>0</td>\n",
              "      <td>Not Graduate</td>\n",
              "      <td>No</td>\n",
              "      <td>3276</td>\n",
              "      <td>0</td>\n",
              "      <td>78.0</td>\n",
              "      <td>360.0</td>\n",
              "      <td>1.0</td>\n",
              "      <td>Urban</td>\n",
              "    </tr>\n",
              "  </tbody>\n",
              "</table>\n",
              "</div>"
            ],
            "text/plain": [
              "    Loan_ID Gender Married Dependents     Education Self_Employed  \\\n",
              "0  LP001015   Male     Yes          0      Graduate            No   \n",
              "1  LP001022   Male     Yes          1      Graduate            No   \n",
              "2  LP001031   Male     Yes          2      Graduate            No   \n",
              "3  LP001035   Male     Yes          2      Graduate            No   \n",
              "4  LP001051   Male      No          0  Not Graduate            No   \n",
              "\n",
              "   ApplicantIncome  CoapplicantIncome  LoanAmount  Loan_Amount_Term  \\\n",
              "0             5720                  0       110.0             360.0   \n",
              "1             3076               1500       126.0             360.0   \n",
              "2             5000               1800       208.0             360.0   \n",
              "3             2340               2546       100.0             360.0   \n",
              "4             3276                  0        78.0             360.0   \n",
              "\n",
              "   Credit_History Property_Area  \n",
              "0             1.0         Urban  \n",
              "1             1.0         Urban  \n",
              "2             1.0         Urban  \n",
              "3             NaN         Urban  \n",
              "4             1.0         Urban  "
            ]
          },
          "execution_count": 4,
          "metadata": {},
          "output_type": "execute_result"
        }
      ],
      "source": [
        "test_data.head()"
      ]
    },
    {
      "cell_type": "code",
      "execution_count": 5,
      "metadata": {
        "id": "CTFFzBXAhzDw"
      },
      "outputs": [],
      "source": [
        "test_data_copy = test_data.copy()"
      ]
    },
    {
      "cell_type": "code",
      "execution_count": 6,
      "metadata": {
        "colab": {
          "base_uri": "https://localhost:8080/",
          "height": 0
        },
        "id": "yWQ1yJYCTgd1",
        "outputId": "c0c44b01-0c1e-454b-bdd1-74c5466ee79f"
      },
      "outputs": [
        {
          "data": {
            "text/html": [
              "<div>\n",
              "<style scoped>\n",
              "    .dataframe tbody tr th:only-of-type {\n",
              "        vertical-align: middle;\n",
              "    }\n",
              "\n",
              "    .dataframe tbody tr th {\n",
              "        vertical-align: top;\n",
              "    }\n",
              "\n",
              "    .dataframe thead th {\n",
              "        text-align: right;\n",
              "    }\n",
              "</style>\n",
              "<table border=\"1\" class=\"dataframe\">\n",
              "  <thead>\n",
              "    <tr style=\"text-align: right;\">\n",
              "      <th></th>\n",
              "      <th>Loan_ID</th>\n",
              "      <th>Gender</th>\n",
              "      <th>Married</th>\n",
              "      <th>Dependents</th>\n",
              "      <th>Education</th>\n",
              "      <th>Self_Employed</th>\n",
              "      <th>ApplicantIncome</th>\n",
              "      <th>CoapplicantIncome</th>\n",
              "      <th>LoanAmount</th>\n",
              "      <th>Loan_Amount_Term</th>\n",
              "      <th>Credit_History</th>\n",
              "      <th>Property_Area</th>\n",
              "      <th>Loan_Status</th>\n",
              "    </tr>\n",
              "  </thead>\n",
              "  <tbody>\n",
              "    <tr>\n",
              "      <th>0</th>\n",
              "      <td>LP001002</td>\n",
              "      <td>Male</td>\n",
              "      <td>No</td>\n",
              "      <td>0</td>\n",
              "      <td>Graduate</td>\n",
              "      <td>No</td>\n",
              "      <td>5849</td>\n",
              "      <td>0.0</td>\n",
              "      <td>NaN</td>\n",
              "      <td>360.0</td>\n",
              "      <td>1.0</td>\n",
              "      <td>Urban</td>\n",
              "      <td>Y</td>\n",
              "    </tr>\n",
              "    <tr>\n",
              "      <th>1</th>\n",
              "      <td>LP001003</td>\n",
              "      <td>Male</td>\n",
              "      <td>Yes</td>\n",
              "      <td>1</td>\n",
              "      <td>Graduate</td>\n",
              "      <td>No</td>\n",
              "      <td>4583</td>\n",
              "      <td>1508.0</td>\n",
              "      <td>128.0</td>\n",
              "      <td>360.0</td>\n",
              "      <td>1.0</td>\n",
              "      <td>Rural</td>\n",
              "      <td>N</td>\n",
              "    </tr>\n",
              "    <tr>\n",
              "      <th>2</th>\n",
              "      <td>LP001005</td>\n",
              "      <td>Male</td>\n",
              "      <td>Yes</td>\n",
              "      <td>0</td>\n",
              "      <td>Graduate</td>\n",
              "      <td>Yes</td>\n",
              "      <td>3000</td>\n",
              "      <td>0.0</td>\n",
              "      <td>66.0</td>\n",
              "      <td>360.0</td>\n",
              "      <td>1.0</td>\n",
              "      <td>Urban</td>\n",
              "      <td>Y</td>\n",
              "    </tr>\n",
              "    <tr>\n",
              "      <th>3</th>\n",
              "      <td>LP001006</td>\n",
              "      <td>Male</td>\n",
              "      <td>Yes</td>\n",
              "      <td>0</td>\n",
              "      <td>Not Graduate</td>\n",
              "      <td>No</td>\n",
              "      <td>2583</td>\n",
              "      <td>2358.0</td>\n",
              "      <td>120.0</td>\n",
              "      <td>360.0</td>\n",
              "      <td>1.0</td>\n",
              "      <td>Urban</td>\n",
              "      <td>Y</td>\n",
              "    </tr>\n",
              "    <tr>\n",
              "      <th>4</th>\n",
              "      <td>LP001008</td>\n",
              "      <td>Male</td>\n",
              "      <td>No</td>\n",
              "      <td>0</td>\n",
              "      <td>Graduate</td>\n",
              "      <td>No</td>\n",
              "      <td>6000</td>\n",
              "      <td>0.0</td>\n",
              "      <td>141.0</td>\n",
              "      <td>360.0</td>\n",
              "      <td>1.0</td>\n",
              "      <td>Urban</td>\n",
              "      <td>Y</td>\n",
              "    </tr>\n",
              "  </tbody>\n",
              "</table>\n",
              "</div>"
            ],
            "text/plain": [
              "    Loan_ID Gender Married Dependents     Education Self_Employed  \\\n",
              "0  LP001002   Male      No          0      Graduate            No   \n",
              "1  LP001003   Male     Yes          1      Graduate            No   \n",
              "2  LP001005   Male     Yes          0      Graduate           Yes   \n",
              "3  LP001006   Male     Yes          0  Not Graduate            No   \n",
              "4  LP001008   Male      No          0      Graduate            No   \n",
              "\n",
              "   ApplicantIncome  CoapplicantIncome  LoanAmount  Loan_Amount_Term  \\\n",
              "0             5849                0.0         NaN             360.0   \n",
              "1             4583             1508.0       128.0             360.0   \n",
              "2             3000                0.0        66.0             360.0   \n",
              "3             2583             2358.0       120.0             360.0   \n",
              "4             6000                0.0       141.0             360.0   \n",
              "\n",
              "   Credit_History Property_Area Loan_Status  \n",
              "0             1.0         Urban           Y  \n",
              "1             1.0         Rural           N  \n",
              "2             1.0         Urban           Y  \n",
              "3             1.0         Urban           Y  \n",
              "4             1.0         Urban           Y  "
            ]
          },
          "execution_count": 6,
          "metadata": {},
          "output_type": "execute_result"
        }
      ],
      "source": [
        "train_data.head()"
      ]
    },
    {
      "cell_type": "markdown",
      "metadata": {
        "id": "t7fOh12lUPI9"
      },
      "source": [
        "##ขนาดของ Train และ Test"
      ]
    },
    {
      "cell_type": "code",
      "execution_count": 7,
      "metadata": {
        "colab": {
          "base_uri": "https://localhost:8080/"
        },
        "id": "Y7iiN4SoT39-",
        "outputId": "717ead9e-6e72-42cc-be27-d3eb83a35df6"
      },
      "outputs": [
        {
          "data": {
            "text/plain": [
              "(614, 13)"
            ]
          },
          "execution_count": 7,
          "metadata": {},
          "output_type": "execute_result"
        }
      ],
      "source": [
        "train_data.shape"
      ]
    },
    {
      "cell_type": "code",
      "execution_count": 8,
      "metadata": {
        "colab": {
          "base_uri": "https://localhost:8080/"
        },
        "id": "sLBptwHLT8V9",
        "outputId": "2690a1b1-e69a-4d31-96ee-9e71312cc9d3"
      },
      "outputs": [
        {
          "data": {
            "text/plain": [
              "(367, 12)"
            ]
          },
          "execution_count": 8,
          "metadata": {},
          "output_type": "execute_result"
        }
      ],
      "source": [
        "test_data.shape"
      ]
    },
    {
      "cell_type": "markdown",
      "metadata": {
        "id": "RP9_O4v8UVMY"
      },
      "source": [
        "##ทำการเช็คข้อมูลและทำการ Clean ข้อมูลและทำการเติม Missing \n"
      ]
    },
    {
      "cell_type": "code",
      "execution_count": 9,
      "metadata": {
        "colab": {
          "base_uri": "https://localhost:8080/"
        },
        "id": "MSreiyc_wXIg",
        "outputId": "abd4e897-5533-49b0-d22d-da2e7f639110"
      },
      "outputs": [
        {
          "name": "stdout",
          "output_type": "stream",
          "text": [
            "<class 'pandas.core.frame.DataFrame'>\n",
            "RangeIndex: 614 entries, 0 to 613\n",
            "Data columns (total 13 columns):\n",
            " #   Column             Non-Null Count  Dtype  \n",
            "---  ------             --------------  -----  \n",
            " 0   Loan_ID            614 non-null    object \n",
            " 1   Gender             601 non-null    object \n",
            " 2   Married            611 non-null    object \n",
            " 3   Dependents         599 non-null    object \n",
            " 4   Education          614 non-null    object \n",
            " 5   Self_Employed      582 non-null    object \n",
            " 6   ApplicantIncome    614 non-null    int64  \n",
            " 7   CoapplicantIncome  614 non-null    float64\n",
            " 8   LoanAmount         592 non-null    float64\n",
            " 9   Loan_Amount_Term   600 non-null    float64\n",
            " 10  Credit_History     564 non-null    float64\n",
            " 11  Property_Area      614 non-null    object \n",
            " 12  Loan_Status        614 non-null    object \n",
            "dtypes: float64(4), int64(1), object(8)\n",
            "memory usage: 62.5+ KB\n"
          ]
        }
      ],
      "source": [
        "train_data.info()"
      ]
    },
    {
      "cell_type": "markdown",
      "metadata": {
        "id": "T09elNjO5ktm"
      },
      "source": [
        "แยกประเภทของข้อมูล"
      ]
    },
    {
      "cell_type": "code",
      "execution_count": 10,
      "metadata": {
        "colab": {
          "base_uri": "https://localhost:8080/",
          "height": 419
        },
        "id": "jkx6Sw1V80hw",
        "outputId": "65b2b257-a063-47af-b290-222f6700ffa7"
      },
      "outputs": [
        {
          "data": {
            "text/html": [
              "<div>\n",
              "<style scoped>\n",
              "    .dataframe tbody tr th:only-of-type {\n",
              "        vertical-align: middle;\n",
              "    }\n",
              "\n",
              "    .dataframe tbody tr th {\n",
              "        vertical-align: top;\n",
              "    }\n",
              "\n",
              "    .dataframe thead th {\n",
              "        text-align: right;\n",
              "    }\n",
              "</style>\n",
              "<table border=\"1\" class=\"dataframe\">\n",
              "  <thead>\n",
              "    <tr style=\"text-align: right;\">\n",
              "      <th></th>\n",
              "      <th>Loan_ID</th>\n",
              "      <th>Gender</th>\n",
              "      <th>Married</th>\n",
              "      <th>Dependents</th>\n",
              "      <th>Education</th>\n",
              "      <th>Self_Employed</th>\n",
              "      <th>Property_Area</th>\n",
              "      <th>Loan_Status</th>\n",
              "    </tr>\n",
              "  </thead>\n",
              "  <tbody>\n",
              "    <tr>\n",
              "      <th>0</th>\n",
              "      <td>LP001002</td>\n",
              "      <td>Male</td>\n",
              "      <td>No</td>\n",
              "      <td>0</td>\n",
              "      <td>Graduate</td>\n",
              "      <td>No</td>\n",
              "      <td>Urban</td>\n",
              "      <td>Y</td>\n",
              "    </tr>\n",
              "    <tr>\n",
              "      <th>1</th>\n",
              "      <td>LP001003</td>\n",
              "      <td>Male</td>\n",
              "      <td>Yes</td>\n",
              "      <td>1</td>\n",
              "      <td>Graduate</td>\n",
              "      <td>No</td>\n",
              "      <td>Rural</td>\n",
              "      <td>N</td>\n",
              "    </tr>\n",
              "    <tr>\n",
              "      <th>2</th>\n",
              "      <td>LP001005</td>\n",
              "      <td>Male</td>\n",
              "      <td>Yes</td>\n",
              "      <td>0</td>\n",
              "      <td>Graduate</td>\n",
              "      <td>Yes</td>\n",
              "      <td>Urban</td>\n",
              "      <td>Y</td>\n",
              "    </tr>\n",
              "    <tr>\n",
              "      <th>3</th>\n",
              "      <td>LP001006</td>\n",
              "      <td>Male</td>\n",
              "      <td>Yes</td>\n",
              "      <td>0</td>\n",
              "      <td>Not Graduate</td>\n",
              "      <td>No</td>\n",
              "      <td>Urban</td>\n",
              "      <td>Y</td>\n",
              "    </tr>\n",
              "    <tr>\n",
              "      <th>4</th>\n",
              "      <td>LP001008</td>\n",
              "      <td>Male</td>\n",
              "      <td>No</td>\n",
              "      <td>0</td>\n",
              "      <td>Graduate</td>\n",
              "      <td>No</td>\n",
              "      <td>Urban</td>\n",
              "      <td>Y</td>\n",
              "    </tr>\n",
              "    <tr>\n",
              "      <th>...</th>\n",
              "      <td>...</td>\n",
              "      <td>...</td>\n",
              "      <td>...</td>\n",
              "      <td>...</td>\n",
              "      <td>...</td>\n",
              "      <td>...</td>\n",
              "      <td>...</td>\n",
              "      <td>...</td>\n",
              "    </tr>\n",
              "    <tr>\n",
              "      <th>609</th>\n",
              "      <td>LP002978</td>\n",
              "      <td>Female</td>\n",
              "      <td>No</td>\n",
              "      <td>0</td>\n",
              "      <td>Graduate</td>\n",
              "      <td>No</td>\n",
              "      <td>Rural</td>\n",
              "      <td>Y</td>\n",
              "    </tr>\n",
              "    <tr>\n",
              "      <th>610</th>\n",
              "      <td>LP002979</td>\n",
              "      <td>Male</td>\n",
              "      <td>Yes</td>\n",
              "      <td>3+</td>\n",
              "      <td>Graduate</td>\n",
              "      <td>No</td>\n",
              "      <td>Rural</td>\n",
              "      <td>Y</td>\n",
              "    </tr>\n",
              "    <tr>\n",
              "      <th>611</th>\n",
              "      <td>LP002983</td>\n",
              "      <td>Male</td>\n",
              "      <td>Yes</td>\n",
              "      <td>1</td>\n",
              "      <td>Graduate</td>\n",
              "      <td>No</td>\n",
              "      <td>Urban</td>\n",
              "      <td>Y</td>\n",
              "    </tr>\n",
              "    <tr>\n",
              "      <th>612</th>\n",
              "      <td>LP002984</td>\n",
              "      <td>Male</td>\n",
              "      <td>Yes</td>\n",
              "      <td>2</td>\n",
              "      <td>Graduate</td>\n",
              "      <td>No</td>\n",
              "      <td>Urban</td>\n",
              "      <td>Y</td>\n",
              "    </tr>\n",
              "    <tr>\n",
              "      <th>613</th>\n",
              "      <td>LP002990</td>\n",
              "      <td>Female</td>\n",
              "      <td>No</td>\n",
              "      <td>0</td>\n",
              "      <td>Graduate</td>\n",
              "      <td>Yes</td>\n",
              "      <td>Semiurban</td>\n",
              "      <td>N</td>\n",
              "    </tr>\n",
              "  </tbody>\n",
              "</table>\n",
              "<p>614 rows × 8 columns</p>\n",
              "</div>"
            ],
            "text/plain": [
              "      Loan_ID  Gender Married Dependents     Education Self_Employed  \\\n",
              "0    LP001002    Male      No          0      Graduate            No   \n",
              "1    LP001003    Male     Yes          1      Graduate            No   \n",
              "2    LP001005    Male     Yes          0      Graduate           Yes   \n",
              "3    LP001006    Male     Yes          0  Not Graduate            No   \n",
              "4    LP001008    Male      No          0      Graduate            No   \n",
              "..        ...     ...     ...        ...           ...           ...   \n",
              "609  LP002978  Female      No          0      Graduate            No   \n",
              "610  LP002979    Male     Yes         3+      Graduate            No   \n",
              "611  LP002983    Male     Yes          1      Graduate            No   \n",
              "612  LP002984    Male     Yes          2      Graduate            No   \n",
              "613  LP002990  Female      No          0      Graduate           Yes   \n",
              "\n",
              "    Property_Area Loan_Status  \n",
              "0           Urban           Y  \n",
              "1           Rural           N  \n",
              "2           Urban           Y  \n",
              "3           Urban           Y  \n",
              "4           Urban           Y  \n",
              "..            ...         ...  \n",
              "609         Rural           Y  \n",
              "610         Rural           Y  \n",
              "611         Urban           Y  \n",
              "612         Urban           Y  \n",
              "613     Semiurban           N  \n",
              "\n",
              "[614 rows x 8 columns]"
            ]
          },
          "execution_count": 10,
          "metadata": {},
          "output_type": "execute_result"
        }
      ],
      "source": [
        "cat_data = []\n",
        "\n",
        "for index, type in enumerate(train_data.dtypes):\n",
        "    if type == \"object\":\n",
        "        cat_data.append(train_data.iloc[:, index])\n",
        "cat_data = pd.DataFrame(cat_data).transpose()\n",
        "cat_data"
      ]
    },
    {
      "cell_type": "code",
      "execution_count": 11,
      "metadata": {
        "colab": {
          "base_uri": "https://localhost:8080/"
        },
        "id": "oe1h_UHtUCZM",
        "outputId": "f36303bd-a284-40bd-aa82-15e715345bc0"
      },
      "outputs": [
        {
          "data": {
            "text/plain": [
              "Loan_ID               0\n",
              "Gender               13\n",
              "Married               3\n",
              "Dependents           15\n",
              "Education             0\n",
              "Self_Employed        32\n",
              "ApplicantIncome       0\n",
              "CoapplicantIncome     0\n",
              "LoanAmount           22\n",
              "Loan_Amount_Term     14\n",
              "Credit_History       50\n",
              "Property_Area         0\n",
              "Loan_Status           0\n",
              "dtype: int64"
            ]
          },
          "execution_count": 11,
          "metadata": {},
          "output_type": "execute_result"
        }
      ],
      "source": [
        "train_data.isnull().sum()"
      ]
    },
    {
      "cell_type": "markdown",
      "metadata": {
        "id": "rsIzmJSwUdbc"
      },
      "source": [
        "จะเห็นได้ว่าข้อมูลมี null อยู่ซึ่งอาจจะทำให้การ predict ผิดพลาดได้จึงต้องทำการจัดการกับข้อมูลเสียก่อน\n"
      ]
    },
    {
      "cell_type": "code",
      "execution_count": 12,
      "metadata": {
        "id": "qq1DOB05b_K8"
      },
      "outputs": [],
      "source": [
        "del cat_data['Loan_ID']\n",
        "del cat_data['Self_Employed']\n",
        "for cat in cat_data.columns :\n",
        "  if cat == 'Loan_Status' :\n",
        "    pass\n",
        "  else :\n",
        "    train_data[cat]  = train_data[cat].fillna(train_data[cat].mode()[0])\n",
        "    test_data[cat] = test_data[cat].fillna(test_data[cat].mode()[0])"
      ]
    },
    {
      "cell_type": "code",
      "execution_count": 13,
      "metadata": {
        "colab": {
          "base_uri": "https://localhost:8080/"
        },
        "id": "kIKbqPFia5Zz",
        "outputId": "567eb611-d7ef-4a90-e09c-2361f6583c1c"
      },
      "outputs": [
        {
          "data": {
            "text/plain": [
              "Loan_ID               0\n",
              "Gender                0\n",
              "Married               0\n",
              "Dependents            0\n",
              "Education             0\n",
              "Self_Employed        32\n",
              "ApplicantIncome       0\n",
              "CoapplicantIncome     0\n",
              "LoanAmount           22\n",
              "Loan_Amount_Term     14\n",
              "Credit_History       50\n",
              "Property_Area         0\n",
              "Loan_Status           0\n",
              "dtype: int64"
            ]
          },
          "execution_count": 13,
          "metadata": {},
          "output_type": "execute_result"
        }
      ],
      "source": [
        "train_data.isnull().sum()"
      ]
    },
    {
      "cell_type": "markdown",
      "metadata": {
        "id": "WCppLLQ4dIK-"
      },
      "source": [
        "LoanAmount fill ด้วย median"
      ]
    },
    {
      "cell_type": "code",
      "execution_count": 14,
      "metadata": {
        "id": "4m8XP8B7a4O3"
      },
      "outputs": [],
      "source": [
        "test_data.LoanAmount = test_data.LoanAmount.fillna(test_data[\"LoanAmount\"].median())\n",
        "train_data.LoanAmount = train_data.LoanAmount.fillna(train_data[\"LoanAmount\"].median())"
      ]
    },
    {
      "cell_type": "markdown",
      "metadata": {
        "id": "njgA5XCIdh4Z"
      },
      "source": [
        "Loan_Amount_Term fill ด้วย bfill"
      ]
    },
    {
      "cell_type": "code",
      "execution_count": 15,
      "metadata": {
        "id": "IHGD5uAodEJI"
      },
      "outputs": [],
      "source": [
        "train_data.Loan_Amount_Term = train_data.Loan_Amount_Term.fillna(method=\"bfill\")\n",
        "test_data.Loan_Amount_Term = test_data.Loan_Amount_Term.fillna(method=\"bfill\")"
      ]
    },
    {
      "cell_type": "markdown",
      "metadata": {
        "id": "K0-oQuHEdotF"
      },
      "source": [
        "Loan_Status fill ด้วยการดูค่าจาก Loan_Status เพราะว่าจาก EDA ทำให้ทราบว่าถ้า Credit_History กับ Loan_Status มีความสัมพันธ์กัน"
      ]
    },
    {
      "cell_type": "code",
      "execution_count": 16,
      "metadata": {
        "id": "qOL8E87mdClW"
      },
      "outputs": [],
      "source": [
        "train_data.loc[(train_data.Credit_History.isnull())&(train_data.Loan_Status==1),'Credit_History'] = 1\n",
        "train_data.loc[(train_data.Credit_History.isnull()),'Credit_History'] = 0\n",
        "\n",
        "test_data.Credit_History = test_data.Credit_History.fillna(method=\"bfill\")\n",
        "test_data['Credit_History'].fillna(test_data['Credit_History'].value_counts().index[0], inplace=True)\n",
        "test_data.loc[(test_data.ApplicantIncome == 2733),'Credit_History']  = 0"
      ]
    },
    {
      "cell_type": "markdown",
      "metadata": {
        "id": "yI4VWHddeLtT"
      },
      "source": [
        "จาก EDA ทำให้ทราบว่าส่วนมากถ้าไม่ใช่อาชีพอิสระจะได้ credit_history = 1 "
      ]
    },
    {
      "cell_type": "code",
      "execution_count": 17,
      "metadata": {
        "id": "x13p4Zi6csSl"
      },
      "outputs": [],
      "source": [
        "train_data.loc[(train_data.Self_Employed.isnull())&(train_data.Credit_History==1),'Self_Employed'] ='No'\n",
        "train_data.loc[(train_data.Self_Employed.isnull()),'Self_Employed'] = 'Yes'\n",
        "\n",
        "test_data.loc[(test_data.Self_Employed.isnull())&(test_data.Credit_History==1),'Self_Employed'] ='No'\n",
        "test_data.loc[(test_data.Self_Employed.isnull()),'Self_Employed'] = 'Yes'"
      ]
    },
    {
      "cell_type": "code",
      "execution_count": 18,
      "metadata": {
        "colab": {
          "base_uri": "https://localhost:8080/"
        },
        "id": "qDfmVMsOVQaN",
        "outputId": "c979d91b-cb27-4045-b38d-f9b62ad90860"
      },
      "outputs": [
        {
          "data": {
            "text/plain": [
              "Loan_ID              0\n",
              "Gender               0\n",
              "Married              0\n",
              "Dependents           0\n",
              "Education            0\n",
              "Self_Employed        0\n",
              "ApplicantIncome      0\n",
              "CoapplicantIncome    0\n",
              "LoanAmount           0\n",
              "Loan_Amount_Term     0\n",
              "Credit_History       0\n",
              "Property_Area        0\n",
              "Loan_Status          0\n",
              "dtype: int64"
            ]
          },
          "execution_count": 18,
          "metadata": {},
          "output_type": "execute_result"
        }
      ],
      "source": [
        "train_data.isnull().sum()"
      ]
    },
    {
      "cell_type": "code",
      "execution_count": 19,
      "metadata": {
        "colab": {
          "base_uri": "https://localhost:8080/"
        },
        "id": "YQ8HSgL2_wUz",
        "outputId": "f225892f-6c19-4aa6-c9a6-a201e7a02a71"
      },
      "outputs": [
        {
          "data": {
            "text/plain": [
              "Loan_ID              0\n",
              "Gender               0\n",
              "Married              0\n",
              "Dependents           0\n",
              "Education            0\n",
              "Self_Employed        0\n",
              "ApplicantIncome      0\n",
              "CoapplicantIncome    0\n",
              "LoanAmount           0\n",
              "Loan_Amount_Term     0\n",
              "Credit_History       0\n",
              "Property_Area        0\n",
              "dtype: int64"
            ]
          },
          "execution_count": 19,
          "metadata": {},
          "output_type": "execute_result"
        }
      ],
      "source": [
        "test_data.isnull().sum()"
      ]
    },
    {
      "cell_type": "markdown",
      "metadata": {
        "id": "4QIxcAa5VoRi"
      },
      "source": [
        "หลังจากการจัดการข้อมูแล้วจะทำให้เห็นวาไม่มีค่า Null แล้ว"
      ]
    },
    {
      "cell_type": "markdown",
      "metadata": {
        "id": "Yd7ywtMjrJmi"
      },
      "source": [
        "##EDA\n"
      ]
    },
    {
      "cell_type": "code",
      "execution_count": 20,
      "metadata": {
        "id": "Bxf3r1TlcpSP"
      },
      "outputs": [],
      "source": [
        "train_data_copy = train_data.copy()"
      ]
    },
    {
      "cell_type": "code",
      "execution_count": 21,
      "metadata": {
        "colab": {
          "base_uri": "https://localhost:8080/",
          "height": 808
        },
        "id": "vUEc8gG9bu8w",
        "outputId": "f5210abd-070e-45de-9224-3b0a83d2b4e3"
      },
      "outputs": [
        {
          "data": {
            "text/plain": [
              "<AxesSubplot:>"
            ]
          },
          "execution_count": 21,
          "metadata": {},
          "output_type": "execute_result"
        },
        {
          "data": {
            "image/png": "[encoded data removed]",
            "text/plain": [
              "<Figure size 1080x864 with 2 Axes>"
            ]
          },
          "metadata": {
            "needs_background": "light"
          },
          "output_type": "display_data"
        }
      ],
      "source": [
        "corr = train_data_copy.corr()\n",
        "plt.figure(figsize=(15, 12))\n",
        "sns.heatmap(corr, annot=True)"
      ]
    },
    {
      "cell_type": "markdown",
      "metadata": {},
      "source": [
        "จากภาพจะทำให้เราเห็นว่ามีบาง Feature ที่มีความสัมพันธ์กันซึ่งมันจะเป็นข้อดีในตอน fill ข้อมูล"
      ]
    },
    {
      "cell_type": "markdown",
      "metadata": {},
      "source": [
        "มาลองดูข้อมูลทั้งหมด"
      ]
    },
    {
      "cell_type": "code",
      "execution_count": 22,
      "metadata": {},
      "outputs": [
        {
          "data": {
            "text/plain": [
              "<AxesSubplot:xlabel='Dependents', ylabel='count'>"
            ]
          },
          "execution_count": 22,
          "metadata": {},
          "output_type": "execute_result"
        },
        {
          "data": {
            "image/png": "[encoded data removed]",
            "text/plain": [
              "<Figure size 1152x720 with 8 Axes>"
            ]
          },
          "metadata": {
            "needs_background": "light"
          },
          "output_type": "display_data"
        }
      ],
      "source": [
        "fig,ax = plt.subplots(2,4,figsize=(16,10))\n",
        "sns.countplot('Loan_Status',data=train_data,ax=ax[0][0])\n",
        "sns.countplot('Gender',data=train_data,ax=ax[0][1])\n",
        "sns.countplot('Married',data=train_data,ax=ax[0][2])\n",
        "sns.countplot('Education',data=train_data,ax=ax[0][3])\n",
        "sns.countplot('Self_Employed',data=train_data,ax=ax[1][0])\n",
        "sns.countplot('Property_Area',data=train_data,ax=ax[1][1])\n",
        "sns.countplot('Credit_History',data=train_data,ax=ax[1][2])\n",
        "sns.countplot('Dependents',data=train_data,ax=ax[1][3])"
      ]
    },
    {
      "cell_type": "markdown",
      "metadata": {},
      "source": [
        "จากตารางทำให้เราเห็นว่า <br>\n",
        "1.ยอมรับการกู้มากกว่าการปฏิเสธการกู้<br>\n",
        "2.ชายมากกว่าหญิง<br>\n",
        "3.คนแต่งงานมากกว่าคนที่ยังไม่แต่งงาน<br>\n",
        "4.คนจบการศึกษามากกว่าคนที่ไม่จบ<br>\n",
        "5.คนทำอาชีพอิสระน้อยกว่าคนทำงานทั่วไป<br>\n",
        "6.คนที่อาศัยใน Semiurban มีมากกว่าอันอื่น <br>\n",
        "7.คนมีประวัติการเงินที่ดีกว่าไม่ดี<br>\n",
        "8.คนมีลูก 0 คนเยอะสุด<br>\n"
      ]
    },
    {
      "cell_type": "code",
      "execution_count": 23,
      "metadata": {
        "colab": {
          "base_uri": "https://localhost:8080/",
          "height": 296
        },
        "id": "YigHlIOvIpQC",
        "outputId": "1095acd5-d68f-4465-ae64-2f818f1c20c9"
      },
      "outputs": [
        {
          "data": {
            "text/plain": [
              "<AxesSubplot:xlabel='Gender', ylabel='count'>"
            ]
          },
          "execution_count": 23,
          "metadata": {},
          "output_type": "execute_result"
        },
        {
          "data": {
            "image/png": "[encoded data removed]",
            "text/plain": [
              "<Figure size 432x288 with 1 Axes>"
            ]
          },
          "metadata": {
            "needs_background": "light"
          },
          "output_type": "display_data"
        }
      ],
      "source": [
        "sns.countplot(train_data.Gender,hue=train_data.Loan_Status)"
      ]
    },
    {
      "cell_type": "code",
      "execution_count": 24,
      "metadata": {
        "colab": {
          "base_uri": "https://localhost:8080/",
          "height": 173
        },
        "id": "nLW0hC9rI60a",
        "outputId": "8e3dba63-4dea-4a0c-94a2-b8ce4310e8e4"
      },
      "outputs": [
        {
          "data": {
            "text/html": [
              "<div>\n",
              "<style scoped>\n",
              "    .dataframe tbody tr th:only-of-type {\n",
              "        vertical-align: middle;\n",
              "    }\n",
              "\n",
              "    .dataframe tbody tr th {\n",
              "        vertical-align: top;\n",
              "    }\n",
              "\n",
              "    .dataframe thead th {\n",
              "        text-align: right;\n",
              "    }\n",
              "</style>\n",
              "<table border=\"1\" class=\"dataframe\">\n",
              "  <thead>\n",
              "    <tr style=\"text-align: right;\">\n",
              "      <th>Loan_Status</th>\n",
              "      <th>N</th>\n",
              "      <th>Y</th>\n",
              "      <th>All</th>\n",
              "    </tr>\n",
              "    <tr>\n",
              "      <th>Gender</th>\n",
              "      <th></th>\n",
              "      <th></th>\n",
              "      <th></th>\n",
              "    </tr>\n",
              "  </thead>\n",
              "  <tbody>\n",
              "    <tr>\n",
              "      <th>Female</th>\n",
              "      <td>37</td>\n",
              "      <td>75</td>\n",
              "      <td>112</td>\n",
              "    </tr>\n",
              "    <tr>\n",
              "      <th>Male</th>\n",
              "      <td>155</td>\n",
              "      <td>347</td>\n",
              "      <td>502</td>\n",
              "    </tr>\n",
              "    <tr>\n",
              "      <th>All</th>\n",
              "      <td>192</td>\n",
              "      <td>422</td>\n",
              "      <td>614</td>\n",
              "    </tr>\n",
              "  </tbody>\n",
              "</table>\n",
              "</div>"
            ],
            "text/plain": [
              "Loan_Status    N    Y  All\n",
              "Gender                    \n",
              "Female        37   75  112\n",
              "Male         155  347  502\n",
              "All          192  422  614"
            ]
          },
          "execution_count": 24,
          "metadata": {},
          "output_type": "execute_result"
        }
      ],
      "source": [
        "pd.crosstab(train_data.Gender, train_data.Loan_Status, margins = True)"
      ]
    },
    {
      "cell_type": "code",
      "execution_count": 25,
      "metadata": {
        "colab": {
          "base_uri": "https://localhost:8080/",
          "height": 297
        },
        "id": "bhqCfeiHJ7YY",
        "outputId": "e89d8f0d-1a24-47d5-b849-288fd3d9511e"
      },
      "outputs": [
        {
          "data": {
            "text/plain": [
              "<AxesSubplot:xlabel='Credit_History', ylabel='count'>"
            ]
          },
          "execution_count": 25,
          "metadata": {},
          "output_type": "execute_result"
        },
        {
          "data": {
            "image/png": "[encoded data removed]",
            "text/plain": [
              "<Figure size 432x288 with 1 Axes>"
            ]
          },
          "metadata": {
            "needs_background": "light"
          },
          "output_type": "display_data"
        }
      ],
      "source": [
        "sns.countplot(train_data.Credit_History,hue=train_data.Loan_Status)"
      ]
    },
    {
      "cell_type": "code",
      "execution_count": 26,
      "metadata": {
        "colab": {
          "base_uri": "https://localhost:8080/",
          "height": 173
        },
        "id": "-NTIIoNKKBcZ",
        "outputId": "e7fb8162-766c-4588-b38b-0fb6fe6e2cd6"
      },
      "outputs": [
        {
          "data": {
            "text/html": [
              "<div>\n",
              "<style scoped>\n",
              "    .dataframe tbody tr th:only-of-type {\n",
              "        vertical-align: middle;\n",
              "    }\n",
              "\n",
              "    .dataframe tbody tr th {\n",
              "        vertical-align: top;\n",
              "    }\n",
              "\n",
              "    .dataframe thead th {\n",
              "        text-align: right;\n",
              "    }\n",
              "</style>\n",
              "<table border=\"1\" class=\"dataframe\">\n",
              "  <thead>\n",
              "    <tr style=\"text-align: right;\">\n",
              "      <th>Loan_Status</th>\n",
              "      <th>N</th>\n",
              "      <th>Y</th>\n",
              "      <th>All</th>\n",
              "    </tr>\n",
              "    <tr>\n",
              "      <th>Credit_History</th>\n",
              "      <th></th>\n",
              "      <th></th>\n",
              "      <th></th>\n",
              "    </tr>\n",
              "  </thead>\n",
              "  <tbody>\n",
              "    <tr>\n",
              "      <th>0.0</th>\n",
              "      <td>95</td>\n",
              "      <td>44</td>\n",
              "      <td>139</td>\n",
              "    </tr>\n",
              "    <tr>\n",
              "      <th>1.0</th>\n",
              "      <td>97</td>\n",
              "      <td>378</td>\n",
              "      <td>475</td>\n",
              "    </tr>\n",
              "    <tr>\n",
              "      <th>All</th>\n",
              "      <td>192</td>\n",
              "      <td>422</td>\n",
              "      <td>614</td>\n",
              "    </tr>\n",
              "  </tbody>\n",
              "</table>\n",
              "</div>"
            ],
            "text/plain": [
              "Loan_Status       N    Y  All\n",
              "Credit_History               \n",
              "0.0              95   44  139\n",
              "1.0              97  378  475\n",
              "All             192  422  614"
            ]
          },
          "execution_count": 26,
          "metadata": {},
          "output_type": "execute_result"
        }
      ],
      "source": [
        "pd.crosstab(train_data.Credit_History,train_data.Loan_Status , margins=True)"
      ]
    },
    {
      "cell_type": "markdown",
      "metadata": {
        "id": "ZCuc2oXiKJ1o"
      },
      "source": [
        "ถ้าประวัติเครดิตดีก็จะมีโอกาสที่จะกู้ได้มากกว่า ซึ่งควรนำไปทำเป็น Features"
      ]
    },
    {
      "cell_type": "code",
      "execution_count": 27,
      "metadata": {},
      "outputs": [
        {
          "data": {
            "text/plain": [
              "<AxesSubplot:xlabel='Self_Employed', ylabel='count'>"
            ]
          },
          "execution_count": 27,
          "metadata": {},
          "output_type": "execute_result"
        },
        {
          "data": {
            "image/png": "[encoded data removed]",
            "text/plain": [
              "<Figure size 432x288 with 1 Axes>"
            ]
          },
          "metadata": {
            "needs_background": "light"
          },
          "output_type": "display_data"
        }
      ],
      "source": [
        "sns.countplot(train_data.Self_Employed,hue=train_data.Loan_Status)"
      ]
    },
    {
      "cell_type": "code",
      "execution_count": 28,
      "metadata": {
        "colab": {
          "base_uri": "https://localhost:8080/",
          "height": 173
        },
        "id": "_4zzYD9WKhE1",
        "outputId": "cbd3679f-0d46-4140-97c4-0f701e972b05"
      },
      "outputs": [
        {
          "data": {
            "text/html": [
              "<div>\n",
              "<style scoped>\n",
              "    .dataframe tbody tr th:only-of-type {\n",
              "        vertical-align: middle;\n",
              "    }\n",
              "\n",
              "    .dataframe tbody tr th {\n",
              "        vertical-align: top;\n",
              "    }\n",
              "\n",
              "    .dataframe thead th {\n",
              "        text-align: right;\n",
              "    }\n",
              "</style>\n",
              "<table border=\"1\" class=\"dataframe\">\n",
              "  <thead>\n",
              "    <tr style=\"text-align: right;\">\n",
              "      <th>Loan_Status</th>\n",
              "      <th>N</th>\n",
              "      <th>Y</th>\n",
              "      <th>All</th>\n",
              "    </tr>\n",
              "    <tr>\n",
              "      <th>Self_Employed</th>\n",
              "      <th></th>\n",
              "      <th></th>\n",
              "      <th></th>\n",
              "    </tr>\n",
              "  </thead>\n",
              "  <tbody>\n",
              "    <tr>\n",
              "      <th>No</th>\n",
              "      <td>160</td>\n",
              "      <td>365</td>\n",
              "      <td>525</td>\n",
              "    </tr>\n",
              "    <tr>\n",
              "      <th>Yes</th>\n",
              "      <td>32</td>\n",
              "      <td>57</td>\n",
              "      <td>89</td>\n",
              "    </tr>\n",
              "    <tr>\n",
              "      <th>All</th>\n",
              "      <td>192</td>\n",
              "      <td>422</td>\n",
              "      <td>614</td>\n",
              "    </tr>\n",
              "  </tbody>\n",
              "</table>\n",
              "</div>"
            ],
            "text/plain": [
              "Loan_Status      N    Y  All\n",
              "Self_Employed               \n",
              "No             160  365  525\n",
              "Yes             32   57   89\n",
              "All            192  422  614"
            ]
          },
          "execution_count": 28,
          "metadata": {},
          "output_type": "execute_result"
        }
      ],
      "source": [
        "pd.crosstab(train_data.Self_Employed , train_data.Loan_Status,margins = True)"
      ]
    },
    {
      "cell_type": "markdown",
      "metadata": {},
      "source": [
        "เราจะเห็นได้ว่าถ้าเป็นอาชีพอิสระจะมีโอกาสได้กู้น้อยกว่า"
      ]
    },
    {
      "cell_type": "code",
      "execution_count": 29,
      "metadata": {
        "colab": {
          "base_uri": "https://localhost:8080/",
          "height": 299
        },
        "id": "It2hoT4jKqIa",
        "outputId": "82c85478-cb08-4dda-a550-ae99d6d90435"
      },
      "outputs": [
        {
          "data": {
            "text/plain": [
              "<AxesSubplot:xlabel='Married', ylabel='count'>"
            ]
          },
          "execution_count": 29,
          "metadata": {},
          "output_type": "execute_result"
        },
        {
          "data": {
            "image/png": "[encoded data removed]",
            "text/plain": [
              "<Figure size 432x288 with 1 Axes>"
            ]
          },
          "metadata": {
            "needs_background": "light"
          },
          "output_type": "display_data"
        }
      ],
      "source": [
        "sns.countplot(train_data.Married,hue=train_data.Loan_Status)"
      ]
    },
    {
      "cell_type": "code",
      "execution_count": 30,
      "metadata": {
        "colab": {
          "base_uri": "https://localhost:8080/",
          "height": 173
        },
        "id": "Qf2-ZWkBKvPl",
        "outputId": "bee904cf-9961-4a10-fc9e-8b5cf5805aff"
      },
      "outputs": [
        {
          "data": {
            "text/html": [
              "<div>\n",
              "<style scoped>\n",
              "    .dataframe tbody tr th:only-of-type {\n",
              "        vertical-align: middle;\n",
              "    }\n",
              "\n",
              "    .dataframe tbody tr th {\n",
              "        vertical-align: top;\n",
              "    }\n",
              "\n",
              "    .dataframe thead th {\n",
              "        text-align: right;\n",
              "    }\n",
              "</style>\n",
              "<table border=\"1\" class=\"dataframe\">\n",
              "  <thead>\n",
              "    <tr style=\"text-align: right;\">\n",
              "      <th>Loan_Status</th>\n",
              "      <th>N</th>\n",
              "      <th>Y</th>\n",
              "      <th>All</th>\n",
              "    </tr>\n",
              "    <tr>\n",
              "      <th>Married</th>\n",
              "      <th></th>\n",
              "      <th></th>\n",
              "      <th></th>\n",
              "    </tr>\n",
              "  </thead>\n",
              "  <tbody>\n",
              "    <tr>\n",
              "      <th>No</th>\n",
              "      <td>79</td>\n",
              "      <td>134</td>\n",
              "      <td>213</td>\n",
              "    </tr>\n",
              "    <tr>\n",
              "      <th>Yes</th>\n",
              "      <td>113</td>\n",
              "      <td>288</td>\n",
              "      <td>401</td>\n",
              "    </tr>\n",
              "    <tr>\n",
              "      <th>All</th>\n",
              "      <td>192</td>\n",
              "      <td>422</td>\n",
              "      <td>614</td>\n",
              "    </tr>\n",
              "  </tbody>\n",
              "</table>\n",
              "</div>"
            ],
            "text/plain": [
              "Loan_Status    N    Y  All\n",
              "Married                   \n",
              "No            79  134  213\n",
              "Yes          113  288  401\n",
              "All          192  422  614"
            ]
          },
          "execution_count": 30,
          "metadata": {},
          "output_type": "execute_result"
        }
      ],
      "source": [
        "pd.crosstab(train_data.Married, train_data.Loan_Status,margins = True)"
      ]
    },
    {
      "cell_type": "code",
      "execution_count": 31,
      "metadata": {
        "colab": {
          "base_uri": "https://localhost:8080/",
          "height": 296
        },
        "id": "nlJmWkM1K3QN",
        "outputId": "a6b02662-65e8-476d-c01d-1e82db9e6f29"
      },
      "outputs": [
        {
          "data": {
            "text/plain": [
              "<AxesSubplot:xlabel='Education', ylabel='count'>"
            ]
          },
          "execution_count": 31,
          "metadata": {},
          "output_type": "execute_result"
        },
        {
          "data": {
            "image/png": "[encoded data removed]",
            "text/plain": [
              "<Figure size 432x288 with 1 Axes>"
            ]
          },
          "metadata": {
            "needs_background": "light"
          },
          "output_type": "display_data"
        }
      ],
      "source": [
        "sns.countplot(train_data.Education,hue=train_data.Loan_Status)"
      ]
    },
    {
      "cell_type": "code",
      "execution_count": 32,
      "metadata": {
        "colab": {
          "base_uri": "https://localhost:8080/",
          "height": 173
        },
        "id": "Xeztm0rFK7Mq",
        "outputId": "7ea9d0a1-1735-43ca-ff68-e3bec867bc52"
      },
      "outputs": [
        {
          "data": {
            "text/html": [
              "<div>\n",
              "<style scoped>\n",
              "    .dataframe tbody tr th:only-of-type {\n",
              "        vertical-align: middle;\n",
              "    }\n",
              "\n",
              "    .dataframe tbody tr th {\n",
              "        vertical-align: top;\n",
              "    }\n",
              "\n",
              "    .dataframe thead th {\n",
              "        text-align: right;\n",
              "    }\n",
              "</style>\n",
              "<table border=\"1\" class=\"dataframe\">\n",
              "  <thead>\n",
              "    <tr style=\"text-align: right;\">\n",
              "      <th>Loan_Status</th>\n",
              "      <th>N</th>\n",
              "      <th>Y</th>\n",
              "      <th>All</th>\n",
              "    </tr>\n",
              "    <tr>\n",
              "      <th>Education</th>\n",
              "      <th></th>\n",
              "      <th></th>\n",
              "      <th></th>\n",
              "    </tr>\n",
              "  </thead>\n",
              "  <tbody>\n",
              "    <tr>\n",
              "      <th>Graduate</th>\n",
              "      <td>140</td>\n",
              "      <td>340</td>\n",
              "      <td>480</td>\n",
              "    </tr>\n",
              "    <tr>\n",
              "      <th>Not Graduate</th>\n",
              "      <td>52</td>\n",
              "      <td>82</td>\n",
              "      <td>134</td>\n",
              "    </tr>\n",
              "    <tr>\n",
              "      <th>All</th>\n",
              "      <td>192</td>\n",
              "      <td>422</td>\n",
              "      <td>614</td>\n",
              "    </tr>\n",
              "  </tbody>\n",
              "</table>\n",
              "</div>"
            ],
            "text/plain": [
              "Loan_Status     N    Y  All\n",
              "Education                  \n",
              "Graduate      140  340  480\n",
              "Not Graduate   52   82  134\n",
              "All           192  422  614"
            ]
          },
          "execution_count": 32,
          "metadata": {},
          "output_type": "execute_result"
        }
      ],
      "source": [
        "pd.crosstab(train_data.Education, train_data.Loan_Status,margins = True)"
      ]
    },
    {
      "cell_type": "code",
      "execution_count": 33,
      "metadata": {
        "colab": {
          "base_uri": "https://localhost:8080/",
          "height": 296
        },
        "id": "F6PjSjEdcDYg",
        "outputId": "6fcd76b4-49a7-4b1d-fcf1-dbeb90e191e7"
      },
      "outputs": [
        {
          "data": {
            "text/plain": [
              "<AxesSubplot:xlabel='Dependents', ylabel='count'>"
            ]
          },
          "execution_count": 33,
          "metadata": {},
          "output_type": "execute_result"
        },
        {
          "data": {
            "image/png": "[encoded data removed]",
            "text/plain": [
              "<Figure size 432x288 with 1 Axes>"
            ]
          },
          "metadata": {
            "needs_background": "light"
          },
          "output_type": "display_data"
        }
      ],
      "source": [
        "sns.countplot(train_data.Dependents,hue=train_data.Loan_Status)"
      ]
    },
    {
      "cell_type": "code",
      "execution_count": 34,
      "metadata": {
        "colab": {
          "base_uri": "https://localhost:8080/",
          "height": 235
        },
        "id": "KEHw7PGIcE51",
        "outputId": "2ae1a519-376f-4484-a0f8-778947b69863"
      },
      "outputs": [
        {
          "data": {
            "text/html": [
              "<div>\n",
              "<style scoped>\n",
              "    .dataframe tbody tr th:only-of-type {\n",
              "        vertical-align: middle;\n",
              "    }\n",
              "\n",
              "    .dataframe tbody tr th {\n",
              "        vertical-align: top;\n",
              "    }\n",
              "\n",
              "    .dataframe thead th {\n",
              "        text-align: right;\n",
              "    }\n",
              "</style>\n",
              "<table border=\"1\" class=\"dataframe\">\n",
              "  <thead>\n",
              "    <tr style=\"text-align: right;\">\n",
              "      <th>Loan_Status</th>\n",
              "      <th>N</th>\n",
              "      <th>Y</th>\n",
              "      <th>All</th>\n",
              "    </tr>\n",
              "    <tr>\n",
              "      <th>Dependents</th>\n",
              "      <th></th>\n",
              "      <th></th>\n",
              "      <th></th>\n",
              "    </tr>\n",
              "  </thead>\n",
              "  <tbody>\n",
              "    <tr>\n",
              "      <th>0</th>\n",
              "      <td>113</td>\n",
              "      <td>247</td>\n",
              "      <td>360</td>\n",
              "    </tr>\n",
              "    <tr>\n",
              "      <th>1</th>\n",
              "      <td>36</td>\n",
              "      <td>66</td>\n",
              "      <td>102</td>\n",
              "    </tr>\n",
              "    <tr>\n",
              "      <th>2</th>\n",
              "      <td>25</td>\n",
              "      <td>76</td>\n",
              "      <td>101</td>\n",
              "    </tr>\n",
              "    <tr>\n",
              "      <th>3+</th>\n",
              "      <td>18</td>\n",
              "      <td>33</td>\n",
              "      <td>51</td>\n",
              "    </tr>\n",
              "    <tr>\n",
              "      <th>All</th>\n",
              "      <td>192</td>\n",
              "      <td>422</td>\n",
              "      <td>614</td>\n",
              "    </tr>\n",
              "  </tbody>\n",
              "</table>\n",
              "</div>"
            ],
            "text/plain": [
              "Loan_Status    N    Y  All\n",
              "Dependents                \n",
              "0            113  247  360\n",
              "1             36   66  102\n",
              "2             25   76  101\n",
              "3+            18   33   51\n",
              "All          192  422  614"
            ]
          },
          "execution_count": 34,
          "metadata": {},
          "output_type": "execute_result"
        }
      ],
      "source": [
        "pd.crosstab(train_data.Dependents, train_data.Loan_Status,margins = True)"
      ]
    },
    {
      "cell_type": "markdown",
      "metadata": {},
      "source": [
        "จาก Depdndent,Married,Education,Gender จะทำให้เห็นว่าค่าไม่ได้มีความแตกต่างกันมากแต่จะมีค่าที่แตกต่างกันมากๆคือ Credit_History และ Self_Employed ที่มีผลต่อ Loan_Status"
      ]
    },
    {
      "cell_type": "markdown",
      "metadata": {},
      "source": [
        "งั้นแสดงว่า Credit_History และ Self_Employed มีความเกียวข้องหรือไม่มาลองพิสูจน์กัน"
      ]
    },
    {
      "cell_type": "code",
      "execution_count": 35,
      "metadata": {},
      "outputs": [
        {
          "data": {
            "text/html": [
              "<div>\n",
              "<style scoped>\n",
              "    .dataframe tbody tr th:only-of-type {\n",
              "        vertical-align: middle;\n",
              "    }\n",
              "\n",
              "    .dataframe tbody tr th {\n",
              "        vertical-align: top;\n",
              "    }\n",
              "\n",
              "    .dataframe thead th {\n",
              "        text-align: right;\n",
              "    }\n",
              "</style>\n",
              "<table border=\"1\" class=\"dataframe\">\n",
              "  <thead>\n",
              "    <tr style=\"text-align: right;\">\n",
              "      <th>Credit_History</th>\n",
              "      <th>0.0</th>\n",
              "      <th>1.0</th>\n",
              "      <th>All</th>\n",
              "    </tr>\n",
              "    <tr>\n",
              "      <th>Self_Employed</th>\n",
              "      <th></th>\n",
              "      <th></th>\n",
              "      <th></th>\n",
              "    </tr>\n",
              "  </thead>\n",
              "  <tbody>\n",
              "    <tr>\n",
              "      <th>No</th>\n",
              "      <td>113</td>\n",
              "      <td>412</td>\n",
              "      <td>525</td>\n",
              "    </tr>\n",
              "    <tr>\n",
              "      <th>Yes</th>\n",
              "      <td>26</td>\n",
              "      <td>63</td>\n",
              "      <td>89</td>\n",
              "    </tr>\n",
              "    <tr>\n",
              "      <th>All</th>\n",
              "      <td>139</td>\n",
              "      <td>475</td>\n",
              "      <td>614</td>\n",
              "    </tr>\n",
              "  </tbody>\n",
              "</table>\n",
              "</div>"
            ],
            "text/plain": [
              "Credit_History  0.0  1.0  All\n",
              "Self_Employed                \n",
              "No              113  412  525\n",
              "Yes              26   63   89\n",
              "All             139  475  614"
            ]
          },
          "execution_count": 35,
          "metadata": {},
          "output_type": "execute_result"
        }
      ],
      "source": [
        "pd.crosstab(train_data.Self_Employed , train_data.Credit_History,margins = True)"
      ]
    },
    {
      "cell_type": "markdown",
      "metadata": {},
      "source": [
        "สรุปสิ่งที่ได้คือ <br>\n",
        "1.Credit_History และ Self_Employed ส่งผลต่อการ Loan <br>\n",
        "2.Credit_History และ Self_Employed มีความสัมพันธ์กัน <br>\n",
        "3.Feature อื่นๆไม่มีความสัมพันธ์กันมากเท่าไหร่ "
      ]
    },
    {
      "cell_type": "markdown",
      "metadata": {},
      "source": [
        "จากตารางข้างบนทำให้เห็นว่าถ้าเราทำงานอาชีพอิสระก็จะส่งผลต่อ Credit_History"
      ]
    },
    {
      "cell_type": "markdown",
      "metadata": {
        "id": "K_IrwyFRwxAM"
      },
      "source": [
        "##Preprocessing"
      ]
    },
    {
      "cell_type": "code",
      "execution_count": 36,
      "metadata": {
        "id": "N9sqkjIn3k_q"
      },
      "outputs": [],
      "source": [
        "cols = ['Gender', 'Married', 'Education', 'Self_Employed', 'Property_Area', \n",
        "        'Loan_Status', 'Dependents']\n",
        "colsN = ['ApplicantIncome','CoapplicantIncome','Loan_Amount_Term','LoanAmount']\n",
        "train_data = train_data.replace(['3+'],'3')"
      ]
    },
    {
      "cell_type": "code",
      "execution_count": 37,
      "metadata": {
        "colab": {
          "base_uri": "https://localhost:8080/"
        },
        "id": "E-gIkbN20Up1",
        "outputId": "9610b224-3c83-4682-f03d-f84502799c8f"
      },
      "outputs": [
        {
          "data": {
            "text/plain": [
              "Gender               0\n",
              "Married              0\n",
              "Dependents           0\n",
              "Education            0\n",
              "Self_Employed        0\n",
              "ApplicantIncome      0\n",
              "CoapplicantIncome    0\n",
              "LoanAmount           0\n",
              "Loan_Amount_Term     0\n",
              "Credit_History       0\n",
              "Property_Area        0\n",
              "Loan_Status          0\n",
              "dtype: int64"
            ]
          },
          "execution_count": 37,
          "metadata": {},
          "output_type": "execute_result"
        }
      ],
      "source": [
        "del train_data['Loan_ID']\n",
        "\n",
        "for col in cols:\n",
        "  train_data[col] = LabelEncoder().fit_transform(train_data[col])\n",
        "\n",
        "for i in colsN :\n",
        "  train_data[i] = StandardScaler().fit_transform(train_data[[i]])\n",
        "\n",
        "\n",
        "train_data.isnull().sum()"
      ]
    },
    {
      "cell_type": "code",
      "execution_count": 38,
      "metadata": {
        "colab": {
          "base_uri": "https://localhost:8080/"
        },
        "id": "O3UzhKtye4nX",
        "outputId": "dba15ffe-72e0-40e6-ff71-1223b0ef4383"
      },
      "outputs": [
        {
          "name": "stdout",
          "output_type": "stream",
          "text": [
            "<class 'pandas.core.frame.DataFrame'>\n",
            "RangeIndex: 614 entries, 0 to 613\n",
            "Data columns (total 12 columns):\n",
            " #   Column             Non-Null Count  Dtype  \n",
            "---  ------             --------------  -----  \n",
            " 0   Gender             614 non-null    int32  \n",
            " 1   Married            614 non-null    int32  \n",
            " 2   Dependents         614 non-null    int32  \n",
            " 3   Education          614 non-null    int32  \n",
            " 4   Self_Employed      614 non-null    int32  \n",
            " 5   ApplicantIncome    614 non-null    float64\n",
            " 6   CoapplicantIncome  614 non-null    float64\n",
            " 7   LoanAmount         614 non-null    float64\n",
            " 8   Loan_Amount_Term   614 non-null    float64\n",
            " 9   Credit_History     614 non-null    float64\n",
            " 10  Property_Area      614 non-null    int32  \n",
            " 11  Loan_Status        614 non-null    int32  \n",
            "dtypes: float64(5), int32(7)\n",
            "memory usage: 40.9 KB\n"
          ]
        }
      ],
      "source": [
        "train_data.info()"
      ]
    },
    {
      "cell_type": "code",
      "execution_count": 39,
      "metadata": {
        "id": "yGrTm-9Z4FJe"
      },
      "outputs": [],
      "source": [
        "colsT = ['Gender', 'Married', 'Education', 'Dependents','Property_Area','Self_Employed']\n"
      ]
    },
    {
      "cell_type": "code",
      "execution_count": 40,
      "metadata": {
        "colab": {
          "base_uri": "https://localhost:8080/"
        },
        "id": "4A_EzM-70omv",
        "outputId": "0bd5c5ad-069d-447a-ce07-36d5990619d4"
      },
      "outputs": [
        {
          "data": {
            "text/plain": [
              "Gender               0\n",
              "Married              0\n",
              "Dependents           0\n",
              "Education            0\n",
              "Self_Employed        0\n",
              "ApplicantIncome      0\n",
              "CoapplicantIncome    0\n",
              "LoanAmount           0\n",
              "Loan_Amount_Term     0\n",
              "Credit_History       0\n",
              "Property_Area        0\n",
              "dtype: int64"
            ]
          },
          "execution_count": 40,
          "metadata": {},
          "output_type": "execute_result"
        }
      ],
      "source": [
        "del test_data['Loan_ID']\n",
        "\n",
        "test_data = test_data.replace(['3+'],'3') # เพราะมันอ่านไม่เข้าใจ\n",
        "for col in colsT:\n",
        "  test_data[col] = LabelEncoder().fit_transform(test_data[col])\n",
        "\n",
        "scaler=StandardScaler()\n",
        "for i in colsN :\n",
        "  test_data[i] = StandardScaler().fit_transform(test_data[[i]])\n",
        "\n",
        "test_data.isnull().sum()"
      ]
    },
    {
      "cell_type": "markdown",
      "metadata": {
        "id": "yTHOYUVfIhpw"
      },
      "source": [
        "##Model Building"
      ]
    },
    {
      "cell_type": "code",
      "execution_count": 41,
      "metadata": {
        "id": "Xit2tJjuLNdQ"
      },
      "outputs": [],
      "source": [
        "X = train_data.drop(['Loan_Status'], axis = 1 )\n",
        "y = train_data['Loan_Status']\n",
        "\n",
        "X_train ,X_test , y_train , y_test = train_test_split(X , y , test_size = 0.20 , random_state =0)"
      ]
    },
    {
      "cell_type": "code",
      "execution_count": 42,
      "metadata": {
        "colab": {
          "base_uri": "https://localhost:8080/"
        },
        "id": "Z3HWvhaqnR4f",
        "outputId": "4c33a4c5-71ab-42e2-ff12-43ce8686bc60"
      },
      "outputs": [
        {
          "name": "stdout",
          "output_type": "stream",
          "text": [
            "Requirement already satisfied: catboost in c:\\users\\bigco\\anaconda3\\lib\\site-packages (1.0.3)\n",
            "Requirement already satisfied: graphviz in c:\\users\\bigco\\anaconda3\\lib\\site-packages (from catboost) (0.18.2)\n",
            "Requirement already satisfied: pandas>=0.24.0 in c:\\users\\bigco\\anaconda3\\lib\\site-packages (from catboost) (1.2.4)\n",
            "Requirement already satisfied: six in c:\\users\\bigco\\anaconda3\\lib\\site-packages (from catboost) (1.15.0)\n",
            "Requirement already satisfied: numpy>=1.16.0 in c:\\users\\bigco\\anaconda3\\lib\\site-packages (from catboost) (1.20.1)\n",
            "Requirement already satisfied: plotly in c:\\users\\bigco\\anaconda3\\lib\\site-packages (from catboost) (5.4.0)\n",
            "Requirement already satisfied: scipy in c:\\users\\bigco\\anaconda3\\lib\\site-packages (from catboost) (1.6.2)\n",
            "Requirement already satisfied: matplotlib in c:\\users\\bigco\\anaconda3\\lib\\site-packages (from catboost) (3.3.4)\n",
            "Requirement already satisfied: python-dateutil>=2.7.3 in c:\\users\\bigco\\anaconda3\\lib\\site-packages (from pandas>=0.24.0->catboost) (2.8.1)\n",
            "Requirement already satisfied: pytz>=2017.3 in c:\\users\\bigco\\anaconda3\\lib\\site-packages (from pandas>=0.24.0->catboost) (2021.1)\n",
            "Requirement already satisfied: kiwisolver>=1.0.1 in c:\\users\\bigco\\anaconda3\\lib\\site-packages (from matplotlib->catboost) (1.3.1)\n",
            "Requirement already satisfied: pillow>=6.2.0 in c:\\users\\bigco\\anaconda3\\lib\\site-packages (from matplotlib->catboost) (8.2.0)\n",
            "Requirement already satisfied: pyparsing!=2.0.4,!=2.1.2,!=2.1.6,>=2.0.3 in c:\\users\\bigco\\anaconda3\\lib\\site-packages (from matplotlib->catboost) (2.4.7)\n",
            "Requirement already satisfied: cycler>=0.10 in c:\\users\\bigco\\anaconda3\\lib\\site-packages (from matplotlib->catboost) (0.10.0)\n",
            "Requirement already satisfied: tenacity>=6.2.0 in c:\\users\\bigco\\anaconda3\\lib\\site-packages (from plotly->catboost) (8.0.1)\n"
          ]
        }
      ],
      "source": [
        "!pip3 install catboost"
      ]
    },
    {
      "cell_type": "code",
      "execution_count": 43,
      "metadata": {
        "colab": {
          "base_uri": "https://localhost:8080/"
        },
        "id": "hQp6SlywLdu9",
        "outputId": "2920378e-0b0f-4fc4-cdb1-6296c47709fa"
      },
      "outputs": [
        {
          "name": "stdout",
          "output_type": "stream",
          "text": [
            "Learning rate set to 0.007604\n",
            "0:\tlearn: 0.6899144\ttotal: 55.1ms\tremaining: 55.1s\n",
            "1:\tlearn: 0.6870031\ttotal: 57.3ms\tremaining: 28.6s\n",
            "2:\tlearn: 0.6837434\ttotal: 60.3ms\tremaining: 20s\n",
            "3:\tlearn: 0.6808964\ttotal: 62.3ms\tremaining: 15.5s\n",
            "4:\tlearn: 0.6779019\ttotal: 64.2ms\tremaining: 12.8s\n",
            "5:\tlearn: 0.6752501\ttotal: 65.9ms\tremaining: 10.9s\n",
            "6:\tlearn: 0.6726925\ttotal: 67.7ms\tremaining: 9.6s\n",
            "7:\tlearn: 0.6701797\ttotal: 70.2ms\tremaining: 8.7s\n",
            "8:\tlearn: 0.6673086\ttotal: 73.7ms\tremaining: 8.11s\n",
            "9:\tlearn: 0.6645868\ttotal: 76ms\tremaining: 7.52s\n",
            "10:\tlearn: 0.6613772\ttotal: 77.8ms\tremaining: 7s\n",
            "11:\tlearn: 0.6586997\ttotal: 80.7ms\tremaining: 6.64s\n",
            "12:\tlearn: 0.6563338\ttotal: 83.1ms\tremaining: 6.31s\n",
            "13:\tlearn: 0.6536767\ttotal: 84.9ms\tremaining: 5.98s\n",
            "14:\tlearn: 0.6510230\ttotal: 86.6ms\tremaining: 5.68s\n",
            "15:\tlearn: 0.6484935\ttotal: 89.3ms\tremaining: 5.49s\n",
            "16:\tlearn: 0.6458925\ttotal: 92.5ms\tremaining: 5.34s\n",
            "17:\tlearn: 0.6434283\ttotal: 94.7ms\tremaining: 5.17s\n",
            "18:\tlearn: 0.6410104\ttotal: 96.7ms\tremaining: 4.99s\n",
            "19:\tlearn: 0.6388954\ttotal: 98.6ms\tremaining: 4.83s\n",
            "20:\tlearn: 0.6365698\ttotal: 101ms\tremaining: 4.7s\n",
            "21:\tlearn: 0.6347126\ttotal: 103ms\tremaining: 4.58s\n",
            "22:\tlearn: 0.6324779\ttotal: 105ms\tremaining: 4.46s\n",
            "23:\tlearn: 0.6301564\ttotal: 107ms\tremaining: 4.36s\n",
            "24:\tlearn: 0.6281283\ttotal: 110ms\tremaining: 4.27s\n",
            "25:\tlearn: 0.6263371\ttotal: 111ms\tremaining: 4.16s\n",
            "26:\tlearn: 0.6246524\ttotal: 112ms\tremaining: 4.03s\n",
            "27:\tlearn: 0.6225916\ttotal: 114ms\tremaining: 3.94s\n",
            "28:\tlearn: 0.6210256\ttotal: 115ms\tremaining: 3.86s\n",
            "29:\tlearn: 0.6187664\ttotal: 117ms\tremaining: 3.8s\n",
            "30:\tlearn: 0.6172859\ttotal: 119ms\tremaining: 3.71s\n",
            "31:\tlearn: 0.6149592\ttotal: 120ms\tremaining: 3.64s\n",
            "32:\tlearn: 0.6129021\ttotal: 122ms\tremaining: 3.58s\n",
            "33:\tlearn: 0.6114907\ttotal: 123ms\tremaining: 3.5s\n",
            "34:\tlearn: 0.6096289\ttotal: 125ms\tremaining: 3.44s\n",
            "35:\tlearn: 0.6082704\ttotal: 125ms\tremaining: 3.36s\n",
            "36:\tlearn: 0.6068077\ttotal: 127ms\tremaining: 3.3s\n",
            "37:\tlearn: 0.6046932\ttotal: 129ms\tremaining: 3.28s\n",
            "38:\tlearn: 0.6030224\ttotal: 131ms\tremaining: 3.23s\n",
            "39:\tlearn: 0.6007772\ttotal: 135ms\tremaining: 3.23s\n",
            "40:\tlearn: 0.5992570\ttotal: 136ms\tremaining: 3.19s\n",
            "41:\tlearn: 0.5980285\ttotal: 137ms\tremaining: 3.13s\n",
            "42:\tlearn: 0.5964767\ttotal: 139ms\tremaining: 3.09s\n",
            "43:\tlearn: 0.5946838\ttotal: 141ms\tremaining: 3.07s\n",
            "44:\tlearn: 0.5929383\ttotal: 144ms\tremaining: 3.06s\n",
            "45:\tlearn: 0.5912514\ttotal: 146ms\tremaining: 3.03s\n",
            "46:\tlearn: 0.5897828\ttotal: 149ms\tremaining: 3.01s\n",
            "47:\tlearn: 0.5882513\ttotal: 152ms\tremaining: 3.02s\n",
            "48:\tlearn: 0.5870665\ttotal: 154ms\tremaining: 3s\n",
            "49:\tlearn: 0.5859685\ttotal: 155ms\tremaining: 2.95s\n",
            "50:\tlearn: 0.5846008\ttotal: 157ms\tremaining: 2.92s\n",
            "51:\tlearn: 0.5835369\ttotal: 158ms\tremaining: 2.89s\n",
            "52:\tlearn: 0.5821000\ttotal: 160ms\tremaining: 2.86s\n",
            "53:\tlearn: 0.5805700\ttotal: 165ms\tremaining: 2.89s\n",
            "54:\tlearn: 0.5790549\ttotal: 168ms\tremaining: 2.88s\n",
            "55:\tlearn: 0.5775803\ttotal: 170ms\tremaining: 2.86s\n",
            "56:\tlearn: 0.5762767\ttotal: 171ms\tremaining: 2.83s\n",
            "57:\tlearn: 0.5748791\ttotal: 173ms\tremaining: 2.81s\n",
            "58:\tlearn: 0.5734091\ttotal: 175ms\tremaining: 2.79s\n",
            "59:\tlearn: 0.5719759\ttotal: 176ms\tremaining: 2.76s\n",
            "60:\tlearn: 0.5710281\ttotal: 180ms\tremaining: 2.76s\n",
            "61:\tlearn: 0.5696481\ttotal: 184ms\tremaining: 2.78s\n",
            "62:\tlearn: 0.5687879\ttotal: 185ms\tremaining: 2.75s\n",
            "63:\tlearn: 0.5674342\ttotal: 187ms\tremaining: 2.73s\n",
            "64:\tlearn: 0.5663939\ttotal: 188ms\tremaining: 2.71s\n",
            "65:\tlearn: 0.5652026\ttotal: 191ms\tremaining: 2.7s\n",
            "66:\tlearn: 0.5639382\ttotal: 193ms\tremaining: 2.69s\n",
            "67:\tlearn: 0.5629235\ttotal: 198ms\tremaining: 2.71s\n",
            "68:\tlearn: 0.5616958\ttotal: 200ms\tremaining: 2.69s\n",
            "69:\tlearn: 0.5607186\ttotal: 201ms\tremaining: 2.67s\n",
            "70:\tlearn: 0.5593883\ttotal: 204ms\tremaining: 2.66s\n",
            "71:\tlearn: 0.5574930\ttotal: 206ms\tremaining: 2.66s\n",
            "72:\tlearn: 0.5563324\ttotal: 208ms\tremaining: 2.64s\n",
            "73:\tlearn: 0.5553499\ttotal: 210ms\tremaining: 2.63s\n",
            "74:\tlearn: 0.5542648\ttotal: 212ms\tremaining: 2.61s\n",
            "75:\tlearn: 0.5528962\ttotal: 214ms\tremaining: 2.6s\n",
            "76:\tlearn: 0.5517730\ttotal: 217ms\tremaining: 2.6s\n",
            "77:\tlearn: 0.5504629\ttotal: 219ms\tremaining: 2.58s\n",
            "78:\tlearn: 0.5487939\ttotal: 220ms\tremaining: 2.57s\n",
            "79:\tlearn: 0.5474034\ttotal: 222ms\tremaining: 2.55s\n",
            "80:\tlearn: 0.5463366\ttotal: 227ms\tremaining: 2.58s\n",
            "81:\tlearn: 0.5448624\ttotal: 229ms\tremaining: 2.56s\n",
            "82:\tlearn: 0.5437289\ttotal: 231ms\tremaining: 2.55s\n",
            "83:\tlearn: 0.5429959\ttotal: 232ms\tremaining: 2.53s\n",
            "84:\tlearn: 0.5424068\ttotal: 233ms\tremaining: 2.51s\n",
            "85:\tlearn: 0.5415469\ttotal: 235ms\tremaining: 2.5s\n",
            "86:\tlearn: 0.5403791\ttotal: 237ms\tremaining: 2.49s\n",
            "87:\tlearn: 0.5393171\ttotal: 242ms\tremaining: 2.51s\n",
            "88:\tlearn: 0.5385411\ttotal: 244ms\tremaining: 2.5s\n",
            "89:\tlearn: 0.5379609\ttotal: 245ms\tremaining: 2.48s\n",
            "90:\tlearn: 0.5367761\ttotal: 247ms\tremaining: 2.46s\n",
            "91:\tlearn: 0.5359655\ttotal: 248ms\tremaining: 2.45s\n",
            "92:\tlearn: 0.5349165\ttotal: 251ms\tremaining: 2.45s\n",
            "93:\tlearn: 0.5343679\ttotal: 252ms\tremaining: 2.43s\n",
            "94:\tlearn: 0.5331567\ttotal: 254ms\tremaining: 2.42s\n",
            "95:\tlearn: 0.5320183\ttotal: 256ms\tremaining: 2.42s\n",
            "96:\tlearn: 0.5310352\ttotal: 258ms\tremaining: 2.4s\n",
            "97:\tlearn: 0.5300801\ttotal: 261ms\tremaining: 2.4s\n",
            "98:\tlearn: 0.5290568\ttotal: 263ms\tremaining: 2.4s\n",
            "99:\tlearn: 0.5278625\ttotal: 265ms\tremaining: 2.38s\n",
            "100:\tlearn: 0.5270017\ttotal: 267ms\tremaining: 2.37s\n",
            "101:\tlearn: 0.5262016\ttotal: 268ms\tremaining: 2.36s\n",
            "102:\tlearn: 0.5251310\ttotal: 273ms\tremaining: 2.37s\n",
            "103:\tlearn: 0.5244779\ttotal: 275ms\tremaining: 2.37s\n",
            "104:\tlearn: 0.5234094\ttotal: 277ms\tremaining: 2.36s\n",
            "105:\tlearn: 0.5225534\ttotal: 278ms\tremaining: 2.35s\n",
            "106:\tlearn: 0.5215111\ttotal: 280ms\tremaining: 2.34s\n",
            "107:\tlearn: 0.5206801\ttotal: 282ms\tremaining: 2.33s\n",
            "108:\tlearn: 0.5194724\ttotal: 286ms\tremaining: 2.34s\n",
            "109:\tlearn: 0.5187221\ttotal: 289ms\tremaining: 2.33s\n",
            "110:\tlearn: 0.5180214\ttotal: 291ms\tremaining: 2.33s\n",
            "111:\tlearn: 0.5172879\ttotal: 292ms\tremaining: 2.32s\n",
            "112:\tlearn: 0.5163363\ttotal: 294ms\tremaining: 2.31s\n",
            "113:\tlearn: 0.5154755\ttotal: 296ms\tremaining: 2.3s\n",
            "114:\tlearn: 0.5148281\ttotal: 298ms\tremaining: 2.29s\n",
            "115:\tlearn: 0.5139831\ttotal: 299ms\tremaining: 2.28s\n",
            "116:\tlearn: 0.5133561\ttotal: 301ms\tremaining: 2.27s\n",
            "117:\tlearn: 0.5125802\ttotal: 303ms\tremaining: 2.27s\n",
            "118:\tlearn: 0.5119683\ttotal: 305ms\tremaining: 2.26s\n",
            "119:\tlearn: 0.5110746\ttotal: 307ms\tremaining: 2.25s\n",
            "120:\tlearn: 0.5100414\ttotal: 308ms\tremaining: 2.24s\n",
            "121:\tlearn: 0.5093535\ttotal: 310ms\tremaining: 2.23s\n",
            "122:\tlearn: 0.5081884\ttotal: 312ms\tremaining: 2.23s\n",
            "123:\tlearn: 0.5075442\ttotal: 315ms\tremaining: 2.23s\n",
            "124:\tlearn: 0.5069965\ttotal: 317ms\tremaining: 2.22s\n",
            "125:\tlearn: 0.5063835\ttotal: 319ms\tremaining: 2.21s\n",
            "126:\tlearn: 0.5060235\ttotal: 320ms\tremaining: 2.2s\n",
            "127:\tlearn: 0.5054022\ttotal: 322ms\tremaining: 2.19s\n",
            "128:\tlearn: 0.5047265\ttotal: 323ms\tremaining: 2.18s\n",
            "129:\tlearn: 0.5042556\ttotal: 325ms\tremaining: 2.17s\n",
            "130:\tlearn: 0.5035828\ttotal: 328ms\tremaining: 2.17s\n",
            "131:\tlearn: 0.5031714\ttotal: 330ms\tremaining: 2.17s\n",
            "132:\tlearn: 0.5021795\ttotal: 333ms\tremaining: 2.17s\n",
            "133:\tlearn: 0.5013061\ttotal: 335ms\tremaining: 2.17s\n",
            "134:\tlearn: 0.5007553\ttotal: 337ms\tremaining: 2.16s\n",
            "135:\tlearn: 0.4999194\ttotal: 339ms\tremaining: 2.15s\n",
            "136:\tlearn: 0.4991874\ttotal: 341ms\tremaining: 2.15s\n",
            "137:\tlearn: 0.4985042\ttotal: 344ms\tremaining: 2.15s\n",
            "138:\tlearn: 0.4977895\ttotal: 346ms\tremaining: 2.14s\n",
            "139:\tlearn: 0.4971714\ttotal: 349ms\tremaining: 2.14s\n",
            "140:\tlearn: 0.4967768\ttotal: 351ms\tremaining: 2.14s\n",
            "141:\tlearn: 0.4961721\ttotal: 354ms\tremaining: 2.14s\n",
            "142:\tlearn: 0.4955559\ttotal: 356ms\tremaining: 2.13s\n",
            "143:\tlearn: 0.4951579\ttotal: 358ms\tremaining: 2.13s\n",
            "144:\tlearn: 0.4945102\ttotal: 360ms\tremaining: 2.12s\n",
            "145:\tlearn: 0.4942172\ttotal: 361ms\tremaining: 2.11s\n",
            "146:\tlearn: 0.4934778\ttotal: 364ms\tremaining: 2.12s\n",
            "147:\tlearn: 0.4928860\ttotal: 366ms\tremaining: 2.11s\n",
            "148:\tlearn: 0.4922027\ttotal: 368ms\tremaining: 2.1s\n",
            "149:\tlearn: 0.4913619\ttotal: 370ms\tremaining: 2.1s\n",
            "150:\tlearn: 0.4908677\ttotal: 373ms\tremaining: 2.1s\n",
            "151:\tlearn: 0.4901542\ttotal: 376ms\tremaining: 2.1s\n",
            "152:\tlearn: 0.4895605\ttotal: 379ms\tremaining: 2.1s\n",
            "153:\tlearn: 0.4891766\ttotal: 380ms\tremaining: 2.09s\n",
            "154:\tlearn: 0.4886160\ttotal: 385ms\tremaining: 2.1s\n",
            "155:\tlearn: 0.4879556\ttotal: 389ms\tremaining: 2.1s\n",
            "156:\tlearn: 0.4872288\ttotal: 396ms\tremaining: 2.13s\n",
            "157:\tlearn: 0.4867184\ttotal: 398ms\tremaining: 2.12s\n",
            "158:\tlearn: 0.4860839\ttotal: 402ms\tremaining: 2.12s\n",
            "159:\tlearn: 0.4853822\ttotal: 404ms\tremaining: 2.12s\n",
            "160:\tlearn: 0.4848550\ttotal: 407ms\tremaining: 2.12s\n",
            "161:\tlearn: 0.4843263\ttotal: 415ms\tremaining: 2.14s\n",
            "162:\tlearn: 0.4836535\ttotal: 416ms\tremaining: 2.14s\n",
            "163:\tlearn: 0.4832747\ttotal: 419ms\tremaining: 2.13s\n",
            "164:\tlearn: 0.4825776\ttotal: 427ms\tremaining: 2.16s\n",
            "165:\tlearn: 0.4823271\ttotal: 429ms\tremaining: 2.15s\n",
            "166:\tlearn: 0.4819703\ttotal: 431ms\tremaining: 2.15s\n",
            "167:\tlearn: 0.4808954\ttotal: 433ms\tremaining: 2.14s\n",
            "168:\tlearn: 0.4804329\ttotal: 435ms\tremaining: 2.14s\n",
            "169:\tlearn: 0.4799528\ttotal: 438ms\tremaining: 2.14s\n",
            "170:\tlearn: 0.4793287\ttotal: 442ms\tremaining: 2.14s\n",
            "171:\tlearn: 0.4789481\ttotal: 444ms\tremaining: 2.13s\n",
            "172:\tlearn: 0.4785932\ttotal: 446ms\tremaining: 2.13s\n",
            "173:\tlearn: 0.4780800\ttotal: 449ms\tremaining: 2.13s\n",
            "174:\tlearn: 0.4771799\ttotal: 451ms\tremaining: 2.13s\n",
            "175:\tlearn: 0.4766067\ttotal: 456ms\tremaining: 2.13s\n",
            "176:\tlearn: 0.4763653\ttotal: 458ms\tremaining: 2.13s\n",
            "177:\tlearn: 0.4758603\ttotal: 461ms\tremaining: 2.13s\n",
            "178:\tlearn: 0.4753643\ttotal: 463ms\tremaining: 2.13s\n",
            "179:\tlearn: 0.4746960\ttotal: 467ms\tremaining: 2.13s\n",
            "180:\tlearn: 0.4741436\ttotal: 472ms\tremaining: 2.13s\n",
            "181:\tlearn: 0.4736620\ttotal: 475ms\tremaining: 2.13s\n",
            "182:\tlearn: 0.4732302\ttotal: 478ms\tremaining: 2.13s\n",
            "183:\tlearn: 0.4727531\ttotal: 480ms\tremaining: 2.13s\n",
            "184:\tlearn: 0.4723114\ttotal: 483ms\tremaining: 2.13s\n",
            "185:\tlearn: 0.4716817\ttotal: 488ms\tremaining: 2.13s\n",
            "186:\tlearn: 0.4710184\ttotal: 490ms\tremaining: 2.13s\n",
            "187:\tlearn: 0.4708428\ttotal: 491ms\tremaining: 2.12s\n",
            "188:\tlearn: 0.4703746\ttotal: 494ms\tremaining: 2.12s\n",
            "189:\tlearn: 0.4697125\ttotal: 497ms\tremaining: 2.12s\n",
            "190:\tlearn: 0.4691895\ttotal: 500ms\tremaining: 2.12s\n",
            "191:\tlearn: 0.4688655\ttotal: 502ms\tremaining: 2.11s\n",
            "192:\tlearn: 0.4684440\ttotal: 504ms\tremaining: 2.11s\n",
            "193:\tlearn: 0.4680358\ttotal: 507ms\tremaining: 2.1s\n",
            "194:\tlearn: 0.4675051\ttotal: 509ms\tremaining: 2.1s\n",
            "195:\tlearn: 0.4667219\ttotal: 511ms\tremaining: 2.1s\n",
            "196:\tlearn: 0.4663620\ttotal: 513ms\tremaining: 2.09s\n",
            "197:\tlearn: 0.4661014\ttotal: 516ms\tremaining: 2.09s\n",
            "198:\tlearn: 0.4660186\ttotal: 517ms\tremaining: 2.08s\n",
            "199:\tlearn: 0.4656677\ttotal: 522ms\tremaining: 2.09s\n",
            "200:\tlearn: 0.4651125\ttotal: 524ms\tremaining: 2.08s\n",
            "201:\tlearn: 0.4648858\ttotal: 526ms\tremaining: 2.08s\n",
            "202:\tlearn: 0.4643348\ttotal: 528ms\tremaining: 2.07s\n",
            "203:\tlearn: 0.4639383\ttotal: 530ms\tremaining: 2.07s\n",
            "204:\tlearn: 0.4634664\ttotal: 532ms\tremaining: 2.06s\n",
            "205:\tlearn: 0.4630988\ttotal: 537ms\tremaining: 2.07s\n",
            "206:\tlearn: 0.4623701\ttotal: 539ms\tremaining: 2.07s\n",
            "207:\tlearn: 0.4621242\ttotal: 541ms\tremaining: 2.06s\n",
            "208:\tlearn: 0.4615672\ttotal: 542ms\tremaining: 2.05s\n",
            "209:\tlearn: 0.4611879\ttotal: 544ms\tremaining: 2.05s\n",
            "210:\tlearn: 0.4609665\ttotal: 547ms\tremaining: 2.04s\n",
            "211:\tlearn: 0.4607547\ttotal: 551ms\tremaining: 2.05s\n",
            "212:\tlearn: 0.4601400\ttotal: 553ms\tremaining: 2.04s\n",
            "213:\tlearn: 0.4598244\ttotal: 555ms\tremaining: 2.04s\n",
            "214:\tlearn: 0.4596142\ttotal: 556ms\tremaining: 2.03s\n",
            "215:\tlearn: 0.4586500\ttotal: 558ms\tremaining: 2.03s\n",
            "216:\tlearn: 0.4579494\ttotal: 561ms\tremaining: 2.02s\n",
            "217:\tlearn: 0.4575946\ttotal: 564ms\tremaining: 2.02s\n",
            "218:\tlearn: 0.4571402\ttotal: 568ms\tremaining: 2.03s\n",
            "219:\tlearn: 0.4566618\ttotal: 570ms\tremaining: 2.02s\n",
            "220:\tlearn: 0.4562386\ttotal: 572ms\tremaining: 2.02s\n",
            "221:\tlearn: 0.4558991\ttotal: 574ms\tremaining: 2.01s\n",
            "222:\tlearn: 0.4553030\ttotal: 577ms\tremaining: 2.01s\n",
            "223:\tlearn: 0.4550310\ttotal: 580ms\tremaining: 2.01s\n",
            "224:\tlearn: 0.4546367\ttotal: 582ms\tremaining: 2s\n",
            "225:\tlearn: 0.4542126\ttotal: 584ms\tremaining: 2s\n",
            "226:\tlearn: 0.4537407\ttotal: 585ms\tremaining: 1.99s\n",
            "227:\tlearn: 0.4534480\ttotal: 587ms\tremaining: 1.99s\n",
            "228:\tlearn: 0.4532714\ttotal: 591ms\tremaining: 1.99s\n",
            "229:\tlearn: 0.4530064\ttotal: 595ms\tremaining: 1.99s\n",
            "230:\tlearn: 0.4526462\ttotal: 597ms\tremaining: 1.99s\n",
            "231:\tlearn: 0.4523478\ttotal: 599ms\tremaining: 1.98s\n",
            "232:\tlearn: 0.4518208\ttotal: 601ms\tremaining: 1.98s\n",
            "233:\tlearn: 0.4512871\ttotal: 603ms\tremaining: 1.97s\n",
            "234:\tlearn: 0.4508520\ttotal: 605ms\tremaining: 1.97s\n",
            "235:\tlearn: 0.4505560\ttotal: 608ms\tremaining: 1.97s\n",
            "236:\tlearn: 0.4505290\ttotal: 609ms\tremaining: 1.96s\n",
            "237:\tlearn: 0.4501223\ttotal: 613ms\tremaining: 1.96s\n",
            "238:\tlearn: 0.4496770\ttotal: 615ms\tremaining: 1.96s\n",
            "239:\tlearn: 0.4493428\ttotal: 617ms\tremaining: 1.95s\n",
            "240:\tlearn: 0.4487706\ttotal: 618ms\tremaining: 1.95s\n",
            "241:\tlearn: 0.4483786\ttotal: 621ms\tremaining: 1.94s\n",
            "242:\tlearn: 0.4482726\ttotal: 622ms\tremaining: 1.94s\n",
            "243:\tlearn: 0.4478787\ttotal: 625ms\tremaining: 1.94s\n",
            "244:\tlearn: 0.4476629\ttotal: 626ms\tremaining: 1.93s\n",
            "245:\tlearn: 0.4471494\ttotal: 628ms\tremaining: 1.92s\n",
            "246:\tlearn: 0.4468393\ttotal: 630ms\tremaining: 1.92s\n",
            "247:\tlearn: 0.4466052\ttotal: 633ms\tremaining: 1.92s\n",
            "248:\tlearn: 0.4462929\ttotal: 635ms\tremaining: 1.92s\n",
            "249:\tlearn: 0.4460349\ttotal: 639ms\tremaining: 1.92s\n",
            "250:\tlearn: 0.4457431\ttotal: 641ms\tremaining: 1.91s\n",
            "251:\tlearn: 0.4455791\ttotal: 644ms\tremaining: 1.91s\n",
            "252:\tlearn: 0.4454313\ttotal: 645ms\tremaining: 1.91s\n",
            "253:\tlearn: 0.4449780\ttotal: 647ms\tremaining: 1.9s\n",
            "254:\tlearn: 0.4445226\ttotal: 653ms\tremaining: 1.91s\n",
            "255:\tlearn: 0.4442627\ttotal: 656ms\tremaining: 1.91s\n",
            "256:\tlearn: 0.4439818\ttotal: 657ms\tremaining: 1.9s\n",
            "257:\tlearn: 0.4436908\ttotal: 660ms\tremaining: 1.9s\n",
            "258:\tlearn: 0.4431815\ttotal: 662ms\tremaining: 1.89s\n",
            "259:\tlearn: 0.4427550\ttotal: 665ms\tremaining: 1.89s\n",
            "260:\tlearn: 0.4424577\ttotal: 669ms\tremaining: 1.89s\n",
            "261:\tlearn: 0.4421354\ttotal: 671ms\tremaining: 1.89s\n",
            "262:\tlearn: 0.4416308\ttotal: 673ms\tremaining: 1.89s\n",
            "263:\tlearn: 0.4414731\ttotal: 675ms\tremaining: 1.88s\n",
            "264:\tlearn: 0.4411973\ttotal: 679ms\tremaining: 1.88s\n",
            "265:\tlearn: 0.4408400\ttotal: 683ms\tremaining: 1.88s\n",
            "266:\tlearn: 0.4403725\ttotal: 685ms\tremaining: 1.88s\n",
            "267:\tlearn: 0.4399318\ttotal: 687ms\tremaining: 1.88s\n",
            "268:\tlearn: 0.4396249\ttotal: 689ms\tremaining: 1.87s\n",
            "269:\tlearn: 0.4389530\ttotal: 691ms\tremaining: 1.87s\n",
            "270:\tlearn: 0.4386400\ttotal: 693ms\tremaining: 1.86s\n",
            "271:\tlearn: 0.4385705\ttotal: 695ms\tremaining: 1.86s\n",
            "272:\tlearn: 0.4382122\ttotal: 697ms\tremaining: 1.86s\n",
            "273:\tlearn: 0.4380114\ttotal: 700ms\tremaining: 1.85s\n",
            "274:\tlearn: 0.4377668\ttotal: 702ms\tremaining: 1.85s\n",
            "275:\tlearn: 0.4373775\ttotal: 704ms\tremaining: 1.85s\n",
            "276:\tlearn: 0.4370878\ttotal: 706ms\tremaining: 1.84s\n",
            "277:\tlearn: 0.4368386\ttotal: 709ms\tremaining: 1.84s\n",
            "278:\tlearn: 0.4363310\ttotal: 715ms\tremaining: 1.85s\n",
            "279:\tlearn: 0.4352905\ttotal: 717ms\tremaining: 1.84s\n",
            "280:\tlearn: 0.4350080\ttotal: 719ms\tremaining: 1.84s\n",
            "281:\tlearn: 0.4346039\ttotal: 720ms\tremaining: 1.83s\n",
            "282:\tlearn: 0.4343655\ttotal: 722ms\tremaining: 1.83s\n",
            "283:\tlearn: 0.4338283\ttotal: 725ms\tremaining: 1.83s\n",
            "284:\tlearn: 0.4334660\ttotal: 727ms\tremaining: 1.82s\n",
            "285:\tlearn: 0.4333177\ttotal: 729ms\tremaining: 1.82s\n",
            "286:\tlearn: 0.4329702\ttotal: 731ms\tremaining: 1.82s\n",
            "287:\tlearn: 0.4325992\ttotal: 733ms\tremaining: 1.81s\n",
            "288:\tlearn: 0.4320763\ttotal: 735ms\tremaining: 1.81s\n",
            "289:\tlearn: 0.4318125\ttotal: 737ms\tremaining: 1.8s\n",
            "290:\tlearn: 0.4314171\ttotal: 739ms\tremaining: 1.8s\n",
            "291:\tlearn: 0.4310206\ttotal: 741ms\tremaining: 1.8s\n",
            "292:\tlearn: 0.4309082\ttotal: 743ms\tremaining: 1.79s\n",
            "293:\tlearn: 0.4306483\ttotal: 745ms\tremaining: 1.79s\n",
            "294:\tlearn: 0.4303112\ttotal: 747ms\tremaining: 1.78s\n",
            "295:\tlearn: 0.4300950\ttotal: 749ms\tremaining: 1.78s\n",
            "296:\tlearn: 0.4298863\ttotal: 750ms\tremaining: 1.78s\n",
            "297:\tlearn: 0.4294220\ttotal: 752ms\tremaining: 1.77s\n",
            "298:\tlearn: 0.4292866\ttotal: 754ms\tremaining: 1.77s\n",
            "299:\tlearn: 0.4290585\ttotal: 757ms\tremaining: 1.77s\n",
            "300:\tlearn: 0.4287080\ttotal: 759ms\tremaining: 1.76s\n",
            "301:\tlearn: 0.4284406\ttotal: 761ms\tremaining: 1.76s\n",
            "302:\tlearn: 0.4279992\ttotal: 763ms\tremaining: 1.75s\n",
            "303:\tlearn: 0.4276307\ttotal: 765ms\tremaining: 1.75s\n",
            "304:\tlearn: 0.4274254\ttotal: 767ms\tremaining: 1.75s\n",
            "305:\tlearn: 0.4270609\ttotal: 770ms\tremaining: 1.75s\n",
            "306:\tlearn: 0.4270089\ttotal: 772ms\tremaining: 1.74s\n",
            "307:\tlearn: 0.4266683\ttotal: 774ms\tremaining: 1.74s\n",
            "308:\tlearn: 0.4264774\ttotal: 775ms\tremaining: 1.73s\n",
            "309:\tlearn: 0.4263286\ttotal: 777ms\tremaining: 1.73s\n",
            "310:\tlearn: 0.4262224\ttotal: 779ms\tremaining: 1.73s\n",
            "311:\tlearn: 0.4259976\ttotal: 781ms\tremaining: 1.72s\n",
            "312:\tlearn: 0.4256911\ttotal: 784ms\tremaining: 1.72s\n",
            "313:\tlearn: 0.4253963\ttotal: 787ms\tremaining: 1.72s\n",
            "314:\tlearn: 0.4250369\ttotal: 790ms\tremaining: 1.72s\n",
            "315:\tlearn: 0.4246240\ttotal: 792ms\tremaining: 1.72s\n",
            "316:\tlearn: 0.4241141\ttotal: 794ms\tremaining: 1.71s\n",
            "317:\tlearn: 0.4237753\ttotal: 796ms\tremaining: 1.71s\n",
            "318:\tlearn: 0.4234254\ttotal: 797ms\tremaining: 1.7s\n",
            "319:\tlearn: 0.4230295\ttotal: 800ms\tremaining: 1.7s\n",
            "320:\tlearn: 0.4226228\ttotal: 802ms\tremaining: 1.7s\n",
            "321:\tlearn: 0.4224417\ttotal: 804ms\tremaining: 1.69s\n",
            "322:\tlearn: 0.4221420\ttotal: 806ms\tremaining: 1.69s\n",
            "323:\tlearn: 0.4217742\ttotal: 808ms\tremaining: 1.69s\n",
            "324:\tlearn: 0.4215580\ttotal: 810ms\tremaining: 1.68s\n",
            "325:\tlearn: 0.4212923\ttotal: 812ms\tremaining: 1.68s\n",
            "326:\tlearn: 0.4209302\ttotal: 814ms\tremaining: 1.68s\n",
            "327:\tlearn: 0.4206414\ttotal: 818ms\tremaining: 1.68s\n",
            "328:\tlearn: 0.4202083\ttotal: 821ms\tremaining: 1.67s\n",
            "329:\tlearn: 0.4199571\ttotal: 823ms\tremaining: 1.67s\n",
            "330:\tlearn: 0.4197752\ttotal: 825ms\tremaining: 1.67s\n",
            "331:\tlearn: 0.4194444\ttotal: 827ms\tremaining: 1.66s\n",
            "332:\tlearn: 0.4190473\ttotal: 831ms\tremaining: 1.66s\n",
            "333:\tlearn: 0.4189040\ttotal: 833ms\tremaining: 1.66s\n",
            "334:\tlearn: 0.4185448\ttotal: 835ms\tremaining: 1.66s\n",
            "335:\tlearn: 0.4182879\ttotal: 837ms\tremaining: 1.65s\n",
            "336:\tlearn: 0.4178992\ttotal: 839ms\tremaining: 1.65s\n",
            "337:\tlearn: 0.4175544\ttotal: 841ms\tremaining: 1.65s\n",
            "338:\tlearn: 0.4171743\ttotal: 847ms\tremaining: 1.65s\n",
            "339:\tlearn: 0.4170014\ttotal: 850ms\tremaining: 1.65s\n",
            "340:\tlearn: 0.4166268\ttotal: 852ms\tremaining: 1.65s\n",
            "341:\tlearn: 0.4163741\ttotal: 854ms\tremaining: 1.64s\n",
            "342:\tlearn: 0.4161943\ttotal: 855ms\tremaining: 1.64s\n",
            "343:\tlearn: 0.4159701\ttotal: 857ms\tremaining: 1.63s\n",
            "344:\tlearn: 0.4156826\ttotal: 862ms\tremaining: 1.64s\n",
            "345:\tlearn: 0.4152930\ttotal: 864ms\tremaining: 1.63s\n",
            "346:\tlearn: 0.4150890\ttotal: 866ms\tremaining: 1.63s\n",
            "347:\tlearn: 0.4148134\ttotal: 868ms\tremaining: 1.63s\n",
            "348:\tlearn: 0.4147196\ttotal: 870ms\tremaining: 1.62s\n",
            "349:\tlearn: 0.4145872\ttotal: 875ms\tremaining: 1.63s\n",
            "350:\tlearn: 0.4144202\ttotal: 877ms\tremaining: 1.62s\n",
            "351:\tlearn: 0.4140809\ttotal: 879ms\tremaining: 1.62s\n",
            "352:\tlearn: 0.4136676\ttotal: 880ms\tremaining: 1.61s\n",
            "353:\tlearn: 0.4132686\ttotal: 882ms\tremaining: 1.61s\n",
            "354:\tlearn: 0.4130785\ttotal: 884ms\tremaining: 1.61s\n",
            "355:\tlearn: 0.4127993\ttotal: 889ms\tremaining: 1.61s\n",
            "356:\tlearn: 0.4124896\ttotal: 892ms\tremaining: 1.6s\n",
            "357:\tlearn: 0.4122663\ttotal: 894ms\tremaining: 1.6s\n",
            "358:\tlearn: 0.4121296\ttotal: 895ms\tremaining: 1.6s\n",
            "359:\tlearn: 0.4120235\ttotal: 897ms\tremaining: 1.59s\n",
            "360:\tlearn: 0.4116888\ttotal: 899ms\tremaining: 1.59s\n",
            "361:\tlearn: 0.4115003\ttotal: 901ms\tremaining: 1.59s\n",
            "362:\tlearn: 0.4110859\ttotal: 907ms\tremaining: 1.59s\n",
            "363:\tlearn: 0.4109901\ttotal: 909ms\tremaining: 1.59s\n",
            "364:\tlearn: 0.4109209\ttotal: 910ms\tremaining: 1.58s\n",
            "365:\tlearn: 0.4105007\ttotal: 912ms\tremaining: 1.58s\n",
            "366:\tlearn: 0.4102338\ttotal: 914ms\tremaining: 1.58s\n",
            "367:\tlearn: 0.4099908\ttotal: 916ms\tremaining: 1.57s\n",
            "368:\tlearn: 0.4094313\ttotal: 922ms\tremaining: 1.58s\n",
            "369:\tlearn: 0.4090530\ttotal: 924ms\tremaining: 1.57s\n",
            "370:\tlearn: 0.4088404\ttotal: 926ms\tremaining: 1.57s\n",
            "371:\tlearn: 0.4085679\ttotal: 928ms\tremaining: 1.57s\n",
            "372:\tlearn: 0.4082650\ttotal: 930ms\tremaining: 1.56s\n",
            "373:\tlearn: 0.4079764\ttotal: 931ms\tremaining: 1.56s\n",
            "374:\tlearn: 0.4078681\ttotal: 935ms\tremaining: 1.56s\n",
            "375:\tlearn: 0.4077243\ttotal: 937ms\tremaining: 1.55s\n",
            "376:\tlearn: 0.4074272\ttotal: 940ms\tremaining: 1.55s\n",
            "377:\tlearn: 0.4070887\ttotal: 942ms\tremaining: 1.55s\n",
            "378:\tlearn: 0.4068115\ttotal: 943ms\tremaining: 1.54s\n",
            "379:\tlearn: 0.4065836\ttotal: 945ms\tremaining: 1.54s\n",
            "380:\tlearn: 0.4061938\ttotal: 946ms\tremaining: 1.54s\n",
            "381:\tlearn: 0.4058874\ttotal: 950ms\tremaining: 1.54s\n",
            "382:\tlearn: 0.4057320\ttotal: 953ms\tremaining: 1.53s\n",
            "383:\tlearn: 0.4053043\ttotal: 955ms\tremaining: 1.53s\n",
            "384:\tlearn: 0.4049021\ttotal: 957ms\tremaining: 1.53s\n",
            "385:\tlearn: 0.4044418\ttotal: 958ms\tremaining: 1.52s\n",
            "386:\tlearn: 0.4043905\ttotal: 959ms\tremaining: 1.52s\n",
            "387:\tlearn: 0.4041274\ttotal: 961ms\tremaining: 1.52s\n",
            "388:\tlearn: 0.4035437\ttotal: 964ms\tremaining: 1.51s\n",
            "389:\tlearn: 0.4033205\ttotal: 966ms\tremaining: 1.51s\n",
            "390:\tlearn: 0.4029830\ttotal: 969ms\tremaining: 1.51s\n",
            "391:\tlearn: 0.4025214\ttotal: 971ms\tremaining: 1.51s\n",
            "392:\tlearn: 0.4020845\ttotal: 973ms\tremaining: 1.5s\n",
            "393:\tlearn: 0.4018095\ttotal: 975ms\tremaining: 1.5s\n",
            "394:\tlearn: 0.4015594\ttotal: 980ms\tremaining: 1.5s\n",
            "395:\tlearn: 0.4011074\ttotal: 982ms\tremaining: 1.5s\n",
            "396:\tlearn: 0.4008892\ttotal: 984ms\tremaining: 1.49s\n",
            "397:\tlearn: 0.4004878\ttotal: 986ms\tremaining: 1.49s\n",
            "398:\tlearn: 0.4001476\ttotal: 989ms\tremaining: 1.49s\n",
            "399:\tlearn: 0.4000103\ttotal: 992ms\tremaining: 1.49s\n",
            "400:\tlearn: 0.3998331\ttotal: 996ms\tremaining: 1.49s\n",
            "401:\tlearn: 0.3993994\ttotal: 998ms\tremaining: 1.48s\n",
            "402:\tlearn: 0.3992065\ttotal: 1s\tremaining: 1.48s\n",
            "403:\tlearn: 0.3990306\ttotal: 1s\tremaining: 1.48s\n",
            "404:\tlearn: 0.3988223\ttotal: 1s\tremaining: 1.48s\n",
            "405:\tlearn: 0.3985278\ttotal: 1.01s\tremaining: 1.47s\n",
            "406:\tlearn: 0.3980760\ttotal: 1.01s\tremaining: 1.47s\n",
            "407:\tlearn: 0.3979175\ttotal: 1.01s\tremaining: 1.47s\n",
            "408:\tlearn: 0.3974806\ttotal: 1.01s\tremaining: 1.47s\n",
            "409:\tlearn: 0.3972673\ttotal: 1.01s\tremaining: 1.46s\n",
            "410:\tlearn: 0.3970697\ttotal: 1.02s\tremaining: 1.46s\n",
            "411:\tlearn: 0.3967786\ttotal: 1.02s\tremaining: 1.45s\n",
            "412:\tlearn: 0.3966397\ttotal: 1.02s\tremaining: 1.45s\n",
            "413:\tlearn: 0.3964662\ttotal: 1.02s\tremaining: 1.45s\n",
            "414:\tlearn: 0.3962637\ttotal: 1.03s\tremaining: 1.45s\n",
            "415:\tlearn: 0.3960074\ttotal: 1.03s\tremaining: 1.44s\n",
            "416:\tlearn: 0.3959767\ttotal: 1.03s\tremaining: 1.44s\n",
            "417:\tlearn: 0.3956067\ttotal: 1.03s\tremaining: 1.44s\n",
            "418:\tlearn: 0.3953521\ttotal: 1.03s\tremaining: 1.43s\n",
            "419:\tlearn: 0.3950894\ttotal: 1.04s\tremaining: 1.43s\n",
            "420:\tlearn: 0.3947637\ttotal: 1.04s\tremaining: 1.43s\n",
            "421:\tlearn: 0.3944604\ttotal: 1.04s\tremaining: 1.43s\n",
            "422:\tlearn: 0.3939438\ttotal: 1.04s\tremaining: 1.42s\n",
            "423:\tlearn: 0.3938800\ttotal: 1.04s\tremaining: 1.42s\n",
            "424:\tlearn: 0.3937531\ttotal: 1.05s\tremaining: 1.42s\n",
            "425:\tlearn: 0.3935813\ttotal: 1.05s\tremaining: 1.41s\n",
            "426:\tlearn: 0.3933468\ttotal: 1.05s\tremaining: 1.41s\n",
            "427:\tlearn: 0.3930408\ttotal: 1.05s\tremaining: 1.41s\n",
            "428:\tlearn: 0.3928527\ttotal: 1.06s\tremaining: 1.41s\n",
            "429:\tlearn: 0.3927049\ttotal: 1.06s\tremaining: 1.4s\n",
            "430:\tlearn: 0.3923023\ttotal: 1.06s\tremaining: 1.4s\n",
            "431:\tlearn: 0.3918478\ttotal: 1.06s\tremaining: 1.4s\n",
            "432:\tlearn: 0.3914846\ttotal: 1.06s\tremaining: 1.39s\n",
            "433:\tlearn: 0.3914809\ttotal: 1.06s\tremaining: 1.39s\n",
            "434:\tlearn: 0.3912661\ttotal: 1.07s\tremaining: 1.39s\n",
            "435:\tlearn: 0.3910293\ttotal: 1.07s\tremaining: 1.38s\n",
            "436:\tlearn: 0.3906663\ttotal: 1.07s\tremaining: 1.38s\n",
            "437:\tlearn: 0.3903509\ttotal: 1.08s\tremaining: 1.38s\n",
            "438:\tlearn: 0.3901592\ttotal: 1.08s\tremaining: 1.38s\n",
            "439:\tlearn: 0.3899868\ttotal: 1.08s\tremaining: 1.38s\n",
            "440:\tlearn: 0.3898336\ttotal: 1.08s\tremaining: 1.37s\n",
            "441:\tlearn: 0.3894811\ttotal: 1.09s\tremaining: 1.37s\n",
            "442:\tlearn: 0.3892951\ttotal: 1.09s\tremaining: 1.37s\n",
            "443:\tlearn: 0.3891973\ttotal: 1.09s\tremaining: 1.36s\n",
            "444:\tlearn: 0.3890070\ttotal: 1.09s\tremaining: 1.36s\n",
            "445:\tlearn: 0.3888724\ttotal: 1.09s\tremaining: 1.36s\n",
            "446:\tlearn: 0.3886496\ttotal: 1.09s\tremaining: 1.35s\n",
            "447:\tlearn: 0.3882988\ttotal: 1.1s\tremaining: 1.35s\n",
            "448:\tlearn: 0.3877676\ttotal: 1.1s\tremaining: 1.35s\n",
            "449:\tlearn: 0.3875859\ttotal: 1.1s\tremaining: 1.35s\n",
            "450:\tlearn: 0.3872671\ttotal: 1.1s\tremaining: 1.34s\n",
            "451:\tlearn: 0.3871368\ttotal: 1.11s\tremaining: 1.34s\n",
            "452:\tlearn: 0.3870719\ttotal: 1.11s\tremaining: 1.34s\n",
            "453:\tlearn: 0.3869139\ttotal: 1.11s\tremaining: 1.34s\n",
            "454:\tlearn: 0.3867507\ttotal: 1.12s\tremaining: 1.34s\n",
            "455:\tlearn: 0.3866881\ttotal: 1.12s\tremaining: 1.33s\n",
            "456:\tlearn: 0.3863871\ttotal: 1.12s\tremaining: 1.33s\n",
            "457:\tlearn: 0.3862025\ttotal: 1.12s\tremaining: 1.33s\n",
            "458:\tlearn: 0.3860772\ttotal: 1.12s\tremaining: 1.32s\n",
            "459:\tlearn: 0.3857112\ttotal: 1.13s\tremaining: 1.32s\n",
            "460:\tlearn: 0.3852963\ttotal: 1.13s\tremaining: 1.32s\n",
            "461:\tlearn: 0.3850530\ttotal: 1.13s\tremaining: 1.32s\n",
            "462:\tlearn: 0.3847889\ttotal: 1.13s\tremaining: 1.31s\n",
            "463:\tlearn: 0.3845592\ttotal: 1.13s\tremaining: 1.31s\n",
            "464:\tlearn: 0.3844159\ttotal: 1.14s\tremaining: 1.31s\n",
            "465:\tlearn: 0.3841585\ttotal: 1.14s\tremaining: 1.3s\n",
            "466:\tlearn: 0.3840176\ttotal: 1.14s\tremaining: 1.3s\n",
            "467:\tlearn: 0.3837986\ttotal: 1.14s\tremaining: 1.3s\n",
            "468:\tlearn: 0.3836955\ttotal: 1.15s\tremaining: 1.3s\n",
            "469:\tlearn: 0.3834906\ttotal: 1.15s\tremaining: 1.29s\n",
            "470:\tlearn: 0.3830097\ttotal: 1.15s\tremaining: 1.29s\n",
            "471:\tlearn: 0.3826298\ttotal: 1.15s\tremaining: 1.29s\n",
            "472:\tlearn: 0.3824156\ttotal: 1.15s\tremaining: 1.28s\n",
            "473:\tlearn: 0.3820267\ttotal: 1.16s\tremaining: 1.28s\n",
            "474:\tlearn: 0.3818957\ttotal: 1.16s\tremaining: 1.28s\n",
            "475:\tlearn: 0.3816482\ttotal: 1.16s\tremaining: 1.28s\n",
            "476:\tlearn: 0.3814507\ttotal: 1.16s\tremaining: 1.27s\n",
            "477:\tlearn: 0.3810002\ttotal: 1.16s\tremaining: 1.27s\n",
            "478:\tlearn: 0.3806503\ttotal: 1.17s\tremaining: 1.27s\n",
            "479:\tlearn: 0.3804984\ttotal: 1.17s\tremaining: 1.26s\n",
            "480:\tlearn: 0.3801902\ttotal: 1.17s\tremaining: 1.26s\n",
            "481:\tlearn: 0.3798018\ttotal: 1.17s\tremaining: 1.26s\n",
            "482:\tlearn: 0.3794898\ttotal: 1.17s\tremaining: 1.26s\n",
            "483:\tlearn: 0.3792799\ttotal: 1.18s\tremaining: 1.26s\n",
            "484:\tlearn: 0.3788598\ttotal: 1.18s\tremaining: 1.25s\n",
            "485:\tlearn: 0.3784045\ttotal: 1.18s\tremaining: 1.25s\n",
            "486:\tlearn: 0.3782460\ttotal: 1.18s\tremaining: 1.25s\n",
            "487:\tlearn: 0.3780565\ttotal: 1.19s\tremaining: 1.24s\n",
            "488:\tlearn: 0.3776955\ttotal: 1.19s\tremaining: 1.24s\n",
            "489:\tlearn: 0.3774484\ttotal: 1.19s\tremaining: 1.24s\n",
            "490:\tlearn: 0.3772629\ttotal: 1.19s\tremaining: 1.24s\n",
            "491:\tlearn: 0.3769072\ttotal: 1.2s\tremaining: 1.23s\n",
            "492:\tlearn: 0.3766719\ttotal: 1.2s\tremaining: 1.23s\n",
            "493:\tlearn: 0.3764825\ttotal: 1.2s\tremaining: 1.23s\n",
            "494:\tlearn: 0.3763856\ttotal: 1.2s\tremaining: 1.23s\n",
            "495:\tlearn: 0.3761541\ttotal: 1.2s\tremaining: 1.22s\n",
            "496:\tlearn: 0.3759589\ttotal: 1.2s\tremaining: 1.22s\n",
            "497:\tlearn: 0.3756158\ttotal: 1.21s\tremaining: 1.22s\n",
            "498:\tlearn: 0.3752309\ttotal: 1.21s\tremaining: 1.21s\n",
            "499:\tlearn: 0.3750006\ttotal: 1.21s\tremaining: 1.21s\n",
            "500:\tlearn: 0.3749278\ttotal: 1.22s\tremaining: 1.21s\n",
            "501:\tlearn: 0.3747078\ttotal: 1.22s\tremaining: 1.21s\n",
            "502:\tlearn: 0.3745009\ttotal: 1.22s\tremaining: 1.21s\n",
            "503:\tlearn: 0.3743780\ttotal: 1.22s\tremaining: 1.2s\n",
            "504:\tlearn: 0.3740286\ttotal: 1.22s\tremaining: 1.2s\n",
            "505:\tlearn: 0.3739139\ttotal: 1.23s\tremaining: 1.2s\n",
            "506:\tlearn: 0.3737586\ttotal: 1.23s\tremaining: 1.19s\n",
            "507:\tlearn: 0.3735965\ttotal: 1.23s\tremaining: 1.19s\n",
            "508:\tlearn: 0.3734355\ttotal: 1.23s\tremaining: 1.19s\n",
            "509:\tlearn: 0.3730958\ttotal: 1.23s\tremaining: 1.19s\n",
            "510:\tlearn: 0.3727159\ttotal: 1.24s\tremaining: 1.18s\n",
            "511:\tlearn: 0.3723464\ttotal: 1.24s\tremaining: 1.18s\n",
            "512:\tlearn: 0.3720900\ttotal: 1.24s\tremaining: 1.18s\n",
            "513:\tlearn: 0.3718200\ttotal: 1.24s\tremaining: 1.17s\n",
            "514:\tlearn: 0.3717145\ttotal: 1.24s\tremaining: 1.17s\n",
            "515:\tlearn: 0.3714706\ttotal: 1.25s\tremaining: 1.17s\n",
            "516:\tlearn: 0.3713499\ttotal: 1.25s\tremaining: 1.17s\n",
            "517:\tlearn: 0.3711207\ttotal: 1.25s\tremaining: 1.17s\n",
            "518:\tlearn: 0.3707808\ttotal: 1.26s\tremaining: 1.16s\n",
            "519:\tlearn: 0.3705949\ttotal: 1.26s\tremaining: 1.16s\n",
            "520:\tlearn: 0.3704476\ttotal: 1.26s\tremaining: 1.16s\n",
            "521:\tlearn: 0.3702843\ttotal: 1.26s\tremaining: 1.16s\n",
            "522:\tlearn: 0.3700643\ttotal: 1.26s\tremaining: 1.15s\n",
            "523:\tlearn: 0.3697393\ttotal: 1.27s\tremaining: 1.15s\n",
            "524:\tlearn: 0.3694842\ttotal: 1.27s\tremaining: 1.15s\n",
            "525:\tlearn: 0.3693094\ttotal: 1.27s\tremaining: 1.15s\n",
            "526:\tlearn: 0.3690541\ttotal: 1.27s\tremaining: 1.14s\n",
            "527:\tlearn: 0.3689483\ttotal: 1.27s\tremaining: 1.14s\n",
            "528:\tlearn: 0.3688155\ttotal: 1.28s\tremaining: 1.14s\n",
            "529:\tlearn: 0.3686091\ttotal: 1.28s\tremaining: 1.13s\n",
            "530:\tlearn: 0.3682142\ttotal: 1.28s\tremaining: 1.13s\n",
            "531:\tlearn: 0.3681063\ttotal: 1.28s\tremaining: 1.13s\n",
            "532:\tlearn: 0.3678471\ttotal: 1.29s\tremaining: 1.13s\n",
            "533:\tlearn: 0.3674621\ttotal: 1.29s\tremaining: 1.12s\n",
            "534:\tlearn: 0.3671884\ttotal: 1.29s\tremaining: 1.12s\n",
            "535:\tlearn: 0.3669075\ttotal: 1.29s\tremaining: 1.12s\n",
            "536:\tlearn: 0.3666136\ttotal: 1.3s\tremaining: 1.12s\n",
            "537:\tlearn: 0.3665050\ttotal: 1.3s\tremaining: 1.11s\n",
            "538:\tlearn: 0.3663543\ttotal: 1.3s\tremaining: 1.11s\n",
            "539:\tlearn: 0.3662181\ttotal: 1.3s\tremaining: 1.11s\n",
            "540:\tlearn: 0.3660108\ttotal: 1.3s\tremaining: 1.11s\n",
            "541:\tlearn: 0.3659215\ttotal: 1.31s\tremaining: 1.1s\n",
            "542:\tlearn: 0.3654243\ttotal: 1.31s\tremaining: 1.1s\n",
            "543:\tlearn: 0.3651618\ttotal: 1.31s\tremaining: 1.1s\n",
            "544:\tlearn: 0.3649592\ttotal: 1.31s\tremaining: 1.1s\n",
            "545:\tlearn: 0.3646926\ttotal: 1.32s\tremaining: 1.09s\n",
            "546:\tlearn: 0.3644941\ttotal: 1.32s\tremaining: 1.09s\n",
            "547:\tlearn: 0.3643510\ttotal: 1.32s\tremaining: 1.09s\n",
            "548:\tlearn: 0.3642070\ttotal: 1.32s\tremaining: 1.09s\n",
            "549:\tlearn: 0.3638507\ttotal: 1.32s\tremaining: 1.08s\n",
            "550:\tlearn: 0.3637748\ttotal: 1.33s\tremaining: 1.08s\n",
            "551:\tlearn: 0.3635486\ttotal: 1.33s\tremaining: 1.08s\n",
            "552:\tlearn: 0.3631794\ttotal: 1.33s\tremaining: 1.08s\n",
            "553:\tlearn: 0.3630580\ttotal: 1.34s\tremaining: 1.08s\n",
            "554:\tlearn: 0.3627401\ttotal: 1.34s\tremaining: 1.07s\n",
            "555:\tlearn: 0.3622958\ttotal: 1.34s\tremaining: 1.07s\n",
            "556:\tlearn: 0.3621478\ttotal: 1.34s\tremaining: 1.07s\n",
            "557:\tlearn: 0.3618697\ttotal: 1.35s\tremaining: 1.07s\n",
            "558:\tlearn: 0.3616768\ttotal: 1.35s\tremaining: 1.06s\n",
            "559:\tlearn: 0.3616396\ttotal: 1.35s\tremaining: 1.06s\n",
            "560:\tlearn: 0.3614927\ttotal: 1.35s\tremaining: 1.06s\n",
            "561:\tlearn: 0.3612767\ttotal: 1.36s\tremaining: 1.06s\n",
            "562:\tlearn: 0.3610699\ttotal: 1.36s\tremaining: 1.06s\n",
            "563:\tlearn: 0.3607268\ttotal: 1.36s\tremaining: 1.05s\n",
            "564:\tlearn: 0.3605755\ttotal: 1.36s\tremaining: 1.05s\n",
            "565:\tlearn: 0.3603813\ttotal: 1.37s\tremaining: 1.05s\n",
            "566:\tlearn: 0.3598554\ttotal: 1.37s\tremaining: 1.05s\n",
            "567:\tlearn: 0.3597346\ttotal: 1.37s\tremaining: 1.04s\n",
            "568:\tlearn: 0.3595822\ttotal: 1.38s\tremaining: 1.04s\n",
            "569:\tlearn: 0.3593070\ttotal: 1.38s\tremaining: 1.04s\n",
            "570:\tlearn: 0.3588908\ttotal: 1.38s\tremaining: 1.04s\n",
            "571:\tlearn: 0.3588023\ttotal: 1.38s\tremaining: 1.03s\n",
            "572:\tlearn: 0.3586039\ttotal: 1.38s\tremaining: 1.03s\n",
            "573:\tlearn: 0.3583816\ttotal: 1.39s\tremaining: 1.03s\n",
            "574:\tlearn: 0.3582197\ttotal: 1.39s\tremaining: 1.03s\n",
            "575:\tlearn: 0.3580241\ttotal: 1.39s\tremaining: 1.02s\n",
            "576:\tlearn: 0.3576779\ttotal: 1.4s\tremaining: 1.02s\n",
            "577:\tlearn: 0.3575551\ttotal: 1.4s\tremaining: 1.02s\n",
            "578:\tlearn: 0.3575384\ttotal: 1.4s\tremaining: 1.02s\n",
            "579:\tlearn: 0.3574213\ttotal: 1.4s\tremaining: 1.01s\n",
            "580:\tlearn: 0.3572408\ttotal: 1.41s\tremaining: 1.01s\n",
            "581:\tlearn: 0.3569353\ttotal: 1.41s\tremaining: 1.01s\n",
            "582:\tlearn: 0.3567421\ttotal: 1.41s\tremaining: 1.01s\n",
            "583:\tlearn: 0.3564675\ttotal: 1.41s\tremaining: 1s\n",
            "584:\tlearn: 0.3561004\ttotal: 1.41s\tremaining: 1s\n",
            "585:\tlearn: 0.3558402\ttotal: 1.41s\tremaining: 1000ms\n",
            "586:\tlearn: 0.3557258\ttotal: 1.42s\tremaining: 997ms\n",
            "587:\tlearn: 0.3554034\ttotal: 1.42s\tremaining: 995ms\n",
            "588:\tlearn: 0.3551187\ttotal: 1.42s\tremaining: 992ms\n",
            "589:\tlearn: 0.3549544\ttotal: 1.42s\tremaining: 990ms\n",
            "590:\tlearn: 0.3545409\ttotal: 1.43s\tremaining: 987ms\n",
            "591:\tlearn: 0.3543191\ttotal: 1.43s\tremaining: 984ms\n",
            "592:\tlearn: 0.3540866\ttotal: 1.43s\tremaining: 981ms\n",
            "593:\tlearn: 0.3539734\ttotal: 1.43s\tremaining: 979ms\n",
            "594:\tlearn: 0.3537871\ttotal: 1.43s\tremaining: 977ms\n",
            "595:\tlearn: 0.3534996\ttotal: 1.44s\tremaining: 974ms\n",
            "596:\tlearn: 0.3532020\ttotal: 1.44s\tremaining: 971ms\n",
            "597:\tlearn: 0.3530795\ttotal: 1.44s\tremaining: 969ms\n",
            "598:\tlearn: 0.3528052\ttotal: 1.44s\tremaining: 966ms\n",
            "599:\tlearn: 0.3525886\ttotal: 1.45s\tremaining: 964ms\n",
            "600:\tlearn: 0.3524976\ttotal: 1.45s\tremaining: 962ms\n",
            "601:\tlearn: 0.3520901\ttotal: 1.45s\tremaining: 959ms\n",
            "602:\tlearn: 0.3518670\ttotal: 1.45s\tremaining: 956ms\n",
            "603:\tlearn: 0.3514330\ttotal: 1.45s\tremaining: 954ms\n",
            "604:\tlearn: 0.3511500\ttotal: 1.46s\tremaining: 951ms\n",
            "605:\tlearn: 0.3509335\ttotal: 1.46s\tremaining: 949ms\n",
            "606:\tlearn: 0.3505872\ttotal: 1.46s\tremaining: 946ms\n",
            "607:\tlearn: 0.3503177\ttotal: 1.46s\tremaining: 944ms\n",
            "608:\tlearn: 0.3500610\ttotal: 1.47s\tremaining: 941ms\n",
            "609:\tlearn: 0.3498396\ttotal: 1.47s\tremaining: 939ms\n",
            "610:\tlearn: 0.3496248\ttotal: 1.47s\tremaining: 936ms\n",
            "611:\tlearn: 0.3495053\ttotal: 1.47s\tremaining: 933ms\n",
            "612:\tlearn: 0.3493485\ttotal: 1.47s\tremaining: 931ms\n",
            "613:\tlearn: 0.3492029\ttotal: 1.48s\tremaining: 930ms\n",
            "614:\tlearn: 0.3488988\ttotal: 1.48s\tremaining: 927ms\n",
            "615:\tlearn: 0.3488366\ttotal: 1.48s\tremaining: 925ms\n",
            "616:\tlearn: 0.3486248\ttotal: 1.49s\tremaining: 922ms\n",
            "617:\tlearn: 0.3484215\ttotal: 1.49s\tremaining: 919ms\n",
            "618:\tlearn: 0.3483953\ttotal: 1.49s\tremaining: 916ms\n",
            "619:\tlearn: 0.3482252\ttotal: 1.49s\tremaining: 916ms\n",
            "620:\tlearn: 0.3479388\ttotal: 1.5s\tremaining: 913ms\n",
            "621:\tlearn: 0.3478605\ttotal: 1.5s\tremaining: 911ms\n",
            "622:\tlearn: 0.3477008\ttotal: 1.5s\tremaining: 908ms\n",
            "623:\tlearn: 0.3476306\ttotal: 1.5s\tremaining: 905ms\n",
            "624:\tlearn: 0.3472619\ttotal: 1.5s\tremaining: 902ms\n",
            "625:\tlearn: 0.3471231\ttotal: 1.5s\tremaining: 899ms\n",
            "626:\tlearn: 0.3469767\ttotal: 1.51s\tremaining: 900ms\n",
            "627:\tlearn: 0.3465619\ttotal: 1.51s\tremaining: 897ms\n",
            "628:\tlearn: 0.3461233\ttotal: 1.51s\tremaining: 894ms\n",
            "629:\tlearn: 0.3459714\ttotal: 1.52s\tremaining: 891ms\n",
            "630:\tlearn: 0.3458941\ttotal: 1.52s\tremaining: 889ms\n",
            "631:\tlearn: 0.3457160\ttotal: 1.52s\tremaining: 886ms\n",
            "632:\tlearn: 0.3455475\ttotal: 1.53s\tremaining: 887ms\n",
            "633:\tlearn: 0.3453193\ttotal: 1.53s\tremaining: 884ms\n",
            "634:\tlearn: 0.3451274\ttotal: 1.53s\tremaining: 881ms\n",
            "635:\tlearn: 0.3449840\ttotal: 1.53s\tremaining: 879ms\n",
            "636:\tlearn: 0.3446351\ttotal: 1.54s\tremaining: 876ms\n",
            "637:\tlearn: 0.3443772\ttotal: 1.54s\tremaining: 874ms\n",
            "638:\tlearn: 0.3443666\ttotal: 1.54s\tremaining: 871ms\n",
            "639:\tlearn: 0.3442403\ttotal: 1.54s\tremaining: 868ms\n",
            "640:\tlearn: 0.3440101\ttotal: 1.55s\tremaining: 866ms\n",
            "641:\tlearn: 0.3437687\ttotal: 1.55s\tremaining: 864ms\n",
            "642:\tlearn: 0.3434290\ttotal: 1.55s\tremaining: 861ms\n",
            "643:\tlearn: 0.3432756\ttotal: 1.55s\tremaining: 859ms\n",
            "644:\tlearn: 0.3431075\ttotal: 1.56s\tremaining: 856ms\n",
            "645:\tlearn: 0.3429999\ttotal: 1.56s\tremaining: 854ms\n",
            "646:\tlearn: 0.3427383\ttotal: 1.56s\tremaining: 851ms\n",
            "647:\tlearn: 0.3424504\ttotal: 1.56s\tremaining: 848ms\n",
            "648:\tlearn: 0.3423092\ttotal: 1.56s\tremaining: 846ms\n",
            "649:\tlearn: 0.3420713\ttotal: 1.56s\tremaining: 843ms\n",
            "650:\tlearn: 0.3417896\ttotal: 1.57s\tremaining: 841ms\n",
            "651:\tlearn: 0.3415333\ttotal: 1.57s\tremaining: 838ms\n",
            "652:\tlearn: 0.3411481\ttotal: 1.57s\tremaining: 836ms\n",
            "653:\tlearn: 0.3410609\ttotal: 1.57s\tremaining: 833ms\n",
            "654:\tlearn: 0.3408592\ttotal: 1.58s\tremaining: 830ms\n",
            "655:\tlearn: 0.3407436\ttotal: 1.58s\tremaining: 827ms\n",
            "656:\tlearn: 0.3403074\ttotal: 1.58s\tremaining: 825ms\n",
            "657:\tlearn: 0.3401858\ttotal: 1.58s\tremaining: 823ms\n",
            "658:\tlearn: 0.3400410\ttotal: 1.59s\tremaining: 821ms\n",
            "659:\tlearn: 0.3399172\ttotal: 1.59s\tremaining: 819ms\n",
            "660:\tlearn: 0.3396738\ttotal: 1.59s\tremaining: 816ms\n",
            "661:\tlearn: 0.3395797\ttotal: 1.59s\tremaining: 813ms\n",
            "662:\tlearn: 0.3393626\ttotal: 1.59s\tremaining: 810ms\n",
            "663:\tlearn: 0.3390404\ttotal: 1.6s\tremaining: 808ms\n",
            "664:\tlearn: 0.3389929\ttotal: 1.6s\tremaining: 806ms\n",
            "665:\tlearn: 0.3388429\ttotal: 1.6s\tremaining: 803ms\n",
            "666:\tlearn: 0.3384732\ttotal: 1.6s\tremaining: 801ms\n",
            "667:\tlearn: 0.3382352\ttotal: 1.61s\tremaining: 798ms\n",
            "668:\tlearn: 0.3379666\ttotal: 1.61s\tremaining: 796ms\n",
            "669:\tlearn: 0.3377141\ttotal: 1.61s\tremaining: 793ms\n",
            "670:\tlearn: 0.3375953\ttotal: 1.61s\tremaining: 790ms\n",
            "671:\tlearn: 0.3372703\ttotal: 1.61s\tremaining: 788ms\n",
            "672:\tlearn: 0.3371604\ttotal: 1.62s\tremaining: 786ms\n",
            "673:\tlearn: 0.3370934\ttotal: 1.62s\tremaining: 783ms\n",
            "674:\tlearn: 0.3367911\ttotal: 1.62s\tremaining: 780ms\n",
            "675:\tlearn: 0.3367115\ttotal: 1.62s\tremaining: 778ms\n",
            "676:\tlearn: 0.3364100\ttotal: 1.62s\tremaining: 775ms\n",
            "677:\tlearn: 0.3362003\ttotal: 1.63s\tremaining: 772ms\n",
            "678:\tlearn: 0.3359767\ttotal: 1.63s\tremaining: 770ms\n",
            "679:\tlearn: 0.3357216\ttotal: 1.63s\tremaining: 768ms\n",
            "680:\tlearn: 0.3354723\ttotal: 1.64s\tremaining: 766ms\n",
            "681:\tlearn: 0.3353539\ttotal: 1.64s\tremaining: 763ms\n",
            "682:\tlearn: 0.3352371\ttotal: 1.64s\tremaining: 761ms\n",
            "683:\tlearn: 0.3350594\ttotal: 1.64s\tremaining: 758ms\n",
            "684:\tlearn: 0.3348478\ttotal: 1.64s\tremaining: 755ms\n",
            "685:\tlearn: 0.3345994\ttotal: 1.65s\tremaining: 753ms\n",
            "686:\tlearn: 0.3344167\ttotal: 1.65s\tremaining: 751ms\n",
            "687:\tlearn: 0.3341843\ttotal: 1.65s\tremaining: 748ms\n",
            "688:\tlearn: 0.3340781\ttotal: 1.65s\tremaining: 745ms\n",
            "689:\tlearn: 0.3337800\ttotal: 1.65s\tremaining: 743ms\n",
            "690:\tlearn: 0.3337273\ttotal: 1.65s\tremaining: 740ms\n",
            "691:\tlearn: 0.3334573\ttotal: 1.66s\tremaining: 737ms\n",
            "692:\tlearn: 0.3330178\ttotal: 1.66s\tremaining: 735ms\n",
            "693:\tlearn: 0.3324835\ttotal: 1.66s\tremaining: 733ms\n",
            "694:\tlearn: 0.3323987\ttotal: 1.66s\tremaining: 731ms\n",
            "695:\tlearn: 0.3321540\ttotal: 1.67s\tremaining: 728ms\n",
            "696:\tlearn: 0.3318733\ttotal: 1.67s\tremaining: 725ms\n",
            "697:\tlearn: 0.3317879\ttotal: 1.67s\tremaining: 722ms\n",
            "698:\tlearn: 0.3316696\ttotal: 1.67s\tremaining: 720ms\n",
            "699:\tlearn: 0.3312878\ttotal: 1.67s\tremaining: 717ms\n",
            "700:\tlearn: 0.3309672\ttotal: 1.68s\tremaining: 715ms\n",
            "701:\tlearn: 0.3309059\ttotal: 1.68s\tremaining: 712ms\n",
            "702:\tlearn: 0.3307400\ttotal: 1.68s\tremaining: 709ms\n",
            "703:\tlearn: 0.3305955\ttotal: 1.68s\tremaining: 707ms\n",
            "704:\tlearn: 0.3304614\ttotal: 1.68s\tremaining: 704ms\n",
            "705:\tlearn: 0.3303954\ttotal: 1.68s\tremaining: 701ms\n",
            "706:\tlearn: 0.3303365\ttotal: 1.69s\tremaining: 699ms\n",
            "707:\tlearn: 0.3300908\ttotal: 1.69s\tremaining: 696ms\n",
            "708:\tlearn: 0.3299382\ttotal: 1.69s\tremaining: 694ms\n",
            "709:\tlearn: 0.3297777\ttotal: 1.69s\tremaining: 691ms\n",
            "710:\tlearn: 0.3294625\ttotal: 1.69s\tremaining: 689ms\n",
            "711:\tlearn: 0.3293353\ttotal: 1.7s\tremaining: 686ms\n",
            "712:\tlearn: 0.3290608\ttotal: 1.7s\tremaining: 684ms\n",
            "713:\tlearn: 0.3289191\ttotal: 1.7s\tremaining: 681ms\n",
            "714:\tlearn: 0.3286440\ttotal: 1.7s\tremaining: 678ms\n",
            "715:\tlearn: 0.3283087\ttotal: 1.71s\tremaining: 677ms\n",
            "716:\tlearn: 0.3281997\ttotal: 1.71s\tremaining: 675ms\n",
            "717:\tlearn: 0.3280750\ttotal: 1.71s\tremaining: 672ms\n",
            "718:\tlearn: 0.3278892\ttotal: 1.71s\tremaining: 669ms\n",
            "719:\tlearn: 0.3275145\ttotal: 1.71s\tremaining: 667ms\n",
            "720:\tlearn: 0.3273344\ttotal: 1.72s\tremaining: 664ms\n",
            "721:\tlearn: 0.3271876\ttotal: 1.72s\tremaining: 661ms\n",
            "722:\tlearn: 0.3270768\ttotal: 1.72s\tremaining: 659ms\n",
            "723:\tlearn: 0.3270677\ttotal: 1.72s\tremaining: 657ms\n",
            "724:\tlearn: 0.3269072\ttotal: 1.72s\tremaining: 654ms\n",
            "725:\tlearn: 0.3268015\ttotal: 1.73s\tremaining: 651ms\n",
            "726:\tlearn: 0.3267246\ttotal: 1.73s\tremaining: 649ms\n",
            "727:\tlearn: 0.3265344\ttotal: 1.73s\tremaining: 646ms\n",
            "728:\tlearn: 0.3264404\ttotal: 1.73s\tremaining: 644ms\n",
            "729:\tlearn: 0.3262761\ttotal: 1.74s\tremaining: 642ms\n",
            "730:\tlearn: 0.3260643\ttotal: 1.74s\tremaining: 640ms\n",
            "731:\tlearn: 0.3258447\ttotal: 1.74s\tremaining: 637ms\n",
            "732:\tlearn: 0.3257509\ttotal: 1.74s\tremaining: 634ms\n",
            "733:\tlearn: 0.3254157\ttotal: 1.74s\tremaining: 632ms\n",
            "734:\tlearn: 0.3251708\ttotal: 1.75s\tremaining: 629ms\n",
            "735:\tlearn: 0.3250266\ttotal: 1.75s\tremaining: 627ms\n",
            "736:\tlearn: 0.3248518\ttotal: 1.75s\tremaining: 624ms\n",
            "737:\tlearn: 0.3247481\ttotal: 1.75s\tremaining: 622ms\n",
            "738:\tlearn: 0.3245534\ttotal: 1.75s\tremaining: 619ms\n",
            "739:\tlearn: 0.3242781\ttotal: 1.75s\tremaining: 617ms\n",
            "740:\tlearn: 0.3240328\ttotal: 1.76s\tremaining: 614ms\n",
            "741:\tlearn: 0.3239220\ttotal: 1.76s\tremaining: 612ms\n",
            "742:\tlearn: 0.3236018\ttotal: 1.76s\tremaining: 610ms\n",
            "743:\tlearn: 0.3233254\ttotal: 1.76s\tremaining: 607ms\n",
            "744:\tlearn: 0.3232045\ttotal: 1.77s\tremaining: 605ms\n",
            "745:\tlearn: 0.3229404\ttotal: 1.77s\tremaining: 603ms\n",
            "746:\tlearn: 0.3227283\ttotal: 1.77s\tremaining: 600ms\n",
            "747:\tlearn: 0.3225951\ttotal: 1.77s\tremaining: 597ms\n",
            "748:\tlearn: 0.3225060\ttotal: 1.77s\tremaining: 595ms\n",
            "749:\tlearn: 0.3224061\ttotal: 1.78s\tremaining: 593ms\n",
            "750:\tlearn: 0.3220666\ttotal: 1.78s\tremaining: 591ms\n",
            "751:\tlearn: 0.3218540\ttotal: 1.78s\tremaining: 589ms\n",
            "752:\tlearn: 0.3216033\ttotal: 1.79s\tremaining: 586ms\n",
            "753:\tlearn: 0.3215690\ttotal: 1.79s\tremaining: 584ms\n",
            "754:\tlearn: 0.3214967\ttotal: 1.79s\tremaining: 581ms\n",
            "755:\tlearn: 0.3213654\ttotal: 1.8s\tremaining: 580ms\n",
            "756:\tlearn: 0.3211457\ttotal: 1.8s\tremaining: 577ms\n",
            "757:\tlearn: 0.3209120\ttotal: 1.8s\tremaining: 575ms\n",
            "758:\tlearn: 0.3204733\ttotal: 1.8s\tremaining: 573ms\n",
            "759:\tlearn: 0.3203255\ttotal: 1.8s\tremaining: 570ms\n",
            "760:\tlearn: 0.3199333\ttotal: 1.81s\tremaining: 568ms\n",
            "761:\tlearn: 0.3196477\ttotal: 1.81s\tremaining: 566ms\n",
            "762:\tlearn: 0.3195522\ttotal: 1.81s\tremaining: 563ms\n",
            "763:\tlearn: 0.3194177\ttotal: 1.81s\tremaining: 561ms\n",
            "764:\tlearn: 0.3191324\ttotal: 1.82s\tremaining: 558ms\n",
            "765:\tlearn: 0.3190317\ttotal: 1.82s\tremaining: 556ms\n",
            "766:\tlearn: 0.3188139\ttotal: 1.82s\tremaining: 554ms\n",
            "767:\tlearn: 0.3185854\ttotal: 1.82s\tremaining: 552ms\n",
            "768:\tlearn: 0.3184660\ttotal: 1.83s\tremaining: 549ms\n",
            "769:\tlearn: 0.3183771\ttotal: 1.83s\tremaining: 547ms\n",
            "770:\tlearn: 0.3182491\ttotal: 1.83s\tremaining: 544ms\n",
            "771:\tlearn: 0.3180424\ttotal: 1.83s\tremaining: 542ms\n",
            "772:\tlearn: 0.3179558\ttotal: 1.84s\tremaining: 540ms\n",
            "773:\tlearn: 0.3178579\ttotal: 1.84s\tremaining: 537ms\n",
            "774:\tlearn: 0.3174836\ttotal: 1.84s\tremaining: 535ms\n",
            "775:\tlearn: 0.3173951\ttotal: 1.84s\tremaining: 532ms\n",
            "776:\tlearn: 0.3172066\ttotal: 1.85s\tremaining: 530ms\n",
            "777:\tlearn: 0.3168943\ttotal: 1.85s\tremaining: 527ms\n",
            "778:\tlearn: 0.3166400\ttotal: 1.85s\tremaining: 525ms\n",
            "779:\tlearn: 0.3165472\ttotal: 1.85s\tremaining: 522ms\n",
            "780:\tlearn: 0.3162037\ttotal: 1.86s\tremaining: 521ms\n",
            "781:\tlearn: 0.3159623\ttotal: 1.86s\tremaining: 519ms\n",
            "782:\tlearn: 0.3157604\ttotal: 1.86s\tremaining: 516ms\n",
            "783:\tlearn: 0.3157191\ttotal: 1.86s\tremaining: 514ms\n",
            "784:\tlearn: 0.3155655\ttotal: 1.87s\tremaining: 511ms\n",
            "785:\tlearn: 0.3154268\ttotal: 1.87s\tremaining: 509ms\n",
            "786:\tlearn: 0.3152846\ttotal: 1.87s\tremaining: 507ms\n",
            "787:\tlearn: 0.3150797\ttotal: 1.88s\tremaining: 506ms\n",
            "788:\tlearn: 0.3147996\ttotal: 1.88s\tremaining: 503ms\n",
            "789:\tlearn: 0.3146268\ttotal: 1.88s\tremaining: 501ms\n",
            "790:\tlearn: 0.3145573\ttotal: 1.89s\tremaining: 499ms\n",
            "791:\tlearn: 0.3143789\ttotal: 1.89s\tremaining: 496ms\n",
            "792:\tlearn: 0.3142527\ttotal: 1.89s\tremaining: 494ms\n",
            "793:\tlearn: 0.3140242\ttotal: 1.89s\tremaining: 492ms\n",
            "794:\tlearn: 0.3138054\ttotal: 1.9s\tremaining: 489ms\n",
            "795:\tlearn: 0.3135169\ttotal: 1.9s\tremaining: 487ms\n",
            "796:\tlearn: 0.3132244\ttotal: 1.9s\tremaining: 485ms\n",
            "797:\tlearn: 0.3129622\ttotal: 1.91s\tremaining: 483ms\n",
            "798:\tlearn: 0.3127912\ttotal: 1.91s\tremaining: 480ms\n",
            "799:\tlearn: 0.3126347\ttotal: 1.91s\tremaining: 478ms\n",
            "800:\tlearn: 0.3124826\ttotal: 1.91s\tremaining: 475ms\n",
            "801:\tlearn: 0.3123122\ttotal: 1.92s\tremaining: 473ms\n",
            "802:\tlearn: 0.3121717\ttotal: 1.92s\tremaining: 470ms\n",
            "803:\tlearn: 0.3118764\ttotal: 1.92s\tremaining: 468ms\n",
            "804:\tlearn: 0.3118152\ttotal: 1.92s\tremaining: 466ms\n",
            "805:\tlearn: 0.3115014\ttotal: 1.92s\tremaining: 463ms\n",
            "806:\tlearn: 0.3114027\ttotal: 1.93s\tremaining: 461ms\n",
            "807:\tlearn: 0.3112011\ttotal: 1.93s\tremaining: 458ms\n",
            "808:\tlearn: 0.3111084\ttotal: 1.93s\tremaining: 456ms\n",
            "809:\tlearn: 0.3109597\ttotal: 1.93s\tremaining: 454ms\n",
            "810:\tlearn: 0.3107102\ttotal: 1.94s\tremaining: 451ms\n",
            "811:\tlearn: 0.3106044\ttotal: 1.94s\tremaining: 448ms\n",
            "812:\tlearn: 0.3105117\ttotal: 1.94s\tremaining: 446ms\n",
            "813:\tlearn: 0.3104035\ttotal: 1.94s\tremaining: 444ms\n",
            "814:\tlearn: 0.3101388\ttotal: 1.94s\tremaining: 441ms\n",
            "815:\tlearn: 0.3099513\ttotal: 1.95s\tremaining: 439ms\n",
            "816:\tlearn: 0.3098305\ttotal: 1.95s\tremaining: 436ms\n",
            "817:\tlearn: 0.3096719\ttotal: 1.95s\tremaining: 434ms\n",
            "818:\tlearn: 0.3095335\ttotal: 1.95s\tremaining: 431ms\n",
            "819:\tlearn: 0.3092003\ttotal: 1.95s\tremaining: 429ms\n",
            "820:\tlearn: 0.3089983\ttotal: 1.96s\tremaining: 427ms\n",
            "821:\tlearn: 0.3088588\ttotal: 1.96s\tremaining: 424ms\n",
            "822:\tlearn: 0.3087768\ttotal: 1.96s\tremaining: 422ms\n",
            "823:\tlearn: 0.3085049\ttotal: 1.96s\tremaining: 419ms\n",
            "824:\tlearn: 0.3083017\ttotal: 1.97s\tremaining: 417ms\n",
            "825:\tlearn: 0.3080572\ttotal: 1.97s\tremaining: 414ms\n",
            "826:\tlearn: 0.3079333\ttotal: 1.97s\tremaining: 412ms\n",
            "827:\tlearn: 0.3078294\ttotal: 1.97s\tremaining: 410ms\n",
            "828:\tlearn: 0.3076907\ttotal: 1.98s\tremaining: 408ms\n",
            "829:\tlearn: 0.3075543\ttotal: 1.98s\tremaining: 405ms\n",
            "830:\tlearn: 0.3074235\ttotal: 1.98s\tremaining: 403ms\n",
            "831:\tlearn: 0.3071392\ttotal: 1.98s\tremaining: 400ms\n",
            "832:\tlearn: 0.3070700\ttotal: 1.98s\tremaining: 398ms\n",
            "833:\tlearn: 0.3070104\ttotal: 1.99s\tremaining: 395ms\n",
            "834:\tlearn: 0.3067233\ttotal: 1.99s\tremaining: 394ms\n",
            "835:\tlearn: 0.3065823\ttotal: 2s\tremaining: 391ms\n",
            "836:\tlearn: 0.3064012\ttotal: 2s\tremaining: 389ms\n",
            "837:\tlearn: 0.3062033\ttotal: 2s\tremaining: 386ms\n",
            "838:\tlearn: 0.3060488\ttotal: 2s\tremaining: 384ms\n",
            "839:\tlearn: 0.3059310\ttotal: 2s\tremaining: 381ms\n",
            "840:\tlearn: 0.3056286\ttotal: 2.01s\tremaining: 379ms\n",
            "841:\tlearn: 0.3054166\ttotal: 2.01s\tremaining: 377ms\n",
            "842:\tlearn: 0.3053585\ttotal: 2.01s\tremaining: 375ms\n",
            "843:\tlearn: 0.3052181\ttotal: 2.02s\tremaining: 373ms\n",
            "844:\tlearn: 0.3049195\ttotal: 2.02s\tremaining: 370ms\n",
            "845:\tlearn: 0.3045918\ttotal: 2.02s\tremaining: 368ms\n",
            "846:\tlearn: 0.3043217\ttotal: 2.02s\tremaining: 366ms\n",
            "847:\tlearn: 0.3041578\ttotal: 2.03s\tremaining: 363ms\n",
            "848:\tlearn: 0.3040475\ttotal: 2.03s\tremaining: 361ms\n",
            "849:\tlearn: 0.3038575\ttotal: 2.03s\tremaining: 358ms\n",
            "850:\tlearn: 0.3036236\ttotal: 2.03s\tremaining: 356ms\n",
            "851:\tlearn: 0.3033244\ttotal: 2.03s\tremaining: 353ms\n",
            "852:\tlearn: 0.3031662\ttotal: 2.04s\tremaining: 351ms\n",
            "853:\tlearn: 0.3029339\ttotal: 2.04s\tremaining: 349ms\n",
            "854:\tlearn: 0.3026970\ttotal: 2.04s\tremaining: 346ms\n",
            "855:\tlearn: 0.3025675\ttotal: 2.04s\tremaining: 344ms\n",
            "856:\tlearn: 0.3024671\ttotal: 2.05s\tremaining: 342ms\n",
            "857:\tlearn: 0.3022335\ttotal: 2.05s\tremaining: 339ms\n",
            "858:\tlearn: 0.3019782\ttotal: 2.05s\tremaining: 337ms\n",
            "859:\tlearn: 0.3018678\ttotal: 2.06s\tremaining: 335ms\n",
            "860:\tlearn: 0.3018582\ttotal: 2.06s\tremaining: 332ms\n",
            "861:\tlearn: 0.3016458\ttotal: 2.06s\tremaining: 329ms\n",
            "862:\tlearn: 0.3014868\ttotal: 2.06s\tremaining: 327ms\n",
            "863:\tlearn: 0.3013650\ttotal: 2.06s\tremaining: 325ms\n",
            "864:\tlearn: 0.3011970\ttotal: 2.07s\tremaining: 323ms\n",
            "865:\tlearn: 0.3010244\ttotal: 2.07s\tremaining: 321ms\n",
            "866:\tlearn: 0.3008319\ttotal: 2.07s\tremaining: 318ms\n",
            "867:\tlearn: 0.3006929\ttotal: 2.08s\tremaining: 316ms\n",
            "868:\tlearn: 0.3002350\ttotal: 2.08s\tremaining: 314ms\n",
            "869:\tlearn: 0.3001307\ttotal: 2.08s\tremaining: 311ms\n",
            "870:\tlearn: 0.3000471\ttotal: 2.09s\tremaining: 309ms\n",
            "871:\tlearn: 0.2999068\ttotal: 2.09s\tremaining: 307ms\n",
            "872:\tlearn: 0.2997615\ttotal: 2.09s\tremaining: 304ms\n",
            "873:\tlearn: 0.2997102\ttotal: 2.09s\tremaining: 302ms\n",
            "874:\tlearn: 0.2996332\ttotal: 2.1s\tremaining: 299ms\n",
            "875:\tlearn: 0.2992943\ttotal: 2.1s\tremaining: 297ms\n",
            "876:\tlearn: 0.2990975\ttotal: 2.1s\tremaining: 295ms\n",
            "877:\tlearn: 0.2988993\ttotal: 2.1s\tremaining: 292ms\n",
            "878:\tlearn: 0.2988770\ttotal: 2.1s\tremaining: 290ms\n",
            "879:\tlearn: 0.2987140\ttotal: 2.11s\tremaining: 288ms\n",
            "880:\tlearn: 0.2983705\ttotal: 2.11s\tremaining: 285ms\n",
            "881:\tlearn: 0.2981867\ttotal: 2.12s\tremaining: 283ms\n",
            "882:\tlearn: 0.2978756\ttotal: 2.12s\tremaining: 281ms\n",
            "883:\tlearn: 0.2975682\ttotal: 2.12s\tremaining: 278ms\n",
            "884:\tlearn: 0.2974491\ttotal: 2.12s\tremaining: 276ms\n",
            "885:\tlearn: 0.2972089\ttotal: 2.13s\tremaining: 274ms\n",
            "886:\tlearn: 0.2971153\ttotal: 2.13s\tremaining: 272ms\n",
            "887:\tlearn: 0.2969861\ttotal: 2.13s\tremaining: 269ms\n",
            "888:\tlearn: 0.2968967\ttotal: 2.14s\tremaining: 267ms\n",
            "889:\tlearn: 0.2967483\ttotal: 2.14s\tremaining: 264ms\n",
            "890:\tlearn: 0.2966594\ttotal: 2.14s\tremaining: 262ms\n",
            "891:\tlearn: 0.2964528\ttotal: 2.14s\tremaining: 260ms\n",
            "892:\tlearn: 0.2963702\ttotal: 2.15s\tremaining: 257ms\n",
            "893:\tlearn: 0.2962506\ttotal: 2.15s\tremaining: 255ms\n",
            "894:\tlearn: 0.2960023\ttotal: 2.15s\tremaining: 252ms\n",
            "895:\tlearn: 0.2959207\ttotal: 2.15s\tremaining: 250ms\n",
            "896:\tlearn: 0.2958298\ttotal: 2.16s\tremaining: 248ms\n",
            "897:\tlearn: 0.2956330\ttotal: 2.16s\tremaining: 245ms\n",
            "898:\tlearn: 0.2955306\ttotal: 2.16s\tremaining: 243ms\n",
            "899:\tlearn: 0.2951342\ttotal: 2.17s\tremaining: 241ms\n",
            "900:\tlearn: 0.2948741\ttotal: 2.17s\tremaining: 238ms\n",
            "901:\tlearn: 0.2947767\ttotal: 2.17s\tremaining: 236ms\n",
            "902:\tlearn: 0.2944538\ttotal: 2.17s\tremaining: 233ms\n",
            "903:\tlearn: 0.2942505\ttotal: 2.17s\tremaining: 231ms\n",
            "904:\tlearn: 0.2940206\ttotal: 2.18s\tremaining: 228ms\n",
            "905:\tlearn: 0.2937118\ttotal: 2.18s\tremaining: 226ms\n",
            "906:\tlearn: 0.2935584\ttotal: 2.18s\tremaining: 224ms\n",
            "907:\tlearn: 0.2933365\ttotal: 2.18s\tremaining: 221ms\n",
            "908:\tlearn: 0.2932359\ttotal: 2.19s\tremaining: 219ms\n",
            "909:\tlearn: 0.2930599\ttotal: 2.19s\tremaining: 217ms\n",
            "910:\tlearn: 0.2928951\ttotal: 2.19s\tremaining: 214ms\n",
            "911:\tlearn: 0.2926566\ttotal: 2.2s\tremaining: 212ms\n",
            "912:\tlearn: 0.2924138\ttotal: 2.2s\tremaining: 210ms\n",
            "913:\tlearn: 0.2921629\ttotal: 2.2s\tremaining: 207ms\n",
            "914:\tlearn: 0.2920800\ttotal: 2.21s\tremaining: 205ms\n",
            "915:\tlearn: 0.2918604\ttotal: 2.21s\tremaining: 203ms\n",
            "916:\tlearn: 0.2917319\ttotal: 2.22s\tremaining: 201ms\n",
            "917:\tlearn: 0.2915855\ttotal: 2.22s\tremaining: 198ms\n",
            "918:\tlearn: 0.2915089\ttotal: 2.23s\tremaining: 197ms\n",
            "919:\tlearn: 0.2913701\ttotal: 2.24s\tremaining: 195ms\n",
            "920:\tlearn: 0.2911309\ttotal: 2.24s\tremaining: 192ms\n",
            "921:\tlearn: 0.2909215\ttotal: 2.25s\tremaining: 190ms\n",
            "922:\tlearn: 0.2907891\ttotal: 2.26s\tremaining: 189ms\n",
            "923:\tlearn: 0.2906758\ttotal: 2.27s\tremaining: 186ms\n",
            "924:\tlearn: 0.2904379\ttotal: 2.27s\tremaining: 184ms\n",
            "925:\tlearn: 0.2903794\ttotal: 2.27s\tremaining: 181ms\n",
            "926:\tlearn: 0.2902885\ttotal: 2.27s\tremaining: 179ms\n",
            "927:\tlearn: 0.2901785\ttotal: 2.28s\tremaining: 177ms\n",
            "928:\tlearn: 0.2901652\ttotal: 2.28s\tremaining: 174ms\n",
            "929:\tlearn: 0.2900597\ttotal: 2.29s\tremaining: 172ms\n",
            "930:\tlearn: 0.2899408\ttotal: 2.29s\tremaining: 170ms\n",
            "931:\tlearn: 0.2897030\ttotal: 2.3s\tremaining: 168ms\n",
            "932:\tlearn: 0.2895135\ttotal: 2.3s\tremaining: 165ms\n",
            "933:\tlearn: 0.2894384\ttotal: 2.3s\tremaining: 163ms\n",
            "934:\tlearn: 0.2893759\ttotal: 2.31s\tremaining: 161ms\n",
            "935:\tlearn: 0.2892986\ttotal: 2.32s\tremaining: 159ms\n",
            "936:\tlearn: 0.2890885\ttotal: 2.32s\tremaining: 156ms\n",
            "937:\tlearn: 0.2887820\ttotal: 2.33s\tremaining: 154ms\n",
            "938:\tlearn: 0.2886285\ttotal: 2.33s\tremaining: 151ms\n",
            "939:\tlearn: 0.2883417\ttotal: 2.33s\tremaining: 149ms\n",
            "940:\tlearn: 0.2882287\ttotal: 2.34s\tremaining: 147ms\n",
            "941:\tlearn: 0.2880889\ttotal: 2.34s\tremaining: 144ms\n",
            "942:\tlearn: 0.2880221\ttotal: 2.35s\tremaining: 142ms\n",
            "943:\tlearn: 0.2879010\ttotal: 2.35s\tremaining: 139ms\n",
            "944:\tlearn: 0.2876034\ttotal: 2.35s\tremaining: 137ms\n",
            "945:\tlearn: 0.2874291\ttotal: 2.36s\tremaining: 135ms\n",
            "946:\tlearn: 0.2872819\ttotal: 2.36s\tremaining: 132ms\n",
            "947:\tlearn: 0.2871098\ttotal: 2.37s\tremaining: 130ms\n",
            "948:\tlearn: 0.2869545\ttotal: 2.37s\tremaining: 127ms\n",
            "949:\tlearn: 0.2868073\ttotal: 2.38s\tremaining: 125ms\n",
            "950:\tlearn: 0.2866106\ttotal: 2.38s\tremaining: 123ms\n",
            "951:\tlearn: 0.2865568\ttotal: 2.38s\tremaining: 120ms\n",
            "952:\tlearn: 0.2863527\ttotal: 2.38s\tremaining: 118ms\n",
            "953:\tlearn: 0.2862045\ttotal: 2.39s\tremaining: 115ms\n",
            "954:\tlearn: 0.2861259\ttotal: 2.39s\tremaining: 113ms\n",
            "955:\tlearn: 0.2860101\ttotal: 2.39s\tremaining: 110ms\n",
            "956:\tlearn: 0.2858775\ttotal: 2.4s\tremaining: 108ms\n",
            "957:\tlearn: 0.2858285\ttotal: 2.4s\tremaining: 105ms\n",
            "958:\tlearn: 0.2854680\ttotal: 2.4s\tremaining: 103ms\n",
            "959:\tlearn: 0.2853141\ttotal: 2.4s\tremaining: 100ms\n",
            "960:\tlearn: 0.2850141\ttotal: 2.4s\tremaining: 97.6ms\n",
            "961:\tlearn: 0.2849222\ttotal: 2.41s\tremaining: 95.1ms\n",
            "962:\tlearn: 0.2848407\ttotal: 2.41s\tremaining: 92.7ms\n",
            "963:\tlearn: 0.2846801\ttotal: 2.41s\tremaining: 90.2ms\n",
            "964:\tlearn: 0.2844856\ttotal: 2.42s\tremaining: 87.7ms\n",
            "965:\tlearn: 0.2843758\ttotal: 2.42s\tremaining: 85.1ms\n",
            "966:\tlearn: 0.2842504\ttotal: 2.42s\tremaining: 82.7ms\n",
            "967:\tlearn: 0.2841289\ttotal: 2.43s\tremaining: 80.3ms\n",
            "968:\tlearn: 0.2840323\ttotal: 2.43s\tremaining: 77.7ms\n",
            "969:\tlearn: 0.2838757\ttotal: 2.43s\tremaining: 75.2ms\n",
            "970:\tlearn: 0.2836922\ttotal: 2.43s\tremaining: 72.7ms\n",
            "971:\tlearn: 0.2836058\ttotal: 2.46s\tremaining: 70.9ms\n",
            "972:\tlearn: 0.2835320\ttotal: 2.46s\tremaining: 68.4ms\n",
            "973:\tlearn: 0.2834077\ttotal: 2.47s\tremaining: 65.9ms\n",
            "974:\tlearn: 0.2833013\ttotal: 2.47s\tremaining: 63.5ms\n",
            "975:\tlearn: 0.2830733\ttotal: 2.48s\tremaining: 60.9ms\n",
            "976:\tlearn: 0.2829635\ttotal: 2.48s\tremaining: 58.4ms\n",
            "977:\tlearn: 0.2826681\ttotal: 2.49s\tremaining: 56ms\n",
            "978:\tlearn: 0.2825279\ttotal: 2.49s\tremaining: 53.5ms\n",
            "979:\tlearn: 0.2823149\ttotal: 2.5s\tremaining: 51ms\n",
            "980:\tlearn: 0.2821407\ttotal: 2.5s\tremaining: 48.5ms\n",
            "981:\tlearn: 0.2820323\ttotal: 2.51s\tremaining: 45.9ms\n",
            "982:\tlearn: 0.2818336\ttotal: 2.51s\tremaining: 43.4ms\n",
            "983:\tlearn: 0.2817539\ttotal: 2.51s\tremaining: 40.8ms\n",
            "984:\tlearn: 0.2814945\ttotal: 2.51s\tremaining: 38.3ms\n",
            "985:\tlearn: 0.2813583\ttotal: 2.52s\tremaining: 35.8ms\n",
            "986:\tlearn: 0.2812017\ttotal: 2.52s\tremaining: 33.3ms\n",
            "987:\tlearn: 0.2809892\ttotal: 2.53s\tremaining: 30.7ms\n",
            "988:\tlearn: 0.2808639\ttotal: 2.53s\tremaining: 28.2ms\n",
            "989:\tlearn: 0.2807887\ttotal: 2.54s\tremaining: 25.6ms\n",
            "990:\tlearn: 0.2807284\ttotal: 2.54s\tremaining: 23ms\n",
            "991:\tlearn: 0.2806112\ttotal: 2.54s\tremaining: 20.5ms\n",
            "992:\tlearn: 0.2805229\ttotal: 2.54s\tremaining: 17.9ms\n",
            "993:\tlearn: 0.2804922\ttotal: 2.55s\tremaining: 15.4ms\n",
            "994:\tlearn: 0.2802775\ttotal: 2.55s\tremaining: 12.8ms\n",
            "995:\tlearn: 0.2801012\ttotal: 2.55s\tremaining: 10.3ms\n",
            "996:\tlearn: 0.2798329\ttotal: 2.56s\tremaining: 7.69ms\n",
            "997:\tlearn: 0.2797659\ttotal: 2.56s\tremaining: 5.13ms\n",
            "998:\tlearn: 0.2797011\ttotal: 2.57s\tremaining: 2.57ms\n",
            "999:\tlearn: 0.2796077\ttotal: 2.57s\tremaining: 0us\n"
          ]
        },
        {
          "data": {
            "text/plain": [
              "75.60975609756098"
            ]
          },
          "execution_count": 43,
          "metadata": {},
          "output_type": "execute_result"
        }
      ],
      "source": [
        "from catboost import CatBoostClassifier\n",
        "logmodel = CatBoostClassifier()\n",
        "logmodel.fit(X_train , y_train)\n",
        "pred_l = logmodel.predict(X_test)\n",
        "acc_l = accuracy_score(y_test , pred_l)*100\n",
        "acc_l"
      ]
    },
    {
      "cell_type": "code",
      "execution_count": 44,
      "metadata": {
        "colab": {
          "base_uri": "https://localhost:8080/",
          "height": 421
        },
        "id": "GAia_cXYMZPD",
        "outputId": "d9183cb5-7cef-4ab2-df62-09ff49c71bf6"
      },
      "outputs": [
        {
          "data": {
            "text/html": [
              "<div>\n",
              "<style scoped>\n",
              "    .dataframe tbody tr th:only-of-type {\n",
              "        vertical-align: middle;\n",
              "    }\n",
              "\n",
              "    .dataframe tbody tr th {\n",
              "        vertical-align: top;\n",
              "    }\n",
              "\n",
              "    .dataframe thead th {\n",
              "        text-align: right;\n",
              "    }\n",
              "</style>\n",
              "<table border=\"1\" class=\"dataframe\">\n",
              "  <thead>\n",
              "    <tr style=\"text-align: right;\">\n",
              "      <th></th>\n",
              "      <th>Importance</th>\n",
              "    </tr>\n",
              "    <tr>\n",
              "      <th>Features</th>\n",
              "      <th></th>\n",
              "    </tr>\n",
              "  </thead>\n",
              "  <tbody>\n",
              "    <tr>\n",
              "      <th>ApplicantIncome</th>\n",
              "      <td>0.226</td>\n",
              "    </tr>\n",
              "    <tr>\n",
              "      <th>LoanAmount</th>\n",
              "      <td>0.214</td>\n",
              "    </tr>\n",
              "    <tr>\n",
              "      <th>Credit_History</th>\n",
              "      <td>0.171</td>\n",
              "    </tr>\n",
              "    <tr>\n",
              "      <th>CoapplicantIncome</th>\n",
              "      <td>0.127</td>\n",
              "    </tr>\n",
              "    <tr>\n",
              "      <th>Property_Area</th>\n",
              "      <td>0.059</td>\n",
              "    </tr>\n",
              "    <tr>\n",
              "      <th>Dependents</th>\n",
              "      <td>0.054</td>\n",
              "    </tr>\n",
              "    <tr>\n",
              "      <th>Loan_Amount_Term</th>\n",
              "      <td>0.045</td>\n",
              "    </tr>\n",
              "    <tr>\n",
              "      <th>Married</th>\n",
              "      <td>0.029</td>\n",
              "    </tr>\n",
              "    <tr>\n",
              "      <th>Education</th>\n",
              "      <td>0.027</td>\n",
              "    </tr>\n",
              "    <tr>\n",
              "      <th>Gender</th>\n",
              "      <td>0.026</td>\n",
              "    </tr>\n",
              "    <tr>\n",
              "      <th>Self_Employed</th>\n",
              "      <td>0.023</td>\n",
              "    </tr>\n",
              "  </tbody>\n",
              "</table>\n",
              "</div>"
            ],
            "text/plain": [
              "                   Importance\n",
              "Features                     \n",
              "ApplicantIncome         0.226\n",
              "LoanAmount              0.214\n",
              "Credit_History          0.171\n",
              "CoapplicantIncome       0.127\n",
              "Property_Area           0.059\n",
              "Dependents              0.054\n",
              "Loan_Amount_Term        0.045\n",
              "Married                 0.029\n",
              "Education               0.027\n",
              "Gender                  0.026\n",
              "Self_Employed           0.023"
            ]
          },
          "execution_count": 44,
          "metadata": {},
          "output_type": "execute_result"
        }
      ],
      "source": [
        "random_forest = RandomForestClassifier(n_estimators= 100)\n",
        "random_forest.fit(X_train, y_train)\n",
        "importances = pd.DataFrame({'Features':X_train.columns,'Importance':np.round(random_forest.feature_importances_,3)})\n",
        "importances = importances.sort_values('Importance',ascending=False).set_index('Features')\n",
        "importances.head(11) "
      ]
    },
    {
      "cell_type": "code",
      "execution_count": 45,
      "metadata": {
        "colab": {
          "base_uri": "https://localhost:8080/",
          "height": 421
        },
        "id": "uyAQbFV8H4kI",
        "outputId": "5810bddc-42f5-438d-e273-12a5345a9d25"
      },
      "outputs": [
        {
          "data": {
            "text/html": [
              "<div>\n",
              "<style scoped>\n",
              "    .dataframe tbody tr th:only-of-type {\n",
              "        vertical-align: middle;\n",
              "    }\n",
              "\n",
              "    .dataframe tbody tr th {\n",
              "        vertical-align: top;\n",
              "    }\n",
              "\n",
              "    .dataframe thead th {\n",
              "        text-align: right;\n",
              "    }\n",
              "</style>\n",
              "<table border=\"1\" class=\"dataframe\">\n",
              "  <thead>\n",
              "    <tr style=\"text-align: right;\">\n",
              "      <th></th>\n",
              "      <th>Importance</th>\n",
              "    </tr>\n",
              "    <tr>\n",
              "      <th>Features</th>\n",
              "      <th></th>\n",
              "    </tr>\n",
              "  </thead>\n",
              "  <tbody>\n",
              "    <tr>\n",
              "      <th>ApplicantIncome</th>\n",
              "      <td>0.226</td>\n",
              "    </tr>\n",
              "    <tr>\n",
              "      <th>LoanAmount</th>\n",
              "      <td>0.214</td>\n",
              "    </tr>\n",
              "    <tr>\n",
              "      <th>Credit_History</th>\n",
              "      <td>0.171</td>\n",
              "    </tr>\n",
              "    <tr>\n",
              "      <th>CoapplicantIncome</th>\n",
              "      <td>0.127</td>\n",
              "    </tr>\n",
              "    <tr>\n",
              "      <th>Property_Area</th>\n",
              "      <td>0.059</td>\n",
              "    </tr>\n",
              "    <tr>\n",
              "      <th>Dependents</th>\n",
              "      <td>0.054</td>\n",
              "    </tr>\n",
              "    <tr>\n",
              "      <th>Loan_Amount_Term</th>\n",
              "      <td>0.045</td>\n",
              "    </tr>\n",
              "    <tr>\n",
              "      <th>Married</th>\n",
              "      <td>0.029</td>\n",
              "    </tr>\n",
              "    <tr>\n",
              "      <th>Education</th>\n",
              "      <td>0.027</td>\n",
              "    </tr>\n",
              "    <tr>\n",
              "      <th>Gender</th>\n",
              "      <td>0.026</td>\n",
              "    </tr>\n",
              "    <tr>\n",
              "      <th>Self_Employed</th>\n",
              "      <td>0.023</td>\n",
              "    </tr>\n",
              "  </tbody>\n",
              "</table>\n",
              "</div>"
            ],
            "text/plain": [
              "                   Importance\n",
              "Features                     \n",
              "ApplicantIncome         0.226\n",
              "LoanAmount              0.214\n",
              "Credit_History          0.171\n",
              "CoapplicantIncome       0.127\n",
              "Property_Area           0.059\n",
              "Dependents              0.054\n",
              "Loan_Amount_Term        0.045\n",
              "Married                 0.029\n",
              "Education               0.027\n",
              "Gender                  0.026\n",
              "Self_Employed           0.023"
            ]
          },
          "execution_count": 45,
          "metadata": {},
          "output_type": "execute_result"
        }
      ],
      "source": [
        "importances = pd.DataFrame({'Features':X_train.columns,'Importance':np.round(random_forest.feature_importances_,3)})\n",
        "importances = importances.sort_values('Importance',ascending=False).set_index('Features')\n",
        "importances.head(11) "
      ]
    },
    {
      "cell_type": "code",
      "execution_count": 46,
      "metadata": {
        "id": "opQ2NKLbs6Xe"
      },
      "outputs": [],
      "source": [
        "p_log = logmodel.predict(test_data)"
      ]
    },
    {
      "cell_type": "code",
      "execution_count": 47,
      "metadata": {
        "id": "AvLRW0QOtAeq"
      },
      "outputs": [],
      "source": [
        "submission = pd.DataFrame({\n",
        "        \"Loan_ID\": test_data_copy[\"Loan_ID\"],\n",
        "        \"Loan_Status\": p_log\n",
        "    })\n",
        "submission['Loan_Status'] = submission['Loan_Status'].replace(1,'Y')\n",
        "submission['Loan_Status'] = submission['Loan_Status'].replace(0,'N')\n",
        "\n",
        "submission.to_csv(\"results.csv\", encoding='utf-8', index=False)"
      ]
    }
  ],
  "metadata": {
    "colab": {
      "collapsed_sections": [],
      "name": "0.8194444444.ipynb",
      "provenance": []
    },
    "kernelspec": {
      "display_name": "Python 3",
      "name": "python3"
    },
    "language_info": {
      "codemirror_mode": {
        "name": "ipython",
        "version": 3
      },
      "file_extension": ".py",
      "mimetype": "text/x-python",
      "name": "python",
      "nbconvert_exporter": "python",
      "pygments_lexer": "ipython3",
      "version": "3.8.8"
    }
  },
  "nbformat": 4,
  "nbformat_minor": 0
}
